{
 "cells": [
  {
   "cell_type": "code",
   "execution_count": 63,
   "metadata": {},
   "outputs": [],
   "source": [
    "import numpy as np\n",
    "%matplotlib inline\n",
    "import matplotlib.pyplot as plt\n",
    "ZpT=np.linspace(40,900,860)\n",
    "Weight=[]\n",
    "for zpt in ZpT:\n",
    "    if (zpt>=40 and zpt<80):\n",
    "        z_w=((0.93-1)/(np.log10(80)-np.log10(40)))*(np.log10(zpt)-np.log10(40))+1\n",
    "        Weight.append(z_w)\n",
    "    if (zpt>=80 and zpt<151):\n",
    "        z_w=((0.8-0.93)/(np.log10(151)-np.log10(80)))*(np.log10(zpt)-np.log10(80))+0.93\n",
    "        Weight.append(z_w)\n",
    "    if (zpt>=151):\n",
    "        z_w=0.80\n",
    "        Weight.append(z_w)\n",
    "Weight=np.array(Weight)\n",
    "x=np.array([40,46,48,51,54,58,60,65,70,75,80,85,95,108,130,151])\n",
    "y=np.array([1,0.99,0.983,0.974,0.978,0.969,0.95,0.949,0.942,0.937,0.92,0.9,0.891,0.863,0.84,0.8])\n",
    "        "
   ]
  },
  {
   "cell_type": "code",
   "execution_count": 64,
   "metadata": {},
   "outputs": [
    {
     "name": "stdout",
     "output_type": "stream",
     "text": [
      "40.0\n",
      "46.0069848661234\n",
      "48.0093131548312\n",
      "51.0128055878929\n",
      "54.0162980209546\n",
      "58.020954598370196\n",
      "60.023282887078\n",
      "65.02910360884749\n",
      "70.034924330617\n",
      "75.0407450523865\n",
      "80.046565774156\n",
      "85.0523864959255\n",
      "95.0640279394645\n",
      "108.0791618160652\n",
      "130.104772991851\n",
      "151.12922002328287\n"
     ]
    }
   ],
   "source": [
    "percentage_dif=[]\n",
    "c=0\n",
    "for i in x:\n",
    "    percentage_dif.append(100*((1/Weight[i-40])-(1/y[c])))\n",
    "    print(ZpT[i-40])\n",
    "    c+=1"
   ]
  },
  {
   "cell_type": "code",
   "execution_count": 65,
   "metadata": {},
   "outputs": [
    {
     "data": {
      "image/png": "[encoded data removed]",
      "text/plain": [
       "<Figure size 432x288 with 1 Axes>"
      ]
     },
     "metadata": {
      "needs_background": "light"
     },
     "output_type": "display_data"
    }
   ],
   "source": [
    "\n",
    "plt.plot(ZpT,1/Weight)\n",
    "plt.plot(x,1/y,'ro')\n",
    "plt.xlim(0,200)\n",
    "#plt.xscale('log')\n",
    "plt.show()"
   ]
  },
  {
   "cell_type": "code",
   "execution_count": 68,
   "metadata": {},
   "outputs": [
    {
     "data": {
      "image/png": "[encoded data removed]",
      "text/plain": [
       "<Figure size 432x288 with 1 Axes>"
      ]
     },
     "metadata": {
      "needs_background": "light"
     },
     "output_type": "display_data"
    }
   ],
   "source": [
    "plt.plot(x,percentage_dif,'ro')\n",
    "plt.show()"
   ]
  },
  {
   "cell_type": "code",
   "execution_count": null,
   "metadata": {},
   "outputs": [],
   "source": []
  },
  {
   "cell_type": "code",
   "execution_count": null,
   "metadata": {},
   "outputs": [],
   "source": []
  }
 ],
 "metadata": {
  "kernelspec": {
   "display_name": "Python 3",
   "language": "python",
   "name": "python3"
  },
  "language_info": {
   "codemirror_mode": {
    "name": "ipython",
    "version": 3
   },
   "file_extension": ".py",
   "mimetype": "text/x-python",
   "name": "python",
   "nbconvert_exporter": "python",
   "pygments_lexer": "ipython3",
   "version": "3.8.5"
  }
 },
 "nbformat": 4,
 "nbformat_minor": 4
}
