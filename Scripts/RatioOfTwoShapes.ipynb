{
 "cells": [
  {
   "cell_type": "markdown",
   "id": "2d5abed1-b4c7-4ff2-b1f9-701779a0405f",
   "metadata": {},
   "source": [
    "# Make ratio plots between different MC shapes"
   ]
  },
  {
   "cell_type": "code",
   "execution_count": 77,
   "id": "b70c37a3-e157-49e8-b45f-f61c3dd7870a",
   "metadata": {
    "tags": []
   },
   "outputs": [],
   "source": [
    "import sys\n",
    "sys.path.append('/Users/diegomac/Documents/HEP/VBF-Analysis/Scripts/')\n",
    "from histogramHelpers import histogramsLowStatsZll,biner,normalization\n",
    "import os\n",
    "import ROOT as r"
   ]
  },
  {
   "cell_type": "code",
   "execution_count": 78,
   "id": "17ccda79-f78d-4b78-aa3b-e346c32b2c3c",
   "metadata": {
    "tags": []
   },
   "outputs": [
    {
     "name": "stderr",
     "output_type": "stream",
     "text": [
      "Warning in <TCanvas::Constructor>: Deleting canvas with same name: canvas\n",
      "Warning in <TGraphAsymmErrors::Divide>: Number of graph points is different than histogram bins - 1 points have been skipped\n",
      "Info in <TCanvas::Print>: pdf file ZllRatio_mass_jjSherpa-HM-Ztautau-Sherpa-HM-Zll.pdf has been created\n"
     ]
    }
   ],
   "source": [
    "#### CONFIGURATION\n",
    "base_path='/Users/diegomac/Documents/HEP/VBF-Analysis/'\n",
    "\n",
    "ratioLabels = ['Sherpa-HM-Ztautau','Sherpa-HM-Zll']\n",
    "\n",
    "samples = {'High-Mass-Ztautau':'TauTau/High-Mass/SR/Ztautau_SherpaRW.root','High-Mass-Zll':'Zll/High-Mass/SR/Zll_SherpaRW.root'}\n",
    "histograms = {\"mass_jj\":histogramsLowStatsZll[\"mass_jj\"]}\n",
    "\n",
    "for histogram in histograms:\n",
    "    \n",
    "    sampleKeys = list(samples.keys())\n",
    "    title = 'ZllRatio_'+histogram+ratioLabels[0]+'-'+ratioLabels[1]+'.pdf'\n",
    "\n",
    "    r.TH1.AddDirectory(r.kFALSE)\n",
    "\n",
    "    ### OPEN FILES AND GET HISTOGRAMS\n",
    "    \n",
    "    fileOne = r.TFile.Open(base_path+samples[sampleKeys[0]],\"READ\")\n",
    "    fileTwo = r.TFile.Open(base_path+samples[sampleKeys[1]],\"READ\")\n",
    "\n",
    "    histoOne=fileOne.Get(histogram)\n",
    "    histoTwo=fileTwo.Get(histogram)\n",
    "\n",
    "\n",
    "    #### DRAW TOP PLOT\n",
    "\n",
    "    Canvas = r.TCanvas(\"canvas\")\n",
    "    Canvas.cd()\n",
    "    pad1 = r. TPad (\" pad1 \",\" pad1 \" ,0 ,0.35 ,1 ,1)\n",
    "    pad1.SetTopMargin(0.03)\n",
    "    pad1.SetRightMargin(0.03)\n",
    "    pad1.SetLeftMargin(0.08)\n",
    "    pad1.SetBottomMargin(0.05)\n",
    "    pad1.Draw ()\n",
    "    pad1.cd ()\n",
    "    pad1.SetLogy(1)\n",
    "\n",
    "\n",
    "    #### REBIN, SCALE AND NORMALISE\n",
    "    bins=histograms[histogram]\n",
    "    rebining=biner(bins[0],bins[1],histoOne)\n",
    "    n_bins = len(rebining)-1\n",
    "\n",
    "    integralOne = histoOne.Integral(1,-1)\n",
    "    integralTwo = histoTwo.Integral(1,-1)\n",
    "\n",
    "    histoOne=histoOne.Rebin(n_bins,histogram,rebining)\n",
    "    histoTwo=histoTwo.Rebin(n_bins,histogram,rebining)\n",
    "\n",
    "    histoOne.Scale(1.0/integralOne)\n",
    "    histoTwo.Scale(1.0/integralTwo)\n",
    "\n",
    "    normalization([histoOne,histoTwo],bins[2])\n",
    "\n",
    "    ## RATIO\n",
    "\n",
    "    ratio = r.TGraphAsymmErrors()\n",
    "    ratio.Divide(histoOne,histoTwo,\"pois\")\n",
    "\n",
    "    ### LEGENDS AND COLORS\n",
    "\n",
    "\n",
    "    legend = r . TLegend (0.45 ,0.80 ,0.85 ,0.95)\n",
    "    legend.AddEntry(histoOne,sampleKeys[0])\n",
    "    legend.AddEntry(histoTwo,sampleKeys[1])\n",
    "\n",
    "    histoOne.SetLineColor(r.kRed)\n",
    "\n",
    "\n",
    "    #### DRAW\n",
    "    histoOne.SetTitle(histogram)\n",
    "    histoOne.Draw(\"hist same\")\n",
    "    histoTwo.Draw(\"hist same\")\n",
    "    legend . Draw ()\n",
    "\n",
    "    #### RATIO PLOT\n",
    "\n",
    "    Canvas.cd()\n",
    "    pad2 = r. TPad (\" pad2 \",\" pad2 \" ,0 ,0.03 ,1 ,0.35)\n",
    "    pad2.SetRightMargin(0.03)\n",
    "    pad2.SetLeftMargin(0.08)\n",
    "    pad2.SetTopMargin(0)\n",
    "    pad2.SetBottomMargin(0.0)\n",
    "    pad2.Draw ()\n",
    "    pad2.cd ()\n",
    "\n",
    "    r.gStyle.SetStatX(0.4)\n",
    "    r.gStyle.SetStatY(1.0)\n",
    "    r.gStyle.SetStatW(0.15)\n",
    "\n",
    "    ratio.SetTitle('')\n",
    "    ratio.Draw()\n",
    "    ratio.Draw (\"E same x0\")\n",
    "    ratio.GetYaxis().SetRangeUser(0.1 ,3.3)\n",
    "    ratio.SetMarkerStyle(8)\n",
    "    ratio.SetMarkerSize(0.6)\n",
    "    ratio.GetYaxis().SetTitle (ratioLabels[0]+'/'+ratioLabels[1])\n",
    "    ratio.GetYaxis().SetLabelSize(0.08)\n",
    "    ratio . GetYaxis (). SetTitleSize (0.09)\n",
    "    ratio . GetYaxis (). SetTitleOffset (0.25)\n",
    "    ratio . GetXaxis (). SetTitleSize (0.09)\n",
    "    \n",
    "    s=histoOne.GetXaxis().GetBinLowEdge(1)\n",
    "    e=histoOne.GetXaxis().GetBinUpEdge(histoOne.GetNbinsX())\n",
    "    line = r . TLine (s ,1.0 ,e,1.0)\n",
    "    line . SetLineColor ( r . kRed )\n",
    "    line . SetLineWidth (1)\n",
    "    line.Draw('same')\n",
    "\n",
    "    Canvas.Print(title)"
   ]
  },
  {
   "cell_type": "code",
   "execution_count": 44,
   "id": "c251d80f-f090-4b3f-9b62-ade6a1590206",
   "metadata": {},
   "outputs": [
    {
     "data": {
      "text/plain": [
       "<module 'ROOT' from '/Users/diegomac/Documents/ROOT6/lib/ROOT/__init__.py'>"
      ]
     },
     "execution_count": 44,
     "metadata": {},
     "output_type": "execute_result"
    }
   ],
   "source": [
    "r"
   ]
  },
  {
   "cell_type": "code",
   "execution_count": null,
   "id": "4d2facab-2b69-4bb6-84ed-b04e18e415dd",
   "metadata": {},
   "outputs": [],
   "source": [
    "r_mm=[0.0,\n",
    " 1.0369551181793213,\n",
    " 0.9616246223449707,\n",
    " 0.9102371335029602,\n",
    " 0.9304547905921936,\n",
    " 0.9407355785369873,\n",
    " 0.9885047674179077,\n",
    " 0.823212206363678,\n",
    " 0.8765270113945007,\n",
    " 0.5569978952407837,\n",
    " 0.03826434537768364,\n",
    " 0.0,\n",
    " 0.0,\n",
    " 0.0]\n",
    "r_ee =[0.0,\n",
    " 1.0432931184768677,\n",
    " 0.9452829360961914,\n",
    " 0.9086479544639587,\n",
    " 0.9088646173477173,\n",
    " 0.8933472037315369,\n",
    " 0.87534499168396,\n",
    " 0.8002135157585144,\n",
    " 0.5771641135215759,\n",
    " 0.5442619323730469,\n",
    " 0.016856934875249863,\n",
    " 0.0,\n",
    " 0.0,\n",
    " 0.0]"
   ]
  },
  {
   "cell_type": "code",
   "execution_count": null,
   "id": "fdc79680-035a-49ac-bff9-b2e0d972bf81",
   "metadata": {},
   "outputs": [],
   "source": [
    "r_mm=r_mm[1:-3]\n",
    "r_ee=r_ee[1:-3]"
   ]
  },
  {
   "cell_type": "code",
   "execution_count": null,
   "id": "86973d9c-f580-4725-9f99-a8f20d4553eb",
   "metadata": {},
   "outputs": [],
   "source": [
    "r_mm=np.array(r_mm)\n",
    "r_ee=np.array(r_ee)"
   ]
  },
  {
   "cell_type": "code",
   "execution_count": null,
   "id": "7d869cd5-e579-4f0a-9e64-0b58361c8b6b",
   "metadata": {},
   "outputs": [],
   "source": [
    "r_mm/r_ee"
   ]
  },
  {
   "cell_type": "code",
   "execution_count": null,
   "id": "c11d5b21-ee6e-4f02-a827-8dd283e46c73",
   "metadata": {},
   "outputs": [],
   "source": []
  }
 ],
 "metadata": {
  "kernelspec": {
   "display_name": "Python 3 (ipykernel)",
   "language": "python",
   "name": "python3"
  },
  "language_info": {
   "codemirror_mode": {
    "name": "ipython",
    "version": 3
   },
   "file_extension": ".py",
   "mimetype": "text/x-python",
   "name": "python",
   "nbconvert_exporter": "python",
   "pygments_lexer": "ipython3",
   "version": "3.10.5"
  }
 },
 "nbformat": 4,
 "nbformat_minor": 5
}
