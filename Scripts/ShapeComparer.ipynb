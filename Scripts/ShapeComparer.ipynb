{
 "cells": [
  {
   "cell_type": "markdown",
   "id": "78a8fc00-a437-454f-be3f-33f013621963",
   "metadata": {},
   "source": [
    "# This script compares the shape of a group of samples\n",
    "## Input a dictionary with the location of the samples and their name.\n",
    "## Also, add the name of the histogram and the binning."
   ]
  },
  {
   "cell_type": "code",
   "execution_count": 22,
   "id": "543263d9-9fdc-4cb0-b0ea-f64d9f7e3f84",
   "metadata": {
    "tags": []
   },
   "outputs": [],
   "source": [
    "from histogramHelpers import normalization\n",
    "import ROOT as r\n",
    "import numpy as np\n",
    "\n",
    "rootDirectory = \"/Users/diegomac/Documents/HEP/VBF-Analysis/Zll/Z-peak/SR/\"\n",
    "channel = \"Zll_\"\n",
    "samples = {\"MGNLO-RW\":rootDirectory+channel+\"MGNLORW.root\",\n",
    "           \"MG-RW\": rootDirectory+channel+\"MGRW.root\",\n",
    "           \"SherpaNLO-RW\": rootDirectory+channel+\"SherpaNLORW.root\",\n",
    "           \"Sherpa-RW\": rootDirectory+channel+\"SherpaRW.root\"}\n",
    "\n",
    "colors = {\"MGNLO-RW\":r.kGreen,\n",
    "           \"MG-RW\": r.kGreen+1,\n",
    "           \"SherpaNLO-RW\": r.kRed,\n",
    "           \"Sherpa-RW\": r.kRed+1}\n",
    "\n",
    "styles = {\"MGNLO-RW\":3,\n",
    "           \"MG-RW\": 1,\n",
    "           \"SherpaNLO-RW\": 3,\n",
    "           \"Sherpa-RW\": 1}\n",
    "\n",
    "histogramName = \"mass_jj\"\n",
    "bining = np.array([   0.,  250.,  500.,  750., 1000., 1250., 1500., 2000., 2500., 3000., 4000., 5000.])\n",
    "normalisationConstant = 250.0"
   ]
  },
  {
   "cell_type": "code",
   "execution_count": 23,
   "id": "05c0b3a6-3724-4583-9319-c421741323f3",
   "metadata": {
    "tags": []
   },
   "outputs": [
    {
     "name": "stderr",
     "output_type": "stream",
     "text": [
      "Warning in <TCanvas::Constructor>: Deleting canvas with same name: canvas\n",
      "Info in <TCanvas::Print>: pdf file QCDjj.pdf has been created\n"
     ]
    }
   ],
   "source": [
    "r.TH1.AddDirectory(False)\n",
    "r.gStyle.SetOptStat(0)\n",
    "\n",
    "canvas = r.TCanvas(\"canvas\")\n",
    "canvas.cd()\n",
    "\n",
    "#canvas.SetLogy()\n",
    "\n",
    "for sampleName,sampleFile in samples.items():\n",
    "    file = r.TFile.Open(sampleFile,\"READ\")\n",
    "    histogram = file.Get(histogramName)\n",
    "    histogram.SetDirectory(0)\n",
    "    histogram = histogram.Rebin(len(bining)-1,sampleName,bining)\n",
    "    \n",
    "    integral = histogram.Integral(1,-1)\n",
    "    histogram.Scale(1.0/integral)\n",
    "    \n",
    "    histogram.SetLineColor(colors[sampleName])\n",
    "    histogram.SetLineStyle(styles[sampleName])\n",
    "    histogram.SetTitle(sampleName)\n",
    "    \n",
    "    normalization([histogram],normalisationConstant)\n",
    "    \n",
    "    histogram.Draw(\"same\")\n",
    "    \n",
    "\n",
    "canvas.BuildLegend()\n",
    "canvas.Print(\"QCDjj.pdf\")\n",
    "    "
   ]
  },
  {
   "cell_type": "code",
   "execution_count": null,
   "id": "e3d221fd-9f5a-4eaf-9c27-905d41064393",
   "metadata": {},
   "outputs": [],
   "source": []
  }
 ],
 "metadata": {
  "kernelspec": {
   "display_name": "Python 3 (ipykernel)",
   "language": "python",
   "name": "python3"
  },
  "language_info": {
   "codemirror_mode": {
    "name": "ipython",
    "version": 3
   },
   "file_extension": ".py",
   "mimetype": "text/x-python",
   "name": "python",
   "nbconvert_exporter": "python",
   "pygments_lexer": "ipython3",
   "version": "3.10.5"
  }
 },
 "nbformat": 4,
 "nbformat_minor": 5
}
