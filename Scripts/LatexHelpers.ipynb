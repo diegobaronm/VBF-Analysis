{
 "cells": [
  {
   "cell_type": "markdown",
   "id": "f4fd126a-17a5-4f3e-9e4e-7bfb9b3f6c28",
   "metadata": {},
   "source": [
    "# Copy plots to a location and rename FigXy.pdf"
   ]
  },
  {
   "cell_type": "code",
   "execution_count": 23,
   "id": "f51f6201-cfa2-4202-b736-e540488a99c9",
   "metadata": {
    "tags": []
   },
   "outputs": [],
   "source": [
    "import os"
   ]
  },
  {
   "cell_type": "markdown",
   "id": "94ba4581-3e74-47ae-921d-eca95ba893fd",
   "metadata": {},
   "source": [
    "## User should enter:\n",
    "### Source Folder -> Location of original plots.\n",
    "### Destination Folder -> Place where they are going to be copied.\n",
    "### Plots Extension -> Original plots file extension.\n",
    "### Figure -> Figure number used for the output file naming.\n",
    "### Plots list -> List of keywords that identify the desired plots."
   ]
  },
  {
   "cell_type": "code",
   "execution_count": 26,
   "id": "c14484ab-1d53-426f-9d6e-53499369a916",
   "metadata": {
    "tags": []
   },
   "outputs": [
    {
     "name": "stdout",
     "output_type": "stream",
     "text": [
      "\n",
      "Final Plots (14)\n",
      "omega_SherpaRW_AfterFitLinearUnblind.pdf\n",
      "lepNuPt_SherpaRW_AfterFitLinearUnblind.pdf\n",
      "recoVisibleMassRatio_SherpaRW_AfterFitLinearUnblind.pdf\n",
      "pTsymmetry_SherpaRW_AfterFitLinearUnblind.pdf\n",
      "n_bjets_SherpaRW_AfterFitLinearUnblind.pdf\n",
      "Z_centrality_SherpaRW_AfterFitLinearUnblind.pdf\n",
      "pt_bal_SherpaRW_AfterFitLinearUnblind.pdf\n",
      "n_jets_interval_SherpaRW_AfterFitLinearUnblind.pdf\n",
      "bdtScore_SherpaRW_AfterFitLinearUnblind.pdf\n",
      "nuTauPt_SherpaRW_AfterFitLinearUnblind.pdf\n",
      "delta_y_SherpaRW_AfterFitLinearUnblind.pdf\n",
      "reco_mass__SherpaRW_AfterFitLinearUnblind.pdf\n",
      "lepTransMass_basic_all_SherpaRW_AfterFitLinearUnblind.pdf\n",
      "mass_jj_SherpaRW_AfterFitLinearUnblind.pdf\n"
     ]
    }
   ],
   "source": [
    "# Define folders and plots extension, also the figure name.\n",
    "sourceFolder = '/Users/user/Documents/HEP/VBF-Analysis/VBFAnalysisPlots/TauTau/TauhadTaulep/High-Mass/FailedAnyMVAOS/'\n",
    "destinationFolder = '/Users/user/Documents/HEP/PhDThesis/Figures/VBFStudy/'\n",
    "plotsExtension='.pdf'\n",
    "figure = 'Fig49'\n",
    "\n",
    "# List of plots to copy\n",
    "plotsZll = [#'delta_phi',\n",
    "         'Z_centrality',\n",
    "         'n_jets_interval',\n",
    "         'delta_y',\n",
    "         'inv_mass',\n",
    "         'mass_jj',\n",
    "         'pt_bal',\n",
    "         'ljet0_pt',\n",
    "         'ljet1_pt', \n",
    "        ]\n",
    "\n",
    "plotsZtt = [#'delta_phi',\n",
    "            'lepNuPt',\n",
    "            'nuTauPt',\n",
    "            'delta_y',\n",
    "            'reco_mass__',\n",
    "            'mass_jj',\n",
    "            'lepTransMass',\n",
    "            'pt_bal',\n",
    "            #'ljet0_pt',\n",
    "            #'ljet1_pt', \n",
    "            'omega',\n",
    "            'Z_centrality',\n",
    "            'n_jets_interval',\n",
    "            'bdtScore',\n",
    "            'pTsymmetry',\n",
    "            'recoVisibleMassRatio',\n",
    "            'n_bjets'\n",
    "            \n",
    "        ]\n",
    "\n",
    "plots = plotsZtt\n",
    "\n",
    "# Drop plots with no matches\n",
    "listOfCandidatePlots = [i for i in os.listdir(sourceFolder) if plotsExtension in i]\n",
    "matchingPlots = []\n",
    "for i in listOfCandidatePlots:\n",
    "    for j in plots:\n",
    "        if j in i:\n",
    "            matchingPlots.append(i)\n",
    "            break\n",
    "            \n",
    "# Define required and non-allowed tags            \n",
    "required = []#['']\n",
    "nonAllowed = ['NLO','_omega','ttbar','NOMJ','NODATA']\n",
    "\n",
    "finalPlots = []\n",
    "\n",
    "for mp in matchingPlots:\n",
    "    add = True\n",
    "    for j in required:\n",
    "        if j not in mp:\n",
    "            print('Removing... '+mp)\n",
    "            add = False\n",
    "            break\n",
    "    for k in nonAllowed:\n",
    "        if k in mp:\n",
    "            print('Removing... '+mp)\n",
    "            add = False\n",
    "            break\n",
    "    \n",
    "    if add:\n",
    "        finalPlots.append(mp)\n",
    "       \n",
    "print('\\nFinal Plots ('+str(len(finalPlots))+')')\n",
    "for p in finalPlots:\n",
    "    print(p)"
   ]
  },
  {
   "cell_type": "markdown",
   "id": "1e651e4d-008d-4171-8fe7-a46bde46f72c",
   "metadata": {
    "tags": []
   },
   "source": [
    "## Copy and paste the plots to the final destination\n",
    "## Please check previous output for the list of plots."
   ]
  },
  {
   "cell_type": "code",
   "execution_count": 27,
   "id": "381f8aa0-a63c-4315-b9d6-5cedbd036483",
   "metadata": {
    "tags": []
   },
   "outputs": [],
   "source": [
    "from string import ascii_lowercase as alphabet\n",
    "\n",
    "letterIndex = 0\n",
    "onlyOneMC = True\n",
    "\n",
    "for namePlot in plots :\n",
    "    for plot in finalPlots:\n",
    "        if namePlot in plot:\n",
    "            if 'Sherpa' in plot:\n",
    "                os.system('cp '+sourceFolder+plot+' '+destinationFolder+figure+alphabet[letterIndex]+'.pdf')\n",
    "                #print('cp '+sourceFolder+plot+' '+destinationFolder+figure+alphabet[letterIndex]+'.pdf')\n",
    "            if 'MG' in plot:\n",
    "                os.system('cp '+sourceFolder+plot+' '+destinationFolder+figure+alphabet[letterIndex+1]+'.pdf')\n",
    "                #print('cp '+sourceFolder+plot+' '+destinationFolder+figure+alphabet[letterIndex+1]+'.pdf')\n",
    "    if onlyOneMC:\n",
    "        letterIndex+=1\n",
    "    else :\n",
    "        letterIndex+=2\n",
    "        \n"
   ]
  },
  {
   "cell_type": "code",
   "execution_count": null,
   "id": "e1569dcc-b50d-44a3-97ac-b5c19933f56d",
   "metadata": {},
   "outputs": [],
   "source": []
  },
  {
   "cell_type": "code",
   "execution_count": null,
   "id": "c861a095-8461-473a-a576-3ba698c443e3",
   "metadata": {},
   "outputs": [],
   "source": []
  }
 ],
 "metadata": {
  "kernelspec": {
   "display_name": "Python 3 (ipykernel)",
   "language": "python",
   "name": "python3"
  },
  "language_info": {
   "codemirror_mode": {
    "name": "ipython",
    "version": 3
   },
   "file_extension": ".py",
   "mimetype": "text/x-python",
   "name": "python",
   "nbconvert_exporter": "python",
   "pygments_lexer": "ipython3",
   "version": "3.12.0"
  }
 },
 "nbformat": 4,
 "nbformat_minor": 5
}
