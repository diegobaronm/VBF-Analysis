{
 "cells": [
  {
   "cell_type": "markdown",
   "id": "429eb12a-237a-4b9c-8349-1744ccf2d032",
   "metadata": {},
   "source": [
    "# Produces a plot of a*ZQCDjj xSection"
   ]
  },
  {
   "cell_type": "code",
   "execution_count": 1,
   "id": "66086dbb-31c5-42d5-b0c9-b99144a22d43",
   "metadata": {
    "tags": []
   },
   "outputs": [],
   "source": [
    "from uncertainties import ufloat\n",
    "import numpy as np\n",
    "\n",
    "aSherpa = {'Zmumu':ufloat(1.012,0.015),'Zee':ufloat(0.968,0.016),'Ztautau':ufloat(1.084,0.05)}\n",
    "aMG = {'Zmumu':ufloat(0.991,0.014),'Zee':ufloat(1.013,0.016),'Ztautau':ufloat(1.132,0.06)}\n",
    "\n",
    "def delete_module(modname, paranoid=None):\n",
    "    from sys import modules\n",
    "    try:\n",
    "        thismod = modules[modname]\n",
    "    except KeyError:\n",
    "        raise ValueError(modname)\n",
    "    these_symbols = dir(thismod)\n",
    "    if paranoid:\n",
    "        try:\n",
    "            paranoid[:]  # sequence support\n",
    "        except:\n",
    "            raise ValueError('must supply a finite list for paranoid')\n",
    "        else:\n",
    "            these_symbols = paranoid[:]\n",
    "    del modules[modname]\n",
    "    for mod in modules.values():\n",
    "        try:\n",
    "            delattr(mod, modname)\n",
    "        except AttributeError:\n",
    "            pass\n",
    "        if paranoid:\n",
    "            for symbol in these_symbols:\n",
    "                if symbol[:2] == '__':  # ignore special symbols\n",
    "                    continue\n",
    "                try:\n",
    "                    delattr(mod, symbol)\n",
    "                except AttributeError:\n",
    "                    pass\n"
   ]
  },
  {
   "cell_type": "code",
   "execution_count": 2,
   "id": "0baf4dfb-6927-4b79-9977-d00c0547883a",
   "metadata": {
    "tags": []
   },
   "outputs": [
    {
     "name": "stdout",
     "output_type": "stream",
     "text": [
      "14\n",
      "24\n",
      "883\n",
      "858\n",
      "14\n",
      "24\n",
      "776\n",
      "14\n",
      "5\n"
     ]
    }
   ],
   "source": [
    "import sys\n",
    "sys.path.append('/Users/diegomac/Documents/HEP/VBF-Analysis/MuMu/MC/backend/')\n",
    "from infofile import infos\n",
    "\n",
    "def extractXsec(infos,keyword):\n",
    "    xSec= [infos[i]['xsec']*infos[i]['fil_eff']*infos[i]['kfac'] for i in infos if (keyword in i and '2018' in i and 'VBF' not in i)] \n",
    "    xSecCorrected = []\n",
    "    for i in xSec:\n",
    "        if i not in xSecCorrected:\n",
    "            xSecCorrected.append(i)\n",
    "    print(len(xSecCorrected))\n",
    "    return sum(xSecCorrected)\n",
    "    \n",
    "xSecSherpa ={'Zmumu':0.0,'Zee':0.0,'Ztautau':0.0}    \n",
    "xSecMG ={'Zmumu':0.0,'Zee':0.0,'Ztautau':0.0}    \n",
    "\n",
    "xSecSherpa['Zmumu'] = extractXsec(infos,'Zmumu_sherpa')\n",
    "xSecMG['Zmumu'] = extractXsec(infos,'Zmumu_MG')\n",
    "\n",
    "print(len(infos))\n",
    "\n",
    "delete_module('infofile')\n",
    "\n",
    "sys.path.remove('/Users/diegomac/Documents/HEP/VBF-Analysis/MuMu/MC/backend/')\n",
    "\n",
    "sys.path.append('/Users/diegomac/Documents/HEP/VBF-Analysis/Zee/MC/backend/')\n",
    "from infofile import infos as infoss\n",
    "\n",
    "print(len(infoss))\n",
    "\n",
    "xSecSherpa['Zee'] = extractXsec(infoss,'Zee_sherpa')\n",
    "xSecMG['Zee'] = extractXsec(infoss,'Zee_MG')\n",
    "\n",
    "delete_module('infofile')\n",
    "\n",
    "sys.path.remove('/Users/diegomac/Documents/HEP/VBF-Analysis/Zee/MC/backend/')\n",
    "\n",
    "sys.path.append('/Users/diegomac/Documents/HEP/VBF-Analysis/TauMu/MC/backend/')\n",
    "from infofile import infos\n",
    "\n",
    "print(len(infos))\n",
    "\n",
    "xSecSherpa['Ztautau'] = extractXsec(infos,'Ztautau_sherpa')\n",
    "xSecMG['Ztautau'] = extractXsec(infos,'Ztautau_MG')\n"
   ]
  },
  {
   "cell_type": "code",
   "execution_count": 3,
   "id": "b65dba4f-6e44-461d-ab9e-4842890bd64e",
   "metadata": {
    "tags": []
   },
   "outputs": [
    {
     "name": "stdout",
     "output_type": "stream",
     "text": [
      "{'Zmumu': 2105.5729978898535, 'Zee': 2116.724794784552, 'Ztautau': 2098.4764416} {'Zmumu': 2088.906357884409, 'Zee': 2091.2893703377777, 'Ztautau': 2082.744817005707}\n"
     ]
    }
   ],
   "source": [
    "print(xSecMG,xSecSherpa)"
   ]
  },
  {
   "cell_type": "code",
   "execution_count": 4,
   "id": "479173f6-5c45-4314-8b85-db5e49064620",
   "metadata": {
    "tags": []
   },
   "outputs": [],
   "source": [
    "for i in aSherpa:\n",
    "    aSherpa[i] = aSherpa[i]*xSecSherpa[i]\n",
    "\n",
    "for i in aMG:\n",
    "    aMG[i] = aMG[i]*xSecMG[i]\n",
    "    \n",
    "def weightedAverage(value1,value2):\n",
    "    inverseStdDev = 1/(value1.std_dev)**2 + 1/(value2.std_dev)**2\n",
    "    average = (value1.nominal_value/(value1.std_dev)**2 + value2.nominal_value/(value2.std_dev)**2)/inverseStdDev\n",
    "    return ufloat(average,np.sqrt(1/inverseStdDev))\n",
    "\n",
    "average = {}\n",
    "for i in aSherpa:\n",
    "    average[i] = weightedAverage(aSherpa[i],aMG[i])"
   ]
  },
  {
   "cell_type": "code",
   "execution_count": 7,
   "id": "4c656878-4f4a-4478-80f2-5c7008022667",
   "metadata": {
    "tags": []
   },
   "outputs": [
    {
     "data": {
      "image/png": "[encoded data removed]",
      "text/plain": [
       "<Figure size 640x480 with 1 Axes>"
      ]
     },
     "metadata": {},
     "output_type": "display_data"
    }
   ],
   "source": [
    "import matplotlib.pyplot as plt\n",
    "\n",
    "# define the categories for the x-axis\n",
    "categories = ['Zmumu', 'Zee','Ztautau']\n",
    "\n",
    "# define the data for the y-axis\n",
    "sherpa = [aSherpa['Zmumu'].nominal_value, aSherpa['Zee'].nominal_value,aSherpa['Ztautau'].nominal_value]  # the mean value for each category\n",
    "sherpaErrors = [aSherpa['Zmumu'].std_dev, aSherpa['Zee'].std_dev,aSherpa['Ztautau'].std_dev]  # the standard deviation for each category\n",
    "\n",
    "MG = [aMG['Zmumu'].nominal_value, aMG['Zee'].nominal_value,aMG['Ztautau'].nominal_value]  # the mean value for each category\n",
    "MGErrors = [aMG['Zmumu'].std_dev, aMG['Zee'].std_dev,aMG['Ztautau'].std_dev]  # the standard deviation for each category\n",
    "\n",
    "averageValue = [average['Zmumu'].nominal_value, average['Zee'].nominal_value,average['Ztautau'].nominal_value]  # the mean value for each category\n",
    "averageErrors = [average['Zmumu'].std_dev, average['Zee'].std_dev,average['Ztautau'].std_dev]  # the standard deviation for each category\n",
    "\n",
    "\n",
    "# create a figure and axes object\n",
    "fig, ax = plt.subplots()\n",
    "\n",
    "# plot the means as points and the errors as error bars\n",
    "ax.errorbar(categories, sherpa, yerr=sherpaErrors, fmt='o', capsize=5, capthick=1, markersize=5)\n",
    "ax.errorbar(categories, MG, yerr=MGErrors, fmt='o', capsize=5, capthick=1, markersize=5)\n",
    "\n",
    "ax.errorbar(categories, averageValue, yerr=averageErrors, fmt='o', capsize=5, capthick=1, markersize=5)\n",
    "\n",
    "# set the title and axis labels\n",
    "ax.set_title('Z-QCDjj xSec')\n",
    "ax.set_xlabel('Channel')\n",
    "ax.set_ylabel('xSec(pb)')\n",
    "\n",
    "plt.legend(['SHERPA','MADGRAPH', 'Average'])\n",
    "\n",
    "# display the plot\n",
    "plt.show()"
   ]
  },
  {
   "cell_type": "code",
   "execution_count": null,
   "id": "5bb66c52-2359-4fac-a7cd-4f220723e6ac",
   "metadata": {},
   "outputs": [],
   "source": []
  }
 ],
 "metadata": {
  "kernelspec": {
   "display_name": "Python 3 (ipykernel)",
   "language": "python",
   "name": "python3"
  },
  "language_info": {
   "codemirror_mode": {
    "name": "ipython",
    "version": 3
   },
   "file_extension": ".py",
   "mimetype": "text/x-python",
   "name": "python",
   "nbconvert_exporter": "python",
   "pygments_lexer": "ipython3",
   "version": "3.10.5"
  }
 },
 "nbformat": 4,
 "nbformat_minor": 5
}
