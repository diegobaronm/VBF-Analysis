{
 "cells": [
  {
   "cell_type": "code",
   "execution_count": 5,
   "metadata": {},
   "outputs": [],
   "source": [
    "import os\n",
    "from scipy.optimize import curve_fit\n",
    "import ROOT\n",
    "from ROOT import gStyle\n",
    "import ctypes\n",
    "import pandas as pd\n",
    "import numpy as np\n",
    "import matplotlib.pyplot as plt\n",
    "\n",
    "def biner(edges,bin_widths,histogram):\n",
    "    if (len(edges)+1!=len(bin_widths)):\n",
    "        print(\"Check edges and bin widths array sizes!\")\n",
    "        return\n",
    "    \n",
    "    bins=[]\n",
    "    first_bin = histogram.GetXaxis().GetBinLowEdge(1)\n",
    "    print(first_bin)\n",
    "    last_bin = histogram.GetXaxis().GetBinUpEdge(histogram.GetNbinsX())\n",
    "    print(last_bin)\n",
    "    for i in range(0,len(edges)):\n",
    "        n_spaces = int((edges[i] - first_bin)/bin_widths[i])\n",
    "        bins = np.concatenate((bins,np.linspace(first_bin,edges[i],n_spaces,endpoint=False)))\n",
    "        first_bin = edges[i]\n",
    "        if edges[i]==edges[-1]:\n",
    "            n_spaces = int((last_bin - edges[i])/bin_widths[i+1])\n",
    "            bins = np.concatenate((bins,np.linspace(edges[i],last_bin,n_spaces,endpoint=False)))\n",
    "            bins = np.concatenate((bins,[last_bin]))\n",
    "    return bins\n",
    "\n",
    "def normalization(hist_list,norm_bin):\n",
    "    for hist in hist_list:\n",
    "        for i in range(1,hist.GetNbinsX()+1):\n",
    "            value=hist.GetBinContent(i)\n",
    "            error=hist.GetBinError(i)\n",
    "            sf=hist.GetBinWidth(i)/norm_bin\n",
    "            hist.SetBinContent(i,value/sf)\n",
    "            hist.SetBinError(i,error/sf)\n",
    "            \n",
    "def ratio_subtracted_plot(path_to_samples=os.getcwd(),signal_name=\"Signal\",data_name=\"Data\",bg_names=[],histogram_info=None):\n",
    "    \n",
    "    MC = ROOT.TFile.Open(path_to_samples+\"/\"+\"MC\"+\".root\",\"READ\")\n",
    "    Data = ROOT.TFile.Open(path_to_samples+\"/\"+data_name+\".root\",\"READ\")\n",
    "    Signal = ROOT.TFile.Open(path_to_samples+\"/\"+signal_name+\".root\",\"READ\")\n",
    "    \n",
    "    bg_files_list=[]\n",
    "    for i in bg_names:\n",
    "        bg_files_list.append(ROOT.TFile.Open(path_to_samples+\"/\"+i+\".root\",\"READ\"))\n",
    "    \n",
    "    histogram_name = list(histogram_info.keys())[0]\n",
    "\n",
    "    mc=MC.Get(histogram_name)\n",
    "    data=Data.Get(histogram_name)\n",
    "    signal=Signal.Get(histogram_name)\n",
    "    \n",
    "    bg_histograms_list = [i.Get(histogram_name) for i in bg_files_list]\n",
    "    \n",
    "    \n",
    "    mc.SetDirectory(0)\n",
    "    signal.SetDirectory(0)\n",
    "    data.SetDirectory(0)\n",
    "    \n",
    "    for i in bg_histograms_list:\n",
    "        i=i.SetDirectory(0)\n",
    "    \n",
    "    MC.Close()\n",
    "    Signal.Close()\n",
    "    Data.Close()\n",
    "\n",
    "    [i.Close() for i in bg_files_list]\n",
    "    \n",
    "    s=data.GetXaxis().GetBinLowEdge(1)\n",
    "    e=data.GetXaxis().GetBinUpEdge(data.GetNbinsX())\n",
    "    \n",
    "\n",
    "    s=data.GetXaxis().GetBinLowEdge(1)\n",
    "    e=data.GetXaxis().GetBinUpEdge(data.GetNbinsX())\n",
    "    rebining=biner(histogram_info[histogram_name][0],histogram_info[histogram_name][1],data)\n",
    "    nb=len(rebining)-1\n",
    "    mc=mc.Rebin(nb,\"mc\",rebining)\n",
    "    signal=signal.Rebin(nb,\"signal\",rebining)\n",
    "    data=data.Rebin(nb,\"data\",rebining)\n",
    "    for i in range(0,len(bg_histograms_list)):\n",
    "        bg_histograms_list[i]=bg_histograms_list[i].Rebin(nb,bg_names[i],rebining)\n",
    "\n",
    "    if len(histogram_info[histogram_name])>0:\n",
    "        hist_list=[signal,data,mc]+bg_histograms_list\n",
    "        normalization(hist_list,histogram_info[histogram_name][2])\n",
    "        \n",
    "    data_subtracted=data.Clone()\n",
    "    for i in bg_histograms_list:\n",
    "        data_subtracted.Add(i,-1)\n",
    "        \n",
    "        \n",
    "    ratio=data_subtracted.Clone()\n",
    "    ratio.Divide(signal)\n",
    "\n",
    "    x_values = []\n",
    "    y_values = []\n",
    "    y_uncern = []\n",
    "\n",
    "    for i in range(1,ratio.GetNbinsX()+1):\n",
    "        #print(\"m range = \",ratio.GetBinCenter(i),\"SF = \",round(ratio.GetBinContent(i),3),)\n",
    "        if ratio.GetBinContent(i)>0 or i==1:\n",
    "            x_values.append(ratio.GetBinLowEdge(i))\n",
    "            y_values.append(round(ratio.GetBinContent(i),3))\n",
    "            y_uncern.append(ratio.GetBinError(i))\n",
    "        else : \n",
    "            break\n",
    "    \n",
    "    return np.array(x_values),np.array(y_values),np.array(y_uncern)"
   ]
  },
  {
   "cell_type": "code",
   "execution_count": 22,
   "metadata": {},
   "outputs": [
    {
     "name": "stdout",
     "output_type": "stream",
     "text": [
      "0.0\n",
      "5000.0\n",
      "0.0\n",
      "5000.0\n",
      "0.0\n",
      "5000.0\n"
     ]
    }
   ],
   "source": [
    "path_CRa = \"/home/diego/HEP/VBF-Analysis/Zll/CRa\"\n",
    "path_CRb = \"/home/diego/HEP/VBF-Analysis/Zll/CRb\"\n",
    "path_CRc = \"/home/diego/HEP/VBF-Analysis/Zll/CRc\"\n",
    "signal = \"Zll_MG\"\n",
    "\n",
    "histo={\n",
    "\"mass_jj\":[[1500,3000],[250,500,1000],250],\n",
    "}\n",
    "\n",
    "CRa_axis,CRa_y,CRa_error=ratio_subtracted_plot(path_to_samples=path_CRa,signal_name=signal,data_name=\"Data\",bg_names=[\"Signal_Sherpa\",\"VV\",\"Wjets\",\"ttbar\",\"singletop\"],histogram_info=histo)\n",
    "CRb_axis,CRb_y,CRb_error=ratio_subtracted_plot(path_to_samples=path_CRb,signal_name=signal,data_name=\"Data\",bg_names=[\"Signal_Sherpa\",\"VV\",\"Wjets\",\"ttbar\",\"singletop\"],histogram_info=histo)\n",
    "CRc_axis,CRc_y,CRc_error=ratio_subtracted_plot(path_to_samples=path_CRc,signal_name=signal,data_name=\"Data\",bg_names=[\"Signal_Sherpa\",\"VV\",\"Wjets\",\"ttbar\",\"singletop\"],histogram_info=histo)"
   ]
  },
  {
   "cell_type": "code",
   "execution_count": 23,
   "metadata": {},
   "outputs": [
    {
     "data": {
      "text/plain": [
       "array([   0.,  250.,  500.,  750., 1000., 1250., 1500., 2000., 2500.,\n",
       "       3000., 4000.])"
      ]
     },
     "execution_count": 23,
     "metadata": {},
     "output_type": "execute_result"
    }
   ],
   "source": [
    "CRa_axis"
   ]
  },
  {
   "cell_type": "code",
   "execution_count": 24,
   "metadata": {},
   "outputs": [],
   "source": [
    "def parabolic_shape(mjj,a,b,c):\n",
    "    return a*mjj*mjj+b*mjj+c\n",
    "\n",
    "def chi_square2(model, slope, level,offset, x,y,uncer):\n",
    "    chi=0\n",
    "    for i in range(0,len(x)):\n",
    "        chi+=((y[i]-model(x[i],slope,level,offset))**2)/(uncer[i]**2)\n",
    "        #print(x[i])\n",
    "        #print(((y[i]-model(x[i],slope,level))**2)/(uncer[i]**2))\n",
    "    return (chi/(len(x)-3))\n",
    "\n",
    "CRa_fit, CRa_cov = curve_fit(parabolic_shape, CRa_axis[1:], CRa_y[1:],sigma=CRa_error[1:])\n",
    "CRb_fit, CRb_cov = curve_fit(parabolic_shape, CRb_axis[1:], CRb_y[1:],sigma=CRb_error[1:])\n",
    "CRc_fit, CRc_cov = curve_fit(parabolic_shape, CRc_axis[1:], CRc_y[1:],sigma=CRc_error[1:])"
   ]
  },
  {
   "cell_type": "code",
   "execution_count": 25,
   "metadata": {},
   "outputs": [],
   "source": [
    "def model_uncern(covariance_matrix,x):\n",
    "    sigma_a = covariance_matrix[0][0]\n",
    "    sigma_b = covariance_matrix[1][1]\n",
    "    sigma_c = covariance_matrix[2][2]\n",
    "    \n",
    "    cov_ab = covariance_matrix[0][1]\n",
    "    cov_ac = covariance_matrix[0][2]\n",
    "    cov_bc = covariance_matrix[1][2]\n",
    "    \n",
    "    diagonal_term = sigma_a*x**4 + sigma_b*x**2 + sigma_c\n",
    "    no_diagonal_term = 2*cov_ab*x**3 + 2*cov_ac*x**2 + 2*cov_bc*x\n",
    "    \n",
    "    return np.sqrt(diagonal_term+no_diagonal_term)\n",
    "\n",
    "model_uncer = np.vectorize(model_uncern)\n",
    "parabolic_shape = np.vectorize(parabolic_shape)"
   ]
  },
  {
   "cell_type": "code",
   "execution_count": 26,
   "metadata": {},
   "outputs": [
    {
     "name": "stdout",
     "output_type": "stream",
     "text": [
      "3.2649432915307304\n",
      "0.7942683377266313\n"
     ]
    },
    {
     "data": {
      "image/png": "[encoded data removed]",
      "text/plain": [
       "<Figure size 432x288 with 1 Axes>"
      ]
     },
     "metadata": {
      "needs_background": "light"
     },
     "output_type": "display_data"
    }
   ],
   "source": [
    "x=np.linspace(250,5000,100)\n",
    "\n",
    "r_ab=parabolic_shape(x,CRa_fit[0],CRa_fit[1],CRa_fit[2])/parabolic_shape(x,CRb_fit[0],CRb_fit[1],CRb_fit[2])\n",
    "r_ab_error=r_ab*np.sqrt((model_uncern(CRa_cov,x)/parabolic_shape(x,CRa_fit[0],CRa_fit[1],CRa_fit[2]))**2\n",
    "                        +(model_uncern(CRb_cov,x)/parabolic_shape(x,CRb_fit[0],CRb_fit[1],CRb_fit[2])**2))\n",
    "\n",
    "r_ac=parabolic_shape(x,CRa_fit[0],CRa_fit[1],CRa_fit[2])/parabolic_shape(x,CRc_fit[0],CRc_fit[1],CRc_fit[2])\n",
    "r_ac_error=r_ac*np.sqrt((model_uncern(CRa_cov,x)/parabolic_shape(x,CRa_fit[0],CRa_fit[1],CRa_fit[2]))**2\n",
    "                        +(model_uncern(CRc_cov,x)/parabolic_shape(x,CRc_fit[0],CRc_fit[1],CRc_fit[2])**2))\n",
    "\n",
    "r_bc=parabolic_shape(x,CRb_fit[0],CRb_fit[1],CRb_fit[2])/parabolic_shape(x,CRc_fit[0],CRc_fit[1],CRc_fit[2])\n",
    "r_bc_error=r_bc*np.sqrt((model_uncern(CRb_cov,x)/parabolic_shape(x,CRb_fit[0],CRb_fit[1],CRb_fit[2]))**2\n",
    "                        +(model_uncern(CRc_cov,x)/parabolic_shape(x,CRc_fit[0],CRc_fit[1],CRc_fit[2])**2))\n",
    "\n",
    "\n",
    "\n",
    "plt.plot(x,r_ab)\n",
    "plt.plot(x,r_ac)\n",
    "plt.plot(x,r_bc)\n",
    "plt.legend([\"A/B\",\"A/C\",\"B/C\"])\n",
    "plt.ylim(0,3)\n",
    "\n",
    "\n",
    "print(r_ac.max()-r_ac.min())\n",
    "print(r_bc.max()-r_bc.min())"
   ]
  },
  {
   "cell_type": "code",
   "execution_count": 27,
   "metadata": {},
   "outputs": [],
   "source": [
    "x=CRa_axis\n",
    "CRa_predy,CRa_prederror = parabolic_shape(x,CRa_fit[0],CRa_fit[1],CRa_fit[2]),model_uncern(CRa_cov,x)\n",
    "CRb_predy,CRb_prederror = parabolic_shape(x,CRb_fit[0],CRb_fit[1],CRb_fit[2]),model_uncern(CRb_cov,x)\n",
    "CRc_predy,CRc_prederror = parabolic_shape(x,CRc_fit[0],CRc_fit[1],CRc_fit[2]),model_uncern(CRc_cov,x)\n",
    "\n",
    "SR_y = CRa_predy*CRc_predy/CRb_predy\n",
    "SR_error = SR_y*np.sqrt((CRa_prederror/CRa_predy)**2+(CRb_prederror/CRb_predy)**2+(CRc_prederror/CRc_predy)**2)\n",
    "\n"
   ]
  },
  {
   "cell_type": "code",
   "execution_count": 28,
   "metadata": {},
   "outputs": [
    {
     "name": "stdout",
     "output_type": "stream",
     "text": [
      "SF =  [0.92915228 0.8049047  0.70033162 0.61513934 0.54877327 0.50038677\n",
      " 0.46885328 0.45094266 0.48463207 0.56385869 0.86745058]\n",
      "SF error =  [0.04590188 0.02378114 0.01545945 0.01828843 0.02243425 0.02629707\n",
      " 0.03253002 0.06470528 0.13604878 0.26045386 0.71321048]\n"
     ]
    },
    {
     "data": {
      "image/png": "[encoded data removed]",
      "text/plain": [
       "<Figure size 432x288 with 1 Axes>"
      ]
     },
     "metadata": {
      "needs_background": "light"
     },
     "output_type": "display_data"
    }
   ],
   "source": [
    "plt.errorbar(x,SR_y,yerr=SR_error)\n",
    "plt.ylim([-.1,1.5])\n",
    "\n",
    "print(\"SF = \",SR_y)\n",
    "print(\"SF error = \",SR_error)"
   ]
  },
  {
   "cell_type": "code",
   "execution_count": 29,
   "metadata": {},
   "outputs": [
    {
     "data": {
      "text/html": [
       "<div>\n",
       "<style scoped>\n",
       "    .dataframe tbody tr th:only-of-type {\n",
       "        vertical-align: middle;\n",
       "    }\n",
       "\n",
       "    .dataframe tbody tr th {\n",
       "        vertical-align: top;\n",
       "    }\n",
       "\n",
       "    .dataframe thead th {\n",
       "        text-align: right;\n",
       "    }\n",
       "</style>\n",
       "<table border=\"1\" class=\"dataframe\">\n",
       "  <thead>\n",
       "    <tr style=\"text-align: right;\">\n",
       "      <th></th>\n",
       "      <th>a</th>\n",
       "      <th>Sigma a</th>\n",
       "      <th>b</th>\n",
       "      <th>Sigma b</th>\n",
       "      <th>c</th>\n",
       "      <th>Sigma c</th>\n",
       "    </tr>\n",
       "  </thead>\n",
       "  <tbody>\n",
       "    <tr>\n",
       "      <th>0</th>\n",
       "      <td>1.333644e-07</td>\n",
       "      <td>4.091666e-09</td>\n",
       "      <td>-0.000505</td>\n",
       "      <td>0.000008</td>\n",
       "      <td>0.92086</td>\n",
       "      <td>0.003857</td>\n",
       "    </tr>\n",
       "  </tbody>\n",
       "</table>\n",
       "</div>"
      ],
      "text/plain": [
       "              a       Sigma a         b   Sigma b        c   Sigma c\n",
       "0  1.333644e-07  4.091666e-09 -0.000505  0.000008  0.92086  0.003857"
      ]
     },
     "execution_count": 29,
     "metadata": {},
     "output_type": "execute_result"
    }
   ],
   "source": [
    "def parabolic_shape(mjj,a,b,c):\n",
    "    return a*mjj*mjj+b*mjj+c\n",
    "SR_fit, SR_cov = curve_fit(parabolic_shape, x, SR_y,sigma=SR_error)\n",
    "\n",
    "def fit_results(params,covariance,params_names):\n",
    "    result = []\n",
    "    for i in range(0,len(params)):\n",
    "        result.append(params[i])\n",
    "        result.append(np.sqrt(covariance[i][i]))\n",
    "        \n",
    "    column_name = []\n",
    "    for i in params_names:\n",
    "        column_name.append(i)\n",
    "        column_name.append('Sigma '+i)\n",
    "        \n",
    "    df = pd.DataFrame (result,index=column_name)\n",
    "    return df.T\n",
    "\n",
    "fit_results(SR_fit,SR_cov,['a','b','c'])"
   ]
  },
  {
   "cell_type": "code",
   "execution_count": 2,
   "metadata": {},
   "outputs": [],
   "source": [
    "import ROOT as r\n",
    "import os\n",
    "\n",
    "%run 'Plotter.ipynb'\n",
    "\n",
    "def Unpack_Histo(histogram_file):\n",
    "    bin_content = []\n",
    "    bin_content_uncer =[]\n",
    "    for i in range(2,histogram_file.GetNbinsX()+1):\n",
    "        bin_content.append(histogram_file.GetBinContent(i))\n",
    "        bin_content_uncer.append(histogram_file.GetBinError(i))\n",
    "    return np.array(bin_content),np.array(bin_content_uncer)"
   ]
  },
  {
   "cell_type": "code",
   "execution_count": 4,
   "metadata": {},
   "outputs": [
    {
     "name": "stdout",
     "output_type": "stream",
     "text": [
      "0.0\n",
      "5000.0\n",
      "(array([1.36794531, 1.09241414, 0.89026988, 0.78009623, 0.62210596,\n",
      "       0.62110871, 0.5857293 , 0.7745406 , 0.59778947, 0.68026555]), array([0.02012357, 0.01491411, 0.01571727, 0.01953574, 0.06264988,\n",
      "       0.02268164, 0.03665924, 0.07321661, 0.07261506, 0.27062507]))\n",
      "0.0\n",
      "5000.0\n",
      "(array([1.05275631, 0.91104877, 0.89794254, 0.97367442, 0.92058611,\n",
      "       1.26409686, 1.63589966, 1.73156583, 2.08786511, 9.03475952]), array([0.01835195, 0.01530193, 0.02149997, 0.03216338, 0.05387353,\n",
      "       0.07043847, 0.2092223 , 0.45580032, 0.54501208, 5.48198209]))\n",
      "0.0\n",
      "5000.0\n",
      "(array([ 0.83782703,  0.94988137,  1.07373536,  1.27226925,  1.30644107,\n",
      "        1.6539005 ,  2.41354036,  3.96563172,  4.55003881, 14.47130203]), array([0.00914283, 0.01150731, 0.01728026, 0.03127507, 0.04845319,\n",
      "       0.07180173, 0.18259241, 0.47656865, 0.81845578, 4.41446637]))\n",
      " FCN=303.898 FROM MIGRAD    STATUS=CONVERGED      31 CALLS          32 TOTAL\n",
      "                     EDM=3.52076e-21    STRATEGY= 1      ERROR MATRIX ACCURATE \n",
      "  EXT PARAMETER                                   STEP         FIRST   \n",
      "  NO.   NAME      VALUE            ERROR          SIZE      DERIVATIVE \n",
      "   1  p0           1.27958e+00   1.50484e-02   6.54572e-05  -1.08551e-08\n",
      "   2  p1          -3.37679e-04   1.30008e-05   5.65507e-08  -1.00518e-05\n",
      " FCN=83.153 FROM MIGRAD    STATUS=CONVERGED      29 CALLS          30 TOTAL\n",
      "                     EDM=3.24751e-21    STRATEGY= 1      ERROR MATRIX ACCURATE \n",
      "  EXT PARAMETER                                   STEP         FIRST   \n",
      "  NO.   NAME      VALUE            ERROR          SIZE      DERIVATIVE \n",
      "   1  p0           9.57071e-01   2.35401e-02   4.28110e-05  -9.95833e-10\n",
      "   2  p1           6.30214e-06   3.07194e-05   5.58677e-08   1.90775e-06\n",
      " FCN=46.48 FROM MIGRAD    STATUS=CONVERGED      31 CALLS          32 TOTAL\n",
      "                     EDM=2.57929e-19    STRATEGY= 1      ERROR MATRIX ACCURATE \n",
      "  EXT PARAMETER                                   STEP         FIRST   \n",
      "  NO.   NAME      VALUE            ERROR          SIZE      DERIVATIVE \n",
      "   1  p0           6.17090e-01   1.52626e-02   2.14769e-05   8.02289e-08\n",
      "   2  p1           5.54179e-04   2.37986e-05   3.34885e-08   6.78961e-05\n"
     ]
    },
    {
     "name": "stderr",
     "output_type": "stream",
     "text": [
      "Warning in <TCanvas::Constructor>: Deleting canvas with same name: canvas\n",
      "Info in <TCanvas::Print>: pdf file Zll_CRi-SR.pdf has been created\n"
     ]
    }
   ],
   "source": [
    "path=\"../Zll/\"\n",
    "qcd_sample=\"Zll_MG.root\"\n",
    "vbf_sample=\"Signa_Sherpa.root\"\n",
    "\n",
    "histo={\n",
    "\"mass_jj\":[[1500,3000],[250,500,1000],250],\n",
    "}\n",
    "\n",
    "regions=[\"CRa/\",\"CRb/\",\"CRc/\"]#[[\"CRb/\",\"CRa/\"],[\"CRb/\",\"CRc/\"]]#\n",
    "colors=[r.kBlue,r.kRed,r.kGreen]\n",
    "\n",
    "r.TH1.AddDirectory(r.kFALSE)\n",
    "Canvas = ROOT.TCanvas(\"canvas\")\n",
    "Canvas.cd()\n",
    "\n",
    "legend = ROOT . TLegend (0.45 ,0.80 ,0.85 ,0.95)\n",
    "\n",
    "c=0\n",
    "for cr in regions:\n",
    "    CR_file=r.TFile.Open(path+cr+qcd_sample)\n",
    "    SR_file=r.TFile.Open(path+\"SR/\"+qcd_sample)\n",
    "    \n",
    "    #CR_file_data=r.TFile.Open(path+cr+\"Data.root\")\n",
    "    #SR_file_data=r.TFile.Open(path+\"SR/\"+\"Data.root\")\n",
    "    \n",
    "    #CR_file_signal=r.TFile.Open(path+cr+vbf_sample)\n",
    "    #SR_file_signal=r.TFile.Open(path+\"SR/\"+vbf_sample)\n",
    "    \n",
    "    CR=CR_file.Get(\"mass_jj\")\n",
    "    SR=SR_file.Get(\"mass_jj\")\n",
    "    \n",
    "    #CR_data=CR_file_data.Get(\"mass_jj\")\n",
    "    #SR_data=SR_file_data.Get(\"mass_jj\")\n",
    "    \n",
    "    #CR_signal=CR_file_signal.Get(\"mass_jj\")\n",
    "    #SR_signal=SR_file_signal.Get(\"mass_jj\")\n",
    "    \n",
    "    #CR_data.Add(CR_signal,-1)\n",
    "    #SR_data.Add(SR_signal,-1)\n",
    "    \n",
    "    rebining=biner(histo[\"mass_jj\"][0],histo[\"mass_jj\"][1],SR)\n",
    "    nb=len(rebining)-1\n",
    "    CR=CR.Rebin(nb,\"CR\",rebining)\n",
    "    SR=SR.Rebin(nb,\"SR\",rebining)\n",
    "    \n",
    "    CR.Scale(1/CR.Integral(1,-1,\"width\"))\n",
    "    SR.Scale(1/SR.Integral(1,-1,\"width\"))\n",
    "    \n",
    "    #CR_data=CR_data.Rebin(nb,\"CR\",rebining)\n",
    "    #SR_data=SR_data.Rebin(nb,\"SR\",rebining)\n",
    "    \n",
    "    #CR.Divide(CR_data)\n",
    "    #SR.Divide(SR_data)\n",
    "    \n",
    "    SR.Divide(CR)\n",
    "    SR.SetTitle(\"SR/CRi\")\n",
    "    #SR.SetTitle(\"CRj/CRi\")\n",
    "    SR.SetLineColor(colors[c])\n",
    "    \n",
    "    \n",
    "    print(Unpack_Histo(SR))\n",
    "    \n",
    "    \n",
    "    SR.Fit(\"pol1\",\"F\",\"same\",0,5000)\n",
    "    \n",
    "    c+=1\n",
    "    SR.GetYaxis().SetRangeUser(0,3)\n",
    "    \n",
    "    legend.AddEntry(SR,\"SR/\"+cr[0])\n",
    "    #legend.AddEntry(SR,cr[1][:-1]+\"/\"+cr[0][:-1])\n",
    "    \n",
    "    SR.Draw(\"same\")\n",
    "  \n",
    "    \n",
    "legend.Draw()\n",
    "Canvas.Print(\"Zll_CRi-SR.pdf\") \n",
    "    \n",
    "    "
   ]
  },
  {
   "cell_type": "code",
   "execution_count": null,
   "metadata": {},
   "outputs": [],
   "source": []
  }
 ],
 "metadata": {
  "kernelspec": {
   "display_name": "Python 3 (ipykernel)",
   "language": "python",
   "name": "python3"
  },
  "language_info": {
   "codemirror_mode": {
    "name": "ipython",
    "version": 3
   },
   "file_extension": ".py",
   "mimetype": "text/x-python",
   "name": "python",
   "nbconvert_exporter": "python",
   "pygments_lexer": "ipython3",
   "version": "3.10.4"
  },
  "vscode": {
   "interpreter": {
    "hash": "916dbcbb3f70747c44a77c7bcd40155683ae19c65e1c03b4aa3499c5328201f1"
   }
  }
 },
 "nbformat": 4,
 "nbformat_minor": 4
}
