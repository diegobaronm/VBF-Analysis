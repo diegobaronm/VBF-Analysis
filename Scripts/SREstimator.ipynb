{
 "cells": [
  {
   "cell_type": "code",
   "execution_count": 2,
   "metadata": {},
   "outputs": [
    {
     "name": "stdout",
     "output_type": "stream",
     "text": [
      "Welcome to JupyROOT 6.26/04\n"
     ]
    }
   ],
   "source": [
    "import os\n",
    "import ROOT\n",
    "from ROOT import gStyle\n",
    "import ctypes\n",
    "import pandas as pd\n",
    "import numpy as np\n",
    "import matplotlib.pyplot as plt\n",
    "\n",
    "def biner(edges,bin_widths,histogram):\n",
    "    if (len(edges)+1!=len(bin_widths)):\n",
    "        print(\"Check edges and bin widths array sizes!\")\n",
    "        return\n",
    "    \n",
    "    bins=[]\n",
    "    first_bin = histogram.GetXaxis().GetBinLowEdge(1)\n",
    "    print(first_bin)\n",
    "    last_bin = histogram.GetXaxis().GetBinUpEdge(histogram.GetNbinsX())\n",
    "    print(last_bin)\n",
    "    for i in range(0,len(edges)):\n",
    "        n_spaces = int((edges[i] - first_bin)/bin_widths[i])\n",
    "        bins = np.concatenate((bins,np.linspace(first_bin,edges[i],n_spaces,endpoint=False)))\n",
    "        first_bin = edges[i]\n",
    "        if edges[i]==edges[-1]:\n",
    "            n_spaces = int((last_bin - edges[i])/bin_widths[i+1])\n",
    "            bins = np.concatenate((bins,np.linspace(edges[i],last_bin,n_spaces,endpoint=False)))\n",
    "            bins = np.concatenate((bins,[last_bin]))\n",
    "    return bins\n",
    "\n",
    "def normalization(hist_list,norm_bin):\n",
    "    for hist in hist_list:\n",
    "        for i in range(1,hist.GetNbinsX()+1):\n",
    "            value=hist.GetBinContent(i)\n",
    "            error=hist.GetBinError(i)\n",
    "            sf=hist.GetBinWidth(i)/norm_bin\n",
    "            hist.SetBinContent(i,value/sf)\n",
    "            hist.SetBinError(i,error/sf)\n",
    "            \n",
    "def ratio_subtracted_plot(path_to_samples=os.getcwd(),signal_name=\"Signal\",data_name=\"Data\",bg_names=[],histogram_info=None):\n",
    "    \n",
    "    MC = ROOT.TFile.Open(path_to_samples+\"/\"+\"MC\"+\".root\",\"READ\")\n",
    "    Data = ROOT.TFile.Open(path_to_samples+\"/\"+data_name+\".root\",\"READ\")\n",
    "    Signal = ROOT.TFile.Open(path_to_samples+\"/\"+signal_name+\".root\",\"READ\")\n",
    "    \n",
    "    bg_files_list=[]\n",
    "    for i in bg_names:\n",
    "        bg_files_list.append(ROOT.TFile.Open(path_to_samples+\"/\"+i+\".root\",\"READ\"))\n",
    "    \n",
    "    histogram_name = list(histogram_info.keys())[0]\n",
    "\n",
    "    mc=MC.Get(histogram_name)\n",
    "    data=Data.Get(histogram_name)\n",
    "    signal=Signal.Get(histogram_name)\n",
    "    \n",
    "    bg_histograms_list = [i.Get(histogram_name) for i in bg_files_list]\n",
    "    \n",
    "    \n",
    "    mc.SetDirectory(0)\n",
    "    signal.SetDirectory(0)\n",
    "    data.SetDirectory(0)\n",
    "    \n",
    "    for i in bg_histograms_list:\n",
    "        i=i.SetDirectory(0)\n",
    "    \n",
    "    MC.Close()\n",
    "    Signal.Close()\n",
    "    Data.Close()\n",
    "\n",
    "    [i.Close() for i in bg_files_list]\n",
    "    \n",
    "    s=data.GetXaxis().GetBinLowEdge(1)\n",
    "    e=data.GetXaxis().GetBinUpEdge(data.GetNbinsX())\n",
    "    \n",
    "\n",
    "    s=data.GetXaxis().GetBinLowEdge(1)\n",
    "    e=data.GetXaxis().GetBinUpEdge(data.GetNbinsX())\n",
    "    rebining=biner(histogram_info[histogram_name][0],histogram_info[histogram_name][1],data)\n",
    "    nb=len(rebining)-1\n",
    "    mc=mc.Rebin(nb,\"mc\",rebining)\n",
    "    signal=signal.Rebin(nb,\"signal\",rebining)\n",
    "    data=data.Rebin(nb,\"data\",rebining)\n",
    "    for i in range(0,len(bg_histograms_list)):\n",
    "        bg_histograms_list[i]=bg_histograms_list[i].Rebin(nb,bg_names[i],rebining)\n",
    "\n",
    "    if len(histogram_info[histogram_name])>0:\n",
    "        hist_list=[signal,data,mc]+bg_histograms_list\n",
    "        normalization(hist_list,histogram_info[histogram_name][2])\n",
    "        \n",
    "    data_subtracted=data.Clone()\n",
    "    for i in bg_histograms_list:\n",
    "        data_subtracted.Add(i,-1)\n",
    "        \n",
    "        \n",
    "    ratio=data_subtracted.Clone()\n",
    "    ratio.Divide(signal)\n",
    "\n",
    "    x_values = []\n",
    "    y_values = []\n",
    "    y_uncern = []\n",
    "\n",
    "    for i in range(1,ratio.GetNbinsX()+1):\n",
    "        #print(\"m range = \",ratio.GetBinCenter(i),\"SF = \",round(ratio.GetBinContent(i),3),)\n",
    "        if ratio.GetBinContent(i)>0 or i==1:\n",
    "            x_values.append(ratio.GetBinLowEdge(i))\n",
    "            y_values.append(round(ratio.GetBinContent(i),3))\n",
    "            y_uncern.append(ratio.GetBinError(i))\n",
    "        else : \n",
    "            break\n",
    "    \n",
    "    return np.array(x_values),np.array(y_values),np.array(y_uncern)"
   ]
  },
  {
   "cell_type": "code",
   "execution_count": 62,
   "metadata": {},
   "outputs": [
    {
     "name": "stdout",
     "output_type": "stream",
     "text": [
      "0.0\n",
      "5000.0\n",
      "0.0\n",
      "5000.0\n",
      "0.0\n",
      "5000.0\n"
     ]
    }
   ],
   "source": [
    "path_CRa = \"/home/diegol/HEP/VBF-Analysis/MuMu/Plots/MasterCR/CRa\"\n",
    "path_CRb = \"/home/diegol/HEP/VBF-Analysis/MuMu/Plots/MasterCR/CRb\"\n",
    "path_CRc = \"/home/diegol/HEP/VBF-Analysis/MuMu/Plots/MasterCR/CRc\"\n",
    "signal = \"Zmumu_MG\"\n",
    "\n",
    "histo={\n",
    "\"mass_jj\":[[1500,3000],[250,500,1000],250],\n",
    "}\n",
    "\n",
    "CRa_axis,CRa_y,CRa_error=ratio_subtracted_plot(path_to_samples=path_CRa,signal_name=signal,data_name=\"Data\",bg_names=[\"Signal_Sherpa\",\"VV\",\"Wjets\",\"ttbar\",\"singletop\"],histogram_info=histo)\n",
    "CRb_axis,CRb_y,CRb_error=ratio_subtracted_plot(path_to_samples=path_CRb,signal_name=signal,data_name=\"Data\",bg_names=[\"Signal_Sherpa\",\"VV\",\"Wjets\",\"ttbar\",\"singletop\"],histogram_info=histo)\n",
    "CRc_axis,CRc_y,CRc_error=ratio_subtracted_plot(path_to_samples=path_CRc,signal_name=signal,data_name=\"Data\",bg_names=[\"Signal_Sherpa\",\"VV\",\"Wjets\",\"ttbar\",\"singletop\"],histogram_info=histo)"
   ]
  },
  {
   "cell_type": "code",
   "execution_count": 63,
   "metadata": {},
   "outputs": [
    {
     "data": {
      "text/plain": [
       "array([   0.,  250.,  500.,  750., 1000., 1250., 1500., 2000., 2500.,\n",
       "       3000., 4000.])"
      ]
     },
     "execution_count": 63,
     "metadata": {},
     "output_type": "execute_result"
    }
   ],
   "source": [
    "CRa_axis"
   ]
  },
  {
   "cell_type": "code",
   "execution_count": 64,
   "metadata": {},
   "outputs": [],
   "source": [
    "from scipy.optimize import curve_fit\n",
    "\n",
    "def parabolic_shape(mjj,a,b,c):\n",
    "    return a*mjj*mjj+b*mjj+c\n",
    "\n",
    "def chi_square2(model, slope, level,offset, x,y,uncer):\n",
    "    chi=0\n",
    "    for i in range(0,len(x)):\n",
    "        chi+=((y[i]-model(x[i],slope,level,offset))**2)/(uncer[i]**2)\n",
    "        #print(x[i])\n",
    "        #print(((y[i]-model(x[i],slope,level))**2)/(uncer[i]**2))\n",
    "    return (chi/(len(x)-3))\n",
    "\n",
    "\n",
    "CRa_fit, CRa_cov = curve_fit(parabolic_shape, CRa_axis[1:], CRa_y[1:],sigma=CRa_error[1:])\n",
    "CRb_fit, CRb_cov = curve_fit(parabolic_shape, CRb_axis[1:], CRb_y[1:],sigma=CRb_error[1:])\n",
    "CRc_fit, CRc_cov = curve_fit(parabolic_shape, CRc_axis[1:], CRc_y[1:],sigma=CRc_error[1:])"
   ]
  },
  {
   "cell_type": "code",
   "execution_count": null,
   "metadata": {},
   "outputs": [],
   "source": []
  },
  {
   "cell_type": "code",
   "execution_count": 65,
   "metadata": {},
   "outputs": [],
   "source": [
    "def model_uncern(covariance_matrix,x):\n",
    "    sigma_a = np.sqrt(covariance_matrix[0][0])\n",
    "    sigma_b = np.sqrt(covariance_matrix[1][1])\n",
    "    sigma_c = np.sqrt(covariance_matrix[2][2])\n",
    "    \n",
    "    cov_ab = covariance_matrix[0][1]\n",
    "    cov_ac = covariance_matrix[0][2]\n",
    "    cov_bc = covariance_matrix[1][2]\n",
    "    \n",
    "    diagonal_term = sigma_a**2*x**4 + sigma_b**2*x**2 + sigma_c**2\n",
    "    no_diagonal_term = 2*cov_ab*x**3 + 2*cov_ac*x**2 + 2*cov_bc*x\n",
    "    \n",
    "    return np.sqrt(diagonal_term+no_diagonal_term)\n",
    "\n",
    "model_uncer = np.vectorize(model_uncern)\n",
    "parabolic_shape = np.vectorize(parabolic_shape)"
   ]
  },
  {
   "cell_type": "code",
   "execution_count": 66,
   "metadata": {},
   "outputs": [],
   "source": [
    "x=np.linspace(250,5000,100)\n",
    "CRa_predy,CRa_prederror = parabolic_shape(x,CRa_fit[0],CRa_fit[1],CRa_fit[2]),model_uncern(CRa_cov,x)\n",
    "CRb_predy,CRb_prederror = parabolic_shape(x,CRb_fit[0],CRb_fit[1],CRb_fit[2]),model_uncern(CRb_cov,x)\n",
    "CRc_predy,CRc_prederror = parabolic_shape(x,CRc_fit[0],CRc_fit[1],CRc_fit[2]),model_uncern(CRc_cov,x)\n",
    "\n",
    "SR_y = CRa_predy*CRc_predy/CRb_predy\n",
    "SR_error = SR_y*np.sqrt((CRa_prederror/CRa_predy)**2+(CRb_prederror/CRb_predy)**2+(CRc_prederror/CRc_predy)**2)\n",
    "\n"
   ]
  },
  {
   "cell_type": "code",
   "execution_count": 67,
   "metadata": {},
   "outputs": [
    {
     "data": {
      "text/plain": [
       "(-0.1, 1.5)"
      ]
     },
     "execution_count": 67,
     "metadata": {},
     "output_type": "execute_result"
    },
    {
     "data": {
      "image/png": "[encoded data removed]",
      "text/plain": [
       "<Figure size 432x288 with 1 Axes>"
      ]
     },
     "metadata": {
      "needs_background": "light"
     },
     "output_type": "display_data"
    }
   ],
   "source": [
    "plt.errorbar(x,SR_y,yerr=SR_error)\n",
    "plt.ylim([-.1,1.5])"
   ]
  },
  {
   "cell_type": "code",
   "execution_count": 45,
   "metadata": {},
   "outputs": [
    {
     "data": {
      "text/plain": [
       "array([0.02678975, 0.02407891, 0.02191093, 0.02036801, 0.01949593,\n",
       "       0.01927615, 0.01961964, 0.02039064, 0.0214431 , 0.02264785,\n",
       "       0.02390381, 0.02513827, 0.02630288, 0.0273689 , 0.02832299,\n",
       "       0.02916394, 0.02989989, 0.030546  , 0.03112236, 0.03165195,\n",
       "       0.03215883, 0.03266641, 0.03319605, 0.03376597, 0.03439061,\n",
       "       0.03508042, 0.03584205, 0.03667887, 0.03759168, 0.03857946,\n",
       "       0.03964012, 0.0407711 , 0.04196986, 0.04323417, 0.04456233,\n",
       "       0.04595319, 0.04740615, 0.04892113, 0.05049842, 0.05213862,\n",
       "       0.05384254, 0.0556111 , 0.0574453 , 0.05934613, 0.06131454,\n",
       "       0.06335143, 0.06545766, 0.06763397, 0.06988107, 0.07219959,\n",
       "       0.07459008, 0.07705305, 0.07958897, 0.08219825, 0.08488129,\n",
       "       0.08763845, 0.09047006, 0.09337645, 0.09635792, 0.09941476,\n",
       "       0.10254727, 0.1057557 , 0.10904033, 0.11240142, 0.11583923,\n",
       "       0.119354  , 0.12294598, 0.12661541, 0.13036252, 0.13418755,\n",
       "       0.13809073, 0.14207226, 0.14613238, 0.15027129, 0.1544892 ,\n",
       "       0.15878631, 0.16316281, 0.16761891, 0.17215479, 0.17677063,\n",
       "       0.18146661, 0.1862429 , 0.19109968, 0.1960371 , 0.20105533,\n",
       "       0.20615452, 0.21133482, 0.21659638, 0.22193934, 0.22736384,\n",
       "       0.23287001, 0.23845798, 0.24412788, 0.24987982, 0.25571393,\n",
       "       0.26163033, 0.26762911, 0.2737104 , 0.27987429, 0.28612089])"
      ]
     },
     "execution_count": 45,
     "metadata": {},
     "output_type": "execute_result"
    }
   ],
   "source": [
    "SR_error"
   ]
  },
  {
   "cell_type": "code",
   "execution_count": 34,
   "metadata": {},
   "outputs": [
    {
     "data": {
      "text/plain": [
       "array([0.01617711, 0.01458531, 0.01321937, 0.01210034, 0.0112462 ,\n",
       "       0.0106659 , 0.0103534 , 0.01028495, 0.01042208, 0.01071894,\n",
       "       0.01113013, 0.011616  , 0.01214486, 0.01269304, 0.01324387,\n",
       "       0.01378654, 0.0143149 , 0.0148266 , 0.01532244, 0.01580581,\n",
       "       0.01628238, 0.01675977, 0.01724728, 0.01775566, 0.0182968 ,\n",
       "       0.01888341, 0.01952866, 0.02024575, 0.02104751, 0.02194602,\n",
       "       0.02295223, 0.02407575, 0.02532463, 0.02670541, 0.02822308,\n",
       "       0.02988126, 0.03168236, 0.03362777, 0.03571805, 0.03795317,\n",
       "       0.04033261, 0.04285553, 0.04552088, 0.04832747, 0.05127408,\n",
       "       0.05435944, 0.05758233, 0.06094155, 0.06443597, 0.06806453,\n",
       "       0.07182622, 0.07572014, 0.07974541, 0.08390125, 0.08818694,\n",
       "       0.0926018 , 0.09714524, 0.10181668, 0.10661561, 0.11154157,\n",
       "       0.11659411, 0.12177286, 0.12707743, 0.1325075 , 0.13806277,\n",
       "       0.14374295, 0.14954777, 0.15547701, 0.16153044, 0.16770786,\n",
       "       0.17400908, 0.18043392, 0.18698222, 0.19365384, 0.20044864,\n",
       "       0.20736647, 0.21440724, 0.22157082, 0.22885711, 0.23626601,\n",
       "       0.24379744, 0.2514513 , 0.25922753, 0.26712603, 0.27514675,\n",
       "       0.28328963, 0.29155459, 0.29994158, 0.30845054, 0.31708144,\n",
       "       0.32583421, 0.33470881, 0.34370521, 0.35282335, 0.36206321,\n",
       "       0.37142474, 0.38090792, 0.3905127 , 0.40023907, 0.41008699])"
      ]
     },
     "execution_count": 34,
     "metadata": {},
     "output_type": "execute_result"
    }
   ],
   "source": []
  },
  {
   "cell_type": "code",
   "execution_count": null,
   "metadata": {},
   "outputs": [],
   "source": []
  }
 ],
 "metadata": {
  "kernelspec": {
   "display_name": "Python 3 (ipykernel)",
   "language": "python",
   "name": "python3"
  },
  "language_info": {
   "codemirror_mode": {
    "name": "ipython",
    "version": 3
   },
   "file_extension": ".py",
   "mimetype": "text/x-python",
   "name": "python",
   "nbconvert_exporter": "python",
   "pygments_lexer": "ipython3",
   "version": "3.10.4"
  },
  "vscode": {
   "interpreter": {
    "hash": "916dbcbb3f70747c44a77c7bcd40155683ae19c65e1c03b4aa3499c5328201f1"
   }
  }
 },
 "nbformat": 4,
 "nbformat_minor": 4
}
