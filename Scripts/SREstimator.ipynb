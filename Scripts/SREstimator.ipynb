{
 "cells": [
  {
   "cell_type": "markdown",
   "metadata": {},
   "source": [
    "# ABCD Method for estimating the Z-QCD correction factors."
   ]
  },
  {
   "cell_type": "code",
   "execution_count": 1,
   "metadata": {
    "tags": []
   },
   "outputs": [
    {
     "name": "stdout",
     "output_type": "stream",
     "text": [
      "Welcome to JupyROOT 6.28/04\n"
     ]
    }
   ],
   "source": [
    "import os\n",
    "from scipy.optimize import curve_fit\n",
    "import ROOT\n",
    "from ROOT import gStyle\n",
    "import ctypes\n",
    "import pandas as pd\n",
    "import numpy as np\n",
    "import matplotlib.pyplot as plt\n",
    "\n",
    "def biner(edges,bin_widths,histogram):\n",
    "    if (len(edges)+1!=len(bin_widths)):\n",
    "        print(\"Check edges and bin widths array sizes!\")\n",
    "        return\n",
    "    \n",
    "    bins=[]\n",
    "    first_bin = histogram.GetXaxis().GetBinLowEdge(1)\n",
    "    #print(first_bin)\n",
    "    last_bin = histogram.GetXaxis().GetBinUpEdge(histogram.GetNbinsX())\n",
    "    #print(last_bin)\n",
    "    for i in range(0,len(edges)):\n",
    "        n_spaces = int((edges[i] - first_bin)/bin_widths[i])\n",
    "        bins = np.concatenate((bins,np.linspace(first_bin,edges[i],n_spaces,endpoint=False)))\n",
    "        first_bin = edges[i]\n",
    "        if edges[i]==edges[-1]:\n",
    "            n_spaces = int((last_bin - edges[i])/bin_widths[i+1])\n",
    "            bins = np.concatenate((bins,np.linspace(edges[i],last_bin,n_spaces,endpoint=False)))\n",
    "            bins = np.concatenate((bins,[last_bin]))\n",
    "    return bins\n",
    "\n",
    "def normalization(hist_list,norm_bin):\n",
    "    for hist in hist_list:\n",
    "        for i in range(1,hist.GetNbinsX()+1):\n",
    "            value=hist.GetBinContent(i)\n",
    "            error=hist.GetBinError(i)\n",
    "            sf=hist.GetBinWidth(i)/norm_bin\n",
    "            hist.SetBinContent(i,value/sf)\n",
    "            hist.SetBinError(i,error/sf)\n",
    "            \n",
    "def ratio_subtracted_plot(path_to_samples=os.getcwd(),signal_name=\"Signal\",data_name=\"Data\",bg_names=[],histogram_info=None):\n",
    "    \n",
    "    MC = ROOT.TFile.Open(path_to_samples+\"/\"+\"MC\"+\".root\",\"READ\")\n",
    "    Data = ROOT.TFile.Open(path_to_samples+\"/\"+data_name+\".root\",\"READ\")\n",
    "    Signal = ROOT.TFile.Open(path_to_samples+\"/\"+signal_name+\".root\",\"READ\")\n",
    "    \n",
    "    bg_files_list=[]\n",
    "    for i in bg_names:\n",
    "        bg_files_list.append(ROOT.TFile.Open(path_to_samples+\"/\"+i+\".root\",\"READ\"))\n",
    "    \n",
    "    histogram_name = list(histogram_info.keys())[0]\n",
    "\n",
    "    mc=MC.Get(histogram_name)\n",
    "    data=Data.Get(histogram_name)\n",
    "    signal=Signal.Get(histogram_name)\n",
    "    \n",
    "    bg_histograms_list = [i.Get(histogram_name) for i in bg_files_list]\n",
    "    \n",
    "    \n",
    "    mc.SetDirectory(0)\n",
    "    signal.SetDirectory(0)\n",
    "    data.SetDirectory(0)\n",
    "    \n",
    "    for i in bg_histograms_list:\n",
    "        i=i.SetDirectory(0)\n",
    "    \n",
    "    MC.Close()\n",
    "    Signal.Close()\n",
    "    Data.Close()\n",
    "\n",
    "    [i.Close() for i in bg_files_list]\n",
    "    \n",
    "    s=data.GetXaxis().GetBinLowEdge(1)\n",
    "    e=data.GetXaxis().GetBinUpEdge(data.GetNbinsX())\n",
    "    \n",
    "\n",
    "    s=data.GetXaxis().GetBinLowEdge(1)\n",
    "    e=data.GetXaxis().GetBinUpEdge(data.GetNbinsX())\n",
    "    rebining=biner(histogram_info[histogram_name][0],histogram_info[histogram_name][1],data)\n",
    "    nb=len(rebining)-1\n",
    "    mc=mc.Rebin(nb,\"mc\",rebining)\n",
    "    signal=signal.Rebin(nb,\"signal\",rebining)\n",
    "    data=data.Rebin(nb,\"data\",rebining)\n",
    "    for i in range(0,len(bg_histograms_list)):\n",
    "        bg_histograms_list[i]=bg_histograms_list[i].Rebin(nb,bg_names[i],rebining)\n",
    "\n",
    "    if len(histogram_info[histogram_name])>0:\n",
    "        hist_list=[signal,data,mc]+bg_histograms_list\n",
    "        normalization(hist_list,histogram_info[histogram_name][2])\n",
    "        \n",
    "    data_subtracted=data.Clone()\n",
    "    for i in bg_histograms_list:\n",
    "        data_subtracted.Add(i,-1)\n",
    "        \n",
    "        \n",
    "    ratio=data_subtracted.Clone()\n",
    "    ratio.Divide(signal)\n",
    "\n",
    "    x_values = []\n",
    "    y_values = []\n",
    "    y_uncern = []\n",
    "\n",
    "    for i in range(1,ratio.GetNbinsX()+1):\n",
    "        #print(\"m range = \",ratio.GetBinCenter(i),\"SF = \",round(ratio.GetBinContent(i),3),)\n",
    "        if ratio.GetBinContent(i)>0 or i==1:\n",
    "            x_values.append(ratio.GetBinCenter(i))\n",
    "            y_values.append(round(ratio.GetBinContent(i),3))\n",
    "            y_uncern.append(ratio.GetBinError(i))\n",
    "        else : \n",
    "            break\n",
    "    \n",
    "    return np.array(x_values),np.array(y_values),np.array(y_uncern)"
   ]
  },
  {
   "cell_type": "code",
   "execution_count": 2,
   "metadata": {
    "tags": []
   },
   "outputs": [
    {
     "name": "stdout",
     "output_type": "stream",
     "text": [
      "1.06\n"
     ]
    },
    {
     "data": {
      "image/png": "[encoded data removed]",
      "text/plain": [
       "<Figure size 640x480 with 1 Axes>"
      ]
     },
     "metadata": {},
     "output_type": "display_data"
    }
   ],
   "source": [
    "root_path = '/Users/diegomac/Documents/HEP/VBF-Analysis/Zll/Z-peak/'\n",
    "path_CRa = root_path+\"CRa\"\n",
    "path_CRb = root_path+\"CRb\"\n",
    "path_CRc = root_path+\"CRc\"\n",
    "signal = \"Zll_MGNLO\"\n",
    "\n",
    "histo={\n",
    "\"mass_jj\":[[1500,3000],[250,500,1000],250],\n",
    "}\n",
    "\n",
    "CRa_axis,CRa_y,CRa_error=ratio_subtracted_plot(path_to_samples=path_CRa,signal_name=signal,data_name=\"Data\",bg_names=[\"Signal_Sherpa\",\"VV\",\"Wjets\",\"ttbar\",\"singletop\"],histogram_info=histo)\n",
    "CRb_axis,CRb_y,CRb_error=ratio_subtracted_plot(path_to_samples=path_CRb,signal_name=signal,data_name=\"Data\",bg_names=[\"Signal_Sherpa\",\"VV\",\"Wjets\",\"ttbar\",\"singletop\"],histogram_info=histo)\n",
    "CRc_axis,CRc_y,CRc_error=ratio_subtracted_plot(path_to_samples=path_CRc,signal_name=signal,data_name=\"Data\",bg_names=[\"Signal_Sherpa\",\"VV\",\"Wjets\",\"ttbar\",\"singletop\"],histogram_info=histo)\n",
    "\n",
    "plt.errorbar(CRa_axis,CRa_y,yerr=CRa_error,fmt='.')\n",
    "plt.errorbar(CRb_axis,CRb_y,yerr=CRb_error,fmt='.')\n",
    "plt.errorbar(CRc_axis,CRc_y,yerr=CRc_error,fmt='.')\n",
    "\n",
    "plt.legend(['CRa','CRb','CRc'])\n",
    "\n",
    "print(CRc_y[2])"
   ]
  },
  {
   "cell_type": "code",
   "execution_count": 3,
   "metadata": {
    "tags": []
   },
   "outputs": [
    {
     "data": {
      "text/plain": [
       "array([ 125.,  375.,  625.,  875., 1125., 1375., 1750., 2250., 2750.,\n",
       "       3500., 4500.])"
      ]
     },
     "execution_count": 3,
     "metadata": {},
     "output_type": "execute_result"
    }
   ],
   "source": [
    "CRa_axis"
   ]
  },
  {
   "cell_type": "code",
   "execution_count": 4,
   "metadata": {
    "tags": []
   },
   "outputs": [],
   "source": [
    "def parabolic_shape(mjj,a,b,c):\n",
    "    return a*mjj*mjj+b*mjj+c\n",
    "\n",
    "\n",
    "def chi_square2(model, slope, level,offset, x,y,uncer):\n",
    "    chi=0\n",
    "    for i in range(0,len(x)):\n",
    "        chi+=((y[i]-model(x[i],slope,level,offset))**2)/(uncer[i]**2)\n",
    "        #print(x[i])\n",
    "        #print(((y[i]-model(x[i],slope,level))**2)/(uncer[i]**2))\n",
    "    return (chi/(len(x)-3))\n",
    "\n",
    "CRa_fit, CRa_cov = curve_fit(parabolic_shape, CRa_axis[1:], CRa_y[1:],sigma=CRa_error[1:])\n",
    "CRb_fit, CRb_cov = curve_fit(parabolic_shape, CRb_axis[1:], CRb_y[1:],sigma=CRb_error[1:])\n",
    "CRc_fit, CRc_cov = curve_fit(parabolic_shape, CRc_axis[1:], CRc_y[1:],sigma=CRc_error[1:])\n",
    "x = CRa_axis"
   ]
  },
  {
   "cell_type": "code",
   "execution_count": 5,
   "metadata": {
    "tags": []
   },
   "outputs": [
    {
     "data": {
      "text/plain": [
       "Text(0.5, 1.0, 'CRa Zll_MGNLO')"
      ]
     },
     "execution_count": 5,
     "metadata": {},
     "output_type": "execute_result"
    },
    {
     "data": {
      "image/png": "[encoded data removed]",
      "text/plain": [
       "<Figure size 640x480 with 1 Axes>"
      ]
     },
     "metadata": {},
     "output_type": "display_data"
    }
   ],
   "source": [
    "plt.errorbar(CRa_axis,CRa_y,yerr=CRa_error,fmt='.')\n",
    "plt.rcParams['text.usetex'] = True\n",
    "plt.plot(CRa_axis,parabolic_shape(CRa_axis,CRa_fit[0],CRa_fit[1],CRa_fit[2]))\n",
    "plt.legend(['Fit','Data'])\n",
    "plt.xlabel('mjj GeV')\n",
    "plt.ylabel(r'$r_{i}$')\n",
    "plt.title(\"CRa \"+signal)"
   ]
  },
  {
   "cell_type": "code",
   "execution_count": 6,
   "metadata": {
    "tags": []
   },
   "outputs": [
    {
     "data": {
      "text/plain": [
       "Text(0.5, 1.0, 'CRb Zll_MGNLO')"
      ]
     },
     "execution_count": 6,
     "metadata": {},
     "output_type": "execute_result"
    },
    {
     "data": {
      "image/png": "[encoded data removed]",
      "text/plain": [
       "<Figure size 640x480 with 1 Axes>"
      ]
     },
     "metadata": {},
     "output_type": "display_data"
    }
   ],
   "source": [
    "plt.errorbar(CRb_axis,CRb_y,yerr=CRb_error,fmt='.')\n",
    "plt.plot(CRa_axis,parabolic_shape(x,CRb_fit[0],CRb_fit[1],CRb_fit[2]))\n",
    "plt.legend(['Fit','Data'])\n",
    "plt.title(\"CRb \"+signal)"
   ]
  },
  {
   "cell_type": "code",
   "execution_count": 7,
   "metadata": {
    "tags": []
   },
   "outputs": [
    {
     "name": "stdout",
     "output_type": "stream",
     "text": [
      "1.06\n",
      "1.0336551036743225\n"
     ]
    },
    {
     "data": {
      "image/png": "[encoded data removed]",
      "text/plain": [
       "<Figure size 640x480 with 1 Axes>"
      ]
     },
     "metadata": {},
     "output_type": "display_data"
    }
   ],
   "source": [
    "plt.errorbar(CRc_axis,CRc_y,yerr=CRc_error,fmt='.')\n",
    "plt.plot(CRc_axis,parabolic_shape(x,CRc_fit[0],CRc_fit[1],CRc_fit[2]))\n",
    "plt.legend(['Fit','Data'])\n",
    "plt.title(\"CRc \"+signal)\n",
    "print(CRc_y[2])\n",
    "print(parabolic_shape(x,CRc_fit[0],CRc_fit[1],CRc_fit[2])[2])"
   ]
  },
  {
   "cell_type": "code",
   "execution_count": 8,
   "metadata": {
    "tags": []
   },
   "outputs": [],
   "source": [
    "def model_uncern(covariance_matrix,x):\n",
    "    sigma_a = covariance_matrix[0][0]\n",
    "    sigma_b = covariance_matrix[1][1]\n",
    "    sigma_c = covariance_matrix[2][2]\n",
    "    \n",
    "    cov_ab = covariance_matrix[0][1]\n",
    "    cov_ac = covariance_matrix[0][2]\n",
    "    cov_bc = covariance_matrix[1][2]\n",
    "    \n",
    "    diagonal_term = sigma_a*x**4 + sigma_b*x**2 + sigma_c\n",
    "    no_diagonal_term = 2*cov_ab*x**3 + 2*cov_ac*x**2 + 2*cov_bc*x\n",
    "    \n",
    "    return np.sqrt(diagonal_term+no_diagonal_term)\n",
    "\n",
    "model_uncer = np.vectorize(model_uncern)\n",
    "#parabolic_shape = np.vectorize(parabolic_shape)"
   ]
  },
  {
   "cell_type": "code",
   "execution_count": 9,
   "metadata": {
    "tags": []
   },
   "outputs": [
    {
     "name": "stdout",
     "output_type": "stream",
     "text": [
      "1628.9375044377355\n",
      "285.3564210086227\n"
     ]
    },
    {
     "data": {
      "image/png": "[encoded data removed]",
      "text/plain": [
       "<Figure size 640x480 with 1 Axes>"
      ]
     },
     "metadata": {},
     "output_type": "display_data"
    }
   ],
   "source": [
    "x=np.linspace(250,5000,100)\n",
    "\n",
    "r_ab=parabolic_shape(x,CRa_fit[0],CRa_fit[1],CRa_fit[2])/parabolic_shape(x,CRb_fit[0],CRb_fit[1],CRb_fit[2])\n",
    "r_ab_error=r_ab*np.sqrt((model_uncern(CRa_cov,x)/parabolic_shape(x,CRa_fit[0],CRa_fit[1],CRa_fit[2]))**2\n",
    "                        +(model_uncern(CRb_cov,x)/parabolic_shape(x,CRb_fit[0],CRb_fit[1],CRb_fit[2])**2))\n",
    "\n",
    "r_ac=parabolic_shape(x,CRa_fit[0],CRa_fit[1],CRa_fit[2])/parabolic_shape(x,CRc_fit[0],CRc_fit[1],CRc_fit[2])\n",
    "r_ac_error=r_ac*np.sqrt((model_uncern(CRa_cov,x)/parabolic_shape(x,CRa_fit[0],CRa_fit[1],CRa_fit[2]))**2\n",
    "                        +(model_uncern(CRc_cov,x)/parabolic_shape(x,CRc_fit[0],CRc_fit[1],CRc_fit[2])**2))\n",
    "\n",
    "r_bc=parabolic_shape(x,CRb_fit[0],CRb_fit[1],CRb_fit[2])/parabolic_shape(x,CRc_fit[0],CRc_fit[1],CRc_fit[2])\n",
    "r_bc_error=r_bc*np.sqrt((model_uncern(CRb_cov,x)/parabolic_shape(x,CRb_fit[0],CRb_fit[1],CRb_fit[2]))**2\n",
    "                        +(model_uncern(CRc_cov,x)/parabolic_shape(x,CRc_fit[0],CRc_fit[1],CRc_fit[2])**2))\n",
    "\n",
    "\n",
    "\n",
    "plt.plot(x,r_ab)\n",
    "plt.plot(x,r_ac)\n",
    "plt.plot(x,r_bc)\n",
    "plt.legend([\"A/B\",\"A/C\",\"B/C\"])\n",
    "plt.ylim(0,3)\n",
    "\n",
    "\n",
    "print(r_ac.max()-r_ac.min())\n",
    "print(r_bc.max()-r_bc.min())"
   ]
  },
  {
   "cell_type": "code",
   "execution_count": 10,
   "metadata": {
    "tags": []
   },
   "outputs": [],
   "source": [
    "x=CRa_axis\n",
    "CRa_predy,CRa_prederror = parabolic_shape(x,CRa_fit[0],CRa_fit[1],CRa_fit[2]),model_uncern(CRa_cov,x)\n",
    "CRb_predy,CRb_prederror = parabolic_shape(x,CRb_fit[0],CRb_fit[1],CRb_fit[2]),model_uncern(CRb_cov,x)\n",
    "CRc_predy,CRc_prederror = parabolic_shape(x,CRc_fit[0],CRc_fit[1],CRc_fit[2]),model_uncern(CRc_cov,x)\n",
    "\n",
    "SR_y = CRa_predy*CRc_predy/CRb_predy\n",
    "SR_error = SR_y*np.sqrt((CRa_prederror/CRa_predy)**2+(CRb_prederror/CRb_predy)**2+(CRc_prederror/CRc_predy)**2)"
   ]
  },
  {
   "cell_type": "code",
   "execution_count": 15,
   "metadata": {
    "tags": []
   },
   "outputs": [
    {
     "name": "stdout",
     "output_type": "stream",
     "text": [
      "SF =  [1.1742047173143038, 1.1180325212824151, 1.08352860374402, 1.0708307501771264, 1.0792305021183086, 1.1072151403165478, 1.1805442976922373, 1.316866128166571, 1.4535969915255345, 1.4730900695882527, 0.07844734733449342]\n",
      "SF error =  [0.058701164985430085, 0.029476785839183298, 0.02149669545794612, 0.028944686745888622, 0.03842115885495231, 0.04884940114595505, 0.07450705138864766, 0.15245064928505958, 0.31786361110644185, 0.8752977994548087, 3.077069003219635]\n",
      "[ 125.  375.  625.  875. 1125. 1375. 1750. 2250. 2750. 3500. 4500.]\n"
     ]
    },
    {
     "data": {
      "image/png": "[encoded data removed]",
      "text/plain": [
       "<Figure size 640x480 with 1 Axes>"
      ]
     },
     "metadata": {},
     "output_type": "display_data"
    }
   ],
   "source": [
    "plt.errorbar(x,SR_y,yerr=SR_error)\n",
    "plt.ylim([-.1,3.5])\n",
    "\n",
    "print(\"SF = \",list(SR_y))\n",
    "print(\"SF error = \",list(SR_error))\n",
    "print(x)"
   ]
  },
  {
   "cell_type": "code",
   "execution_count": 29,
   "metadata": {
    "tags": []
   },
   "outputs": [
    {
     "name": "stdout",
     "output_type": "stream",
     "text": [
      "Parameters  [ 6.72656205e-08 -1.28681825e-04  1.14663290e+00]\n",
      "Covariance Matrix [[ 3.90974482e-16 -8.64299323e-13  3.68573203e-10]\n",
      " [-8.64299323e-13  2.36769250e-09 -1.16272888e-06]\n",
      " [ 3.68573203e-10 -1.16272888e-06  6.85783821e-04]]\n"
     ]
    },
    {
     "data": {
      "text/html": [
       "<div>\n",
       "<style scoped>\n",
       "    .dataframe tbody tr th:only-of-type {\n",
       "        vertical-align: middle;\n",
       "    }\n",
       "\n",
       "    .dataframe tbody tr th {\n",
       "        vertical-align: top;\n",
       "    }\n",
       "\n",
       "    .dataframe thead th {\n",
       "        text-align: right;\n",
       "    }\n",
       "</style>\n",
       "<table border=\"1\" class=\"dataframe\">\n",
       "  <thead>\n",
       "    <tr style=\"text-align: right;\">\n",
       "      <th></th>\n",
       "      <th>a</th>\n",
       "      <th>Sigma a</th>\n",
       "      <th>b</th>\n",
       "      <th>Sigma b</th>\n",
       "      <th>c</th>\n",
       "      <th>Sigma c</th>\n",
       "    </tr>\n",
       "  </thead>\n",
       "  <tbody>\n",
       "    <tr>\n",
       "      <th>0</th>\n",
       "      <td>6.726562e-08</td>\n",
       "      <td>1.977307e-08</td>\n",
       "      <td>-0.000129</td>\n",
       "      <td>0.000049</td>\n",
       "      <td>1.146633</td>\n",
       "      <td>0.026187</td>\n",
       "    </tr>\n",
       "  </tbody>\n",
       "</table>\n",
       "</div>"
      ],
      "text/plain": [
       "              a       Sigma a         b   Sigma b         c   Sigma c\n",
       "0  6.726562e-08  1.977307e-08 -0.000129  0.000049  1.146633  0.026187"
      ]
     },
     "execution_count": 29,
     "metadata": {},
     "output_type": "execute_result"
    }
   ],
   "source": [
    "SR_y[10]=SR_y[9]\n",
    "SR_error[10]=SR_error[9]/2\n",
    "\n",
    "def parabolic_shape(mjj,a,b,c):\n",
    "    return a*mjj*mjj+b*mjj+c\n",
    "SR_fit, SR_cov = curve_fit(parabolic_shape, x, SR_y,sigma=SR_error)\n",
    "\n",
    "def fit_results(params,covariance,params_names):\n",
    "    result = []\n",
    "    for i in range(0,len(params)):\n",
    "        result.append(params[i])\n",
    "        result.append(np.sqrt(covariance[i][i]))\n",
    "        \n",
    "    column_name = []\n",
    "    for i in params_names:\n",
    "        column_name.append(i)\n",
    "        column_name.append('Sigma '+i)\n",
    "        \n",
    "    df = pd.DataFrame (result,index=column_name)\n",
    "    return df.T\n",
    "print(\"Parameters \",SR_fit)\n",
    "print(\"Covariance Matrix\",SR_cov)\n",
    "fit_results(SR_fit,SR_cov,['a','b','c'])\n"
   ]
  },
  {
   "cell_type": "code",
   "execution_count": 30,
   "metadata": {
    "tags": []
   },
   "outputs": [
    {
     "data": {
      "text/plain": [
       "[<matplotlib.lines.Line2D at 0x29849a0e0>]"
      ]
     },
     "execution_count": 30,
     "metadata": {},
     "output_type": "execute_result"
    },
    {
     "data": {
      "image/png": "[encoded data removed]",
      "text/plain": [
       "<Figure size 640x480 with 1 Axes>"
      ]
     },
     "metadata": {},
     "output_type": "display_data"
    }
   ],
   "source": [
    "plt.errorbar(x,SR_y,yerr=SR_error)\n",
    "plt.ylim([-.1,3.5])\n",
    "plt.plot(x,parabolic_shape(x,SR_fit[0],SR_fit[1],SR_fit[2]))"
   ]
  },
  {
   "cell_type": "code",
   "execution_count": 31,
   "metadata": {},
   "outputs": [
    {
     "ename": "NameError",
     "evalue": "name 'r' is not defined",
     "output_type": "error",
     "traceback": [
      "\u001b[0;31m---------------------------------------------------------------------------\u001b[0m",
      "\u001b[0;31mNameError\u001b[0m                                 Traceback (most recent call last)",
      "Cell \u001b[0;32mIn[31], line 10\u001b[0m\n\u001b[1;32m      5\u001b[0m histo\u001b[38;5;241m=\u001b[39m{\n\u001b[1;32m      6\u001b[0m \u001b[38;5;124m\"\u001b[39m\u001b[38;5;124mmass_jj\u001b[39m\u001b[38;5;124m\"\u001b[39m:[[\u001b[38;5;241m1500\u001b[39m,\u001b[38;5;241m3000\u001b[39m],[\u001b[38;5;241m250\u001b[39m,\u001b[38;5;241m500\u001b[39m,\u001b[38;5;241m1000\u001b[39m],\u001b[38;5;241m250\u001b[39m],\n\u001b[1;32m      7\u001b[0m }\n\u001b[1;32m      9\u001b[0m regions\u001b[38;5;241m=\u001b[39m[\u001b[38;5;124m\"\u001b[39m\u001b[38;5;124mCRa/\u001b[39m\u001b[38;5;124m\"\u001b[39m,\u001b[38;5;124m\"\u001b[39m\u001b[38;5;124mCRb/\u001b[39m\u001b[38;5;124m\"\u001b[39m,\u001b[38;5;124m\"\u001b[39m\u001b[38;5;124mCRc/\u001b[39m\u001b[38;5;124m\"\u001b[39m]\n\u001b[0;32m---> 10\u001b[0m colors\u001b[38;5;241m=\u001b[39m[\u001b[43mr\u001b[49m\u001b[38;5;241m.\u001b[39mkRed,r\u001b[38;5;241m.\u001b[39mkGreen,r\u001b[38;5;241m.\u001b[39mkBlue]\u001b[38;5;66;03m#[[\"CRb/\",\"CRa/\"],[\"CRb/\",\"CRc/\"]]#\u001b[39;00m\n\u001b[1;32m     12\u001b[0m r\u001b[38;5;241m.\u001b[39mTH1\u001b[38;5;241m.\u001b[39mAddDirectory(r\u001b[38;5;241m.\u001b[39mkFALSE)\n\u001b[1;32m     13\u001b[0m Canvas \u001b[38;5;241m=\u001b[39m ROOT\u001b[38;5;241m.\u001b[39mTCanvas(\u001b[38;5;124m\"\u001b[39m\u001b[38;5;124mcanvas\u001b[39m\u001b[38;5;124m\"\u001b[39m)\n",
      "\u001b[0;31mNameError\u001b[0m: name 'r' is not defined"
     ]
    }
   ],
   "source": [
    "path=\"../Zll/\"\n",
    "qcd_sample=\"Zll_Sherpa.root\"\n",
    "vbf_sample=\"Signal_Sherpa.root\"\n",
    "\n",
    "histo={\n",
    "\"mass_jj\":[[1500,3000],[250,500,1000],250],\n",
    "}\n",
    "\n",
    "regions=[\"CRa/\",\"CRb/\",\"CRc/\"]\n",
    "colors=[r.kRed,r.kGreen,r.kBlue]#[[\"CRb/\",\"CRa/\"],[\"CRb/\",\"CRc/\"]]#\n",
    "\n",
    "r.TH1.AddDirectory(r.kFALSE)\n",
    "Canvas = ROOT.TCanvas(\"canvas\")\n",
    "Canvas.cd()\n",
    "\n",
    "legend = ROOT . TLegend (0.20 ,0.75 ,0.40 ,0.85)\n",
    "\n",
    "c=0\n",
    "output_file = r.TFile.Open(\"Output.root\",\"RECREATE\")\n",
    "for cr in regions:\n",
    "    CR_file=r.TFile.Open(path+cr+qcd_sample)\n",
    "    SR_file=r.TFile.Open(path+\"SR/\"+qcd_sample)\n",
    "    \n",
    "    CR_file_data=r.TFile.Open(path+cr+\"Data.root\")\n",
    "    SR_file_data=r.TFile.Open(path+\"SR/\"+\"Data.root\")\n",
    "    \n",
    "    CR_file_signal=r.TFile.Open(path+cr+vbf_sample)\n",
    "    SR_file_signal=r.TFile.Open(path+\"SR/\"+vbf_sample)\n",
    "    \n",
    "    CR=CR_file.Get(\"mass_jj\")\n",
    "    SR=SR_file.Get(\"mass_jj\")\n",
    "    \n",
    "    CR_data=CR_file_data.Get(\"mass_jj\")\n",
    "    SR_data=SR_file_data.Get(\"mass_jj\")\n",
    "    \n",
    "    CR_signal=CR_file_signal.Get(\"mass_jj\")\n",
    "    SR_signal=SR_file_signal.Get(\"mass_jj\")\n",
    "    \n",
    "    CR_data.Add(CR_signal,-1)\n",
    "    SR_data.Add(SR_signal,-1)\n",
    "    \n",
    "    rebining=biner(histo[\"mass_jj\"][0],histo[\"mass_jj\"][1],SR)\n",
    "    nb=len(rebining)-1\n",
    "\n",
    "    CR=CR.Rebin(nb,\"CR\",rebining)\n",
    "    SR=SR.Rebin(nb,\"SR\",rebining)\n",
    "    \n",
    "    CR_data=CR_data.Rebin(nb,\"CR\",rebining)\n",
    "    SR_data=SR_data.Rebin(nb,\"SR\",rebining)\n",
    "\n",
    "    CR_data.Scale(1/CR_data.Integral(1,-1,\"width\"))\n",
    "    SR_data.Scale(1/SR_data.Integral(1,-1,\"width\"))\n",
    "\n",
    "    CR.Scale(1/CR.Integral(1,-1,\"width\"))\n",
    "    SR.Scale(1/SR.Integral(1,-1,\"width\"))\n",
    "    \n",
    "    CR_data.Divide(CR)\n",
    "    SR_data.Divide(SR)\n",
    "    \n",
    "    SR.Divide(CR)\n",
    "    SR.SetTitle(\"SR/CRi\")\n",
    "    SR.SetLineColor(colors[c])\n",
    "    \n",
    "    \n",
    "    print(Unpack_Histo(CR_data))\n",
    "    r.gStyle.SetOptStat(0)\n",
    "    \n",
    "    \n",
    "    \n",
    "    c+=1\n",
    "    SR.GetYaxis().SetRangeUser(0,3)\n",
    "    \n",
    "    #legend.AddEntry(SR,cr[1][:-1]+\"/\"+cr[0][:-1])\n",
    "    legend.AddEntry(SR,\"SR/\"+cr[:-1])\n",
    "    \n",
    "    CR_data.Draw(\"same\")\n",
    "    SR.GetYaxis().SetRangeUser(0.1,50)\n",
    "    SR.GetXaxis().SetTitle(\"m_{jj}\")\n",
    "\n",
    "    output_file.WriteObject(CR_data,cr)\n",
    "    \n",
    "legend.Draw()\n",
    "Canvas.SetLogy(1)\n",
    "output_file.Close()\n",
    "Canvas.Print(\"Zll_CRi-SR.pdf\") \n",
    "    \n",
    "    "
   ]
  },
  {
   "cell_type": "markdown",
   "metadata": {},
   "source": [
    "# CRi/CRj MC plots"
   ]
  },
  {
   "cell_type": "code",
   "execution_count": null,
   "metadata": {},
   "outputs": [],
   "source": [
    "path=\"../Zll/\"\n",
    "qcd_sample=\"Zll_MG.root\"\n",
    "vbf_sample=\"Signal_Sherpa.root\"\n",
    "\n",
    "histo={\n",
    "\"mass_jj\":[[1500,3000],[250,500,1000],250],\n",
    "}\n",
    "\n",
    "regions = [[\"CRa/\",\"CRb/\"],[\"CRc/\",\"CRb/\"]]\n",
    "colors=[r.kBlue,r.kRed]\n",
    "\n",
    "r.TH1.AddDirectory(r.kFALSE)\n",
    "Canvas = ROOT.TCanvas(\"canvas\")\n",
    "Canvas.cd()\n",
    "\n",
    "legend = ROOT . TLegend (0.20 ,0.75 ,0.40 ,0.85)\n",
    "\n",
    "c=0\n",
    "output_file = r.TFile.Open(\"Output.root\",\"RECREATE\")\n",
    "for cr in regions:\n",
    "    CRi_file=r.TFile.Open(path+cr[0]+qcd_sample)\n",
    "    CRj_file=r.TFile.Open(path+cr[1]+qcd_sample)\n",
    "    \n",
    "    CRi=CRi_file.Get(\"mass_jj\")\n",
    "    CRj=CRj_file.Get(\"mass_jj\")\n",
    "    \n",
    "    rebining=biner(histo[\"mass_jj\"][0],histo[\"mass_jj\"][1],CRi)\n",
    "    nb=len(rebining)-1\n",
    "\n",
    "    CRi=CRi.Rebin(nb,\"CR\",rebining)\n",
    "    CRj=CRj.Rebin(nb,\"CR\",rebining)\n",
    "\n",
    "    CRi.Scale(1/CRi.Integral(1,-1,\"width\"))\n",
    "    CRj.Scale(1/CRj.Integral(1,-1,\"width\"))\n",
    "\n",
    "    CRi.Divide(CRj)\n",
    "    CRi.SetTitle(\"CRi/CRj\")\n",
    "    CRi.SetLineColor(colors[c])\n",
    "    \n",
    "    print(Unpack_Histo(CRi))\n",
    "    r.gStyle.SetOptStat(0)\n",
    "    \n",
    "    c+=1\n",
    "    CRi.GetYaxis().SetRangeUser(0,3)\n",
    "    \n",
    "    legend.AddEntry(CRi,cr[0][:-1]+\"/\"+cr[1][:-1])\n",
    "\n",
    "    \n",
    "    CRi.Draw(\"same\")\n",
    "    CRi.GetYaxis().SetRangeUser(0.1,50)\n",
    "    CRi.GetXaxis().SetTitle(\"m_{jj}\")\n",
    "\n",
    "    output_file.WriteObject(CRi,cr[0])\n",
    "    \n",
    "legend.Draw()\n",
    "Canvas.SetLogy(1)\n",
    "output_file.Close()\n",
    "Canvas.Print(\"Zll_CRi-CRj.pdf\") "
   ]
  },
  {
   "cell_type": "code",
   "execution_count": null,
   "metadata": {},
   "outputs": [],
   "source": [
    "# DATA/MC (CRa)\n",
    "datamc_mg = np.array([1.17287099, 1.05095482, 0.92308652, 0.87660265, 0.71172017, 0.79195541, 0.93657303, 0.94271851, 1.36295712, 1.19747162])\n",
    "datamc_sherpa = np.array([1.21873772, 1.10637128, 1.01299345, 0.92340606, 0.79855639, 0.74728167, 0.79572594, 0.4959183 , 0.57277864, 0.38938245])\n",
    "datamc_mg_err = np.array([0.02628175, 0.02390504, 0.02850612, 0.03746677, 0.07936187,0.04879905, 0.09014562, 0.16244972, 0.27015595, 0.75309312])\n",
    "datamc_sherpa_err = np.array([0.02664247, 0.02801487, 0.03076661, 0.03707245, 0.04408269, 0.04624233, 0.06874639, 0.08017466, 0.12399572, 0.20784691])\n",
    "\n",
    "# MC/MC (CRc/CRb)\n",
    "mcmc_mg = np.array([1.25653172, 0.95911849, 0.83627921, 0.76530528, 0.70465183, 0.76431251, 0.67780083, 0.43664312, 0.45886752, 0.62432247])\n",
    "mcmc_sherpa = np.array([1.23392093, 1.03752315, 0.8849799 , 0.75316083, 0.67003554, 0.67421633, 0.56153172, 0.49623686, 0.39219835, 0.45996645])\n",
    "mcmc_mg_err = np.array([0.02292674, 0.01761642, 0.02137271, 0.0281082 , 0.0448343 , 0.04852067, 0.09465751, 0.12061694, 0.13820855, 0.39303658])\n",
    "mcmc_sherpa_err = np.array([0.02263625, 0.01581388, 0.01810401, 0.0234124 , 0.02358959, 0.02246332, 0.03077217, 0.04067631, 0.0854782 , 0.0702685 ])\n",
    "\n",
    "# Scale factors\n",
    "scaling_factors_mg = datamc_mg/mcmc_mg\n",
    "mg_err = (datamc_mg/mcmc_mg)*((datamc_mg_err/datamc_mg)**2+(mcmc_mg_err/mcmc_mg)**2)**0.5\n",
    "scaling_factors_sherpa = datamc_sherpa/mcmc_sherpa\n",
    "sherpa_err = (datamc_sherpa/mcmc_sherpa)*((datamc_sherpa_err/datamc_sherpa)**2+(mcmc_sherpa_err/mcmc_sherpa)**2)**0.5\n",
    "\n",
    "scaling_factors_average = (scaling_factors_sherpa/sherpa_err**2+scaling_factors_mg/mg_err**2)/(1/sherpa_err**2+1/mg_err**2)\n"
   ]
  },
  {
   "cell_type": "code",
   "execution_count": null,
   "metadata": {},
   "outputs": [],
   "source": [
    "def fillHistogram(histogram,entries,errors):\n",
    "    for i in range(1,len(entries)+1):\n",
    "        histogram.SetBinContent(i,entries[i-1])\n",
    "        histogram.SetBinError(i,errors[i-1])\n",
    "\n",
    "\n",
    "file = r.TFile.Open(\"Output.root\",\"RECREATE\")\n",
    "histogram_mg = r.TH1D(\"MGsf\",\"Madgraph RW Factors\",5000,0.0,5000.0)\n",
    "histogram_sherpa = r.TH1D(\"Sherpasf\",\"Sherpa RW Factors\",5000,0.0,5000.0)\n",
    "histogram_mg=histogram_mg.Rebin(nb,\"MadGraph RW Factors\",rebining)\n",
    "histogram_sherpa=histogram_sherpa.Rebin(nb,\"Sherpa RW Factors\",rebining)\n",
    "\n",
    "fillHistogram(histogram_mg,)\n",
    "\n",
    "file.WriteObject(histogram_mg,\"MadgraphSF\")\n",
    "file.WriteObject(histogram_sherpa,\"SherpaSF\")\n",
    "\n",
    "file.Close()"
   ]
  },
  {
   "cell_type": "code",
   "execution_count": null,
   "metadata": {},
   "outputs": [],
   "source": [
    "len(scaling_factors_mg)"
   ]
  },
  {
   "cell_type": "code",
   "execution_count": null,
   "metadata": {},
   "outputs": [],
   "source": []
  }
 ],
 "metadata": {
  "kernelspec": {
   "display_name": "Python 3 (ipykernel)",
   "language": "python",
   "name": "python3"
  },
  "language_info": {
   "codemirror_mode": {
    "name": "ipython",
    "version": 3
   },
   "file_extension": ".py",
   "mimetype": "text/x-python",
   "name": "python",
   "nbconvert_exporter": "python",
   "pygments_lexer": "ipython3",
   "version": "3.10.5"
  },
  "vscode": {
   "interpreter": {
    "hash": "b0fa6594d8f4cbf19f97940f81e996739fb7646882a419484c72d19e05852a7e"
   }
  }
 },
 "nbformat": 4,
 "nbformat_minor": 4
}
