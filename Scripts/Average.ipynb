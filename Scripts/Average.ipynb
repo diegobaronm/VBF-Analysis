{
 "cells": [
  {
   "cell_type": "code",
   "execution_count": 33,
   "metadata": {},
   "outputs": [],
   "source": [
    "import ROOT\n",
    "from ROOT import gStyle\n",
    "import numpy as np\n",
    "import ctypes\n",
    "import os\n",
    "import pandas as pd\n",
    "\n",
    "def biner(edges,bin_widths,histogram):\n",
    "    if (len(edges)+1!=len(bin_widths)):\n",
    "        print(\"Check edges and bin widths array sizes!\")\n",
    "        return\n",
    "    \n",
    "    bins=[]\n",
    "    first_bin = histogram.GetXaxis().GetBinLowEdge(1)\n",
    "    last_bin = histogram.GetXaxis().GetBinUpEdge(histogram.GetNbinsX())\n",
    "    for i in range(0,len(edges)):\n",
    "        n_spaces = int((edges[i] - first_bin)/bin_widths[i])\n",
    "        bins = np.concatenate((bins,np.linspace(first_bin,edges[i],n_spaces,endpoint=False)))\n",
    "        first_bin = edges[i]\n",
    "        if edges[i]==edges[-1]:\n",
    "            n_spaces = int((last_bin - edges[i])/bin_widths[i+1])\n",
    "            bins = np.concatenate((bins,np.linspace(edges[i],last_bin,n_spaces,endpoint=False)))\n",
    "            bins = np.concatenate((bins,[last_bin]))\n",
    "    return bins\n",
    "\n",
    "def normalization(hist_list,norm_bin):\n",
    "    for hist in hist_list:\n",
    "        for i in range(1,hist.GetNbinsX()+1):\n",
    "            value=hist.GetBinContent(i)\n",
    "            error=hist.GetBinError(i)\n",
    "            sf=hist.GetBinWidth(i)/norm_bin\n",
    "            hist.SetBinContent(i,value/sf)\n",
    "            hist.SetBinError(i,error/sf)\n",
    "numpy.set_printoptions(threshold=sys.maxsize)\n",
    "\n",
    "\n",
    "\n",
    "def Unpack_Histo(histogram_file):\n",
    "    bin_content = []\n",
    "    bin_content_uncer =[]\n",
    "    for i in range(1,histogram_file.GetNbinsX()+1):\n",
    "        bin_content.append(histogram_file.GetBinContent(i))\n",
    "        bin_content_uncer.append(histogram_file.GetBinError(i))\n",
    "        \n",
    "    return np.array(bin_content),np.array(bin_content_uncer)\n",
    "\n",
    "############# CONFIGURING THE JOB ###########################\n",
    "samples_path = \"/home/diegol/HEP/VBF-Analysis/Zee/Plots/RecursiveFits/SR/\"\n",
    "sample1_name = \"Zee_SherpaRW\"\n",
    "sample2_name = \"Zee_MGRW\"\n",
    "\n",
    "qcd_1=1.0\n",
    "qcd_2=1.0\n",
    "\n",
    "fs_name = \"Zee\"\n",
    "\n",
    "histos_no_rebin={\n",
    "\"n_bjets\":[],\n",
    "\"lepiso\":[],\n",
    "\"n_jets_interval\":[],\n",
    "\"delta_R_leplep_basic_dphi_drap_btag_iso_pt1_pt2_j1pt_j2pt_ptbal_mjj_nji_zcen_mass_ptl\":[],\n",
    "\"delta_R_lep1jet_basic_dphi_drap_btag_iso_pt1_pt2_j1pt_j2pt_ptbal_mjj_nji_zcen_mass_ptl\":[],\n",
    "\"delta_R_lep2jet_basic_dphi_drap_btag_iso_pt1_pt2_j1pt_j2pt_ptbal_mjj_nji_zcen_mass_ptl\":[],    \n",
    "}\n",
    "histos_rebin={\n",
    "\"delta_phi\":[[2.0],[0.2,0.8],0.2],\n",
    "\"lep1_eta_basic_dphi_drap_btag_iso_pt1_pt2_j1pt_j2pt_ptbal_mjj_nji_zcen_mass_ptl\":[[0.1],[0.2,0.199],0.2],\n",
    "\"lep2_eta_basic_dphi_drap_btag_iso_pt1_pt2_j1pt_j2pt_ptbal_mjj_nji_zcen_mass_ptl\":[[0.1],[0.2,0.199],0.2],\n",
    "\"ljet0_eta_basic_cuts_ptl\":[[-3.0,3.0],[0.5,0.2,0.5],0.2],\n",
    "\"ljet1_eta_basic_cuts_ptl\":[[-3.0,3.0],[0.5,0.2,0.5],0.2],\n",
    "\"lep1_pt\":[[300],[20,50],20],\n",
    "\"lep2_pt\":[[300],[20,50],20],\n",
    "\"ljet0_pt\":[[85,460],[85,15,54],15],\n",
    "\"ljet1_pt\":[[80,440],[80,15,56],15],\n",
    "\"ljet2_pt_basic_cuts_ptl\":[[100],[20,50],20],\n",
    "\"pt_bal\":[[0.15,0.3],[0.03,0.05,0.7],0.15],\n",
    "\"Z_centrality\":[[0.5],[0.1,0.5],0.1],\n",
    "\"delta_y\":[[2.0,6.0],[1.0,0.5,1.0],1.0],\n",
    "\"inv_mass\":[[70,110,140],[10,5,10,20],5],\n",
    "\"mass_jj\":[[1500],[250,500],250],\n",
    "\"Z_pt_reco_basic_cuts_ptl\":[[300],[20,50],20],\n",
    "\"vec_sum_pt_jets_basic_cuts_ptl\":[[300],[20,50],20],\n",
    "\"ratio_zpt_sumjetpt_basic_cuts_ptl\":[[0.75,1.25],[0.25,0.1,0.25],0.1],\n",
    "\"met_basic_dphi_drap_btag_iso_pt1_pt2_j1pt_j2pt_ptbal_mjj_nji_zcen_mass_ptl\":[[50],[10,50],10],\n",
    "}\n",
    "total_histos ={**histos_no_rebin,**histos_rebin}"
   ]
  },
  {
   "cell_type": "code",
   "execution_count": 34,
   "metadata": {},
   "outputs": [
    {
     "data": {
      "text/plain": [
       "0"
      ]
     },
     "execution_count": 34,
     "metadata": {},
     "output_type": "execute_result"
    },
    {
     "name": "stderr",
     "output_type": "stream",
     "text": [
      "Warning in <TH1F::Rebin>: Bin edge 7 of rebinned histogram does not match any bin edges of the old histogram. Result can be inconsistent\n",
      "Warning in <TH1F::Rebin>: Bin edge 7 of rebinned histogram does not match any bin edges of the old histogram. Result can be inconsistent\n"
     ]
    }
   ],
   "source": [
    "r.TH1.AddDirectory(r.kFALSE)\n",
    "file1 = r.TFile.Open(samples_path+sample1_name+'.root')\n",
    "file2 = r.TFile.Open(samples_path+sample2_name+'.root')\n",
    "\n",
    "myFile =r.TFile.Open(fs_name+\"_Average.root\", \"RECREATE\")\n",
    "r.TH1.AddDirectory(r.kFALSE)    \n",
    "\n",
    "for histo in total_histos:\n",
    "\n",
    "    h1 = file1.Get(histo)\n",
    "    h2 = file2.Get(histo)\n",
    "    \n",
    "    if histo in histos_rebin:\n",
    "    \n",
    "        rebining=biner(total_histos[histo][0],total_histos[histo][1],h1)\n",
    "        nb=len(rebining)-1\n",
    "        h1=h1.Rebin(nb,histo,rebining)\n",
    "        h2=h2.Rebin(nb,histo,rebining)\n",
    "        \n",
    "        h1.Scale(qcd_1)\n",
    "        h2.Scale(qcd_2)\n",
    "\n",
    "        hist_list=[h1,h2]\n",
    "        normalization(hist_list,total_histos[histo][2])\n",
    "    \n",
    "    \n",
    "    final_hist = h1.Clone()\n",
    "    final_hist.Add(h2)\n",
    "    final_hist.Scale(0.5)\n",
    "\n",
    "    myFile.WriteObject(final_hist,histo)\n",
    "\n",
    "myFile.Close()\n",
    "\n",
    "os.system(\"mv \"+fs_name+\"_Average.root \"+samples_path+\"/\"+fs_name+\"_Average.root\")"
   ]
  },
  {
   "cell_type": "code",
   "execution_count": 25,
   "metadata": {},
   "outputs": [
    {
     "name": "stdout",
     "output_type": "stream",
     "text": [
      "[0.00000000e+00 0.00000000e+00 0.00000000e+00 0.00000000e+00\n",
      " 3.61306357e+00 1.81559181e+01 3.35912094e+01 4.88206291e+01\n",
      " 5.46771164e+01 4.77617989e+01 4.04087029e+01 4.09236145e+01\n",
      " 3.25116577e+01 2.91105213e+01 2.37594490e+01 1.90360851e+01\n",
      " 2.12926941e+01 1.49669847e+01 1.65707626e+01 1.35473185e+01\n",
      " 8.70192432e+00 9.95579052e+00 8.03633022e+00 5.93532133e+00\n",
      " 4.86358976e+00 4.23136234e+00 3.97852254e+00 2.35694408e+00\n",
      " 2.31049681e+00 2.14221525e+00 1.75707197e+00 2.23770905e+00\n",
      " 1.86860943e+00 2.40016317e+00 1.03567159e+00 8.33868861e-01\n",
      " 8.04032087e-01 7.08849490e-01 5.33422589e-01 5.09694874e-01\n",
      " 5.81120193e-01 3.96917284e-01 4.56649303e-01 2.56646663e-01\n",
      " 3.14318001e-01 1.82123277e-02 1.81234539e-01 9.43045765e-02\n",
      " 1.25293836e-01 1.53622717e-01 7.36540034e-02 1.58055425e-01\n",
      " 1.02223627e-01 3.75888683e-02 9.86025333e-02 2.45991163e-02\n",
      " 1.72666311e-02 2.15110909e-02 4.42183651e-02 8.87200050e-03]\n"
     ]
    }
   ],
   "source": [
    "\n",
    "print(content1)\n"
   ]
  },
  {
   "cell_type": "code",
   "execution_count": null,
   "metadata": {},
   "outputs": [],
   "source": []
  }
 ],
 "metadata": {
  "kernelspec": {
   "display_name": "Python 3 (ipykernel)",
   "language": "python",
   "name": "python3"
  },
  "language_info": {
   "codemirror_mode": {
    "name": "ipython",
    "version": 3
   },
   "file_extension": ".py",
   "mimetype": "text/x-python",
   "name": "python",
   "nbconvert_exporter": "python",
   "pygments_lexer": "ipython3",
   "version": "3.10.4"
  }
 },
 "nbformat": 4,
 "nbformat_minor": 4
}
