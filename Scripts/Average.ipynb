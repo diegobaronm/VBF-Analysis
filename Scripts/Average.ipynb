{
 "cells": [
  {
   "cell_type": "code",
   "execution_count": 23,
   "metadata": {},
   "outputs": [],
   "source": [
    "import ROOT as r\n",
    "import numpy as np \n",
    "import numpy\n",
    "import sys\n",
    "numpy.set_printoptions(threshold=sys.maxsize)\n",
    "def Unpack_Histo(histogram_file):\n",
    "    bin_content = []\n",
    "    bin_content_uncer =[]\n",
    "    for i in range(1,histogram_file.GetNbinsX()+1):\n",
    "        bin_content.append(histogram_file.GetBinContent(i))\n",
    "        bin_content_uncer.append(histogram_file.GetBinError(i))\n",
    "        \n",
    "    return np.array(bin_content),np.array(bin_content_uncer)\n",
    "\n",
    "############# CONFIGURING THE JOB ###########################\n",
    "samples_path = \"/home/diego/HEP/VBF/TauLep/\"\n",
    "sample1_name = \"Ztautau_Sherpa\"\n",
    "sample2_name = \"Ztautau_MG\"\n",
    "\n"
   ]
  },
  {
   "cell_type": "code",
   "execution_count": 24,
   "metadata": {},
   "outputs": [],
   "source": [
    "r.TH1.AddDirectory(r.kFALSE)\n",
    "file1 = r.TFile.Open(samples_path+sample1_name+'.root')\n",
    "file2 = r.TFile.Open(samples_path+sample2_name+'.root')\n",
    "\n",
    "myFile =r.TFile.Open(\"Average.root\", \"RECREATE\")\n",
    "\n",
    "histos1 = []\n",
    "histos2 = []\n",
    "\n",
    "for i in file1.GetListOfKeys():\n",
    "    histos1.append(str(i.GetName()))\n",
    "    \n",
    "for i in file2.GetListOfKeys():\n",
    "    histos2.append(str(i.GetName()))\n",
    "    \n",
    "    \n",
    "for histo in histos1 :\n",
    "    \n",
    "    if histo==\"mass_jj\":\n",
    "    \n",
    "        if histo in histos2:\n",
    "\n",
    "            bin_range = [(file1.Get(histo)).GetXaxis().GetXmin(),file1.Get(histo).GetXaxis().GetXmax()]\n",
    "\n",
    "            content1, uncer1 = Unpack_Histo(file1.Get(histo).Rebin(50))\n",
    "            content2, uncer2 = Unpack_Histo(file2.Get(histo).Rebin(50))\n",
    "\n",
    "            new_content = []\n",
    "            new_uncer = []\n",
    "\n",
    "            for i in range(0,len(content1)):\n",
    "                if content1[i]!=0 and content2[i]!=0:\n",
    "                    new_content.append((content1[i]/uncer1[i]**2+content2[i]/uncer2[i]**2)/(1/uncer1[i]**2+1/uncer2[i]**2))\n",
    "                    new_uncer.append(1/(1/uncer1[i]**2+1/uncer2[i]**2))\n",
    "                elif content1[i]!=0:\n",
    "                    new_content.append(content2[i])\n",
    "                    new_uncer.append(uncer2[i])\n",
    "                elif content2[i]!=0:\n",
    "                    new_content.append(content1[i])\n",
    "                    new_uncer.append(uncer1[i])\n",
    "                else :\n",
    "                    new_content.append(0.0)\n",
    "                    new_uncer.append(0.0)\n",
    "\n",
    "            r.TH1.AddDirectory(r.kFALSE)\n",
    "            final_hist = r.TH1F(histo,histo,len(new_content),bin_range[0],bin_range[1])\n",
    "\n",
    "            for i in range(1,final_hist.GetNbinsX()+1):\n",
    "\n",
    "                final_hist.SetBinContent(i,new_content[i-1])\n",
    "                final_hist.SetBinError(i,new_uncer[i-1])\n",
    "\n",
    "            myFile.WriteObject(final_hist,histo)\n",
    "\n",
    "myFile.Close()"
   ]
  },
  {
   "cell_type": "code",
   "execution_count": 25,
   "metadata": {},
   "outputs": [
    {
     "name": "stdout",
     "output_type": "stream",
     "text": [
      "[0.00000000e+00 0.00000000e+00 0.00000000e+00 0.00000000e+00\n",
      " 3.61306357e+00 1.81559181e+01 3.35912094e+01 4.88206291e+01\n",
      " 5.46771164e+01 4.77617989e+01 4.04087029e+01 4.09236145e+01\n",
      " 3.25116577e+01 2.91105213e+01 2.37594490e+01 1.90360851e+01\n",
      " 2.12926941e+01 1.49669847e+01 1.65707626e+01 1.35473185e+01\n",
      " 8.70192432e+00 9.95579052e+00 8.03633022e+00 5.93532133e+00\n",
      " 4.86358976e+00 4.23136234e+00 3.97852254e+00 2.35694408e+00\n",
      " 2.31049681e+00 2.14221525e+00 1.75707197e+00 2.23770905e+00\n",
      " 1.86860943e+00 2.40016317e+00 1.03567159e+00 8.33868861e-01\n",
      " 8.04032087e-01 7.08849490e-01 5.33422589e-01 5.09694874e-01\n",
      " 5.81120193e-01 3.96917284e-01 4.56649303e-01 2.56646663e-01\n",
      " 3.14318001e-01 1.82123277e-02 1.81234539e-01 9.43045765e-02\n",
      " 1.25293836e-01 1.53622717e-01 7.36540034e-02 1.58055425e-01\n",
      " 1.02223627e-01 3.75888683e-02 9.86025333e-02 2.45991163e-02\n",
      " 1.72666311e-02 2.15110909e-02 4.42183651e-02 8.87200050e-03]\n"
     ]
    }
   ],
   "source": [
    "\n",
    "print(content1)\n"
   ]
  },
  {
   "cell_type": "code",
   "execution_count": null,
   "metadata": {},
   "outputs": [],
   "source": []
  }
 ],
 "metadata": {
  "kernelspec": {
   "display_name": "Python 3",
   "language": "python",
   "name": "python3"
  },
  "language_info": {
   "codemirror_mode": {
    "name": "ipython",
    "version": 3
   },
   "file_extension": ".py",
   "mimetype": "text/x-python",
   "name": "python",
   "nbconvert_exporter": "python",
   "pygments_lexer": "ipython3",
   "version": "3.8.10"
  }
 },
 "nbformat": 4,
 "nbformat_minor": 4
}
