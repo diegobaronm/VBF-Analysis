{
 "cells": [
  {
   "cell_type": "markdown",
   "metadata": {},
   "source": [
    "# This generates a file containing the MJ background estimation from the ABCD method:\n",
    "## A/B = C/D \n",
    "Where,\n",
    "A = Signal Region (SR)\n",
    "B = Signal Region Same Sign (SR-SS)\n",
    "C = Control Region (CR)\n",
    "D = Control Region Same Sign (CR-SS)\n",
    "\n",
    "$$\\frac{\\text{SR}}{\\text{SR}_{\\text{SS}}} = \\frac{\\text{CR}}{\\text{CR}_{\\text{SS}}}$$\n",
    "\n",
    "\n",
    "$$ \\text{SR} = \\text{SR}_{\\text{SS}} \\text{RQCD} $$\n",
    "\n",
    "### Signal region path$\n",
    "### Multi jet control region path\n",
    "### Sample used for Z-QCDjets"
   ]
  },
  {
   "cell_type": "code",
   "execution_count": 12,
   "metadata": {
    "tags": []
   },
   "outputs": [
    {
     "name": "stdout",
     "output_type": "stream",
     "text": [
      "['MJ.root', 'Ztautau_MGNLORW.root', 'Ztautau_SherpaRW.root', 'Ztautau_MGRW.root', 'Zjets.root', 'Signal_Sherpa.root', 'W_EWK_PoPy.root', 'Ztautau_SherpaNLORW.root', 'Signal_PoPy.root', 'Data.root', 'MC.root', 'VV.root', 'Higgs.root', 'VV_EWK.root', 'W_EWK_Sherpa.root', 'ttbar.root', 'singletop.root']\n"
     ]
    }
   ],
   "source": [
    "import ROOT as r\n",
    "from ROOT import gStyle\n",
    "import numpy as np\n",
    "import ctypes\n",
    "import os\n",
    "from IPython.display import display \n",
    "import pandas as pd \n",
    "from histogramHelpers import *\n",
    "\n",
    "\n",
    "# Define the path to the channel and the directories for the regions.\n",
    "channelPath = \"/Users/user/Documents/HEP/VBF-Analysis/VBFAnalysisPlots/TauTau/TauhadTaulep/Higgs/\"\n",
    "SR = \"NewBDTCutSR/\"\n",
    "SRSS = \"NewBDTCutSRSS/\"\n",
    "CR = \"NonIsoOS/\"\n",
    "CRSS = \"NonIsoSS/\"\n",
    "\n",
    "# Select EWjj and QCDjj samples\n",
    "EWjj = \"Signal_Sherpa\"\n",
    "QCDjj = \"Ztautau_SherpaRW\"\n",
    "\n",
    "RQCDwithCRs = False\n",
    "\n",
    "# Remove previous MJ.root file\n",
    "samples=[i for i in os.listdir(channelPath+SR) if ('.root' in i and 'Wjets' not in i)]\n",
    "print(samples)\n",
    "if \"MJ.root\" in samples:\n",
    "    os.system(\"rm \"+channelPath+SR+\"MJ.root\")"
   ]
  },
  {
   "cell_type": "code",
   "execution_count": 13,
   "metadata": {
    "tags": []
   },
   "outputs": [],
   "source": [
    "import sys\n",
    "sys.path.append('/Users/user/Documents/HEP/VBF-Analysis/Scripts/')\n",
    "from histogramHelpers import tautauHighMassHistograms,tautauHighMassMJHistograms,emuHighMassHistograms,tautauZpeakHistograms,tautauHiggsBDTHistograms,tautauHiggsHistograms\n",
    "histos = tautauHiggsBDTHistograms"
   ]
  },
  {
   "cell_type": "code",
   "execution_count": 14,
   "metadata": {
    "tags": []
   },
   "outputs": [
    {
     "name": "stdout",
     "output_type": "stream",
     "text": [
      "Using the following samples to perform the data subtraction: \n",
      " ['Signal_Sherpa', 'Ztautau_SherpaRW', 'VV', 'ttbar', 'singletop', 'Higgs', 'Zjets', 'W_EWK_Sherpa', 'VV_EWK']\n",
      "MJ =  2.153170108795166  +-  2.029197464297333\n"
     ]
    }
   ],
   "source": [
    "mcSamples = [EWjj,QCDjj]\n",
    "backgroundSamples = ['VV',\"ttbar\",'singletop']#+['Wjets',]\n",
    "if (\"Tau\" in channelPath) or (\"MuEle\" in channelPath):\n",
    "    backgroundSamples += ['Higgs','Zjets','W_EWK_Sherpa','VV_EWK']\n",
    "mcSamples += backgroundSamples\n",
    "\n",
    "# Open target file\n",
    "multiJetFile =r.TFile.Open(channelPath+SR+\"MJ.root\", \"RECREATE\")\n",
    "\n",
    "print('Using the following samples to perform the data subtraction: \\n',mcSamples)\n",
    "\n",
    "# First evaluate if there is evidence for MJ BG.\n",
    "totalMJisZero = False\n",
    "nGapJetsHistogram = dataSubtract(\"n_jets_interval\",channelPath+SRSS,\"Data\",mcSamples,histos,rebin=False)\n",
    "totalMJ = nGapJetsHistogram.GetBinContent(1)\n",
    "totalMJUncertainty = nGapJetsHistogram.GetBinError(1)\n",
    "if (totalMJ < 0.0) or (totalMJ/totalMJUncertainty < 1.0 ):\n",
    "    totalMJisZero = True\n",
    "    print(\"NO MJ EVIDENCE!\")\n",
    "print(\"MJ = \",totalMJ,\" +- \",totalMJUncertainty)\n",
    "\n",
    "if totalMJ < 0.0:\n",
    "    totalMJ = 0.0\n",
    "    "
   ]
  },
  {
   "cell_type": "code",
   "execution_count": 15,
   "metadata": {
    "tags": []
   },
   "outputs": [
    {
     "name": "stdout",
     "output_type": "stream",
     "text": [
      "n_bjets False\n",
      "lepiso False\n",
      "n_jets_interval False\n",
      "flavourJet1_basic_all False\n",
      "flavourJet2_basic_all False\n",
      "elecPdgID_basic_all False\n",
      "muonPdgID_basic_all False\n",
      "tauPdgID_basic_all False\n",
      "nLightJets_basic_all False\n",
      "tau_pt True\n",
      "lep_pt True\n",
      "delta_phi True\n",
      "delta_y True\n",
      "omega True\n",
      "rnn_score_1p True\n",
      "rnn_score_3p True\n",
      "ljet0_pt True\n",
      "ljet1_pt True\n",
      "pt_bal True\n",
      "Z_centrality True\n",
      "mass_jj True\n",
      "reco_mass_i True\n",
      "reco_mass_o True\n",
      "reco_mass_ True\n",
      "Z_pt_reco_i_basic_all True\n",
      "Z_pt_reco_o_basic_all True\n",
      "ratio_zpt_sumjetpt_basic_all True\n",
      "vec_sum_pt_jets_basic_all True\n",
      "moreCentralJet_basic_all True\n",
      "lessCentralJet_basic_all True\n",
      "delta_phijj_basic_all True\n",
      "massTauClosestJet_basic_all True\n",
      "massLepClosestJet_basic_all True\n",
      "massTauFurthestJet_basic_all True\n",
      "nuTauPt True\n",
      "nuPtAssummetry_basic_all True\n",
      "bdtScore True\n",
      "lepNuPt True\n",
      "pTsymmetry True\n",
      "lepTransMass True\n",
      "tauTransMass_basic_all True\n",
      "signedCentrality_basic_all True\n",
      "visibleMass_basic_all True\n",
      "recoVisibleMassRatio True\n"
     ]
    },
    {
     "name": "stderr",
     "output_type": "stream",
     "text": [
      "Warning in <TH1F::Rebin>: Bin edge 2 of rebinned histogram does not match any bin edges of the old histogram. Result can be inconsistent\n",
      "Warning in <TH1F::Rebin>: Bin edge 3 of rebinned histogram does not match any bin edges of the old histogram. Result can be inconsistent\n",
      "Warning in <TH1F::Rebin>: Bin edge 5 of rebinned histogram does not match any bin edges of the old histogram. Result can be inconsistent\n",
      "Warning in <TH1F::Rebin>: Bin edge 6 of rebinned histogram does not match any bin edges of the old histogram. Result can be inconsistent\n",
      "Warning in <TH1F::Rebin>: Bin edge 2 of rebinned histogram does not match any bin edges of the old histogram. Result can be inconsistent\n",
      "Warning in <TH1F::Rebin>: Bin edge 3 of rebinned histogram does not match any bin edges of the old histogram. Result can be inconsistent\n",
      "Warning in <TH1F::Rebin>: Bin edge 5 of rebinned histogram does not match any bin edges of the old histogram. Result can be inconsistent\n",
      "Warning in <TH1F::Rebin>: Bin edge 6 of rebinned histogram does not match any bin edges of the old histogram. Result can be inconsistent\n",
      "Warning in <TH1F::Rebin>: Bin edge 2 of rebinned histogram does not match any bin edges of the old histogram. Result can be inconsistent\n",
      "Warning in <TH1F::Rebin>: Bin edge 3 of rebinned histogram does not match any bin edges of the old histogram. Result can be inconsistent\n",
      "Warning in <TH1F::Rebin>: Bin edge 5 of rebinned histogram does not match any bin edges of the old histogram. Result can be inconsistent\n",
      "Warning in <TH1F::Rebin>: Bin edge 6 of rebinned histogram does not match any bin edges of the old histogram. Result can be inconsistent\n",
      "Warning in <TH1F::Rebin>: Bin edge 2 of rebinned histogram does not match any bin edges of the old histogram. Result can be inconsistent\n",
      "Warning in <TH1F::Rebin>: Bin edge 3 of rebinned histogram does not match any bin edges of the old histogram. Result can be inconsistent\n",
      "Warning in <TH1F::Rebin>: Bin edge 5 of rebinned histogram does not match any bin edges of the old histogram. Result can be inconsistent\n",
      "Warning in <TH1F::Rebin>: Bin edge 6 of rebinned histogram does not match any bin edges of the old histogram. Result can be inconsistent\n",
      "Warning in <TH1F::Rebin>: Bin edge 2 of rebinned histogram does not match any bin edges of the old histogram. Result can be inconsistent\n",
      "Warning in <TH1F::Rebin>: Bin edge 3 of rebinned histogram does not match any bin edges of the old histogram. Result can be inconsistent\n",
      "Warning in <TH1F::Rebin>: Bin edge 5 of rebinned histogram does not match any bin edges of the old histogram. Result can be inconsistent\n",
      "Warning in <TH1F::Rebin>: Bin edge 6 of rebinned histogram does not match any bin edges of the old histogram. Result can be inconsistent\n",
      "Warning in <TH1F::Rebin>: Bin edge 2 of rebinned histogram does not match any bin edges of the old histogram. Result can be inconsistent\n",
      "Warning in <TH1F::Rebin>: Bin edge 3 of rebinned histogram does not match any bin edges of the old histogram. Result can be inconsistent\n",
      "Warning in <TH1F::Rebin>: Bin edge 5 of rebinned histogram does not match any bin edges of the old histogram. Result can be inconsistent\n",
      "Warning in <TH1F::Rebin>: Bin edge 6 of rebinned histogram does not match any bin edges of the old histogram. Result can be inconsistent\n",
      "Warning in <TH1F::Rebin>: Bin edge 2 of rebinned histogram does not match any bin edges of the old histogram. Result can be inconsistent\n",
      "Warning in <TH1F::Rebin>: Bin edge 3 of rebinned histogram does not match any bin edges of the old histogram. Result can be inconsistent\n",
      "Warning in <TH1F::Rebin>: Bin edge 5 of rebinned histogram does not match any bin edges of the old histogram. Result can be inconsistent\n",
      "Warning in <TH1F::Rebin>: Bin edge 6 of rebinned histogram does not match any bin edges of the old histogram. Result can be inconsistent\n",
      "Warning in <TH1F::Rebin>: Bin edge 2 of rebinned histogram does not match any bin edges of the old histogram. Result can be inconsistent\n",
      "Warning in <TH1F::Rebin>: Bin edge 3 of rebinned histogram does not match any bin edges of the old histogram. Result can be inconsistent\n",
      "Warning in <TH1F::Rebin>: Bin edge 5 of rebinned histogram does not match any bin edges of the old histogram. Result can be inconsistent\n",
      "Warning in <TH1F::Rebin>: Bin edge 6 of rebinned histogram does not match any bin edges of the old histogram. Result can be inconsistent\n",
      "Warning in <TH1F::Rebin>: Bin edge 2 of rebinned histogram does not match any bin edges of the old histogram. Result can be inconsistent\n",
      "Warning in <TH1F::Rebin>: Bin edge 3 of rebinned histogram does not match any bin edges of the old histogram. Result can be inconsistent\n",
      "Warning in <TH1F::Rebin>: Bin edge 5 of rebinned histogram does not match any bin edges of the old histogram. Result can be inconsistent\n",
      "Warning in <TH1F::Rebin>: Bin edge 6 of rebinned histogram does not match any bin edges of the old histogram. Result can be inconsistent\n",
      "Warning in <TH1F::Rebin>: Bin edge 2 of rebinned histogram does not match any bin edges of the old histogram. Result can be inconsistent\n",
      "Warning in <TH1F::Rebin>: Bin edge 3 of rebinned histogram does not match any bin edges of the old histogram. Result can be inconsistent\n",
      "Warning in <TH1F::Rebin>: Bin edge 5 of rebinned histogram does not match any bin edges of the old histogram. Result can be inconsistent\n",
      "Warning in <TH1F::Rebin>: Bin edge 6 of rebinned histogram does not match any bin edges of the old histogram. Result can be inconsistent\n"
     ]
    }
   ],
   "source": [
    "for hist in histos:\n",
    "    # Determine if histogram needs to be rebined\n",
    "    rebinHistogram = hist.needsRebin()\n",
    "    \n",
    "    print(hist.m_name,rebinHistogram)\n",
    "    \n",
    "    # Calculate RQCD in MJCRs\n",
    "    if RQCDwithCRs:\n",
    "        # Calculate RQCD\n",
    "        dataSubtractedHistoCR = dataSubtract(hist.m_name,channelPath+CR,\"Data\",mcSamples,hist,rebin=rebinHistogram)\n",
    "        dataSubtractedHistoCRSS = dataSubtract(hist.m_name,channelPath+CRSS,\"Data\",mcSamples,hist,rebin=rebinHistogram)\n",
    "        makeNegativeBinsZero(dataSubtractedHistoCR)\n",
    "        makeNegativeBinsZero(dataSubtractedHistoCRSS)\n",
    "        RQCD = dataSubtractedHistoCR.Integral(1,-1)/dataSubtractedHistoCRSS.Integral(1,-1)\n",
    "    # If not, use input value\n",
    "    else:\n",
    "        RQCD = 1.2\n",
    "        UncerRQCD = 1.2*0.25\n",
    "    \n",
    "    # Calculate the MJ Background shape\n",
    "    dataSubtractedHistoSRSS = dataSubtract(hist.m_name,channelPath+SRSS,\"Data\",mcSamples,hist,rebin=rebinHistogram)\n",
    "    dataSubtractedHistoSRSS.Scale(RQCD)\n",
    "    makeNegativeBinsZero(dataSubtractedHistoSRSS)\n",
    "    MJ = dataSubtractedHistoSRSS.Clone()\n",
    "    \n",
    "    # If no MJ Evidence fix the bins that are in the final selection\n",
    "    if totalMJisZero:\n",
    "        SRhisto = mcAdd(hist.m_name,channelPath+SR,backgroundSamples,hist,rebin=rebinHistogram)\n",
    "        cutLeft = hist.m_leftCut\n",
    "        cutRight = hist.m_rightCut\n",
    "        makeSRBinsConsistentWithNOMJ(MJ,cutLeft,cutRight,totalMJ,totalMJUncertainty,SRhisto)\n",
    "        \n",
    "    # Take into account the uncertainty in RQCD\n",
    "    scaleUncertainty(MJ,UncerRQCD/RQCD)\n",
    "    \n",
    "    # Save histogram in MJ.root file\n",
    "    multiJetFile.WriteObject(MJ,hist.m_name)\n",
    "    \n",
    "    \n",
    "multiJetFile.Close()"
   ]
  },
  {
   "cell_type": "code",
   "execution_count": 22,
   "metadata": {
    "tags": []
   },
   "outputs": [
    {
     "name": "stdout",
     "output_type": "stream",
     "text": [
      "OS:  94.53706323355436\n",
      "SS:  88.52085138997063\n",
      "OS E:  19.725730909960834\n",
      "SS E:  10.652698160888127\n",
      "1.0679637819690624  +-  0.43233208949062885\n"
     ]
    }
   ],
   "source": [
    "from ctypes import *\n",
    "osE = c_double(0.0)\n",
    "ssE = c_double(0.0)\n",
    "osHisto = dataSubtract(\"mass_jj\",\"/Users/diegomac/Documents/HEP/VBF-Analysis/TauTau/TauhadTaulep/Z-Peak/MJCROS/\",\"Data\",mcSamples,histos,rebin=True)\n",
    "ssHisto = dataSubtract(\"mass_jj\",\"/Users/diegomac/Documents/HEP/VBF-Analysis/TauTau/TauhadTaulep/Z-Peak/MJCRSS/\",\"Data\",mcSamples,histos,rebin=True)\n",
    "osIntegral = osHisto.IntegralAndError(1,-1,osE)\n",
    "ssIntegral = ssHisto.IntegralAndError(1,-1,ssE)\n",
    "\n",
    "print(\"OS: \",osIntegral)\n",
    "print(\"SS: \",ssIntegral)\n",
    "\n",
    "osE = osE.value\n",
    "ssE = ssE.value\n",
    "\n",
    "print(\"OS E: \",osE)\n",
    "print(\"SS E: \",ssE)\n",
    "print(osIntegral/ssIntegral,\" +- \",osIntegral/ssIntegral*np.sqrt((osE/osIntegral)**2+(ssE/ssIntegral)))"
   ]
  },
  {
   "cell_type": "code",
   "execution_count": null,
   "metadata": {},
   "outputs": [],
   "source": []
  }
 ],
 "metadata": {
  "kernelspec": {
   "display_name": "Python 3 (ipykernel)",
   "language": "python",
   "name": "python3"
  },
  "language_info": {
   "codemirror_mode": {
    "name": "ipython",
    "version": 3
   },
   "file_extension": ".py",
   "mimetype": "text/x-python",
   "name": "python",
   "nbconvert_exporter": "python",
   "pygments_lexer": "ipython3",
   "version": "3.12.0"
  }
 },
 "nbformat": 4,
 "nbformat_minor": 4
}
