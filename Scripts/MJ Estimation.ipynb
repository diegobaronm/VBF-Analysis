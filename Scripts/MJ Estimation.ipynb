{
 "cells": [
  {
   "cell_type": "code",
   "execution_count": null,
   "metadata": {},
   "outputs": [],
   "source": []
  },
  {
   "cell_type": "markdown",
   "metadata": {},
   "source": [
    "# This generates a file containing the MJ background estimation from the ABCD method:\n",
    "## A/B = C/D \n",
    "Where,\n",
    "A = Signal Region (SR)\n",
    "B = Signal Region Same Sign (SR-SS)\n",
    "C = Control Region (CR)\n",
    "D = Control Region Same Sign (CR-SS)\n",
    "\n",
    "$$\\frac{\\text{SR}}{\\text{SR}_{\\text{SS}}} = \\frac{\\text{CR}}{\\text{CR}_{\\text{SS}}}$$\n",
    "\n",
    "\n",
    "$$ \\text{SR} = \\text{SR}_{\\text{SS}} \\text{RQCD} $$\n",
    "\n",
    "### Signal region path$\n",
    "### Multi jet control region path\n",
    "### Sample used for Z-QCDjets"
   ]
  },
  {
   "cell_type": "code",
   "execution_count": 1,
   "metadata": {
    "tags": []
   },
   "outputs": [
    {
     "name": "stdout",
     "output_type": "stream",
     "text": [
      "Welcome to JupyROOT 6.26/10\n",
      "['MJ.root', 'Zll_MG.root', 'Wjets.root', 'Signal_Sherpa.root', 'Signal_PoPy.root', 'BG.root', 'Zll_MGRW.root', 'Data.root', 'MC.root', 'VV.root', 'Zll_Sherpa.root', 'Zll_SherpaRW.root', 'ttbar.root', 'singletop.root']\n"
     ]
    }
   ],
   "source": [
    "import ROOT as r\n",
    "from ROOT import gStyle\n",
    "import numpy as np\n",
    "import ctypes\n",
    "import os\n",
    "from IPython.display import display \n",
    "import pandas as pd \n",
    "from histogramHelpers import *\n",
    "\n",
    "\n",
    "# Define the path to the channel and the directories for the regions.\n",
    "channelPath = \"/Users/diegomac/Documents/HEP/VBF-Analysis/Zll/High-Mass/\"\n",
    "SR = \"SR/\"\n",
    "SRSS = \"SR-MJ/\"\n",
    "CR = \"SuperCR/\"\n",
    "CRSS = \"SuperCR-MJ/\"\n",
    "\n",
    "# Select EWjj and QCDjj samples\n",
    "EWjj = \"Signal_Sherpa\"\n",
    "QCDjj = \"Zll_SherpaRW\"\n",
    "\n",
    "# Remove previous MJ.root file\n",
    "samples=[i for i in os.listdir(channelPath+SR) if '.root' in i]\n",
    "print(samples)\n",
    "if \"MJ.root\" in samples:\n",
    "    os.system(\"rm \"+channelPath+SR+\"MJ.root\")"
   ]
  },
  {
   "cell_type": "code",
   "execution_count": 2,
   "metadata": {
    "tags": []
   },
   "outputs": [],
   "source": [
    "histos_no_rebin={\n",
    "\"n_bjets\":['n b-jets'],\n",
    "\"lepiso\":['Lepton Isolation'],\n",
    "\"n_jets_interval\":['N jets gap'],\n",
    "\"delta_R_leplep_basic_dphi_drap_btag_iso_pt1_pt2_j1pt_j2pt_ptbal_mjj_nji_zcen_mass_ptl\":['#DeltaR(#mu_{1},#mu_{2})'],\n",
    "\"delta_R_lep1jet_basic_dphi_drap_btag_iso_pt1_pt2_j1pt_j2pt_ptbal_mjj_nji_zcen_mass_ptl\":['#DeltaR(#mu_{1},j)'],\n",
    "\"delta_R_lep2jet_basic_dphi_drap_btag_iso_pt1_pt2_j1pt_j2pt_ptbal_mjj_nji_zcen_mass_ptl\":['#DeltaR(#mu_{2},j)'],    \n",
    "}\n",
    "\n",
    "histos_rebin={\n",
    "\"delta_phi\":[[2.0],[0.2,0.8],0.2,'#Delta#phi(#mu_{1},#mu_{2})'],\n",
    "\"lep1_eta_basic_dphi_drap_btag_iso_pt1_pt2_j1pt_j2pt_ptbal_mjj_nji_zcen_mass_ptl\":[[0.1],[0.2,0.199],0.2,'#eta(#mu_{1})'],\n",
    "\"lep2_eta_basic_dphi_drap_btag_iso_pt1_pt2_j1pt_j2pt_ptbal_mjj_nji_zcen_mass_ptl\":[[0.1],[0.2,0.199],0.2,'#eta(#mu_{2})'],\n",
    "\"ljet0_eta_basic_cuts_ptl\":[[-3.0,3.0],[0.5,0.2,0.5],0.2,'#eta(j_{1})'],\n",
    "\"ljet1_eta_basic_cuts_ptl\":[[-3.0,3.0],[0.5,0.2,0.5],0.2,'#eta(j_{2})'],  \n",
    "\"lep1_pt\":[[100,200,300],[20,50,100,350],20,'pT(#mu_{1})'],\n",
    "\"lep2_pt\":[[100,200,300],[20,50,100,350],20,'pT(#mu_{2})'],\n",
    "\"ljet0_pt\":[[75,460],[15,35,54],15,'pT(j_{1})'],\n",
    "\"ljet1_pt\":[[70,440],[10,37,56],10,'pT(j_{2})'],\n",
    "\"ljet2_pt_basic_cuts_ptl\":[[100],[20,50],20,'pT(j_{2})'],\n",
    "\"pt_bal\":[[0.15,0.3],[0.03,0.05,0.7],0.15,'pT balance'],\n",
    "\"Z_centrality\":[[0.5],[0.1,0.5],0.1,'#xi(Z)'],\n",
    "\"delta_y\":[[2.0,6.0],[1.0,0.5,1.0],1.0,'#Deltay_{jj}'],\n",
    "\"inv_mass\":[[70,110,140,300],[70,5,10,80,700],5,'m_{#mu#mu}'],\n",
    "\"mass_jj\":[[1500],[250,500],250,'m_{jj}'],\n",
    "\"Z_pt_reco_basic_cuts_ptl\":[[300,600],[20,50,200],20,'pT(Z)'],\n",
    "\"vec_sum_pt_jets_basic_cuts_ptl\":[[300],[20,50],20],\n",
    "\"ratio_zpt_sumjetpt_basic_cuts_ptl\":[[0.75,1.25],[0.25,0.1,0.25],0.1],\n",
    "\"met_basic_dphi_drap_btag_iso_pt1_pt2_j1pt_j2pt_ptbal_mjj_nji_zcen_mass_ptl\":[[50],[10,50],10,'MET'],\n",
    "}\n",
    "\n",
    "histos={}\n",
    "histos.update(histos_no_rebin)\n",
    "histos.update(histos_rebin)\n"
   ]
  },
  {
   "cell_type": "code",
   "execution_count": 3,
   "metadata": {
    "tags": []
   },
   "outputs": [
    {
     "name": "stdout",
     "output_type": "stream",
     "text": [
      "n_bjets False\n",
      "33.0\n",
      "lepiso False\n",
      "27.35\n",
      "n_jets_interval False\n",
      "27.894736842105264\n",
      "delta_R_leplep_basic_dphi_drap_btag_iso_pt1_pt2_j1pt_j2pt_ptbal_mjj_nji_zcen_mass_ptl False\n",
      "27.894736842105264\n",
      "delta_R_lep1jet_basic_dphi_drap_btag_iso_pt1_pt2_j1pt_j2pt_ptbal_mjj_nji_zcen_mass_ptl False\n",
      "27.894736842105264\n",
      "delta_R_lep2jet_basic_dphi_drap_btag_iso_pt1_pt2_j1pt_j2pt_ptbal_mjj_nji_zcen_mass_ptl False\n",
      "27.894736842105264\n",
      "delta_phi True\n",
      "5.018791171952558\n",
      "lep1_eta_basic_dphi_drap_btag_iso_pt1_pt2_j1pt_j2pt_ptbal_mjj_nji_zcen_mass_ptl True\n",
      "5.018792332723967\n",
      "lep2_eta_basic_dphi_drap_btag_iso_pt1_pt2_j1pt_j2pt_ptbal_mjj_nji_zcen_mass_ptl True\n",
      "5.0187914394045405\n",
      "ljet0_eta_basic_cuts_ptl True\n",
      "5.018793228717907\n",
      "ljet1_eta_basic_cuts_ptl True\n",
      "5.018792771257084\n",
      "lep1_pt True\n",
      "4.549449689968882\n",
      "lep2_pt True\n",
      "4.403982168761198\n",
      "ljet0_pt True\n",
      "4.944370612223076\n",
      "ljet1_pt True\n",
      "13.28071469374509\n",
      "ljet2_pt_basic_cuts_ptl True\n",
      "5.018791749014247\n",
      "pt_bal True\n",
      "2.1086690472982217\n",
      "Z_centrality True\n",
      "2.1909320846621765\n",
      "delta_y True\n",
      "4.949675817148778\n",
      "inv_mass True\n",
      "14.334228741572376\n",
      "mass_jj True\n",
      "3.5051195825401025\n",
      "Z_pt_reco_basic_cuts_ptl True\n",
      "5.0187921570172636\n",
      "vec_sum_pt_jets_basic_cuts_ptl True\n",
      "5.018792138793156\n",
      "ratio_zpt_sumjetpt_basic_cuts_ptl True\n",
      "5.01879279716177\n",
      "met_basic_dphi_drap_btag_iso_pt1_pt2_j1pt_j2pt_ptbal_mjj_nji_zcen_mass_ptl True\n",
      "5.018792292511818\n"
     ]
    },
    {
     "name": "stderr",
     "output_type": "stream",
     "text": [
      "Warning in <TH1F::Rebin>: Bin edge 7 of rebinned histogram does not match any bin edges of the old histogram. Result can be inconsistent\n",
      "Warning in <TH1F::Rebin>: Bin edge 7 of rebinned histogram does not match any bin edges of the old histogram. Result can be inconsistent\n",
      "Warning in <TH1F::Rebin>: Bin edge 7 of rebinned histogram does not match any bin edges of the old histogram. Result can be inconsistent\n",
      "Warning in <TH1F::Rebin>: Bin edge 7 of rebinned histogram does not match any bin edges of the old histogram. Result can be inconsistent\n",
      "Warning in <TH1F::Rebin>: Bin edge 7 of rebinned histogram does not match any bin edges of the old histogram. Result can be inconsistent\n",
      "Warning in <TH1F::Rebin>: Bin edge 7 of rebinned histogram does not match any bin edges of the old histogram. Result can be inconsistent\n",
      "Warning in <TH1F::Rebin>: Bin edge 7 of rebinned histogram does not match any bin edges of the old histogram. Result can be inconsistent\n",
      "Warning in <TH1F::Rebin>: Bin edge 7 of rebinned histogram does not match any bin edges of the old histogram. Result can be inconsistent\n",
      "Warning in <TH1F::Rebin>: Bin edge 7 of rebinned histogram does not match any bin edges of the old histogram. Result can be inconsistent\n",
      "Warning in <TH1F::Rebin>: Bin edge 7 of rebinned histogram does not match any bin edges of the old histogram. Result can be inconsistent\n",
      "Warning in <TH1F::Rebin>: Bin edge 7 of rebinned histogram does not match any bin edges of the old histogram. Result can be inconsistent\n",
      "Warning in <TH1F::Rebin>: Bin edge 7 of rebinned histogram does not match any bin edges of the old histogram. Result can be inconsistent\n",
      "Warning in <TH1F::Rebin>: Bin edge 7 of rebinned histogram does not match any bin edges of the old histogram. Result can be inconsistent\n",
      "Warning in <TH1F::Rebin>: Bin edge 7 of rebinned histogram does not match any bin edges of the old histogram. Result can be inconsistent\n",
      "Warning in <TH1F::Rebin>: Bin edge 7 of rebinned histogram does not match any bin edges of the old histogram. Result can be inconsistent\n",
      "Warning in <TH1F::Rebin>: Bin edge 7 of rebinned histogram does not match any bin edges of the old histogram. Result can be inconsistent\n",
      "Warning in <TH1F::Rebin>: Bin edge 7 of rebinned histogram does not match any bin edges of the old histogram. Result can be inconsistent\n",
      "Warning in <TH1F::Rebin>: Bin edge 7 of rebinned histogram does not match any bin edges of the old histogram. Result can be inconsistent\n",
      "Warning in <TH1F::Rebin>: Bin edge 7 of rebinned histogram does not match any bin edges of the old histogram. Result can be inconsistent\n",
      "Warning in <TH1F::Rebin>: Bin edge 7 of rebinned histogram does not match any bin edges of the old histogram. Result can be inconsistent\n",
      "Warning in <TH1F::Rebin>: Bin edge 7 of rebinned histogram does not match any bin edges of the old histogram. Result can be inconsistent\n"
     ]
    }
   ],
   "source": [
    "mcSamples = [EWjj,QCDjj]\n",
    "backgroundSamples = ['Wjets','VV',\"ttbar\",'singletop']\n",
    "if \"Tau\" in channelPath:\n",
    "    backgroundSamples += ['Higgs','Zjets']\n",
    "mcSamples += backgroundSamples\n",
    "\n",
    "# Open target file\n",
    "multiJetFile =r.TFile.Open(channelPath+SR+\"MJ.root\", \"RECREATE\")\n",
    "\n",
    "for histoName in histos:\n",
    "    # Determine if histogram needs to be rebined\n",
    "    rebinHistogram = False\n",
    "    if len(histos[histoName])>2:\n",
    "        rebinHistogram = True\n",
    "    \n",
    "    print(histoName,rebinHistogram)\n",
    "    \n",
    "    # Calculate RQCD\n",
    "    dataSubtractedHistoCR = dataSubtract(histoName,channelPath+CR,\"Data\",mcSamples,histos,rebin=rebinHistogram)\n",
    "    dataSubtractedHistoCRSS = dataSubtract(histoName,channelPath+CRSS,\"Data\",mcSamples,histos,rebin=rebinHistogram)\n",
    "    RQCD = dataSubtractedHistoCR.Integral(1,-1)/dataSubtractedHistoCRSS.Integral(1,-1)\n",
    "    \n",
    "    print(RQCD)\n",
    "    \n",
    "    # Calculate the MJ Background shape\n",
    "    dataSubtractedHistoSRSS = dataSubtract(histoName,channelPath+SRSS,\"Data\",mcSamples,histos,rebin=rebinHistogram)\n",
    "    dataSubtractedHistoSRSS.Scale(RQCD)\n",
    "    MJ = dataSubtractedHistoSRSS.Clone()\n",
    "    \n",
    "    # Save histogram in MJ.root file\n",
    "    multiJetFile.WriteObject(MJ,histoName)\n",
    "    \n",
    "multiJetFile.Close()\n",
    "    "
   ]
  },
  {
   "cell_type": "code",
   "execution_count": null,
   "metadata": {},
   "outputs": [],
   "source": []
  }
 ],
 "metadata": {
  "kernelspec": {
   "display_name": "Python 3 (ipykernel)",
   "language": "python",
   "name": "python3"
  },
  "language_info": {
   "codemirror_mode": {
    "name": "ipython",
    "version": 3
   },
   "file_extension": ".py",
   "mimetype": "text/x-python",
   "name": "python",
   "nbconvert_exporter": "python",
   "pygments_lexer": "ipython3",
   "version": "3.10.5"
  }
 },
 "nbformat": 4,
 "nbformat_minor": 4
}
