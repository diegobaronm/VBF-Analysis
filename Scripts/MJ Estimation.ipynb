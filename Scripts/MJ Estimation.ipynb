{
 "cells": [
  {
   "cell_type": "markdown",
   "metadata": {},
   "source": [
    "# This generates a file containing the MJ background estimation from the ABCD method:\n",
    "## A/B = C/D \n",
    "Where,\n",
    "A = Signal Region (SR)\n",
    "B = Signal Region Same Sign (SR-SS)\n",
    "C = Control Region (CR)\n",
    "D = Control Region Same Sign (CR-SS)\n",
    "\n",
    "$$\\frac{\\text{SR}}{\\text{SR}_{\\text{SS}}} = \\frac{\\text{CR}}{\\text{CR}_{\\text{SS}}}$$\n",
    "\n",
    "\n",
    "$$ \\text{SR} = \\text{SR}_{\\text{SS}} \\text{RQCD} $$\n",
    "\n",
    "### Signal region path$\n",
    "### Multi jet control region path\n",
    "### Sample used for Z-QCDjets"
   ]
  },
  {
   "cell_type": "code",
   "execution_count": 9,
   "metadata": {
    "tags": []
   },
   "outputs": [
    {
     "name": "stdout",
     "output_type": "stream",
     "text": [
      "['MJ.root', 'Ztautau_MGNLORW.root', 'Ztautau_SherpaRW.root', 'Ztautau_MGRW.root', 'Zjets.root', 'Signal_Sherpa.root', 'W_EWK_PoPy.root', 'Ztautau_SherpaNLORW.root', 'Signal_PoPy.root', 'Data.root', 'MC.root', 'VV.root', 'Higgs.root', 'VV_EWK.root', 'W_EWK_Sherpa.root', 'ttbar.root', 'singletop.root']\n"
     ]
    }
   ],
   "source": [
    "import ROOT as r\n",
    "from ROOT import gStyle\n",
    "import numpy as np\n",
    "import ctypes\n",
    "import os\n",
    "from IPython.display import display \n",
    "import pandas as pd \n",
    "from histogramHelpers import *\n",
    "\n",
    "\n",
    "# Define the path to the channel and the directories for the regions.\n",
    "channelPath = \"/Users/diegomac/Documents/HEP/VBF-Analysis/TauTau/TauhadTaulep/High-Mass/\"\n",
    "SR = \"mTmrecoRatioMVAOS/\"\n",
    "SRSS = \"mTmrecoRatioMVASS/\"\n",
    "CR = \"NonIsoOS/\"\n",
    "CRSS = \"NonIsoSS/\"\n",
    "\n",
    "# Select EWjj and QCDjj samples\n",
    "EWjj = \"Signal_Sherpa\"\n",
    "QCDjj = \"Ztautau_SherpaRW\"\n",
    "\n",
    "RQCDwithCRs = False\n",
    "\n",
    "# Remove previous MJ.root file\n",
    "samples=[i for i in os.listdir(channelPath+SR) if ('.root' in i and 'Wjets' not in i)]\n",
    "print(samples)\n",
    "if \"MJ.root\" in samples:\n",
    "    os.system(\"rm \"+channelPath+SR+\"MJ.root\")"
   ]
  },
  {
   "cell_type": "code",
   "execution_count": 10,
   "metadata": {
    "tags": []
   },
   "outputs": [],
   "source": [
    "import sys\n",
    "sys.path.append('/Users/diegomac/Documents/HEP/VBF-Analysis/Scripts/')\n",
    "from histogramHelpers import tautauHighMassHistograms,tautauHighMassMJHistograms\n",
    "histos = tautauHighMassHistograms"
   ]
  },
  {
   "cell_type": "code",
   "execution_count": 11,
   "metadata": {
    "tags": []
   },
   "outputs": [
    {
     "name": "stdout",
     "output_type": "stream",
     "text": [
      "NO MJ EVIDENCE!\n",
      "MJ =  0.01477724313735962  +-  1.4757345526921324\n"
     ]
    }
   ],
   "source": [
    "mcSamples = [EWjj,QCDjj]\n",
    "backgroundSamples = ['VV',\"ttbar\",'singletop']#+['Wjets',]\n",
    "if \"Tau\" in channelPath:\n",
    "    backgroundSamples += ['Higgs','Zjets','W_EWK_Sherpa','VV_EWK']\n",
    "mcSamples += backgroundSamples\n",
    "\n",
    "# Open target file\n",
    "multiJetFile =r.TFile.Open(channelPath+SR+\"MJ.root\", \"RECREATE\")\n",
    "\n",
    "# First evaluate if there is evidence for MJ BG.\n",
    "totalMJisZero = False\n",
    "nGapJetsHistogram = dataSubtract(\"n_jets_interval\",channelPath+SRSS,\"Data\",mcSamples,histos,rebin=False)\n",
    "totalMJ = nGapJetsHistogram.GetBinContent(1)\n",
    "totalMJUncertainty = nGapJetsHistogram.GetBinError(1)\n",
    "if (totalMJ < 0.0) or (totalMJ/totalMJUncertainty < 1.0 ):\n",
    "    totalMJisZero = True\n",
    "    print(\"NO MJ EVIDENCE!\")\n",
    "print(\"MJ = \",totalMJ,\" +- \",totalMJUncertainty)\n",
    "\n",
    "if totalMJ < 0.0:\n",
    "    totalMJ = 0.0\n",
    "    "
   ]
  },
  {
   "cell_type": "code",
   "execution_count": 12,
   "metadata": {
    "tags": []
   },
   "outputs": [
    {
     "name": "stdout",
     "output_type": "stream",
     "text": [
      "n_bjets False\n",
      "Integral in SR bins: 3.9508628845214844\n",
      "lepiso False\n",
      "Integral in SR bins: 3.9508628845214844\n",
      "n_jets_interval False\n",
      "Integral in SR bins: 3.9508628845214844\n",
      "flavourJet1_basic_all False\n",
      "Integral in SR bins: 3.950862818513997\n",
      "flavourJet2_basic_all False\n",
      "Integral in SR bins: 3.9470610882272013\n",
      "elecPdgID_basic_all False\n",
      "Integral in SR bins: 1.6688251495361328\n",
      "muonPdgID_basic_all False\n",
      "Integral in SR bins: 2.279481887817383\n",
      "tauPdgID_basic_all False\n",
      "Integral in SR bins: 3.950862973695621\n",
      "nLightJets_basic_all False\n",
      "Integral in SR bins: 3.950863003730774\n",
      "tau_pt True\n",
      "Integral in SR bins: 3.950862944126129\n",
      "lep_pt True\n",
      "Integral in SR bins: 3.950863097794354\n",
      "delta_phi True\n"
     ]
    },
    {
     "name": "stderr",
     "output_type": "stream",
     "text": [
      "/Users/diegomac/Documents/HEP/VBF-Analysis/Scripts/histogramHelpers.py:187: RuntimeWarning: invalid value encountered in sqrt\n",
      "  binError = totalMJUncertainty*np.sqrt(sf)\n"
     ]
    },
    {
     "name": "stdout",
     "output_type": "stream",
     "text": [
      "Integral in SR bins: 3.9508629143238068\n",
      "delta_y True\n",
      "Integral in SR bins: 3.950862944126129\n",
      "omega True\n",
      "Integral in SR bins: 3.9508628845214844\n",
      "rnn_score_1p True\n",
      "Integral in SR bins: 3.240441620349884\n",
      "rnn_score_3p True\n",
      "Integral in SR bins: 0.7104213684797287\n",
      "ljet0_pt True\n",
      "Integral in SR bins: 3.942570239305496\n",
      "ljet1_pt True\n",
      "Integral in SR bins: 3.950862883008085\n",
      "pt_bal True\n",
      "Integral in SR bins: 3.950863088481128\n",
      "Z_centrality True\n",
      "Integral in SR bins: 3.9508631229400635\n",
      "mass_jj True\n",
      "Integral in SR bins: 3.948760986328125\n",
      "reco_mass_i True\n",
      "Integral in SR bins: 3.1973810493946075\n",
      "reco_mass_o True\n",
      "Integral in SR bins: 0.6520880479365587\n",
      "reco_mass_ True\n",
      "Integral in SR bins: 3.8494690358638763\n",
      "Z_pt_reco_i_basic_all True\n",
      "Integral in SR bins: 3.2825380503199995\n",
      "Z_pt_reco_o_basic_all True\n",
      "Integral in SR bins: 0.6614153925329447\n",
      "ratio_zpt_sumjetpt_basic_all True\n",
      "Integral in SR bins: 3.9508629424963146\n",
      "vec_sum_pt_jets_basic_all True\n",
      "Integral in SR bins: 3.950863034464419\n",
      "moreCentralJet_basic_all True\n",
      "Integral in SR bins: 3.9508629417978227\n",
      "lessCentralJet_basic_all True\n",
      "Integral in SR bins: 3.950863031030167\n",
      "delta_phijj_basic_all True\n",
      "Integral in SR bins: 3.9508631229400635\n",
      "massTauClosestJet_basic_all True\n",
      "Integral in SR bins: 3.9508630046620965\n",
      "massLepClosestJet_basic_all True\n",
      "Integral in SR bins: 3.9508629590272903\n",
      "massTauFurthestJet_basic_all True\n",
      "Integral in SR bins: 3.946996532380581\n",
      "nuTauPt True\n",
      "Integral in SR bins: 3.2304036915302277\n",
      "nuPtAssummetry_basic_all True\n",
      "Integral in SR bins: 3.2894476607907563\n",
      "bdtScore True\n",
      "Integral in SR bins: 3.9508631825447083\n",
      "lepNuPt True\n",
      "Integral in SR bins: 3.4617213010787964\n",
      "pTsymmetry True\n",
      "Integral in SR bins: 3.950862891972065\n",
      "tauTransMass_basic_all True\n",
      "Integral in SR bins: 3.9361138232052326\n",
      "signedCentrality_basic_all True\n",
      "Integral in SR bins: 3.9508630726486444\n",
      "visibleMass_basic_all True\n",
      "Integral in SR bins: 3.950862953439355\n",
      "recoVisibleMassRatio True\n",
      "Integral in SR bins: 3.9508629739284515\n",
      "lepTransMass True\n",
      "Integral in SR bins: 6.871717572212219\n"
     ]
    },
    {
     "name": "stderr",
     "output_type": "stream",
     "text": [
      "Warning in <TH1F::Rebin>: overflow entries will not be used when rebinning\n",
      "Warning in <TH1F::Rebin>: overflow entries will not be used when rebinning\n",
      "Warning in <TH1F::Rebin>: Bin edge 2 of rebinned histogram does not match any bin edges of the old histogram. Result can be inconsistent\n",
      "Warning in <TH1F::Rebin>: Bin edge 3 of rebinned histogram does not match any bin edges of the old histogram. Result can be inconsistent\n",
      "Warning in <TH1F::Rebin>: Bin edge 5 of rebinned histogram does not match any bin edges of the old histogram. Result can be inconsistent\n",
      "Warning in <TH1F::Rebin>: Bin edge 6 of rebinned histogram does not match any bin edges of the old histogram. Result can be inconsistent\n",
      "Warning in <TH1F::Rebin>: Bin edge 2 of rebinned histogram does not match any bin edges of the old histogram. Result can be inconsistent\n",
      "Warning in <TH1F::Rebin>: Bin edge 3 of rebinned histogram does not match any bin edges of the old histogram. Result can be inconsistent\n",
      "Warning in <TH1F::Rebin>: Bin edge 5 of rebinned histogram does not match any bin edges of the old histogram. Result can be inconsistent\n",
      "Warning in <TH1F::Rebin>: Bin edge 6 of rebinned histogram does not match any bin edges of the old histogram. Result can be inconsistent\n",
      "Warning in <TH1F::Rebin>: Bin edge 2 of rebinned histogram does not match any bin edges of the old histogram. Result can be inconsistent\n",
      "Warning in <TH1F::Rebin>: Bin edge 3 of rebinned histogram does not match any bin edges of the old histogram. Result can be inconsistent\n",
      "Warning in <TH1F::Rebin>: Bin edge 5 of rebinned histogram does not match any bin edges of the old histogram. Result can be inconsistent\n",
      "Warning in <TH1F::Rebin>: Bin edge 6 of rebinned histogram does not match any bin edges of the old histogram. Result can be inconsistent\n",
      "Warning in <TH1F::Rebin>: Bin edge 2 of rebinned histogram does not match any bin edges of the old histogram. Result can be inconsistent\n",
      "Warning in <TH1F::Rebin>: Bin edge 3 of rebinned histogram does not match any bin edges of the old histogram. Result can be inconsistent\n",
      "Warning in <TH1F::Rebin>: Bin edge 5 of rebinned histogram does not match any bin edges of the old histogram. Result can be inconsistent\n",
      "Warning in <TH1F::Rebin>: Bin edge 6 of rebinned histogram does not match any bin edges of the old histogram. Result can be inconsistent\n",
      "Warning in <TH1F::Rebin>: Bin edge 2 of rebinned histogram does not match any bin edges of the old histogram. Result can be inconsistent\n",
      "Warning in <TH1F::Rebin>: Bin edge 3 of rebinned histogram does not match any bin edges of the old histogram. Result can be inconsistent\n",
      "Warning in <TH1F::Rebin>: Bin edge 5 of rebinned histogram does not match any bin edges of the old histogram. Result can be inconsistent\n",
      "Warning in <TH1F::Rebin>: Bin edge 6 of rebinned histogram does not match any bin edges of the old histogram. Result can be inconsistent\n",
      "Warning in <TH1F::Rebin>: Bin edge 2 of rebinned histogram does not match any bin edges of the old histogram. Result can be inconsistent\n",
      "Warning in <TH1F::Rebin>: Bin edge 3 of rebinned histogram does not match any bin edges of the old histogram. Result can be inconsistent\n",
      "Warning in <TH1F::Rebin>: Bin edge 5 of rebinned histogram does not match any bin edges of the old histogram. Result can be inconsistent\n",
      "Warning in <TH1F::Rebin>: Bin edge 6 of rebinned histogram does not match any bin edges of the old histogram. Result can be inconsistent\n",
      "Warning in <TH1F::Rebin>: Bin edge 2 of rebinned histogram does not match any bin edges of the old histogram. Result can be inconsistent\n",
      "Warning in <TH1F::Rebin>: Bin edge 3 of rebinned histogram does not match any bin edges of the old histogram. Result can be inconsistent\n",
      "Warning in <TH1F::Rebin>: Bin edge 5 of rebinned histogram does not match any bin edges of the old histogram. Result can be inconsistent\n",
      "Warning in <TH1F::Rebin>: Bin edge 6 of rebinned histogram does not match any bin edges of the old histogram. Result can be inconsistent\n",
      "Warning in <TH1F::Rebin>: Bin edge 2 of rebinned histogram does not match any bin edges of the old histogram. Result can be inconsistent\n",
      "Warning in <TH1F::Rebin>: Bin edge 3 of rebinned histogram does not match any bin edges of the old histogram. Result can be inconsistent\n",
      "Warning in <TH1F::Rebin>: Bin edge 5 of rebinned histogram does not match any bin edges of the old histogram. Result can be inconsistent\n",
      "Warning in <TH1F::Rebin>: Bin edge 6 of rebinned histogram does not match any bin edges of the old histogram. Result can be inconsistent\n",
      "Warning in <TH1F::Rebin>: Bin edge 2 of rebinned histogram does not match any bin edges of the old histogram. Result can be inconsistent\n",
      "Warning in <TH1F::Rebin>: Bin edge 3 of rebinned histogram does not match any bin edges of the old histogram. Result can be inconsistent\n",
      "Warning in <TH1F::Rebin>: Bin edge 5 of rebinned histogram does not match any bin edges of the old histogram. Result can be inconsistent\n",
      "Warning in <TH1F::Rebin>: Bin edge 6 of rebinned histogram does not match any bin edges of the old histogram. Result can be inconsistent\n",
      "Warning in <TH1F::Rebin>: Bin edge 2 of rebinned histogram does not match any bin edges of the old histogram. Result can be inconsistent\n",
      "Warning in <TH1F::Rebin>: Bin edge 3 of rebinned histogram does not match any bin edges of the old histogram. Result can be inconsistent\n",
      "Warning in <TH1F::Rebin>: Bin edge 5 of rebinned histogram does not match any bin edges of the old histogram. Result can be inconsistent\n",
      "Warning in <TH1F::Rebin>: Bin edge 6 of rebinned histogram does not match any bin edges of the old histogram. Result can be inconsistent\n",
      "Warning in <TH1F::Rebin>: Bin edge 2 of rebinned histogram does not match any bin edges of the old histogram. Result can be inconsistent\n",
      "Warning in <TH1F::Rebin>: Bin edge 3 of rebinned histogram does not match any bin edges of the old histogram. Result can be inconsistent\n",
      "Warning in <TH1F::Rebin>: Bin edge 5 of rebinned histogram does not match any bin edges of the old histogram. Result can be inconsistent\n",
      "Warning in <TH1F::Rebin>: Bin edge 6 of rebinned histogram does not match any bin edges of the old histogram. Result can be inconsistent\n",
      "Warning in <TH1F::Rebin>: Bin edge 2 of rebinned histogram does not match any bin edges of the old histogram. Result can be inconsistent\n",
      "Warning in <TH1F::Rebin>: Bin edge 3 of rebinned histogram does not match any bin edges of the old histogram. Result can be inconsistent\n",
      "Warning in <TH1F::Rebin>: Bin edge 5 of rebinned histogram does not match any bin edges of the old histogram. Result can be inconsistent\n",
      "Warning in <TH1F::Rebin>: Bin edge 6 of rebinned histogram does not match any bin edges of the old histogram. Result can be inconsistent\n",
      "Warning in <TH1F::Rebin>: Bin edge 2 of rebinned histogram does not match any bin edges of the old histogram. Result can be inconsistent\n",
      "Warning in <TH1F::Rebin>: Bin edge 3 of rebinned histogram does not match any bin edges of the old histogram. Result can be inconsistent\n",
      "Warning in <TH1F::Rebin>: Bin edge 5 of rebinned histogram does not match any bin edges of the old histogram. Result can be inconsistent\n",
      "Warning in <TH1F::Rebin>: Bin edge 6 of rebinned histogram does not match any bin edges of the old histogram. Result can be inconsistent\n",
      "Warning in <TH1F::Rebin>: Bin edge 2 of rebinned histogram does not match any bin edges of the old histogram. Result can be inconsistent\n",
      "Warning in <TH1F::Rebin>: Bin edge 3 of rebinned histogram does not match any bin edges of the old histogram. Result can be inconsistent\n",
      "Warning in <TH1F::Rebin>: Bin edge 5 of rebinned histogram does not match any bin edges of the old histogram. Result can be inconsistent\n",
      "Warning in <TH1F::Rebin>: Bin edge 6 of rebinned histogram does not match any bin edges of the old histogram. Result can be inconsistent\n",
      "Warning in <TH1F::Rebin>: Bin edge 2 of rebinned histogram does not match any bin edges of the old histogram. Result can be inconsistent\n",
      "Warning in <TH1F::Rebin>: Bin edge 3 of rebinned histogram does not match any bin edges of the old histogram. Result can be inconsistent\n",
      "Warning in <TH1F::Rebin>: Bin edge 5 of rebinned histogram does not match any bin edges of the old histogram. Result can be inconsistent\n",
      "Warning in <TH1F::Rebin>: Bin edge 6 of rebinned histogram does not match any bin edges of the old histogram. Result can be inconsistent\n",
      "Warning in <TH1F::Rebin>: Bin edge 2 of rebinned histogram does not match any bin edges of the old histogram. Result can be inconsistent\n",
      "Warning in <TH1F::Rebin>: Bin edge 3 of rebinned histogram does not match any bin edges of the old histogram. Result can be inconsistent\n",
      "Warning in <TH1F::Rebin>: Bin edge 5 of rebinned histogram does not match any bin edges of the old histogram. Result can be inconsistent\n",
      "Warning in <TH1F::Rebin>: Bin edge 6 of rebinned histogram does not match any bin edges of the old histogram. Result can be inconsistent\n",
      "Warning in <TH1F::Rebin>: Bin edge 2 of rebinned histogram does not match any bin edges of the old histogram. Result can be inconsistent\n",
      "Warning in <TH1F::Rebin>: Bin edge 3 of rebinned histogram does not match any bin edges of the old histogram. Result can be inconsistent\n",
      "Warning in <TH1F::Rebin>: Bin edge 5 of rebinned histogram does not match any bin edges of the old histogram. Result can be inconsistent\n",
      "Warning in <TH1F::Rebin>: Bin edge 6 of rebinned histogram does not match any bin edges of the old histogram. Result can be inconsistent\n"
     ]
    }
   ],
   "source": [
    "for hist in histos:\n",
    "    # Determine if histogram needs to be rebined\n",
    "    rebinHistogram = hist.needsRebin()\n",
    "    \n",
    "    print(hist.m_name,rebinHistogram)\n",
    "    \n",
    "    # Calculate RQCD in MJCRs\n",
    "    if RQCDwithCRs:\n",
    "        # Calculate RQCD\n",
    "        dataSubtractedHistoCR = dataSubtract(hist.m_name,channelPath+CR,\"Data\",mcSamples,hist,rebin=rebinHistogram)\n",
    "        dataSubtractedHistoCRSS = dataSubtract(hist.m_name,channelPath+CRSS,\"Data\",mcSamples,hist,rebin=rebinHistogram)\n",
    "        makeNegativeBinsZero(dataSubtractedHistoCR)\n",
    "        makeNegativeBinsZero(dataSubtractedHistoCRSS)\n",
    "        RQCD = dataSubtractedHistoCR.Integral(1,-1)/dataSubtractedHistoCRSS.Integral(1,-1)\n",
    "    # If not, use input value\n",
    "    else:\n",
    "        RQCD = 1.2\n",
    "        UncerRQCD = 1.2*0.25\n",
    "    \n",
    "    # Calculate the MJ Background shape\n",
    "    dataSubtractedHistoSRSS = dataSubtract(hist.m_name,channelPath+SRSS,\"Data\",mcSamples,hist,rebin=rebinHistogram)\n",
    "    dataSubtractedHistoSRSS.Scale(RQCD)\n",
    "    makeNegativeBinsZero(dataSubtractedHistoSRSS)\n",
    "    MJ = dataSubtractedHistoSRSS.Clone()\n",
    "    \n",
    "    # If no MJ Evidence fix the bins that are in the final selection\n",
    "    if totalMJisZero:\n",
    "        SRhisto = mcAdd(hist.m_name,channelPath+SR,backgroundSamples,hist,rebin=rebinHistogram)\n",
    "        cutLeft = hist.m_leftCut\n",
    "        cutRight = hist.m_rightCut\n",
    "        makeSRBinsConsistentWithNOMJ(MJ,cutLeft,cutRight,totalMJ,totalMJUncertainty,SRhisto)\n",
    "        \n",
    "    # Take into account the uncertainty in RQCD\n",
    "    scaleUncertainty(MJ,UncerRQCD/RQCD)\n",
    "    \n",
    "    # Save histogram in MJ.root file\n",
    "    multiJetFile.WriteObject(MJ,hist.m_name)\n",
    "    \n",
    "    \n",
    "multiJetFile.Close()"
   ]
  },
  {
   "cell_type": "code",
   "execution_count": 22,
   "metadata": {
    "tags": []
   },
   "outputs": [
    {
     "name": "stdout",
     "output_type": "stream",
     "text": [
      "OS:  94.53706323355436\n",
      "SS:  88.52085138997063\n",
      "OS E:  19.725730909960834\n",
      "SS E:  10.652698160888127\n",
      "1.0679637819690624  +-  0.43233208949062885\n"
     ]
    }
   ],
   "source": [
    "from ctypes import *\n",
    "osE = c_double(0.0)\n",
    "ssE = c_double(0.0)\n",
    "osHisto = dataSubtract(\"mass_jj\",\"/Users/diegomac/Documents/HEP/VBF-Analysis/TauTau/TauhadTaulep/Z-Peak/MJCROS/\",\"Data\",mcSamples,histos,rebin=True)\n",
    "ssHisto = dataSubtract(\"mass_jj\",\"/Users/diegomac/Documents/HEP/VBF-Analysis/TauTau/TauhadTaulep/Z-Peak/MJCRSS/\",\"Data\",mcSamples,histos,rebin=True)\n",
    "osIntegral = osHisto.IntegralAndError(1,-1,osE)\n",
    "ssIntegral = ssHisto.IntegralAndError(1,-1,ssE)\n",
    "\n",
    "print(\"OS: \",osIntegral)\n",
    "print(\"SS: \",ssIntegral)\n",
    "\n",
    "osE = osE.value\n",
    "ssE = ssE.value\n",
    "\n",
    "print(\"OS E: \",osE)\n",
    "print(\"SS E: \",ssE)\n",
    "print(osIntegral/ssIntegral,\" +- \",osIntegral/ssIntegral*np.sqrt((osE/osIntegral)**2+(ssE/ssIntegral)))"
   ]
  },
  {
   "cell_type": "code",
   "execution_count": null,
   "metadata": {},
   "outputs": [],
   "source": []
  }
 ],
 "metadata": {
  "kernelspec": {
   "display_name": "Python 3 (ipykernel)",
   "language": "python",
   "name": "python3"
  },
  "language_info": {
   "codemirror_mode": {
    "name": "ipython",
    "version": 3
   },
   "file_extension": ".py",
   "mimetype": "text/x-python",
   "name": "python",
   "nbconvert_exporter": "python",
   "pygments_lexer": "ipython3",
   "version": "3.10.5"
  }
 },
 "nbformat": 4,
 "nbformat_minor": 4
}
