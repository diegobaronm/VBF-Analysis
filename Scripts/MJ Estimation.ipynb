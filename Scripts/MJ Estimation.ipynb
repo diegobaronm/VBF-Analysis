{
 "cells": [
  {
   "cell_type": "markdown",
   "metadata": {},
   "source": [
    "# This generates a file containing the MJ background estimation from the ABCD method:\n",
    "## A/B = C/D \n",
    "Where,\n",
    "A = Signal Region (SR)\n",
    "B = Signal Region Same Sign (SR-SS)\n",
    "C = Control Region (CR)\n",
    "D = Control Region Same Sign (CR-SS)\n",
    "\n",
    "$$\\frac{\\text{SR}}{\\text{SR}_{\\text{SS}}} = \\frac{\\text{CR}}{\\text{CR}_{\\text{SS}}}$$\n",
    "\n",
    "\n",
    "$$ \\text{SR} = \\text{SR}_{\\text{SS}} \\text{RQCD} $$\n",
    "\n",
    "### Signal region path$\n",
    "### Multi jet control region path\n",
    "### Sample used for Z-QCDjets"
   ]
  },
  {
   "cell_type": "code",
   "execution_count": 13,
   "metadata": {
    "tags": []
   },
   "outputs": [
    {
     "name": "stdout",
     "output_type": "stream",
     "text": [
      "['MJ.root', 'Ztautau_SherpaRW.root', 'Ztautau_MGRW.root', 'Zjets.root', 'Signal_Sherpa.root', 'W_EWK_PoPy.root', 'Signal_PoPy.root', 'Data.root', 'MC.root', 'VV.root', 'Higgs.root', 'VV_EWK.root', 'W_EWK_Sherpa.root', 'ttbar.root', 'singletop.root']\n"
     ]
    }
   ],
   "source": [
    "import ROOT as r\n",
    "from ROOT import gStyle\n",
    "import numpy as np\n",
    "import ctypes\n",
    "import os\n",
    "from IPython.display import display \n",
    "import pandas as pd \n",
    "from histogramHelpers import *\n",
    "\n",
    "\n",
    "# Define the path to the channel and the directories for the regions.\n",
    "channelPath = \"/Users/diegomac/Documents/HEP/VBF-Analysis/TauTau/TauhadTaulep/High-Mass/\"\n",
    "SR = \"DeterministicBDTCR/\"\n",
    "SRSS = \"DeterministicBDTCRSS/\"\n",
    "CR = \"NonIsoOS/\"\n",
    "CRSS = \"NonIsoSS/\"\n",
    "\n",
    "# Select EWjj and QCDjj samples\n",
    "EWjj = \"Signal_Sherpa\"\n",
    "QCDjj = \"Ztautau_SherpaRW\"\n",
    "\n",
    "RQCDwithCRs = False\n",
    "\n",
    "# Remove previous MJ.root file\n",
    "samples=[i for i in os.listdir(channelPath+SR) if ('.root' in i and 'Wjets' not in i)]\n",
    "print(samples)\n",
    "if \"MJ.root\" in samples:\n",
    "    os.system(\"rm \"+channelPath+SR+\"MJ.root\")"
   ]
  },
  {
   "cell_type": "code",
   "execution_count": 14,
   "metadata": {
    "tags": []
   },
   "outputs": [],
   "source": [
    "import sys\n",
    "sys.path.append('/Users/diegomac/Documents/HEP/VBF-Analysis/Scripts/')\n",
    "from histogramHelpers import histogramsHighStatsZll,histogramsLowStatsZll,histogramsHighStatsZtautau,histogramsLowStatsZtautau\n",
    "histos = histogramsVeryLowStatsZtautau"
   ]
  },
  {
   "cell_type": "code",
   "execution_count": 15,
   "metadata": {
    "tags": []
   },
   "outputs": [
    {
     "name": "stdout",
     "output_type": "stream",
     "text": [
      "n_bjets False\n",
      "lepiso False\n",
      "n_jets_interval False\n",
      "flavourJet1_basic_all False\n",
      "flavourJet2_basic_all False\n",
      "elecPdgID_basic_all False\n",
      "muonPdgID_basic_all False\n",
      "tauPdgID_basic_all False\n",
      "nLightJets_basic_all False\n",
      "tau_pt True\n",
      "lep_pt True\n",
      "delta_phi True\n",
      "delta_y True\n",
      "omega True\n",
      "rnn_score_1p True\n",
      "rnn_score_3p True\n",
      "ljet0_pt True\n",
      "ljet1_pt True\n",
      "pt_bal True\n",
      "Z_centrality True\n",
      "mass_jj True\n",
      "reco_mass_i True\n",
      "reco_mass_o True\n",
      "reco_mass_ True\n",
      "Z_pt_reco_i_basic_all True\n",
      "Z_pt_reco_o_basic_all True\n",
      "ratio_zpt_sumjetpt_basic_all True\n",
      "vec_sum_pt_jets_basic_all True\n",
      "moreCentralJet_basic_all True\n",
      "lessCentralJet_basic_all True\n",
      "delta_phijj_basic_all True\n",
      "massTauClosestJet_basic_all True\n",
      "massLepClosestJet_basic_all True\n",
      "massTauFurthestJet_basic_all True\n",
      "nuTauPt True\n",
      "nuPtAssummetry_basic_all True\n",
      "bdtScore True\n",
      "lepNuPt True\n",
      "pTsymmetry True\n",
      "lepTransMass_basic_all True\n",
      "tauTransMass_basic_all True\n",
      "signedCentrality_basic_all True\n",
      "visibleMass_basic_all True\n",
      "recoVisibleMassRatio True\n"
     ]
    },
    {
     "name": "stderr",
     "output_type": "stream",
     "text": [
      "Warning in <TH1F::Rebin>: overflow entries will not be used when rebinning\n",
      "Warning in <TH1F::Rebin>: overflow entries will not be used when rebinning\n",
      "Warning in <TH1F::Rebin>: overflow entries will not be used when rebinning\n",
      "Warning in <TH1F::Rebin>: overflow entries will not be used when rebinning\n",
      "Warning in <TH1F::Rebin>: overflow entries will not be used when rebinning\n",
      "Warning in <TH1F::Rebin>: Bin edge 2 of rebinned histogram does not match any bin edges of the old histogram. Result can be inconsistent\n",
      "Warning in <TH1F::Rebin>: Bin edge 3 of rebinned histogram does not match any bin edges of the old histogram. Result can be inconsistent\n",
      "Warning in <TH1F::Rebin>: Bin edge 5 of rebinned histogram does not match any bin edges of the old histogram. Result can be inconsistent\n",
      "Warning in <TH1F::Rebin>: Bin edge 6 of rebinned histogram does not match any bin edges of the old histogram. Result can be inconsistent\n",
      "Warning in <TH1F::Rebin>: Bin edge 2 of rebinned histogram does not match any bin edges of the old histogram. Result can be inconsistent\n",
      "Warning in <TH1F::Rebin>: Bin edge 3 of rebinned histogram does not match any bin edges of the old histogram. Result can be inconsistent\n",
      "Warning in <TH1F::Rebin>: Bin edge 5 of rebinned histogram does not match any bin edges of the old histogram. Result can be inconsistent\n",
      "Warning in <TH1F::Rebin>: Bin edge 6 of rebinned histogram does not match any bin edges of the old histogram. Result can be inconsistent\n",
      "Warning in <TH1F::Rebin>: Bin edge 2 of rebinned histogram does not match any bin edges of the old histogram. Result can be inconsistent\n",
      "Warning in <TH1F::Rebin>: Bin edge 3 of rebinned histogram does not match any bin edges of the old histogram. Result can be inconsistent\n",
      "Warning in <TH1F::Rebin>: Bin edge 5 of rebinned histogram does not match any bin edges of the old histogram. Result can be inconsistent\n",
      "Warning in <TH1F::Rebin>: Bin edge 6 of rebinned histogram does not match any bin edges of the old histogram. Result can be inconsistent\n",
      "Warning in <TH1F::Rebin>: Bin edge 2 of rebinned histogram does not match any bin edges of the old histogram. Result can be inconsistent\n",
      "Warning in <TH1F::Rebin>: Bin edge 3 of rebinned histogram does not match any bin edges of the old histogram. Result can be inconsistent\n",
      "Warning in <TH1F::Rebin>: Bin edge 5 of rebinned histogram does not match any bin edges of the old histogram. Result can be inconsistent\n",
      "Warning in <TH1F::Rebin>: Bin edge 6 of rebinned histogram does not match any bin edges of the old histogram. Result can be inconsistent\n",
      "Warning in <TH1F::Rebin>: Bin edge 2 of rebinned histogram does not match any bin edges of the old histogram. Result can be inconsistent\n",
      "Warning in <TH1F::Rebin>: Bin edge 3 of rebinned histogram does not match any bin edges of the old histogram. Result can be inconsistent\n",
      "Warning in <TH1F::Rebin>: Bin edge 5 of rebinned histogram does not match any bin edges of the old histogram. Result can be inconsistent\n",
      "Warning in <TH1F::Rebin>: Bin edge 6 of rebinned histogram does not match any bin edges of the old histogram. Result can be inconsistent\n",
      "Warning in <TH1F::Rebin>: Bin edge 2 of rebinned histogram does not match any bin edges of the old histogram. Result can be inconsistent\n",
      "Warning in <TH1F::Rebin>: Bin edge 3 of rebinned histogram does not match any bin edges of the old histogram. Result can be inconsistent\n",
      "Warning in <TH1F::Rebin>: Bin edge 5 of rebinned histogram does not match any bin edges of the old histogram. Result can be inconsistent\n",
      "Warning in <TH1F::Rebin>: Bin edge 6 of rebinned histogram does not match any bin edges of the old histogram. Result can be inconsistent\n",
      "Warning in <TH1F::Rebin>: Bin edge 2 of rebinned histogram does not match any bin edges of the old histogram. Result can be inconsistent\n",
      "Warning in <TH1F::Rebin>: Bin edge 3 of rebinned histogram does not match any bin edges of the old histogram. Result can be inconsistent\n",
      "Warning in <TH1F::Rebin>: Bin edge 5 of rebinned histogram does not match any bin edges of the old histogram. Result can be inconsistent\n",
      "Warning in <TH1F::Rebin>: Bin edge 6 of rebinned histogram does not match any bin edges of the old histogram. Result can be inconsistent\n",
      "Warning in <TH1F::Rebin>: Bin edge 2 of rebinned histogram does not match any bin edges of the old histogram. Result can be inconsistent\n",
      "Warning in <TH1F::Rebin>: Bin edge 3 of rebinned histogram does not match any bin edges of the old histogram. Result can be inconsistent\n",
      "Warning in <TH1F::Rebin>: Bin edge 5 of rebinned histogram does not match any bin edges of the old histogram. Result can be inconsistent\n",
      "Warning in <TH1F::Rebin>: Bin edge 6 of rebinned histogram does not match any bin edges of the old histogram. Result can be inconsistent\n",
      "Warning in <TH1F::Rebin>: Bin edge 2 of rebinned histogram does not match any bin edges of the old histogram. Result can be inconsistent\n",
      "Warning in <TH1F::Rebin>: Bin edge 3 of rebinned histogram does not match any bin edges of the old histogram. Result can be inconsistent\n",
      "Warning in <TH1F::Rebin>: Bin edge 5 of rebinned histogram does not match any bin edges of the old histogram. Result can be inconsistent\n",
      "Warning in <TH1F::Rebin>: Bin edge 6 of rebinned histogram does not match any bin edges of the old histogram. Result can be inconsistent\n",
      "Warning in <TH1F::Rebin>: Bin edge 2 of rebinned histogram does not match any bin edges of the old histogram. Result can be inconsistent\n",
      "Warning in <TH1F::Rebin>: Bin edge 3 of rebinned histogram does not match any bin edges of the old histogram. Result can be inconsistent\n",
      "Warning in <TH1F::Rebin>: Bin edge 5 of rebinned histogram does not match any bin edges of the old histogram. Result can be inconsistent\n",
      "Warning in <TH1F::Rebin>: Bin edge 6 of rebinned histogram does not match any bin edges of the old histogram. Result can be inconsistent\n"
     ]
    }
   ],
   "source": [
    "mcSamples = [EWjj,QCDjj]\n",
    "backgroundSamples = ['VV',\"ttbar\",'singletop']#+['Wjets',]\n",
    "if \"Tau\" in channelPath:\n",
    "    backgroundSamples += ['Higgs','Zjets','W_EWK_Sherpa','VV_EWK']\n",
    "mcSamples += backgroundSamples\n",
    "\n",
    "# Open target file\n",
    "multiJetFile =r.TFile.Open(channelPath+SR+\"MJ.root\", \"RECREATE\")\n",
    "\n",
    "for histoName in histos:\n",
    "    # Determine if histogram needs to be rebined\n",
    "    rebinHistogram = False\n",
    "    if len(histos[histoName])>2:\n",
    "        rebinHistogram = True\n",
    "    \n",
    "    print(histoName,rebinHistogram)\n",
    "    \n",
    "    \n",
    "    \n",
    "    if RQCDwithCRs:\n",
    "        # Calculate RQCD\n",
    "        dataSubtractedHistoCR = dataSubtract(histoName,channelPath+CR,\"Data\",mcSamples,histos,rebin=rebinHistogram)\n",
    "        dataSubtractedHistoCRSS = dataSubtract(histoName,channelPath+CRSS,\"Data\",mcSamples,histos,rebin=rebinHistogram)\n",
    "        makeNegativeBinsZero(dataSubtractedHistoCR)\n",
    "        makeNegativeBinsZero(dataSubtractedHistoCRSS)\n",
    "        RQCD = dataSubtractedHistoCR.Integral(1,-1)/dataSubtractedHistoCRSS.Integral(1,-1)\n",
    "    else:\n",
    "        RQCD = 1.2\n",
    "        UncerRQCD = 1.2*0.25\n",
    "    \n",
    "    # Calculate the MJ Background shape\n",
    "    dataSubtractedHistoSRSS = dataSubtract(histoName,channelPath+SRSS,\"Data\",mcSamples,histos,rebin=rebinHistogram)\n",
    "    dataSubtractedHistoSRSS.Scale(RQCD)\n",
    "    makeNegativeBinsZero(dataSubtractedHistoSRSS)\n",
    "    MJ = dataSubtractedHistoSRSS.Clone()\n",
    "    scaleUncertainty(MJ,UncerRQCD/RQCD)\n",
    "    \n",
    "    # Save histogram in MJ.root file\n",
    "    multiJetFile.WriteObject(MJ,histoName)\n",
    "    \n",
    "    \n",
    "multiJetFile.Close()\n",
    "    "
   ]
  },
  {
   "cell_type": "code",
   "execution_count": null,
   "metadata": {},
   "outputs": [],
   "source": []
  },
  {
   "cell_type": "code",
   "execution_count": null,
   "metadata": {},
   "outputs": [],
   "source": []
  }
 ],
 "metadata": {
  "kernelspec": {
   "display_name": "Python 3 (ipykernel)",
   "language": "python",
   "name": "python3"
  },
  "language_info": {
   "codemirror_mode": {
    "name": "ipython",
    "version": 3
   },
   "file_extension": ".py",
   "mimetype": "text/x-python",
   "name": "python",
   "nbconvert_exporter": "python",
   "pygments_lexer": "ipython3",
   "version": "3.10.5"
  }
 },
 "nbformat": 4,
 "nbformat_minor": 4
}
