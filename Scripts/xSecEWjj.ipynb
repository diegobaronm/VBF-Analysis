{
 "cells": [
  {
   "cell_type": "code",
   "execution_count": 1,
   "id": "52ac8426-9bd0-4428-91df-38528f1d40ca",
   "metadata": {
    "tags": []
   },
   "outputs": [],
   "source": [
    "from uncertainties import ufloat\n",
    "import numpy as np\n",
    "\n",
    "aSherpa = {'Zmumu':ufloat(1.115,0.062),'Zee':ufloat(1.149,0.063),'Ztautau':ufloat(0.977,0.2)}\n",
    "aPoPy = {'Zmumu':ufloat(0.928,0.053),'Zee':ufloat(0.965,0.054),'Ztautau':ufloat(0.868,0.183)}\n",
    "\n",
    "def delete_module(modname, paranoid=None):\n",
    "    from sys import modules\n",
    "    try:\n",
    "        thismod = modules[modname]\n",
    "    except KeyError:\n",
    "        raise ValueError(modname)\n",
    "    these_symbols = dir(thismod)\n",
    "    if paranoid:\n",
    "        try:\n",
    "            paranoid[:]  # sequence support\n",
    "        except:\n",
    "            raise ValueError('must supply a finite list for paranoid')\n",
    "        else:\n",
    "            these_symbols = paranoid[:]\n",
    "    del modules[modname]\n",
    "    for mod in modules.values():\n",
    "        try:\n",
    "            delattr(mod, modname)\n",
    "        except AttributeError:\n",
    "            pass\n",
    "        if paranoid:\n",
    "            for symbol in these_symbols:\n",
    "                if symbol[:2] == '__':  # ignore special symbols\n",
    "                    continue\n",
    "                try:\n",
    "                    delattr(mod, symbol)\n",
    "                except AttributeError:\n",
    "                    pass"
   ]
  },
  {
   "cell_type": "code",
   "execution_count": 2,
   "id": "56c6101f-0090-4248-94f9-a24dbabbcfe0",
   "metadata": {
    "tags": []
   },
   "outputs": [
    {
     "name": "stdout",
     "output_type": "stream",
     "text": [
      "[0.77949, 0.77949, 0.77949, 0.77949]\n",
      "1\n",
      "[0.64977, 0.64977, 0.64977, 0.64977, 0.64977]\n",
      "1\n",
      "883\n",
      "858\n",
      "[0.77943, 0.77943, 0.77943]\n",
      "1\n",
      "[0.64977, 0.64977, 0.64977, 0.64977]\n",
      "1\n",
      "776\n",
      "[0.77916, 0.77916]\n",
      "1\n",
      "[0.64977]\n",
      "1\n"
     ]
    }
   ],
   "source": [
    "import sys\n",
    "sys.path.append('/Users/diegomac/Documents/HEP/VBF-Analysis/MuMu/MC/backend/')\n",
    "from infofile import infos\n",
    "\n",
    "def checkString(string,requiredSubstrings,vetoedStrings):\n",
    "    required = all(substring in string for substring in requiredSubstrings)\n",
    "    if required:\n",
    "        return not(any(substring in string for substring in vetoedStrings))\n",
    "    else :\n",
    "        return False\n",
    "\n",
    "def extractXsec(infos,keyword,noKeyword):\n",
    "    xSec= [infos[i]['xsec']*infos[i]['fil_eff']*infos[i]['kfac'] for i in infos if checkString(i,keyword,noKeyword)] \n",
    "    print(xSec)\n",
    "    xSecCorrected = []\n",
    "    for i in xSec:\n",
    "        if i not in xSecCorrected:\n",
    "            xSecCorrected.append(i)\n",
    "    print(len(xSecCorrected))\n",
    "    return sum(xSecCorrected)\n",
    "    \n",
    "xSecSherpa ={'Zmumu':0.0,'Zee':0.0,'Ztautau':0.0}    \n",
    "xSecPoPy ={'Zmumu':0.0,'Zee':0.0,'Ztautau':0.0}    \n",
    "\n",
    "xSecSherpa['Zmumu'] = extractXsec(infos,['Zmumu_sherpa','2018','VBF'],['old'])\n",
    "xSecPoPy['Zmumu'] = extractXsec(infos,['Zmumu_','2018','VBF'],['sherpa','old'])\n",
    "\n",
    "print(len(infos))\n",
    "\n",
    "delete_module('infofile')\n",
    "\n",
    "sys.path.remove('/Users/diegomac/Documents/HEP/VBF-Analysis/MuMu/MC/backend/')\n",
    "\n",
    "sys.path.append('/Users/diegomac/Documents/HEP/VBF-Analysis/Zee/MC/backend/')\n",
    "from infofile import infos as infoss\n",
    "\n",
    "print(len(infoss))\n",
    "\n",
    "xSecSherpa['Zee'] = extractXsec(infoss,['Zee_sherpa','2018','VBF'],['old'])\n",
    "xSecPoPy['Zee'] = extractXsec(infoss,['Zee_','2018','VBF'],['sherpa','old'])\n",
    "\n",
    "delete_module('infofile')\n",
    "\n",
    "sys.path.remove('/Users/diegomac/Documents/HEP/VBF-Analysis/Zee/MC/backend/')\n",
    "\n",
    "sys.path.append('/Users/diegomac/Documents/HEP/VBF-Analysis/TauMu/MC/backend/')\n",
    "from infofile import infos\n",
    "\n",
    "print(len(infos))\n",
    "\n",
    "xSecSherpa['Ztautau'] = extractXsec(infos,['Ztautau_sherpa','2018','VBF'],['old'])\n",
    "xSecPoPy['Ztautau'] = extractXsec(infos,['Ztautau_','2018','VBF'],['sherpa','old'])"
   ]
  },
  {
   "cell_type": "code",
   "execution_count": 3,
   "id": "2dfba1e0-cbea-4242-8c01-a33ac4845219",
   "metadata": {
    "tags": []
   },
   "outputs": [
    {
     "name": "stdout",
     "output_type": "stream",
     "text": [
      "{'Zmumu': 0.64977, 'Zee': 0.64977, 'Ztautau': 0.64977} {'Zmumu': 0.77949, 'Zee': 0.77943, 'Ztautau': 0.77916}\n"
     ]
    }
   ],
   "source": [
    "print(xSecPoPy,xSecSherpa)"
   ]
  },
  {
   "cell_type": "code",
   "execution_count": 4,
   "id": "e1eb103d-1602-4cd9-a15a-8b7ba016c0da",
   "metadata": {
    "tags": []
   },
   "outputs": [],
   "source": [
    "for i in aSherpa:\n",
    "    aSherpa[i] = aSherpa[i]*xSecSherpa[i]\n",
    "\n",
    "for i in aPoPy:\n",
    "    aPoPy[i] = aPoPy[i]*xSecPoPy[i]\n",
    "    \n",
    "def weightedAverage(value1,value2):\n",
    "    inverseStdDev = 1/(value1.std_dev)**2 + 1/(value2.std_dev)**2\n",
    "    average = (value1.nominal_value/(value1.std_dev)**2 + value2.nominal_value/(value2.std_dev)**2)/inverseStdDev\n",
    "    return ufloat(average,np.sqrt(1/inverseStdDev))\n",
    "\n",
    "average = {}\n",
    "for i in aSherpa:\n",
    "    average[i] = weightedAverage(aSherpa[i],aPoPy[i])"
   ]
  },
  {
   "cell_type": "code",
   "execution_count": 5,
   "id": "3120d72f-5a67-4c34-9f0f-d829b804625b",
   "metadata": {
    "tags": []
   },
   "outputs": [
    {
     "data": {
      "image/png": "[encoded data removed]",
      "text/plain": [
       "<Figure size 640x480 with 1 Axes>"
      ]
     },
     "metadata": {},
     "output_type": "display_data"
    }
   ],
   "source": [
    "import matplotlib.pyplot as plt\n",
    "\n",
    "# define the categories for the x-axis\n",
    "categories = ['Zmumu', 'Zee','Ztautau']\n",
    "\n",
    "# define the data for the y-axis\n",
    "sherpa = [aSherpa['Zmumu'].nominal_value, aSherpa['Zee'].nominal_value,aSherpa['Ztautau'].nominal_value]  # the mean value for each category\n",
    "sherpaErrors = [aSherpa['Zmumu'].std_dev, aSherpa['Zee'].std_dev,aSherpa['Ztautau'].std_dev]  # the standard deviation for each category\n",
    "\n",
    "PoPy = [aPoPy['Zmumu'].nominal_value, aPoPy['Zee'].nominal_value,aPoPy['Ztautau'].nominal_value]  # the mean value for each category\n",
    "PoPyErrors = [aPoPy['Zmumu'].std_dev, aPoPy['Zee'].std_dev,aPoPy['Ztautau'].std_dev]  # the standard deviation for each category\n",
    "\n",
    "averageValue = [average['Zmumu'].nominal_value, average['Zee'].nominal_value,average['Ztautau'].nominal_value]  # the mean value for each category\n",
    "averageErrors = [average['Zmumu'].std_dev, average['Zee'].std_dev,average['Ztautau'].std_dev]  # the standard deviation for each category\n",
    "\n",
    "\n",
    "# create a figure and axes object\n",
    "fig, ax = plt.subplots()\n",
    "\n",
    "# plot the means as points and the errors as error bars\n",
    "ax.errorbar(categories, sherpa, yerr=sherpaErrors, fmt='o', capsize=5, capthick=1, markersize=5)\n",
    "ax.errorbar(categories, PoPy, yerr=PoPyErrors, fmt='o', capsize=5, capthick=1, markersize=5)\n",
    "\n",
    "ax.errorbar(categories, averageValue, yerr=averageErrors, fmt='o', capsize=5, capthick=1, markersize=5)\n",
    "\n",
    "# set the title and axis labels\n",
    "ax.set_title('Z-EWjj xSec')\n",
    "ax.set_xlabel('Channel')\n",
    "ax.set_ylabel('xSec(pb)')\n",
    "\n",
    "plt.legend(['SHERPA','PoPy', 'Average'])\n",
    "\n",
    "# display the plot\n",
    "plt.show()"
   ]
  },
  {
   "cell_type": "code",
   "execution_count": 21,
   "id": "4c864615-9206-4259-bc5d-263b0ad2eb33",
   "metadata": {},
   "outputs": [
    {
     "data": {
      "text/plain": [
       "0.22758620689655162"
      ]
     },
     "execution_count": 21,
     "metadata": {},
     "output_type": "execute_result"
    }
   ],
   "source": [
    "(0.725-0.56)/0.725"
   ]
  },
  {
   "cell_type": "code",
   "execution_count": null,
   "id": "f606de60-b8d8-4ce2-bdeb-230d2f72f9e7",
   "metadata": {},
   "outputs": [],
   "source": []
  }
 ],
 "metadata": {
  "kernelspec": {
   "display_name": "Python 3 (ipykernel)",
   "language": "python",
   "name": "python3"
  },
  "language_info": {
   "codemirror_mode": {
    "name": "ipython",
    "version": 3
   },
   "file_extension": ".py",
   "mimetype": "text/x-python",
   "name": "python",
   "nbconvert_exporter": "python",
   "pygments_lexer": "ipython3",
   "version": "3.10.5"
  }
 },
 "nbformat": 4,
 "nbformat_minor": 5
}
