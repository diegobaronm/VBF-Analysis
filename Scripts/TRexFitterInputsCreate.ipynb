{
 "cells": [
  {
   "cell_type": "markdown",
   "id": "c00be53e-b0f4-4fca-8d43-218edb227e5a",
   "metadata": {
    "tags": []
   },
   "source": [
    "# Generates the input histograms to use with TRexFitter\n",
    "## 1. Gather files from paths.\n",
    "## 2. Correct Z-QCDjj uncertainty taking into account the uncertainties coming from the RW.\n",
    "## 3. Create file and upload it to lxplus."
   ]
  },
  {
   "cell_type": "markdown",
   "id": "73a44c35-6567-4bd4-812b-c661e250aee8",
   "metadata": {},
   "source": [
    "## 1"
   ]
  },
  {
   "cell_type": "code",
   "execution_count": 16,
   "id": "1f6d76a0-1962-4a3a-83ef-99eef7facbd1",
   "metadata": {
    "tags": []
   },
   "outputs": [],
   "source": [
    "import ROOT as r\n",
    "import os\n",
    "import numpy as np\n",
    "import matplotlib.pyplot as plt\n",
    "\n",
    "def channel(path):\n",
    "    if \"MuMu\" in path:\n",
    "        return \"Zmumu\"\n",
    "    elif \"Zee\" in path:\n",
    "        return \"Zee\"\n",
    "    elif \"TauTau\" in path:\n",
    "        return \"Ztautau\"\n",
    "    else :\n",
    "        raise ValueError(\"Path not found\")\n",
    "\n",
    "remotePath = \"/afs/cern.ch/work/d/dbaronmo/private/TRexFitter/stat-tutorial/\"\n",
    "localPath = \"/Users/diegomac/Documents/HEP/VBF-Analysis/TauTau/AnalysisCrossCheck/\"\n",
    "\n",
    "dataSamples = ['Data.root']\n",
    "signalSamples = ['Signal_Sherpa.root','Signal_PoPy.root']\n",
    "qcdSamples = [channel(localPath)+i for i in [\"_SherpaRW.root\",\"_MGRW.root\",\"_Average_EW-Sherpa.root\",\"_Average_EW-PoPy.root\"]]\n",
    "backgroundSamples = ['Wjets.root','VV.root',\"ttbar.root\",'singletop.root']\n",
    "if \"Tau\" in localPath:\n",
    "    backgroundSamples += ['Higgs.root','Zjets.root']\n",
    "    \n",
    "samples = dataSamples+signalSamples+qcdSamples+backgroundSamples"
   ]
  },
  {
   "cell_type": "markdown",
   "id": "15a0b9f6-4427-4e13-8610-f30f1b1219b2",
   "metadata": {},
   "source": [
    "## 2"
   ]
  },
  {
   "cell_type": "code",
   "execution_count": 17,
   "id": "f4019fab-010f-47d0-8913-9f4d11c23e3d",
   "metadata": {
    "tags": []
   },
   "outputs": [
    {
     "data": {
      "text/plain": [
       "[<matplotlib.lines.Line2D at 0x28300bd00>]"
      ]
     },
     "execution_count": 17,
     "metadata": {},
     "output_type": "execute_result"
    },
    {
     "data": {
      "image/png": "[encoded data removed]",
      "text/plain": [
       "<Figure size 640x480 with 1 Axes>"
      ]
     },
     "metadata": {},
     "output_type": "display_data"
    }
   ],
   "source": [
    "def model_uncern(covariance_matrix,x):\n",
    "    var_a = covariance_matrix[0][0]\n",
    "    var_b = covariance_matrix[1][1]\n",
    "    var_c = covariance_matrix[2][2]\n",
    "    \n",
    "    cov_ab = covariance_matrix[0][1]\n",
    "    cov_ac = covariance_matrix[0][2]\n",
    "    cov_bc = covariance_matrix[1][2]\n",
    "    \n",
    "    diagonal_term = var_a*(x**4) + var_b*(x**2) + var_c\n",
    "    no_diagonal_term = 2*cov_ab*(x**3) + 2*cov_ac*(x**2) + 2*cov_bc*x\n",
    "    \n",
    "    return np.sqrt(diagonal_term+no_diagonal_term)\n",
    "\n",
    "def parabolic_shape(mjj,parameters):\n",
    "    a = parameters[0]\n",
    "    b = parameters[1]\n",
    "    c = parameters[2]\n",
    "    return a*mjj*mjj+b*mjj+c\n",
    "\n",
    "model_uncer = np.vectorize(model_uncern)\n",
    "parabolic_shape = np.vectorize(parabolic_shape,excluded=['parameters'])\n",
    "\n",
    "fitParams = {\"Sherpa\": [ 1.31867345e-07, -6.91194368e-04,  1.49568233e+00], \n",
    "              \"MG\" : [ 1.35194973e-07, -5.44814667e-04,  9.89623841e-01] }\n",
    "\n",
    "covarianceMatrix =  {\"Sherpa\" : [[ 1.19177067e-17, -2.94876918e-14,  1.41446066e-11],\n",
    "                               [-2.94876918e-14,  8.14817316e-11, -4.30728335e-08],\n",
    "                               [ 1.41446066e-11, -4.30728335e-08,  2.66545658e-05]],\n",
    "                    \"MG\" : [[ 6.10103774e-18, -1.39152060e-14,  6.28353598e-12],\n",
    "                           [-1.39152060e-14,  3.55524563e-11, -1.77055103e-08],\n",
    "                           [ 6.28353598e-12, -1.77055103e-08,  1.02381778e-05]]}\n",
    "\n",
    "x = np.linspace(0,5000,5001)\n",
    "y = parabolic_shape(x,parameters=fitParams[\"Sherpa\"])\n",
    "y_error = model_uncern(covarianceMatrix[\"Sherpa\"],x)\n",
    "\n",
    "percentageError = 100*y_error/y\n",
    "\n",
    "plt.errorbar(x,y,y_error)\n",
    "plt.plot(x,percentageError)"
   ]
  },
  {
   "cell_type": "code",
   "execution_count": 18,
   "id": "7da611b1-920f-4a02-8773-b212051602b5",
   "metadata": {
    "tags": []
   },
   "outputs": [],
   "source": [
    "def scaleBinUncertainty(histogram,sampleName):\n",
    "    \n",
    "    sampleType = \"MG\"\n",
    "    if \"Sherpa\" in sampleName:\n",
    "        sampleType = \"Sherpa\"\n",
    "    \n",
    "    for i in range(1,histogram.GetNbinsX()+1):\n",
    "        x = histogram.GetBinCenter(i)\n",
    "        error = histogram.GetBinError(i)\n",
    "        rw = parabolic_shape(x,parameters=fitParams[sampleType])\n",
    "        rw_error = model_uncern(covarianceMatrix[sampleType],x)\n",
    "        newError = np.sqrt(error**2 + ((rw_error/rw)**2)*(error**2))\n",
    "        histogram.SetBinError(i,newError)"
   ]
  },
  {
   "cell_type": "code",
   "execution_count": 19,
   "id": "2709265f-8f6d-4b4b-ba2d-65fdb7b855f5",
   "metadata": {
    "tags": []
   },
   "outputs": [],
   "source": [
    "histogramNames = [\"mass_jj\"]\n",
    "\n",
    "outputFile = r.TFile.Open(channel(localPath)+\"histograms.root\",\"RECREATE\")\n",
    "\n",
    "for sample in samples:\n",
    "    for histogramName in histogramNames:\n",
    "        file = r.TFile.Open(localPath+sample,\"READ\")\n",
    "        histogram = file.Get(histogramName)\n",
    "        \n",
    "        if \"RW\" in sample:\n",
    "            scaleBinUncertainty(histogram,sample)\n",
    "        \n",
    "        outputFile.WriteObject(histogram,histogramName+\"_\"+sample[:-5])\n",
    "        file.Close()\n",
    "        \n",
    "outputFile.Close()"
   ]
  },
  {
   "cell_type": "code",
   "execution_count": 20,
   "id": "1c863b1c-2310-4a8d-a022-173f0fb2d4aa",
   "metadata": {
    "tags": []
   },
   "outputs": [
    {
     "data": {
      "text/plain": [
       "0"
      ]
     },
     "execution_count": 20,
     "metadata": {},
     "output_type": "execute_result"
    }
   ],
   "source": [
    "os.system(\"scp \"+channel(localPath)+\"histograms.root \"+\"dbaronmo@lxplus.cern.ch:\"+remotePath+\".\")"
   ]
  },
  {
   "cell_type": "code",
   "execution_count": 120,
   "id": "8665f515-31cc-428d-ae6a-dc17147594c0",
   "metadata": {
    "tags": []
   },
   "outputs": [
    {
     "data": {
      "text/plain": [
       "array([0.00255163, 0.00154236, 0.00101951, 0.00101349, 0.00120375,\n",
       "       0.00140845, 0.00192416, 0.00367772, 0.00684859, 0.0140738 ,\n",
       "       0.02812596])"
      ]
     },
     "execution_count": 120,
     "metadata": {},
     "output_type": "execute_result"
    }
   ],
   "source": [
    "axis = np.array([ 125.,  375.,  625.,  875., 1125., 1375., 1750., 2250., 2750., 3500., 4500.])\n",
    "y_error = model_uncern(covarianceMatrix[\"MG\"],axis)\n",
    "y_error"
   ]
  },
  {
   "cell_type": "code",
   "execution_count": null,
   "id": "50636269-6eb8-461d-adfb-37423c4faea0",
   "metadata": {},
   "outputs": [],
   "source": []
  }
 ],
 "metadata": {
  "kernelspec": {
   "display_name": "Python 3 (ipykernel)",
   "language": "python",
   "name": "python3"
  },
  "language_info": {
   "codemirror_mode": {
    "name": "ipython",
    "version": 3
   },
   "file_extension": ".py",
   "mimetype": "text/x-python",
   "name": "python",
   "nbconvert_exporter": "python",
   "pygments_lexer": "ipython3",
   "version": "3.10.5"
  }
 },
 "nbformat": 4,
 "nbformat_minor": 5
}
