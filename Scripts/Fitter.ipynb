{
 "cells": [
  {
   "cell_type": "code",
   "execution_count": 2,
   "metadata": {},
   "outputs": [
    {
     "name": "stdout",
     "output_type": "stream",
     "text": [
      "Welcome to JupyROOT 6.26/04\n",
      "iminuit version: 2.11.2\n"
     ]
    }
   ],
   "source": [
    "import os\n",
    "import ROOT as r\n",
    "\n",
    "import ctypes\n",
    "import pandas as pd\n",
    "import numpy as np\n",
    "import matplotlib.pyplot as plt\n",
    "from scipy.optimize import curve_fit\n",
    "    \n",
    "def linear_shape(mjj,slope,level):\n",
    "    return slope*mjj+level\n",
    "\n",
    "def parabolic_shape(mjj,a,b,c):\n",
    "    return a*(mjj**2)+b*mjj+c\n",
    "\n",
    "def chi_square(model, slope, level, x,y,uncer):\n",
    "    chi=0\n",
    "    for i in range(0,len(x)):\n",
    "        chi+=((y[i]-model(x[i],slope,level))**2)/(uncer[i]**2)\n",
    "        #print(x[i])\n",
    "        #print(((y[i]-model(x[i],slope,level))**2)/(uncer[i]**2))\n",
    "    return (chi/(len(x)-2))\n",
    "\n",
    "def chi_square2(model, slope, level,offset, x,y,uncer):\n",
    "    chi=0\n",
    "    for i in range(0,len(x)):\n",
    "        chi+=((y[i]-model(x[i],slope,level,offset))**2)/(uncer[i]**2)\n",
    "        #print(x[i])\n",
    "        #print(((y[i]-model(x[i],slope,level))**2)/(uncer[i]**2))\n",
    "    return (chi/(len(x)-3))\n",
    "\n",
    "\n",
    "def biner(edges,bin_widths,histogram):\n",
    "    if (len(edges)+1!=len(bin_widths)):\n",
    "        print(\"Check edges and bin widths array sizes!\")\n",
    "        return\n",
    "    \n",
    "    bins=[]\n",
    "    first_bin = histogram.GetXaxis().GetBinLowEdge(1)\n",
    "    last_bin = histogram.GetXaxis().GetBinUpEdge(histogram.GetNbinsX())\n",
    "\n",
    "    for i in range(0,len(edges)):\n",
    "        n_spaces = int((edges[i] - first_bin)/bin_widths[i])\n",
    "        bins = np.concatenate((bins,np.linspace(first_bin,edges[i],n_spaces,endpoint=False)))\n",
    "        first_bin = edges[i]\n",
    "        if edges[i]==edges[-1]:\n",
    "            n_spaces = int((last_bin - edges[i])/bin_widths[i+1])\n",
    "            bins = np.concatenate((bins,np.linspace(edges[i],last_bin,n_spaces,endpoint=False)))\n",
    "            bins = np.concatenate((bins,[last_bin]))\n",
    "    return bins\n",
    "            \n",
    "def Unpack_Histo(histogram_file):\n",
    "    bin_content = []\n",
    "    bin_content_uncer =[]\n",
    "    for i in range(2,histogram_file.GetNbinsX()+1+1): # overflow bin\n",
    "        bin_content.append(histogram_file.GetBinContent(i))\n",
    "        bin_content_uncer.append(histogram_file.GetBinError(i))\n",
    "    return np.array(bin_content),np.array(bin_content_uncer)\n",
    "\n",
    "def SR_parameters(dict_of_parameters):\n",
    "    sr_dic = {}\n",
    "    for i in dict_of_parameters[\"CRa\"]:\n",
    "        transfer_factor = (dict_of_parameters[\"CRc\"][i][0]/dict_of_parameters[\"CRb\"][i][0])\n",
    "        transfer_factor_err = transfer_factor*((dict_of_parameters[\"CRc\"][i][1]/dict_of_parameters[\"CRc\"][i][0])**2+(dict_of_parameters[\"CRb\"][i][1]/dict_of_parameters[\"CRb\"][i][0])**2)**0.5\n",
    "        sr_dic[i] = [dict_of_parameters[\"CRa\"][i][0]*transfer_factor , dict_of_parameters[\"CRa\"][i][0]*transfer_factor*((transfer_factor_err/transfer_factor)**2+(dict_of_parameters[\"CRa\"][i][1]/dict_of_parameters[\"CRa\"][i][0])**2)**0.5]\n",
    "\n",
    "    return sr_dic\n",
    "\n",
    "# everything in iminuit is done through the Minuit object, so we import it\n",
    "from iminuit import Minuit\n",
    "\n",
    "# we also need a cost function to fit and import the LeastSquares function\n",
    "#from iminuit.cost import LeastSquares\n",
    "\n",
    "# display iminuit version\n",
    "import iminuit\n",
    "print(\"iminuit version:\", iminuit.__version__)\n",
    "\n",
    "\n",
    "############ Create a 2D least square fit ###################\n",
    "\n",
    "from iminuit.util import describe, make_func_code\n",
    "class LeastSquares:\n",
    "    \"\"\"\n",
    "    Generic least-squares cost function with error.\n",
    "    \"\"\"\n",
    "\n",
    "    errordef = Minuit.LEAST_SQUARES # for Minuit to compute errors correctly\n",
    "\n",
    "    def __init__(self, model, s1, s2, y, err):\n",
    "        self.model = model  # model predicts y for given x\n",
    "        self.s1 = np.asarray(s1)\n",
    "        self.s2 = np.asarray(s2)\n",
    "        self.y = np.asarray(y)\n",
    "        self.err = np.asarray(err)\n",
    "\n",
    "    def __call__(self, *par):  # we accept a variable number of model parameters\n",
    "        ym = self.model(self.s1,self.s2, *par)\n",
    "        return np.sum((self.y - ym) ** 2 / self.err ** 2)\n",
    "    \n",
    "class BetterLeastSquares(LeastSquares):\n",
    "    def __init__(self, model, s1 , s2, y, err):\n",
    "        super().__init__(model, s1,s2 , y, err)\n",
    "        self.func_code = make_func_code(describe(model)[2:])"
   ]
  },
  {
   "cell_type": "code",
   "execution_count": 16,
   "metadata": {},
   "outputs": [],
   "source": [
    "### Defining class to store information for fit procedure\n",
    "\n",
    "class mjj_shape :\n",
    "    def __init__(self,samples,path_to_samples,final_state,histogram=\"mass_jj\"):\n",
    "        print(\"HELLO CONSTRUCTOR!!\")\n",
    "        self.final_state = final_state\n",
    "        self.samples = samples\n",
    "        self.path_to_samples = path_to_samples\n",
    "        self.regions = [i for i in os.listdir(path_to_samples)]\n",
    "        self.dic_of_samples = {}\n",
    "        self.dic_of_parameters = {\"SR\":0.0}\n",
    "        self.residuals = {}\n",
    "        self.x_axis = np.array([])\n",
    "        self.qcd_factors = np.array([])\n",
    "        self.vbf_factors = np.array([])\n",
    "        \n",
    "        ### when initialising the object, fill the dictionaries with the samples shape\n",
    "\n",
    "        for reg in self.regions:\n",
    "            temp_dic ={}\n",
    "            for s in samples :\n",
    "\n",
    "                ### Open the file and get the histogram\n",
    "                file = r.TFile.Open(path_to_samples+reg+'/'+s)\n",
    "                hist = file.Get(histogram)\n",
    "                hist.SetDirectory(0)\n",
    "                ### Rebin the histogram\n",
    "                rebining=biner([1500],[250,500],hist)\n",
    "                nb=len(rebining)-1\n",
    "                hist=hist.Rebin(nb,\"hist\",rebining)\n",
    "                ### Unpack the histogram\n",
    "                value,uncern = Unpack_Histo(hist)\n",
    "                if s==\"Data.root\":\n",
    "                    x = []\n",
    "                    for b in range(2,hist.GetNbinsX()+2):\n",
    "                        x.append(hist.GetBinLowEdge(b))\n",
    "                    self.x_axis = np.array(x)\n",
    "\n",
    "                temp_dic[s]={\"value\":value,\"uncern\":uncern}\n",
    "                if \"Signal\" in s:\n",
    "                    temp_dic[s+\"RW\"]=temp_dic[s]\n",
    "            self.dic_of_samples[reg] = temp_dic\n",
    "            \n",
    "            \n",
    "\n",
    "    ### function to calculate the residuals from the samples data\n",
    "\n",
    "    def calculate_residuals(self,vbf_sample,qcd_sample):\n",
    "        for reg in self.regions:\n",
    "            if \"CR\" in reg:\n",
    "                residual_val = self.dic_of_samples[reg][\"Data.root\"][\"value\"] - self.dic_of_samples[reg][vbf_sample][\"value\"]\n",
    "                residual_err = ((self.dic_of_samples[reg][\"Data.root\"][\"uncern\"])**2 + (self.dic_of_samples[reg][vbf_sample][\"uncern\"])**2)**0.5\n",
    "                \n",
    "                for s in self.samples:\n",
    "                    if  self.final_state not in s and \"Data\" not in s and \"Signal\" not in s:\n",
    "                        residual_val = residual_val - self.dic_of_samples[reg][s][\"value\"]\n",
    "                        residual_err = (residual_err**2 + (self.dic_of_samples[reg][s][\"uncern\"])**2)**0.5\n",
    "                for i in range(0,len(residual_val)):\n",
    "                    if residual_val[i]<0:\n",
    "                        residual_val[i]=0\n",
    "                \n",
    "                uncer = ((residual_err/residual_val)**2+(self.dic_of_samples[reg][qcd_sample][\"uncern\"]/self.dic_of_samples[reg][qcd_sample][\"value\"])**2)**0.5\n",
    "                residual_val = residual_val/self.dic_of_samples[reg][qcd_sample][\"value\"]\n",
    "                residual_err = residual_val*uncer\n",
    "\n",
    "                self.residuals[reg] = {\"value\":residual_val,\"uncern\":residual_err}\n",
    "\n",
    "    def fit_data(self,reg):\n",
    "        c = 0\n",
    "        for i in self.residuals[reg][\"value\"]:\n",
    "            if i>0:\n",
    "                c+=1\n",
    "            else :\n",
    "                break\n",
    "        return self.x_axis[0:c],self.residuals[reg][\"value\"][0:c],self.residuals[reg][\"uncern\"][0:c]\n",
    "    \n",
    "    def rw_sr(self,qcd_sample,model,*args):\n",
    "        model_vec = np.vectorize(model)\n",
    "        weights = model_vec(self.x_axis,*args)\n",
    "        \n",
    "        for i in range(0,len(weights)):\n",
    "            if weights[i]<0:\n",
    "                weights[i]=0.0\n",
    "        \n",
    "        self.dic_of_samples[\"SR\"][qcd_sample+\"RW\"]={\"value\":weights*self.dic_of_samples[\"SR\"][qcd_sample][\"value\"],\"uncern\":self.dic_of_samples[\"SR\"][qcd_sample][\"uncern\"]}\n",
    "        \n",
    "    def data_subtracted(self,reg):\n",
    "        self.dic_of_samples[reg][\"Data_Subracted\"] = {\"value\":self.dic_of_samples[reg][\"Data.root\"][\"value\"],\"uncern\":self.dic_of_samples[reg][\"Data.root\"][\"uncern\"]}\n",
    "        for i in self.dic_of_samples[reg]:\n",
    "            if (\"Data\" not in i) and (self.final_state not in i) and (\"Signal\" not in i):\n",
    "                self.dic_of_samples[reg][\"Data_Subracted\"][\"value\"]=self.dic_of_samples[reg][\"Data_Subracted\"][\"value\"] - self.dic_of_samples[reg][i][\"value\"]\n",
    "                self.dic_of_samples[reg][\"Data_Subracted\"][\"uncern\"]=((self.dic_of_samples[reg][\"Data_Subracted\"][\"uncern\"])**2 + (self.dic_of_samples[reg][i][\"uncern\"])**2)**0.5\n",
    "        return self.dic_of_samples[reg][\"Data_Subracted\"]\n",
    "    \n",
    "    def fit_norm(self,vbf_sample,qcd_sample):\n",
    "        def model(shape1,shape2, qcd, vbf):\n",
    "            return qcd*shape1 + vbf*shape2\n",
    "        \n",
    "        x_axis = self.x_axis\n",
    "        y_axis = self.data_subtracted(\"SR\")[\"value\"]\n",
    "\n",
    "        y_error = ( (self.data_subtracted(\"SR\")[\"uncern\"])**2 + (self.dic_of_samples[\"SR\"][vbf_sample][\"uncern\"])**2 + (self.dic_of_samples[\"SR\"][qcd_sample][\"uncern\"])**2 )**0.5\n",
    "        qcd_shape = self.dic_of_samples[\"SR\"][qcd_sample][\"value\"]\n",
    "        qcd_shape_uncer = self.dic_of_samples[\"SR\"][qcd_sample][\"uncern\"]\n",
    "\n",
    "        vbf_shape = self.dic_of_samples[\"SR\"][vbf_sample][\"value\"]\n",
    "        vbf_shape_uncer = self.dic_of_samples[\"SR\"][vbf_sample][\"uncern\"]\n",
    "\n",
    "        least_squares = BetterLeastSquares(model,qcd_shape,vbf_shape, y_axis,y_error)\n",
    "\n",
    "        m = Minuit(least_squares, qcd=1.0, vbf=1.0)  # starting values for α and β\n",
    "\n",
    "        m.migrad()  # finds minimum of least_squares function\n",
    "        m.hesse()   # accurately computes uncertainties\n",
    "        \n",
    "        return np.array([m.values, m.errors])\n",
    "    \n",
    "    def update(self,norm_factors,vbf_sample):\n",
    "        self.qcd_factors=np.append(self.qcd_factors,norm_factors[0][0])\n",
    "        self.vbf_factors=np.append(self.vbf_factors,norm_factors[0][1])\n",
    "        \n",
    "        for reg in self.dic_of_samples:\n",
    "            if \"CR\" in reg:\n",
    "                self.dic_of_samples[reg][vbf_sample+\"RW\"]={\"value\":norm_factors[0][1]*self.dic_of_samples[reg][vbf_sample][\"value\"],\"uncern\":self.dic_of_samples[reg][vbf_sample][\"uncern\"]}\n",
    "        \n"
   ]
  },
  {
   "cell_type": "code",
   "execution_count": 17,
   "metadata": {},
   "outputs": [
    {
     "name": "stdout",
     "output_type": "stream",
     "text": [
      "HELLO CONSTRUCTOR!!\n",
      "HELLO CONSTRUCTOR!!\n"
     ]
    }
   ],
   "source": [
    "Zmm = mjj_shape([\"Data.root\",\"Signal_Sherpa.root\",\"Signal_PoPy.root\",\"Zmumu_Sherpa.root\",\"Zmumu_MG.root\",\"ttbar.root\",\"VV.root\",\"Wjets.root\",\"singletop.root\"],'/home/diego/HEP/VBF-Analysis/MuMu/Plots/RecursiveFits-Loose/',\"Zmumu\")\n",
    "Zee = mjj_shape([\"Data.root\",\"Signal_Sherpa.root\",\"Signal_PoPy.root\",\"Zee_Sherpa.root\",\"Zee_MG.root\",\"ttbar.root\",\"VV.root\",\"Wjets.root\",\"singletop.root\"],'/home/diego/HEP/VBF-Analysis/Zee/Plots/RecursiveFits-Loose/',\"Zee\")\n"
   ]
  },
  {
   "cell_type": "code",
   "execution_count": 18,
   "metadata": {},
   "outputs": [
    {
     "name": "stdout",
     "output_type": "stream",
     "text": [
      "0\n",
      "SR VBF Zmm =  66.37413024902344\n",
      "SR QCD no RW Zmm =  67.432861328125\n",
      "CRa VBF RW Zmm =  9.388655662536621\n",
      "CRa VBF no RW Zmm =  9.388655662536621\n",
      "CRa QCD Zmm =  70.04591369628906\n",
      "1\n",
      "SR VBF Zmm =  66.37413024902344\n",
      "SR QCD no RW Zmm =  67.432861328125\n",
      "CRa VBF RW Zmm =  10.430406800001682\n",
      "CRa VBF no RW Zmm =  9.388655662536621\n",
      "CRa QCD Zmm =  70.04591369628906\n",
      "SR QCD RW Zmm =  26.43433699416557\n",
      "2\n",
      "SR VBF Zmm =  66.37413024902344\n",
      "SR QCD no RW Zmm =  67.432861328125\n",
      "CRa VBF RW Zmm =  10.717848399436996\n",
      "CRa VBF no RW Zmm =  9.388655662536621\n",
      "CRa QCD Zmm =  70.04591369628906\n",
      "SR QCD RW Zmm =  24.030215704279996\n",
      "3\n",
      "SR VBF Zmm =  66.37413024902344\n",
      "SR QCD no RW Zmm =  67.432861328125\n",
      "CRa VBF RW Zmm =  10.784384566148479\n",
      "CRa VBF no RW Zmm =  9.388655662536621\n",
      "CRa QCD Zmm =  70.04591369628906\n",
      "SR QCD RW Zmm =  23.4613511173753\n",
      "4\n",
      "SR VBF Zmm =  66.37413024902344\n",
      "SR QCD no RW Zmm =  67.432861328125\n",
      "CRa VBF RW Zmm =  10.799879836867296\n",
      "CRa VBF no RW Zmm =  9.388655662536621\n",
      "CRa QCD Zmm =  70.04591369628906\n",
      "SR QCD RW Zmm =  23.32903371927994\n",
      "5\n",
      "SR VBF Zmm =  66.37413024902344\n",
      "SR QCD no RW Zmm =  67.432861328125\n",
      "CRa VBF RW Zmm =  10.803491808094133\n",
      "CRa VBF no RW Zmm =  9.388655662536621\n",
      "CRa QCD Zmm =  70.04591369628906\n",
      "SR QCD RW Zmm =  23.298199145910672\n",
      "6\n",
      "SR VBF Zmm =  66.37413024902344\n",
      "SR QCD no RW Zmm =  67.432861328125\n",
      "CRa VBF RW Zmm =  10.804333821600009\n",
      "CRa VBF no RW Zmm =  9.388655662536621\n",
      "CRa QCD Zmm =  70.04591369628906\n",
      "SR QCD RW Zmm =  23.291011552950582\n",
      "7\n",
      "SR VBF Zmm =  66.37413024902344\n",
      "SR QCD no RW Zmm =  67.432861328125\n",
      "CRa VBF RW Zmm =  10.804530085282897\n",
      "CRa VBF no RW Zmm =  9.388655662536621\n",
      "CRa QCD Zmm =  70.04591369628906\n",
      "SR QCD RW Zmm =  23.289336197499733\n",
      "8\n",
      "SR VBF Zmm =  66.37413024902344\n",
      "SR QCD no RW Zmm =  67.432861328125\n",
      "CRa VBF RW Zmm =  10.804575858195987\n",
      "CRa VBF no RW Zmm =  9.388655662536621\n",
      "CRa QCD Zmm =  70.04591369628906\n",
      "SR QCD RW Zmm =  23.288945515263265\n",
      "9\n",
      "SR VBF Zmm =  66.37413024902344\n",
      "SR QCD no RW Zmm =  67.432861328125\n",
      "CRa VBF RW Zmm =  10.804586521168247\n",
      "CRa VBF no RW Zmm =  9.388655662536621\n",
      "CRa QCD Zmm =  70.04591369628906\n",
      "SR QCD RW Zmm =  23.28885447319902\n"
     ]
    },
    {
     "name": "stderr",
     "output_type": "stream",
     "text": [
      "/tmp/ipykernel_115451/3752038540.py:62: RuntimeWarning: divide by zero encountered in true_divide\n",
      "  uncer = ((residual_err/residual_val)**2+(self.dic_of_samples[reg][qcd_sample][\"uncern\"]/self.dic_of_samples[reg][qcd_sample][\"value\"])**2)**0.5\n",
      "/tmp/ipykernel_115451/3752038540.py:62: RuntimeWarning: invalid value encountered in true_divide\n",
      "  uncer = ((residual_err/residual_val)**2+(self.dic_of_samples[reg][qcd_sample][\"uncern\"]/self.dic_of_samples[reg][qcd_sample][\"value\"])**2)**0.5\n",
      "/tmp/ipykernel_115451/3752038540.py:64: RuntimeWarning: invalid value encountered in multiply\n",
      "  residual_err = residual_val*uncer\n"
     ]
    }
   ],
   "source": [
    "final_states = [Zee,Zmm]\n",
    "vbf_sample = \"Sherpa\"\n",
    "qcd_sample = \"Sherpa\"\n",
    "     \n",
    "n_iterations = 10\n",
    "np.set_printoptions(precision=3)\n",
    "    \n",
    "for ite in range(n_iterations):\n",
    "    ##### Check is working...\n",
    "    print(ite)\n",
    "    print(\"SR VBF Zmm = \",Zmm.dic_of_samples[\"SR\"][\"Signal_\"+vbf_sample+\".root\"+\"RW\"][\"value\"][7])\n",
    "    print(\"SR QCD no RW Zmm = \",Zmm.dic_of_samples[\"SR\"][Zmm.final_state+\"_\"+qcd_sample+\".root\"][\"value\"][7])\n",
    "    print(\"CRa VBF RW Zmm = \",Zmm.dic_of_samples[\"CRa\"][\"Signal_\"+vbf_sample+\".root\"+\"RW\"][\"value\"][7])\n",
    "    print(\"CRa VBF no RW Zmm = \",Zmm.dic_of_samples[\"CRa\"][\"Signal_\"+vbf_sample+\".root\"][\"value\"][7])\n",
    "    print(\"CRa QCD Zmm = \",Zmm.dic_of_samples[\"CRa\"][Zmm.final_state+\"_\"+qcd_sample+\".root\"][\"value\"][7])\n",
    "    if ite >0:\n",
    "        print(\"SR QCD RW Zmm = \",Zmm.dic_of_samples[\"SR\"][Zmm.final_state+\"_\"+qcd_sample+\".root\"+\"RW\"][\"value\"][7])\n",
    "    \n",
    "    \n",
    "    ### Perform all the CR region fits and extract the SR parameters.\n",
    "\n",
    "    for o in final_states:\n",
    "        for i in final_states[0].regions:\n",
    "            if \"CR\" in i:\n",
    "                o.calculate_residuals(\"Signal_\"+vbf_sample+\".root\"+\"RW\",o.final_state+\"_\"+qcd_sample+\".root\")\n",
    "                x,y,err = o.fit_data(i)\n",
    "                if qcd_sample == \"Sherpa\":\n",
    "                    params = {\"m\":1,\"c\":0.0}\n",
    "                    lfit, lcov = curve_fit(linear_shape, x, y,sigma=err)\n",
    "                    params[\"m\"]=[lfit[0],np.sqrt(lcov[0][0])]\n",
    "                    params[\"c\"]=[lfit[1],np.sqrt(lcov[1][1])]\n",
    "                elif qcd_sample == \"MG\":\n",
    "                    params = {\"a\":0.0,\"b\":1.0,\"c\":0.0}\n",
    "                    pfit, pcov = curve_fit(parabolic_shape, x, y,sigma=err)\n",
    "                    params[\"a\"]=[pfit[0],np.sqrt(pcov[0][0])]\n",
    "                    params[\"b\"]=[pfit[1],np.sqrt(pcov[1][1])]\n",
    "                    params[\"c\"]=[pfit[2],np.sqrt(pcov[2][2])]\n",
    "                o.dic_of_parameters[i]=params\n",
    "\n",
    "        o.dic_of_parameters[\"SR\"] = SR_parameters(o.dic_of_parameters)\n",
    "\n",
    "    ### Calculate average function to reweight SR\n",
    "    reweight_function={}\n",
    "    for param in final_states[0].dic_of_parameters[\"SR\"]:\n",
    "        reweight_function[param]=0.0\n",
    "    for p in reweight_function:\n",
    "        err = 0\n",
    "        for o in final_states:\n",
    "            reweight_function[p]=reweight_function[p] + o.dic_of_parameters[\"SR\"][p][0]/(o.dic_of_parameters[\"SR\"][p][1])**2\n",
    "            err = err + 1/(o.dic_of_parameters[\"SR\"][p][1])**2\n",
    "        reweight_function[p]=reweight_function[p]/err\n",
    "    #print(reweight_function)\n",
    "    ### Reweight the SR according to average function\n",
    "\n",
    "    for o in final_states:\n",
    "        if qcd_sample==\"MG\":\n",
    "            o.rw_sr(o.final_state+\"_MG.root\",parabolic_shape,*reweight_function.values())\n",
    "        elif qcd_sample==\"Sherpa\":\n",
    "            o.rw_sr(o.final_state+\"_Sherpa.root\",linear_shape,*reweight_function.values())\n",
    "\n",
    "    ### Scale according to the normalisation fit\n",
    "\n",
    "    for o in final_states:\n",
    "        norm_factors = o.fit_norm(\"Signal_\"+vbf_sample+\".root\",o.final_state+\"_\"+qcd_sample+\".root\"+\"RW\")\n",
    "        o.update(norm_factors,\"Signal_\"+vbf_sample+\".root\")\n",
    "   \n",
    "\n",
    "    \n",
    "    \n",
    "    "
   ]
  },
  {
   "cell_type": "code",
   "execution_count": 19,
   "metadata": {},
   "outputs": [
    {
     "data": {
      "text/plain": [
       "<matplotlib.legend.Legend at 0x7ff338ae8e20>"
      ]
     },
     "execution_count": 19,
     "metadata": {},
     "output_type": "execute_result"
    },
    {
     "data": {
      "image/png": "[encoded data removed]",
      "text/plain": [
       "<Figure size 432x288 with 1 Axes>"
      ]
     },
     "metadata": {
      "needs_background": "light"
     },
     "output_type": "display_data"
    }
   ],
   "source": [
    "iterations_vector = [i for i in range(1,n_iterations+1)]\n",
    "plt.plot(iterations_vector,Zee.vbf_factors,label=\"Zee VBF\")\n",
    "plt.plot(iterations_vector,Zee.qcd_factors,label=\"Zee QCD\")\n",
    "plt.plot(iterations_vector,Zmm.vbf_factors,label=\"Zmm VBF\")\n",
    "plt.plot(iterations_vector,Zmm.qcd_factors,label=\"Zmm QCD\")\n",
    "plt.legend()\n"
   ]
  },
  {
   "cell_type": "code",
   "execution_count": 20,
   "metadata": {},
   "outputs": [
    {
     "name": "stdout",
     "output_type": "stream",
     "text": [
      "Zee\n",
      "CRc\n",
      "{'m': [-0.00038804717862829573, 5.440909873744147e-05], 'c': [1.1545689513331292, 0.03879839384291541]}\n",
      "CRa\n",
      "{'m': [-0.0002702905877802723, 3.4646735680620244e-05], 'c': [1.1490611168969578, 0.03404581854370106]}\n",
      "CRb\n",
      "{'m': [-0.00024199983887740462, 3.436084936019996e-05], 'c': [0.9796150550489275, 0.02584310122449605]}\n",
      "SR\n",
      "{'m': [-0.0004334114455797328, -0.00010279333007845119], 'c': [1.3542771539858922, 0.07041051960396198]}\n",
      "VBF =  1.1901881587906002\n",
      "QCD =  0.9198650797849427\n",
      "\n",
      "\n",
      "Zmumu\n",
      "CRc\n",
      "{'m': [-0.0003866615238566765, 4.164217288975427e-05], 'c': [1.160555824997548, 0.032021432098275425]}\n",
      "CRa\n",
      "{'m': [-0.0002819424920283792, 3.645338950661559e-05], 'c': [1.120551420070823, 0.039810797850078544]}\n",
      "CRb\n",
      "{'m': [-0.0002980299968437213, 2.371754752641762e-05], 'c': [1.0181667208408016, 0.020238385594656357]}\n",
      "SR\n",
      "{'m': [-0.0003657897351346386, -6.808858361714328e-05], 'c': [1.277258872396209, 0.06281496476323155]}\n",
      "VBF =  1.150813213676649\n",
      "QCD =  0.9626309374026877\n",
      "\n",
      "\n",
      "SR\n",
      "{'m': -0.00038641117833175434, 'c': 1.3113912136697428}\n"
     ]
    }
   ],
   "source": [
    "np.set_printoptions(precision=3)\n",
    "for i in final_states:\n",
    "    print(i.final_state)\n",
    "    for r in i.regions:\n",
    "        print(r)\n",
    "        print(i.dic_of_parameters[r])\n",
    "    print(\"VBF = \",i.vbf_factors[n_iterations-1])\n",
    "    print(\"QCD = \",i.qcd_factors[n_iterations-1])\n",
    "    print(\"\\n\")  \n",
    "            \n",
    "print(\"SR\")       \n",
    "print(reweight_function)"
   ]
  },
  {
   "cell_type": "code",
   "execution_count": 21,
   "metadata": {},
   "outputs": [
    {
     "data": {
      "text/plain": [
       "<matplotlib.legend.Legend at 0x7ff338c235b0>"
      ]
     },
     "execution_count": 21,
     "metadata": {},
     "output_type": "execute_result"
    },
    {
     "data": {
      "image/png": "[encoded data removed]",
      "text/plain": [
       "<Figure size 432x288 with 1 Axes>"
      ]
     },
     "metadata": {
      "needs_background": "light"
     },
     "output_type": "display_data"
    }
   ],
   "source": [
    "x_axis = np.linspace(0,5000,5000)\n",
    "rw_sherpa = -3.864E-04*x_axis+1.311E+00\n",
    "rw_mg = 1.609E-08*x_axis**2 + -2.085E-04*x_axis + 8.563E-01\n",
    "\n",
    "rw_sherpa_old = -4.074E-04*x_axis+1.309E+00\n",
    "rw_mg_old = -1.953E-09*x_axis**2 + -1.501E-04*x_axis + 8.258E-01\n",
    "\n",
    "plt.plot(x_axis,rw_sherpa,'r-',label=\"Sherpa RW\")\n",
    "plt.plot(x_axis,rw_mg,'b-',label=\"MG RW\")\n",
    "\n",
    "plt.plot(x_axis,rw_sherpa_old,'r--',label=\"Sherpa RW OLD\")\n",
    "plt.plot(x_axis,rw_mg_old,'b--',label=\"MG RW OLD\")\n",
    "\n",
    "plt.legend()"
   ]
  },
  {
   "cell_type": "code",
   "execution_count": 5,
   "metadata": {},
   "outputs": [
    {
     "data": {
      "text/plain": [
       "<matplotlib.legend.Legend at 0x7fd9ba46ee30>"
      ]
     },
     "execution_count": 5,
     "metadata": {},
     "output_type": "execute_result"
    },
    {
     "data": {
      "image/png": "[encoded data removed]",
      "text/plain": [
       "<Figure size 432x288 with 1 Axes>"
      ]
     },
     "metadata": {
      "needs_background": "light"
     },
     "output_type": "display_data"
    }
   ],
   "source": [
    "x_axis = np.linspace(0,5000,5000)\n",
    "rw_sherpa_zee = -2.63E-04*x_axis+1.10E+00\n",
    "rw_sherpa_zee_q = 8.41E-08*x_axis**2 + -4.62E-04*x_axis + 1.173641\n",
    "rw_mg_zee = 1.37E-07*x_axis**2 + -4.14E-04*x_axis + 9.24E-01\n",
    "\n",
    "rw_sherpa_zmm = -3.02E-04*x_axis+1.11E+00\n",
    "rw_sherpa_zmm_q = 7.13E-08*x_axis**2 + -4.77E-04*x_axis + 1.18E+00\n",
    "rw_mg_zmm = 9.68E-08*x_axis**2 + -3.48E-04*x_axis + 0.899397\n",
    "\n",
    "plt.plot(x_axis,rw_sherpa_zee,'r-',label=\"Linear Sherpa RW Zee\")\n",
    "plt.plot(x_axis,rw_sherpa_zee_q,'g-',label=\"Quadratic Sherpa RW Zee\")\n",
    "plt.plot(x_axis,rw_mg_zee,'b-',label=\"MG RW Zee\")\n",
    "\n",
    "plt.plot(x_axis,rw_sherpa_zmm,'r--',label=\"Linear Sherpa RW Zmm\")\n",
    "plt.plot(x_axis,rw_sherpa_zmm_q,'g--',label=\"Quadratic Sherpa RW Zmm\")\n",
    "plt.plot(x_axis,rw_mg_zmm,'b--',label=\"MG RW Zmm\")\n",
    "\n",
    "plt.legend()"
   ]
  },
  {
   "cell_type": "code",
   "execution_count": 6,
   "metadata": {},
   "outputs": [
    {
     "data": {
      "text/plain": [
       "<matplotlib.legend.Legend at 0x7fd91b7e5750>"
      ]
     },
     "execution_count": 6,
     "metadata": {},
     "output_type": "execute_result"
    },
    {
     "data": {
      "image/png": "[encoded data removed]",
      "text/plain": [
       "<Figure size 432x288 with 1 Axes>"
      ]
     },
     "metadata": {
      "needs_background": "light"
     },
     "output_type": "display_data"
    }
   ],
   "source": [
    "x_axis = np.linspace(0,5000,5000)\n",
    "rw_sherpa = -2.813E-04*x_axis+1.10E+00\n",
    "rw_sherpa_q = 8.063E-08*x_axis**2 + -4.658E-04*x_axis + 1.174E+00\n",
    "rw_mg = 1.294E-07*x_axis**2 + -4.011E-04*x_axis + 9.189E-01\n",
    "\n",
    "\n",
    "\n",
    "plt.plot(x_axis,rw_sherpa,'r-',label=\"Linear Sherpa RW Combination\")\n",
    "plt.plot(x_axis,rw_sherpa_q,'g-',label=\"Quadratic Sherpa RW Combination\")\n",
    "plt.plot(x_axis,rw_mg,'b-',label=\"MG RW Combination\")\n",
    "\n",
    "\n",
    "plt.legend()"
   ]
  },
  {
   "cell_type": "code",
   "execution_count": null,
   "metadata": {},
   "outputs": [],
   "source": [
    "    "
   ]
  }
 ],
 "metadata": {
  "interpreter": {
   "hash": "916dbcbb3f70747c44a77c7bcd40155683ae19c65e1c03b4aa3499c5328201f1"
  },
  "kernelspec": {
   "display_name": "Python 3 (ipykernel)",
   "language": "python",
   "name": "python3"
  },
  "language_info": {
   "codemirror_mode": {
    "name": "ipython",
    "version": 3
   },
   "file_extension": ".py",
   "mimetype": "text/x-python",
   "name": "python",
   "nbconvert_exporter": "python",
   "pygments_lexer": "ipython3",
   "version": "3.10.4"
  }
 },
 "nbformat": 4,
 "nbformat_minor": 4
}
