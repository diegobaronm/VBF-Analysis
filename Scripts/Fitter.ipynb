{
 "cells": [
  {
   "cell_type": "code",
   "execution_count": 37,
   "metadata": {},
   "outputs": [],
   "source": [
    "import os\n",
    "import ROOT as r\n",
    "\n",
    "import ctypes\n",
    "import pandas as pd\n",
    "import numpy as np\n",
    "import matplotlib.pyplot as plt\n",
    "\n",
    "\n",
    "def biner(edges,bin_widths,histogram):\n",
    "    if (len(edges)+1!=len(bin_widths)):\n",
    "        print(\"Check edges and bin widths array sizes!\")\n",
    "        return\n",
    "    \n",
    "    bins=[]\n",
    "    first_bin = histogram.GetXaxis().GetBinLowEdge(1)\n",
    "    last_bin = histogram.GetXaxis().GetBinUpEdge(histogram.GetNbinsX())\n",
    "\n",
    "    for i in range(0,len(edges)):\n",
    "        n_spaces = int((edges[i] - first_bin)/bin_widths[i])\n",
    "        bins = np.concatenate((bins,np.linspace(first_bin,edges[i],n_spaces,endpoint=False)))\n",
    "        first_bin = edges[i]\n",
    "        if edges[i]==edges[-1]:\n",
    "            n_spaces = int((last_bin - edges[i])/bin_widths[i+1])\n",
    "            bins = np.concatenate((bins,np.linspace(edges[i],last_bin,n_spaces,endpoint=False)))\n",
    "            bins = np.concatenate((bins,[last_bin]))\n",
    "    return bins\n",
    "            \n",
    "def Unpack_Histo(histogram_file):\n",
    "    bin_content = []\n",
    "    bin_content_uncer =[]\n",
    "    for i in range(2,histogram_file.GetNbinsX()+1):\n",
    "        bin_content.append(histogram_file.GetBinContent(i))\n",
    "        bin_content_uncer.append(histogram_file.GetBinError(i))\n",
    "    return np.array(bin_content),np.array(bin_content_uncer)"
   ]
  },
  {
   "cell_type": "code",
   "execution_count": 41,
   "metadata": {},
   "outputs": [],
   "source": [
    "### Defining class to store information for fit procedure\n",
    "\n",
    "class mjj_shape :\n",
    "    def __init__(self,samples,path_to_samples,final_state,histogram=\"mass_jj\"):\n",
    "        self.final_state = final_state\n",
    "        self.samples = samples\n",
    "        self.path_to_samples = path_to_samples\n",
    "        self.regions = [i for i in os.listdir(path_to_samples)]\n",
    "        self.dic_of_samples = {}\n",
    "        self.dic_of_parameters = {}\n",
    "        self.residuals = {}\n",
    "        self.x_axis = np.array([])\n",
    "        \n",
    "        ### when initialising the object, fill the dictionaries with the samples shape\n",
    "\n",
    "        for reg in self.regions:\n",
    "            temp_dic ={}\n",
    "            for s in samples :\n",
    "\n",
    "                ### Open the file and get the histogram\n",
    "                file = r.TFile.Open(path_to_samples+reg+'/'+s)\n",
    "                hist = file.Get(histogram)\n",
    "                hist.SetDirectory(0)\n",
    "                ### Rebin the histogram\n",
    "                rebining=biner([1500],[250,500],hist)\n",
    "                nb=len(rebining)-1\n",
    "                hist=hist.Rebin(nb,\"hist\",rebining)\n",
    "                ### Unpack the histogram\n",
    "                value,uncern = Unpack_Histo(hist)\n",
    "                if s==\"Data.root\":\n",
    "                    x = []\n",
    "                    for b in range(2,hist.GetNbinsX()+2):\n",
    "                        x.append(hist.GetBinLowEdge(b))\n",
    "                    self.x_axis = np.array(x)\n",
    "\n",
    "                temp_dic[s]={\"value\":value,\"uncern\":uncern}\n",
    "            self.dic_of_samples[reg] = temp_dic\n",
    "\n",
    "    ### function to calculate the residuals from the samples data\n",
    "\n",
    "    def calculate_residuals(self,vbf_sample,qcd_sample):\n",
    "        for reg in self.regions:\n",
    "            if \"CR\" in reg:\n",
    "                residual_val = self.dic_of_samples[reg][\"Data.root\"][\"value\"] - self.dic_of_samples[reg][vbf_sample][\"value\"]\n",
    "                residual_err = self.dic_of_samples[reg][\"Data.root\"][\"value\"] - self.dic_of_samples[reg][vbf_sample][\"value\"]\n",
    "                \n",
    "                for s in self.samples:\n",
    "                    if  self.final_state not in s and \"Data\" not in s and \"Signal\" not in s:\n",
    "                        residual_val = residual_val - self.dic_of_samples[reg][s][\"value\"]\n",
    "                        residual_err = (residual_err**2 + (self.dic_of_samples[reg][s][\"uncern\"])**2)**0.5\n",
    "                for i in range(0,len(residual_val)):\n",
    "                    if residual_val[i]<0:\n",
    "                        residual_val[i]=0\n",
    "                \n",
    "                uncer = ((residual_err/residual_val)**2+(self.dic_of_samples[reg][qcd_sample][\"uncern\"]/self.dic_of_samples[reg][qcd_sample][\"value\"])**2)**0.5\n",
    "                residual_val = residual_val/self.dic_of_samples[reg][qcd_sample][\"value\"]\n",
    "                residual_err = residual_val*uncer\n",
    "\n",
    "                self.residuals[reg] = {\"value\":residual_val,\"uncern\":residual_err}\n",
    "\n",
    "    def fit_data(self,reg):\n",
    "        c = 0\n",
    "        for i in self.residuals[reg][\"value\"]:\n",
    "            if i>0:\n",
    "                c+=1\n",
    "            else :\n",
    "                break\n",
    "        return self.x_axis[0:c],self.residuals[reg][\"value\"][0:c],self.residuals[reg][\"uncern\"][0:c]\n"
   ]
  },
  {
   "cell_type": "code",
   "execution_count": 42,
   "metadata": {},
   "outputs": [
    {
     "data": {
      "text/plain": [
       "array([ 250.,  500.,  750., 1000., 1250., 1500., 2000., 2500., 3000.,\n",
       "       3500., 4000., 4500., 5000.])"
      ]
     },
     "execution_count": 42,
     "metadata": {},
     "output_type": "execute_result"
    }
   ],
   "source": [
    "Zmm = mjj_shape([\"Data.root\",\"Signal_Sherpa.root\",\"Signal_PoPy.root\",\"Zmumu_Sherpa.root\",\"Zmumu_MG.root\",\"ttbar.root\",\"VV.root\",\"Wjets.root\",\"singletop.root\"],'/home/diegol/HEP/VBF-Analysis/MuMu/Plots/ParabolicFits/',\"Zmumu\")\n",
    "Zee = mjj_shape([\"Data.root\",\"Signal_Sherpa.root\",\"Signal_PoPy.root\",\"Zee_Sherpa.root\",\"Zee_MG.root\",\"ttbar.root\",\"VV.root\",\"Wjets.root\",\"singletop.root\"],'/home/diegol/HEP/VBF-Analysis/Zee/Plots/ParabolicFits/',\"Zee\")\n",
    "\n",
    "Zmm.x_axis"
   ]
  },
  {
   "cell_type": "code",
   "execution_count": 43,
   "metadata": {},
   "outputs": [
    {
     "name": "stdout",
     "output_type": "stream",
     "text": [
      "[0.84623128 0.8091572  0.68009238 0.59972171 0.71958925 0.71137631\n",
      " 0.91243266 1.60341847]\n",
      "[0.83512903 0.80021403 0.67124389 0.59214513 0.70997717 0.69823825\n",
      " 0.89417794 1.5292161 ]\n"
     ]
    },
    {
     "name": "stderr",
     "output_type": "stream",
     "text": [
      "/tmp/ipykernel_19818/3035737404.py:55: RuntimeWarning: divide by zero encountered in true_divide\n",
      "  uncer = ((residual_err/residual_val)**2+(self.dic_of_samples[reg][qcd_sample][\"uncern\"]/self.dic_of_samples[reg][qcd_sample][\"value\"])**2)**0.5\n",
      "/tmp/ipykernel_19818/3035737404.py:57: RuntimeWarning: invalid value encountered in multiply\n",
      "  residual_err = residual_val*uncer\n",
      "/tmp/ipykernel_19818/3035737404.py:55: RuntimeWarning: invalid value encountered in true_divide\n",
      "  uncer = ((residual_err/residual_val)**2+(self.dic_of_samples[reg][qcd_sample][\"uncern\"]/self.dic_of_samples[reg][qcd_sample][\"value\"])**2)**0.5\n",
      "/tmp/ipykernel_19818/3035737404.py:56: RuntimeWarning: invalid value encountered in true_divide\n",
      "  residual_val = residual_val/self.dic_of_samples[reg][qcd_sample][\"value\"]\n"
     ]
    }
   ],
   "source": [
    "Zmm.calculate_residuals(\"Signal_Sherpa.root\",\"Zmumu_MG.root\")\n",
    "Zee.calculate_residuals(\"Signal_Sherpa.root\",\"Zee_MG.root\")\n",
    " \n",
    "#print(Zee.residuals[\"CRb\"][\"value\"])\n",
    "\n",
    "x,y,err = Zee.fit_data(\"CRb\")\n",
    "print(err)\n",
    "print(y)"
   ]
  },
  {
   "cell_type": "code",
   "execution_count": 17,
   "metadata": {},
   "outputs": [
    {
     "data": {
      "text/html": [
       "<div>\n",
       "<style scoped>\n",
       "    .dataframe tbody tr th:only-of-type {\n",
       "        vertical-align: middle;\n",
       "    }\n",
       "\n",
       "    .dataframe tbody tr th {\n",
       "        vertical-align: top;\n",
       "    }\n",
       "\n",
       "    .dataframe thead th {\n",
       "        text-align: right;\n",
       "    }\n",
       "</style>\n",
       "<table border=\"1\" class=\"dataframe\">\n",
       "  <thead>\n",
       "    <tr style=\"text-align: right;\">\n",
       "      <th></th>\n",
       "      <th>a</th>\n",
       "      <th>sigma a</th>\n",
       "      <th>b</th>\n",
       "      <th>sigma b</th>\n",
       "      <th>c</th>\n",
       "      <th>sigma c</th>\n",
       "      <th>sigma ab</th>\n",
       "      <th>sigma ac</th>\n",
       "      <th>sigma bc</th>\n",
       "    </tr>\n",
       "  </thead>\n",
       "  <tbody>\n",
       "    <tr>\n",
       "      <th>0</th>\n",
       "      <td>0.0000003221</td>\n",
       "      <td>0.0000000976</td>\n",
       "      <td>-0.0007070616</td>\n",
       "      <td>0.0001718076</td>\n",
       "      <td>1.0259614871</td>\n",
       "      <td>0.0673159572</td>\n",
       "      <td>-1.6074006002e-11</td>\n",
       "      <td>0.0000000054</td>\n",
       "      <td>-0.0000107516</td>\n",
       "    </tr>\n",
       "  </tbody>\n",
       "</table>\n",
       "</div>"
      ],
      "text/plain": [
       "              a       sigma a             b       sigma b             c  \\\n",
       "0  0.0000003221  0.0000000976 -0.0007070616  0.0001718076  1.0259614871   \n",
       "\n",
       "        sigma c          sigma ab      sigma ac      sigma bc  \n",
       "0  0.0673159572 -1.6074006002e-11  0.0000000054 -0.0000107516  "
      ]
     },
     "execution_count": 17,
     "metadata": {},
     "output_type": "execute_result"
    },
    {
     "data": {
      "image/png": "[encoded data removed]",
      "text/plain": [
       "<Figure size 432x288 with 1 Axes>"
      ]
     },
     "metadata": {
      "needs_background": "light"
     },
     "output_type": "display_data"
    }
   ],
   "source": [
    "from scipy.optimize import curve_fit\n",
    "    \n",
    "def linear_shape(mjj,slope,level):\n",
    "    return slope*mjj+level\n",
    "\n",
    "def parabolic_shape(mjj,a,b,c):\n",
    "    return a*(mjj**2)+b*mjj+c\n",
    "\n",
    "def chi_square(model, slope, level, x,y,uncer):\n",
    "    chi=0\n",
    "    for i in range(0,len(x)):\n",
    "        chi+=((y[i]-model(x[i],slope,level))**2)/(uncer[i]**2)\n",
    "        #print(x[i])\n",
    "        #print(((y[i]-model(x[i],slope,level))**2)/(uncer[i]**2))\n",
    "    return (chi/(len(x)-2))\n",
    "\n",
    "def chi_square2(model, slope, level,offset, x,y,uncer):\n",
    "    chi=0\n",
    "    for i in range(0,len(x)):\n",
    "        chi+=((y[i]-model(x[i],slope,level,offset))**2)/(uncer[i]**2)\n",
    "        #print(x[i])\n",
    "        #print(((y[i]-model(x[i],slope,level))**2)/(uncer[i]**2))\n",
    "    return (chi/(len(x)-3))\n",
    "\n",
    "xdata = x\n",
    "ydata = y\n",
    "\n",
    "\n",
    "\n",
    "lfit, lcov = curve_fit(linear_shape, xdata, ydata,sigma=err)\n",
    "dlfit, dlcov = curve_fit(parabolic_shape, xdata, ydata,sigma=err)\n",
    "\n",
    "plt.plot(xdata,linear_shape(np.array(xdata),lfit[0],lfit[1]))\n",
    "plt.plot(xdata,parabolic_shape(np.array(xdata),dlfit[0],dlfit[1],dlfit[2]))\n",
    "plt.errorbar(xdata, ydata,yerr=err,fmt='b.')\n",
    "plt.legend([\"Linear fit = \"+str(round(chi_square(linear_shape,lfit[0],lfit[1],xdata,ydata,err),2)),\n",
    "\"Parabolic fit = \"+str(round(chi_square2(parabolic_shape,dlfit[0],dlfit[1],dlfit[2],xdata,ydata,err),2)),\"Observed\"],loc =\"upper left\")\n",
    "plt.title(\"TEST\")\n",
    "plt.xlabel('Mjj') \n",
    "plt.ylabel('DATA/MC') \n",
    "\n",
    "#plt.savefig(path+\"/\"+signal+\".pdf\")\n",
    "\n",
    "pd.set_option(\"display.precision\", 10)\n",
    "d = {'a':[dlfit[0]],'sigma a': [np.sqrt(dlcov[0][0])],'b':[dlfit[1]],'sigma b': [np.sqrt(dlcov[1][1])],'c':[dlfit[2]],'sigma c':[np.sqrt(dlcov[2][2])],\n",
    "    'sigma ab':[dlcov[1][0]],'sigma ac':[dlcov[2][0]],'sigma bc':[dlcov[1][2]]}\n",
    "\n",
    "df = pd.DataFrame(data=d)\n",
    "\n",
    "\n",
    "d = {'m':[dlfit[0]],'sigma m': [np.sqrt(dlcov[0][0])],'l':[dlfit[1]],'sigma l': [np.sqrt(dlcov[1][1])],'n':[dlfit[2]],'sigma n':[np.sqrt(dlcov[2][2])],\n",
    "    'sigma ml':[dlcov[1][0]],'sigma mn':[dlcov[2][0]],'sigma ln':[dlcov[1][2]]}\n",
    "\n",
    "dl = {'m':[lfit[0]],'sigma m': [np.sqrt(lcov[0][0])],'l':[lfit[1]],'sigma l': [np.sqrt(lcov[1][1])],\n",
    "    'sigma ml':[dlcov[1][0]]}\n",
    "dfl = pd.DataFrame(data=dl)\n",
    "\n",
    "df\n"
   ]
  },
  {
   "cell_type": "code",
   "execution_count": 2,
   "metadata": {},
   "outputs": [],
   "source": [
    "from scipy.optimize import curve_fit"
   ]
  },
  {
   "cell_type": "code",
   "execution_count": null,
   "metadata": {},
   "outputs": [],
   "source": []
  }
 ],
 "metadata": {
  "interpreter": {
   "hash": "916dbcbb3f70747c44a77c7bcd40155683ae19c65e1c03b4aa3499c5328201f1"
  },
  "kernelspec": {
   "display_name": "Python 3 (ipykernel)",
   "language": "python",
   "name": "python3"
  },
  "language_info": {
   "codemirror_mode": {
    "name": "ipython",
    "version": 3
   },
   "file_extension": ".py",
   "mimetype": "text/x-python",
   "name": "python",
   "nbconvert_exporter": "python",
   "pygments_lexer": "ipython3",
   "version": "3.10.4"
  }
 },
 "nbformat": 4,
 "nbformat_minor": 4
}
