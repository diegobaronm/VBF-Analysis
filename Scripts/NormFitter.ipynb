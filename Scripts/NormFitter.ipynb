{
 "cells": [
  {
   "cell_type": "markdown",
   "metadata": {},
   "source": [
    "# Code for fitting DATA = a*QCD + b*VBF\n",
    "## Diego Baron"
   ]
  },
  {
   "cell_type": "markdown",
   "metadata": {},
   "source": [
    "First, import the plotter and iminuit libraries. The second part creates a 2D least square fit."
   ]
  },
  {
   "cell_type": "code",
   "execution_count": 88,
   "metadata": {},
   "outputs": [
    {
     "name": "stdout",
     "output_type": "stream",
     "text": [
      "iminuit version: 2.11.2\n"
     ]
    }
   ],
   "source": [
    "# basic setup of the notebook\n",
    "from matplotlib import pyplot as plt\n",
    "import numpy as np\n",
    "\n",
    "# everything in iminuit is done through the Minuit object, so we import it\n",
    "from iminuit import Minuit\n",
    "\n",
    "# we also need a cost function to fit and import the LeastSquares function\n",
    "#from iminuit.cost import LeastSquares\n",
    "\n",
    "# display iminuit version\n",
    "import iminuit\n",
    "print(\"iminuit version:\", iminuit.__version__)\n",
    "\n",
    "\n",
    "############ Create a 2D least square fit ###################\n",
    "\n",
    "from iminuit.util import describe, make_func_code\n",
    "class LeastSquares:\n",
    "    \"\"\"\n",
    "    Generic least-squares cost function with error.\n",
    "    \"\"\"\n",
    "\n",
    "    errordef = Minuit.LEAST_SQUARES # for Minuit to compute errors correctly\n",
    "\n",
    "    def __init__(self, model, s1, s2, y, err):\n",
    "        self.model = model  # model predicts y for given x\n",
    "        self.s1 = np.asarray(s1)\n",
    "        self.s2 = np.asarray(s2)\n",
    "        self.y = np.asarray(y)\n",
    "        self.err = np.asarray(err)\n",
    "\n",
    "    def __call__(self, *par):  # we accept a variable number of model parameters\n",
    "        ym = self.model(self.s1,self.s2, *par)\n",
    "        return np.sum((self.y - ym) ** 2 / self.err ** 2)\n",
    "    \n",
    "class BetterLeastSquares(LeastSquares):\n",
    "    def __init__(self, model, s1 , s2, y, err):\n",
    "        super().__init__(model, s1,s2 , y, err)\n",
    "        self.func_code = make_func_code(describe(model)[2:])"
   ]
  },
  {
   "cell_type": "markdown",
   "metadata": {},
   "source": [
    "## Configuring the FIT"
   ]
  },
  {
   "cell_type": "code",
   "execution_count": 117,
   "metadata": {},
   "outputs": [],
   "source": [
    "path_to_root_files = \"/home/diego/HEP/VBF-Analysis/MuMu/Plots/ABCD/SR/\"\n",
    "histogram = \"mass_jj\"\n",
    "\n",
    "QCD_sample = 'Zmumu_MGRW.root'\n",
    "VBF_sample = 'Signal_Sherpa.root'\n",
    "\n",
    "BG_samples = ['Wjets.root','singletop.root','VV.root','ttbar.root']\n",
    "BG_Tau = ['Higgs.root','Zjets.root']\n",
    "#BG_samples += BG_Tau"
   ]
  },
  {
   "cell_type": "markdown",
   "metadata": {},
   "source": [
    "Unpack the histograms and plot the relevant shapes"
   ]
  },
  {
   "cell_type": "code",
   "execution_count": 118,
   "metadata": {},
   "outputs": [
    {
     "name": "stdout",
     "output_type": "stream",
     "text": [
      "0.0\n",
      "5000.0\n",
      "x =  [ 250.  500.  750. 1000. 1250. 1500. 2000. 2500. 3000. 4000.]\n",
      "y =  [5.67804639e+03 3.96238452e+03 1.94404895e+03 1.01440216e+03\n",
      " 6.01668640e+02 2.72080719e+02 1.07836609e+02 5.42514839e+01\n",
      " 1.79497604e+01 4.49384785e+00]\n",
      "QCD_shape =  [5.39682568e+03 3.71672437e+03 1.61764038e+03 7.28818481e+02\n",
      " 3.53443176e+02 1.38149216e+02 5.07372513e+01 2.26424847e+01\n",
      " 6.17902946e+00 2.32284832e+00]\n",
      "QCD error =  [47.35661823 32.67266043 19.88884415 12.56465374  9.62255802  4.41058811\n",
      "  2.51804097  1.88646351  0.61325538  0.69250633]\n",
      "% QCD error  [ 0.87749023  0.87907139  1.22949726  1.72397573  2.72251911  3.19262624\n",
      "  4.96290379  8.33152165  9.92478488 29.8128089 ]\n"
     ]
    }
   ],
   "source": [
    "import os\n",
    "import ROOT as r\n",
    "import ctypes\n",
    "import pandas as pd\n",
    "import numpy as np\n",
    "\n",
    "def biner(edges,bin_widths,histogram):\n",
    "    if (len(edges)+1!=len(bin_widths)):\n",
    "        print(\"Check edges and bin widths array sizes!\")\n",
    "        return\n",
    "    \n",
    "    bins=[]\n",
    "    first_bin = histogram.GetXaxis().GetBinLowEdge(1)\n",
    "    print(first_bin)\n",
    "    last_bin = histogram.GetXaxis().GetBinUpEdge(histogram.GetNbinsX())\n",
    "    print(last_bin)\n",
    "    for i in range(0,len(edges)):\n",
    "        n_spaces = int((edges[i] - first_bin)/bin_widths[i])\n",
    "        bins = np.concatenate((bins,np.linspace(first_bin,edges[i],n_spaces,endpoint=False)))\n",
    "        first_bin = edges[i]\n",
    "        if edges[i]==edges[-1]:\n",
    "            n_spaces = int((last_bin - edges[i])/bin_widths[i+1])\n",
    "            bins = np.concatenate((bins,np.linspace(edges[i],last_bin,n_spaces,endpoint=False)))\n",
    "            bins = np.concatenate((bins,[last_bin]))\n",
    "    return bins\n",
    "\n",
    "def normalization(hist_list,norm_bin):\n",
    "    for hist in hist_list:\n",
    "        for i in range(1,hist.GetNbinsX()+1):\n",
    "            value=hist.GetBinContent(i)\n",
    "            error=hist.GetBinError(i)\n",
    "            sf=hist.GetBinWidth(i)/norm_bin\n",
    "            hist.SetBinContent(i,value/sf)\n",
    "            hist.SetBinError(i,error/sf)\n",
    "            \n",
    "def Unpack_Histo(histogram_file):\n",
    "    bin_content = []\n",
    "    bin_content_uncer =[]\n",
    "    for i in range(2,histogram_file.GetNbinsX()+1):\n",
    "        bin_content.append(histogram_file.GetBinContent(i))\n",
    "        bin_content_uncer.append(histogram_file.GetBinError(i))\n",
    "    return np.array(bin_content),np.array(bin_content_uncer)\n",
    "\n",
    "############# DATA SUBTRACTION #######################\n",
    "\n",
    "#r.TH1.SetDefaultSumw2()\n",
    "\n",
    "data_file = r.TFile.Open(path_to_root_files+'Data.root')\n",
    "data_hist = data_file.Get(histogram)\n",
    "data_hist.SetDirectory(0)\n",
    "\n",
    "s=data_hist.GetXaxis().GetBinLowEdge(1)\n",
    "e=data_hist.GetXaxis().GetBinUpEdge(data_hist.GetNbinsX())\n",
    "rebining=biner([1500,3000],[250,500,1000],data_hist)\n",
    "nb=len(rebining)-1\n",
    "data_hist=data_hist.Rebin(nb,\"data\",rebining)\n",
    "\n",
    "\n",
    "for i in BG_samples:\n",
    "    file = r.TFile.Open(path_to_root_files+i)\n",
    "    bg_sample = file.Get(histogram)\n",
    "    bg_sample = bg_sample.Rebin(nb,\"bg\",rebining)\n",
    "    data_hist.Add(bg_sample,-1)\n",
    "    file.Close()\n",
    "\n",
    "############# VBF AND QCD HISTOGRAM SET UP #########################\n",
    "\n",
    "QCD_file = r.TFile.Open(path_to_root_files+QCD_sample)\n",
    "QCD_hist = QCD_file.Get(histogram)\n",
    "QCD_hist.SetDirectory(0)\n",
    "QCD_hist=QCD_hist.Rebin(nb,\"QCD\",rebining)\n",
    "\n",
    "VBF_file = r.TFile.Open(path_to_root_files+VBF_sample)\n",
    "VBF_hist = VBF_file.Get(histogram)\n",
    "VBF_hist.SetDirectory(0)\n",
    "VBF_hist=VBF_hist.Rebin(nb,\"VBF\",rebining)\n",
    "\n",
    "################### NORMALISING SHAPES #####################\n",
    "\n",
    "normalization([data_hist,QCD_hist,VBF_hist],250)\n",
    "#normalization([data_hist,VBF_hist],250)\n",
    "\n",
    "############## UNPACKING THE HISTOGRAMS INTO NUMPY ARRAYS ################\n",
    "\n",
    "data_shape, data_shape_uncer = Unpack_Histo(data_hist)\n",
    "qcd_shape, qcd_shape_uncer = Unpack_Histo(QCD_hist)\n",
    "vbf_shape, vbf_shape_uncer = Unpack_Histo(VBF_hist)\n",
    "\n",
    "total_uncer = np.sqrt(data_shape_uncer**2+vbf_shape_uncer**2+qcd_shape_uncer**2)\n",
    "\n",
    "x_bins = np.array([data_hist.GetBinLowEdge(i) for i in range(2,data_hist.GetNbinsX()+1)])\n",
    "\n",
    "#data_shape[7]=vbf_shape[7]+qcd_shape[7]\n",
    "\n",
    "\n",
    "index=0\n",
    "for i in range(len(data_shape)):\n",
    "    if data_shape[i]<0:\n",
    "        break\n",
    "    index+=1\n",
    "\n",
    "def correct_shape(vector,index):\n",
    "    return vector[0:index]\n",
    "\n",
    "data_shape = correct_shape(data_shape,index)\n",
    "qcd_shape = correct_shape(qcd_shape,index)\n",
    "vbf_shape = correct_shape(vbf_shape,index)\n",
    "data_shape_uncer = correct_shape(data_shape_uncer,index)\n",
    "qcd_shape_uncer = correct_shape(qcd_shape_uncer,index)\n",
    "vbf_shape_uncer = correct_shape(vbf_shape_uncer,index)\n",
    "x_bins = correct_shape(x_bins,index)\n",
    "total_uncer = correct_shape(total_uncer,index)\n",
    "\n",
    "### Including the full uncertainties for the Standard ABCD #######\n",
    "\n",
    "\n",
    "SF_sherpa = np.array([1.26799979, 1.12041719, 0.99082978, 0.8790872,  0.78512597, 0.70902937, 0.6120629,  0.59615277, 0.68173656, 1.33680322])\n",
    "SF_sherpa_error =  np.array([0.03168267, 0.02125247, 0.02254919, 0.02784343, 0.03294534, 0.03849868, 0.062134,   0.12139492, 0.2453982,  1.07336992])\n",
    "\n",
    "SF_mg =  np.array([0.8049047,  0.70033162, 0.61513934, 0.54877327, 0.50038677, 0.46885328, 0.45094266, 0.48463207, 0.56385869, 0.86745058])\n",
    "SF_mg_error =  np.array([0.02378114, 0.01545945, 0.01828843, 0.02243425, 0.02629707, 0.03253002, 0.06470528, 0.13604878, 0.26045386, 0.71321048])\n",
    "\n",
    "SF = SF_mg\n",
    "SF_error = SF_mg_error\n",
    "\n",
    "qcd_shape_uncer = np.sqrt(qcd_shape_uncer**2+((SF_error/SF)**2)*qcd_shape_uncer**2) \n",
    "\n",
    "total_uncer = np.sqrt(data_shape_uncer**2+vbf_shape_uncer**2+qcd_shape_uncer**2)\n",
    "\n",
    "print(\"x = \",x_bins)\n",
    "print(\"y = \",data_shape)\n",
    "print(\"QCD_shape = \",qcd_shape)\n",
    "print(\"QCD error = \",qcd_shape_uncer)\n",
    "print(\"% QCD error \", 100*qcd_shape_uncer/qcd_shape)\n",
    "#QCD error =  [60.32230302 37.00445576 24.44022392 12.87476679  8.82259434  7.5750497\n",
    " # 1.67319962  4.26413836  0.45106112  0.49519462]"
   ]
  },
  {
   "cell_type": "markdown",
   "metadata": {
    "jp-MarkdownHeadingCollapsed": true,
    "tags": []
   },
   "source": [
    "# Alternative ABCD Method"
   ]
  },
  {
   "cell_type": "code",
   "execution_count": null,
   "metadata": {},
   "outputs": [],
   "source": [
    "#CRa \n",
    "scaling_factors_sherpa = np.array([1.46753645, 1.10726058, 0.91471666, 0.78389782, 0.69573116, 0.62993467, 0.52442706, 0.45806327, 0.35676283, 0.30835927])\n",
    "scaling_factors_mg = np.array([1.36794531, 1.09241414, 0.89026988, 0.78009623, 0.62210596,0.62110871, 0.5857293 , 0.7745406 , 0.59778947, 0.68026555])\n",
    "sherpa_err = np.array([0.02151203, 0.02010888, 0.01628109, 0.01626265, 0.01860157, 0.02868193, 0.02134186, 0.06148216, 0.05134512, 0.05997645])\n",
    "mg_err = np.array([0.02012357, 0.01491411, 0.01571727, 0.01953574, 0.06264988, 0.02268164, 0.03665924, 0.07321661, 0.07261506, 0.27062507])\n",
    "scaling_factors_average = (scaling_factors_sherpa/sherpa_err**2+scaling_factors_mg/mg_err**2)/(1/sherpa_err**2+1/mg_err**2)\n",
    "\n",
    "\"\"\" #CRc\n",
    "scaling_factors_sherpa = np.array([0.91018349, 0.90782344, 0.96345472, 1.12878442, 1.32670617, 1.5572598 , 2.09448314, 3.21974707, 3.58671308, 5.10975885])\n",
    "scaling_factors_mg = np.array([ 0.83782703,  0.94988137,  1.07373536,  1.27226925,  1.30644107, 1.6539005 ,  2.41354036,  3.96563172,  4.55003881, 14.47130203])\n",
    "sherpa_err = np.array([0.01291131, 0.01214627, 0.01783098, 0.03048616, 0.04186164, 0.06440318, 0.09821029, 0.4554642 , 0.32892466, 0.94089577])\n",
    "mg_err = np.array([0.00914283, 0.01150731, 0.01728026, 0.03127507, 0.04845319, 0.07180173, 0.18259241, 0.47656865, 0.81845578, 4.41446637])\n",
    "scaling_factors_average = (scaling_factors_sherpa/sherpa_err**2+scaling_factors_mg/mg_err**2)/(1/sherpa_err**2+1/mg_err**2)\n",
    "\"\"\"\n",
    "\n",
    "qcd_shape_sherpa,qcd_shape_mg = np.zeros(len(qcd_shape)),np.zeros(len(qcd_shape))\n",
    "qcd_shape_sherpa_err,qcd_shape_mg_err = np.zeros(len(qcd_shape)),np.zeros(len(qcd_shape))\n",
    "for i in range(0,len(qcd_shape)):\n",
    "    qcd_shape_sherpa[i]=qcd_shape[i]*scaling_factors_sherpa[i]\n",
    "    qcd_shape_sherpa_err[i]=qcd_shape_sherpa[i]*((qcd_shape_uncer[i]/qcd_shape[i])**2+(sherpa_err[i]/scaling_factors_sherpa[i])**2)**0.5\n",
    "    qcd_shape_mg[i]=qcd_shape[i]*scaling_factors_mg[i]\n",
    "    qcd_shape_mg_err[i]=qcd_shape_mg[i]*((qcd_shape_uncer[i]/qcd_shape[i])**2+(mg_err[i]/scaling_factors_mg[i])**2)**0.5\n",
    "print(\"x = \",x_bins)\n",
    "print(\"y = \",data_shape)\n",
    "print(\"QCD_shape = \",qcd_shape)\n",
    "print(\"y_error = \",total_uncer)"
   ]
  },
  {
   "cell_type": "code",
   "execution_count": 75,
   "metadata": {},
   "outputs": [
    {
     "data": {
      "text/plain": [
       "Text(0.5, 1.0, 'MG/SHERPA --- CRc ')"
      ]
     },
     "execution_count": 75,
     "metadata": {},
     "output_type": "execute_result"
    },
    {
     "data": {
      "image/png": "[encoded data removed]",
      "text/plain": [
       "<Figure size 432x288 with 1 Axes>"
      ]
     },
     "metadata": {
      "needs_background": "light"
     },
     "output_type": "display_data"
    }
   ],
   "source": [
    "ratio=qcd_shape_mg/qcd_shape_sherpa\n",
    "ratio_err=ratio*((qcd_shape_mg_err/qcd_shape_mg)**2+(qcd_shape_sherpa_err/qcd_shape_sherpa)**2)**0.5\n",
    "\n",
    "plt.errorbar(x_bins,ratio,ratio_err,fmt=\"o\")\n",
    "plt.yscale(\"log\")\n",
    "plt.title(\"MG/SHERPA --- CRc \")"
   ]
  },
  {
   "cell_type": "markdown",
   "metadata": {},
   "source": [
    "# Draw the Pre-Fit shapes"
   ]
  },
  {
   "cell_type": "code",
   "execution_count": 119,
   "metadata": {},
   "outputs": [
    {
     "data": {
      "image/png": "[encoded data removed]",
      "text/plain": [
       "<Figure size 432x288 with 1 Axes>"
      ]
     },
     "metadata": {
      "needs_background": "light"
     },
     "output_type": "display_data"
    }
   ],
   "source": [
    "\n",
    "# our model, unicode parameter names are supported :)\n",
    "def model(shape1,shape2, qcd, vbf):\n",
    "    return qcd*shape1 + vbf*shape2\n",
    "\n",
    "\n",
    "# generate random toy data with random offsets in y\n",
    "x_axis = x_bins\n",
    "y_axis = data_shape\n",
    "\n",
    "### Normalise the mc samples\n",
    "\n",
    "#qcd_shape = qcd_shape/qcd_shape.sum()\n",
    "#vbf_shape = vbf_shape/vbf_shape.sum()\n",
    "\n",
    "\n",
    "y_error = np.sqrt(data_shape_uncer**2+vbf_shape_uncer**2+qcd_shape_uncer**2)\n",
    "\n",
    "# draw toy data\n",
    "plt.errorbar(x_axis, y_axis,y_error, fmt=\"o\",label='DATA');\n",
    "plt.errorbar(x_axis, qcd_shape,qcd_shape_uncer, fmt=\"o\",label='QCD');\n",
    "plt.errorbar(x_axis, qcd_shape+vbf_shape,np.sqrt(vbf_shape_uncer**2+qcd_shape_uncer**2), fmt=\"o\",label='VBF');\n",
    "plt.legend()\n",
    "#plt.xlim(2000,5000)\n",
    "plt.yscale(\"log\")\n"
   ]
  },
  {
   "cell_type": "markdown",
   "metadata": {},
   "source": [
    "## Perform the Fit"
   ]
  },
  {
   "cell_type": "code",
   "execution_count": 120,
   "metadata": {},
   "outputs": [
    {
     "data": {
      "image/png": "[encoded data removed]",
      "text/plain": [
       "<Figure size 432x288 with 1 Axes>"
      ]
     },
     "metadata": {
      "needs_background": "light"
     },
     "output_type": "display_data"
    }
   ],
   "source": [
    "# iminuit contains a LeastSquares class to conveniently generate a least-squares cost function.\n",
    "# We will revisit how to write this by hand in a later section.\n",
    "least_squares = BetterLeastSquares(model,qcd_shape,vbf_shape, data_shape,total_uncer)\n",
    "\n",
    "m = Minuit(least_squares, qcd=2.0, vbf=1.0)  # starting values for α and β\n",
    "\n",
    "m.migrad()  # finds minimum of least_squares function\n",
    "m.hesse()   # accurately computes uncertainties\n",
    "\n",
    "# draw data and fitted line\n",
    "plt.errorbar(x_axis, data_shape, total_uncer, fmt=\"o\", label=\"data\")\n",
    "plt.errorbar(x_axis, model(qcd_shape,vbf_shape, *m.values),0,fmt=\"o\", label=\"fit\")\n",
    "plt.yscale('log')\n",
    "\n",
    "# display legend with some fit info\n",
    "fit_info = [\n",
    "    f\"$\\\\chi^2$ / $n_\\\\mathrm{{dof}}$ = {m.fval:.1f} / {len(x_axis) - m.nfit}\",\n",
    "]\n",
    "for p, v, e in zip(m.parameters, m.values, m.errors):\n",
    "    fit_info.append(f\"{p} = ${v:.3f} \\\\pm {e:.3f}$\")\n",
    "\n",
    "plt.legend(title=\"\\n\".join(fit_info));"
   ]
  },
  {
   "cell_type": "code",
   "execution_count": 50,
   "metadata": {},
   "outputs": [
    {
     "data": {
      "text/plain": [
       "<ValueView qcd=9838.368864590011 vbf=1.3049959254135501>"
      ]
     },
     "execution_count": 50,
     "metadata": {},
     "output_type": "execute_result"
    }
   ],
   "source": [
    "m.values"
   ]
  },
  {
   "cell_type": "code",
   "execution_count": null,
   "metadata": {},
   "outputs": [],
   "source": []
  }
 ],
 "metadata": {
  "interpreter": {
   "hash": "916dbcbb3f70747c44a77c7bcd40155683ae19c65e1c03b4aa3499c5328201f1"
  },
  "kernelspec": {
   "display_name": "Python 3 (ipykernel)",
   "language": "python",
   "name": "python3"
  },
  "language_info": {
   "codemirror_mode": {
    "name": "ipython",
    "version": 3
   },
   "file_extension": ".py",
   "mimetype": "text/x-python",
   "name": "python",
   "nbconvert_exporter": "python",
   "pygments_lexer": "ipython3",
   "version": "3.10.4"
  }
 },
 "nbformat": 4,
 "nbformat_minor": 4
}
