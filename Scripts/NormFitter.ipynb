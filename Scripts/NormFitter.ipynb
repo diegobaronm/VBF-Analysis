{
 "cells": [
  {
   "cell_type": "markdown",
   "metadata": {},
   "source": [
    "# Code for fitting DATA = a*QCD + b*VBF\n",
    "## Diego Baron"
   ]
  },
  {
   "cell_type": "markdown",
   "metadata": {},
   "source": [
    "First, import the plotter and iminuit libraries. The second part creates a 2D least square fit."
   ]
  },
  {
   "cell_type": "code",
   "execution_count": 1,
   "metadata": {},
   "outputs": [
    {
     "name": "stdout",
     "output_type": "stream",
     "text": [
      "iminuit version: 2.10.0\n"
     ]
    }
   ],
   "source": [
    "# basic setup of the notebook\n",
    "from matplotlib import pyplot as plt\n",
    "import numpy as np\n",
    "\n",
    "# everything in iminuit is done through the Minuit object, so we import it\n",
    "from iminuit import Minuit\n",
    "\n",
    "# we also need a cost function to fit and import the LeastSquares function\n",
    "#from iminuit.cost import LeastSquares\n",
    "\n",
    "# display iminuit version\n",
    "import iminuit\n",
    "print(\"iminuit version:\", iminuit.__version__)\n",
    "\n",
    "\n",
    "############ Create a 2D least square fit ###################\n",
    "\n",
    "from iminuit.util import describe, make_func_code\n",
    "class LeastSquares:\n",
    "    \"\"\"\n",
    "    Generic least-squares cost function with error.\n",
    "    \"\"\"\n",
    "\n",
    "    errordef = Minuit.LEAST_SQUARES # for Minuit to compute errors correctly\n",
    "\n",
    "    def __init__(self, model, s1, s2, y, err):\n",
    "        self.model = model  # model predicts y for given x\n",
    "        self.s1 = np.asarray(s1)\n",
    "        self.s2 = np.asarray(s2)\n",
    "        self.y = np.asarray(y)\n",
    "        self.err = np.asarray(err)\n",
    "\n",
    "    def __call__(self, *par):  # we accept a variable number of model parameters\n",
    "        ym = self.model(self.s1,self.s2, *par)\n",
    "        return np.sum((self.y - ym) ** 2 / self.err ** 2)\n",
    "    \n",
    "class BetterLeastSquares(LeastSquares):\n",
    "    def __init__(self, model, s1 , s2, y, err):\n",
    "        super().__init__(model, s1,s2 , y, err)\n",
    "        self.func_code = make_func_code(describe(model)[2:])"
   ]
  },
  {
   "cell_type": "markdown",
   "metadata": {},
   "source": [
    "## Configuring the FIT"
   ]
  },
  {
   "cell_type": "code",
   "execution_count": 10,
   "metadata": {},
   "outputs": [],
   "source": [
    "path_to_root_files = \"/home/diego/HEP/VBF/TauLep/\"\n",
    "histogram = \"mass_jj\"\n",
    "\n",
    "QCD_sample = 'Ztautau_MG.root'\n",
    "VBF_sample = 'Signal_Sherpa.root'\n",
    "\n",
    "BG_samples = ['Wjets.root','singletop.root','VV.root','ttbar.root']\n",
    "BG_Tau = ['Higgs.root','Zjets.root']\n",
    "BG_samples += BG_Tau"
   ]
  },
  {
   "cell_type": "markdown",
   "metadata": {},
   "source": [
    "Unpack the histograms and plot the relevant shapes"
   ]
  },
  {
   "cell_type": "code",
   "execution_count": 11,
   "metadata": {},
   "outputs": [],
   "source": [
    "import os\n",
    "import ROOT as r\n",
    "import ctypes\n",
    "import pandas as pd\n",
    "import numpy as np\n",
    "\n",
    "def biner(o_bin,m_bin,f_bin,f_step,l_step):\n",
    "    a=np.arange(o_bin,m_bin,f_step)\n",
    "    b=np.arange(m_bin,f_bin+l_step,l_step)\n",
    "    return np.concatenate((a,b))\n",
    "\n",
    "def normalization(hist_list,norm_bin):\n",
    "    for hist in hist_list:\n",
    "        for i in range(1,hist.GetNbinsX()+1):\n",
    "            value=hist.GetBinContent(i)\n",
    "            error=hist.GetBinError(i)\n",
    "            sf=hist.GetBinWidth(i)/norm_bin\n",
    "            hist.SetBinContent(i,value/sf)\n",
    "            hist.SetBinError(i,error/sf)\n",
    "            \n",
    "def Unpack_Histo(histogram_file):\n",
    "    bin_content = []\n",
    "    bin_content_uncer =[]\n",
    "    for i in range(1,histogram_file.GetNbinsX()+2):\n",
    "        bin_content.append(histogram_file.GetBinContent(i))\n",
    "        bin_content_uncer.append(histogram_file.GetBinError(i))\n",
    "    return np.array(bin_content),np.array(bin_content_uncer)\n",
    "\n",
    "############# DATA SUBTRACTION #######################\n",
    "\n",
    "#r.TH1.SetDefaultSumw2()\n",
    "\n",
    "data_file = r.TFile.Open(path_to_root_files+'Data.root')\n",
    "data_hist = data_file.Get(histogram)\n",
    "data_hist.SetDirectory(0)\n",
    "\n",
    "s=data_hist.GetXaxis().GetBinLowEdge(1)\n",
    "e=data_hist.GetXaxis().GetBinUpEdge(data_hist.GetNbinsX())\n",
    "rebining=biner(s,1500,e,250,500)\n",
    "nb=len(rebining)-1\n",
    "data_hist=data_hist.Rebin(nb,\"data\",rebining)\n",
    "\n",
    "\n",
    "for i in BG_samples:\n",
    "    file = r.TFile.Open(path_to_root_files+i)\n",
    "    bg_sample = file.Get(histogram)\n",
    "    bg_sample = bg_sample.Rebin(nb,\"bg\",rebining)\n",
    "    data_hist.Add(bg_sample,-1)\n",
    "    file.Close()\n",
    "\n",
    "############# VBF AND QCD HISTOGRAM SET UP #########################\n",
    "\n",
    "QCD_file = r.TFile.Open(path_to_root_files+QCD_sample)\n",
    "QCD_hist = QCD_file.Get(histogram)\n",
    "QCD_hist.SetDirectory(0)\n",
    "QCD_hist=QCD_hist.Rebin(nb,\"QCD\",rebining)\n",
    "\n",
    "VBF_file = r.TFile.Open(path_to_root_files+VBF_sample)\n",
    "VBF_hist = VBF_file.Get(histogram)\n",
    "VBF_hist.SetDirectory(0)\n",
    "VBF_hist=VBF_hist.Rebin(nb,\"VBF\",rebining)\n",
    "\n",
    "################### NORMALISING SHAPES #####################\n",
    "\n",
    "normalization([data_hist,QCD_hist,VBF_hist],250)\n",
    "\n",
    "############## UNPACKING THE HISTOGRAMS INTO NUMPY ARRAYS ################\n",
    "\n",
    "data_shape, data_shape_uncer = Unpack_Histo(data_hist)\n",
    "qcd_shape, qcd_shape_uncer = Unpack_Histo(QCD_hist)\n",
    "vbf_shape, vbf_shape_uncer = Unpack_Histo(VBF_hist)\n",
    "\n",
    "total_uncer = np.sqrt(data_shape_uncer**2+vbf_shape_uncer**2+qcd_shape_uncer**2)\n",
    "\n",
    "x_bins = np.concatenate((np.array([data_hist.GetBinCenter(i) for i in range(1,data_hist.GetNbinsX()+1)]),3500.0),axis=None)\n",
    "\n",
    "#data_shape[7]=vbf_shape[7]+qcd_shape[7]"
   ]
  },
  {
   "cell_type": "code",
   "execution_count": 12,
   "metadata": {},
   "outputs": [
    {
     "data": {
      "image/png": "[encoded data removed]",
      "text/plain": [
       "<Figure size 432x288 with 1 Axes>"
      ]
     },
     "metadata": {
      "needs_background": "light"
     },
     "output_type": "display_data"
    }
   ],
   "source": [
    "\n",
    "# our model, unicode parameter names are supported :)\n",
    "def model(shape1,shape2, qcd, vbf):\n",
    "    return qcd*shape1 + vbf*shape2\n",
    "\n",
    "\n",
    "# generate random toy data with random offsets in y\n",
    "x_axis = x_bins\n",
    "y_axis = data_shape\n",
    "\n",
    "y_error = total_uncer\n",
    "\n",
    "# draw toy data\n",
    "plt.errorbar(x_axis, y_axis,y_error, fmt=\"o\",label='DATA');\n",
    "plt.errorbar(x_axis, qcd_shape,qcd_shape_uncer, fmt=\"o\",label='QCD');\n",
    "plt.errorbar(x_axis, qcd_shape+vbf_shape,np.sqrt(vbf_shape_uncer**2+qcd_shape_uncer**2), fmt=\"o\",label='VBF');\n",
    "plt.legend()\n",
    "plt.yscale(\"log\")\n"
   ]
  },
  {
   "cell_type": "markdown",
   "metadata": {},
   "source": [
    "## Perform the Fit"
   ]
  },
  {
   "cell_type": "code",
   "execution_count": 13,
   "metadata": {},
   "outputs": [
    {
     "data": {
      "image/png": "[encoded data removed]",
      "text/plain": [
       "<Figure size 432x288 with 1 Axes>"
      ]
     },
     "metadata": {
      "needs_background": "light"
     },
     "output_type": "display_data"
    }
   ],
   "source": [
    "# iminuit contains a LeastSquares class to conveniently generate a least-squares cost function.\n",
    "# We will revisit how to write this by hand in a later section.\n",
    "least_squares = BetterLeastSquares(model,qcd_shape,vbf_shape, data_shape,total_uncer)\n",
    "\n",
    "m = Minuit(least_squares, qcd=1.0, vbf=1.0)  # starting values for α and β\n",
    "\n",
    "m.migrad()  # finds minimum of least_squares function\n",
    "m.hesse()   # accurately computes uncertainties\n",
    "\n",
    "# draw data and fitted line\n",
    "plt.errorbar(x_axis, data_shape, total_uncer, fmt=\"o\", label=\"data\")\n",
    "plt.errorbar(x_axis, model(qcd_shape,vbf_shape, *m.values),0,fmt=\"o\", label=\"fit\")\n",
    "plt.yscale('log')\n",
    "\n",
    "# display legend with some fit info\n",
    "fit_info = [\n",
    "    f\"$\\\\chi^2$ / $n_\\\\mathrm{{dof}}$ = {m.fval:.1f} / {len(x_axis) - m.nfit}\",\n",
    "]\n",
    "for p, v, e in zip(m.parameters, m.values, m.errors):\n",
    "    fit_info.append(f\"{p} = ${v:.3f} \\\\pm {e:.3f}$\")\n",
    "\n",
    "plt.legend(title=\"\\n\".join(fit_info));"
   ]
  },
  {
   "cell_type": "code",
   "execution_count": null,
   "metadata": {},
   "outputs": [],
   "source": []
  }
 ],
 "metadata": {
  "interpreter": {
   "hash": "916dbcbb3f70747c44a77c7bcd40155683ae19c65e1c03b4aa3499c5328201f1"
  },
  "kernelspec": {
   "display_name": "Python 3.8.10 64-bit",
   "language": "python",
   "name": "python3"
  },
  "language_info": {
   "codemirror_mode": {
    "name": "ipython",
    "version": 3
   },
   "file_extension": ".py",
   "mimetype": "text/x-python",
   "name": "python",
   "nbconvert_exporter": "python",
   "pygments_lexer": "ipython3",
   "version": "3.8.10"
  }
 },
 "nbformat": 4,
 "nbformat_minor": 4
}
