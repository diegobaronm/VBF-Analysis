{
 "cells": [
  {
   "cell_type": "markdown",
   "metadata": {},
   "source": [
    "# Code for fitting DATA = a*QCD + b*VBF\n",
    "## Diego Baron"
   ]
  },
  {
   "cell_type": "markdown",
   "metadata": {},
   "source": [
    "## 1. First, import the plotter and iminuit libraries. The second part creates a 2D least square fit function."
   ]
  },
  {
   "cell_type": "code",
   "execution_count": 133,
   "metadata": {
    "tags": []
   },
   "outputs": [
    {
     "name": "stdout",
     "output_type": "stream",
     "text": [
      "iminuit version: 2.18.0\n"
     ]
    }
   ],
   "source": [
    "# basic setup of the notebook\n",
    "from matplotlib import pyplot as plt\n",
    "import numpy as np\n",
    "\n",
    "# everything in iminuit is done through the Minuit object, so we import it\n",
    "from iminuit import Minuit\n",
    "\n",
    "# we also need a cost function to fit and import the LeastSquares function\n",
    "#from iminuit.cost import LeastSquares\n",
    "\n",
    "# display iminuit version\n",
    "import iminuit\n",
    "print(\"iminuit version:\", iminuit.__version__)\n",
    "\n",
    "\n",
    "############ Create a 2D least square fit ###################\n",
    "\n",
    "from iminuit.util import describe, make_func_code\n",
    "class LeastSquares:\n",
    "    \"\"\"\n",
    "    Generic least-squares cost function with error.\n",
    "    \"\"\"\n",
    "\n",
    "    errordef = Minuit.LEAST_SQUARES # for Minuit to compute errors correctly\n",
    "\n",
    "    def __init__(self, model, s1, s2, y, err):\n",
    "        self.model = model  # model predicts y for given x\n",
    "        self.s1 = np.asarray(s1)\n",
    "        self.s2 = np.asarray(s2)\n",
    "        self.y = np.asarray(y)\n",
    "        self.err = np.asarray(err)\n",
    "\n",
    "    def __call__(self, *par):  # we accept a variable number of model parameters\n",
    "        ym = self.model(self.s1,self.s2, *par)\n",
    "        return np.sum((self.y - ym) ** 2 / self.err ** 2)\n",
    "    \n",
    "class BetterLeastSquares(LeastSquares):\n",
    "    def __init__(self, model, s1 , s2, y, err):\n",
    "        super().__init__(model, s1,s2 , y, err)\n",
    "        self.func_code = make_func_code(describe(model)[2:])"
   ]
  },
  {
   "cell_type": "markdown",
   "metadata": {},
   "source": [
    "## Configuring the FIT\n",
    "### Select which samples to use for the BG and Signal,\n",
    "### comment out last line for Z->tau tau final state. "
   ]
  },
  {
   "cell_type": "code",
   "execution_count": 134,
   "metadata": {
    "tags": []
   },
   "outputs": [],
   "source": [
    "path_to_root_files = \"/Users/diegomac/Documents/HEP/VBF-Analysis/Zee/Plots/ABCD/SR/\"\n",
    "histogram = \"mass_jj\"\n",
    "\n",
    "QCD_sample = 'Zee_SherpaRW.root'\n",
    "VBF_sample = 'Signal_Sherpa.root'\n",
    "\n",
    "BG_samples = ['Wjets.root','singletop.root','VV.root','ttbar.root']\n",
    "BG_Tau = ['Higgs.root','Zjets.root']\n",
    "#BG_samples += BG_Tau"
   ]
  },
  {
   "cell_type": "markdown",
   "metadata": {},
   "source": [
    "Unpack the histograms and plot the relevant shapes"
   ]
  },
  {
   "cell_type": "code",
   "execution_count": 135,
   "metadata": {
    "tags": []
   },
   "outputs": [
    {
     "name": "stdout",
     "output_type": "stream",
     "text": [
      "0.0\n",
      "5000.0\n",
      "x =  [ 250.  500.  750. 1000. 1250. 1500. 2000. 2500. 3000. 4000.]\n",
      "y =  [4185.50634766 3123.19848633 1568.10852051  760.63275146  458.01507568\n",
      "  217.75387573   98.37812805   29.81842613   14.70673752    4.74141407]\n",
      "QCD_shape =  [4.23532910e+03 2.86682324e+03 1.21683240e+03 5.37518372e+02\n",
      " 2.55368866e+02 1.01134552e+02 3.34974976e+01 1.34227581e+01\n",
      " 5.55640554e+00 1.36254370e+00]\n",
      "QCD error =  [52.84948448 36.56056041 17.55981133 10.83872176  6.40811164  3.21005034\n",
      "  1.5152404   0.8273039   0.53980941  0.19234433]\n",
      "% QCD error  [ 1.24782474  1.27529873  1.44307559  2.01643745  2.50935509  3.17403921\n",
      "  4.52344356  6.16344192  9.71508297 14.11656257]\n"
     ]
    }
   ],
   "source": [
    "import os\n",
    "import ROOT as r\n",
    "import ctypes\n",
    "import pandas as pd\n",
    "import numpy as np\n",
    "\n",
    "def biner(edges,bin_widths,histogram):\n",
    "    if (len(edges)+1!=len(bin_widths)):\n",
    "        print(\"Check edges and bin widths array sizes!\")\n",
    "        return\n",
    "    \n",
    "    bins=[]\n",
    "    first_bin = histogram.GetXaxis().GetBinLowEdge(1)\n",
    "    print(first_bin)\n",
    "    last_bin = histogram.GetXaxis().GetBinUpEdge(histogram.GetNbinsX())\n",
    "    print(last_bin)\n",
    "    for i in range(0,len(edges)):\n",
    "        n_spaces = int((edges[i] - first_bin)/bin_widths[i])\n",
    "        bins = np.concatenate((bins,np.linspace(first_bin,edges[i],n_spaces,endpoint=False)))\n",
    "        first_bin = edges[i]\n",
    "        if edges[i]==edges[-1]:\n",
    "            n_spaces = int((last_bin - edges[i])/bin_widths[i+1])\n",
    "            bins = np.concatenate((bins,np.linspace(edges[i],last_bin,n_spaces,endpoint=False)))\n",
    "            bins = np.concatenate((bins,[last_bin]))\n",
    "    return bins\n",
    "\n",
    "def normalization(hist_list,norm_bin):\n",
    "    for hist in hist_list:\n",
    "        for i in range(1,hist.GetNbinsX()+1):\n",
    "            value=hist.GetBinContent(i)\n",
    "            error=hist.GetBinError(i)\n",
    "            sf=hist.GetBinWidth(i)/norm_bin\n",
    "            hist.SetBinContent(i,value/sf)\n",
    "            hist.SetBinError(i,error/sf)\n",
    "            \n",
    "def Unpack_Histo(histogram_file):\n",
    "    bin_content = []\n",
    "    bin_content_uncer =[]\n",
    "    for i in range(2,histogram_file.GetNbinsX()+1):\n",
    "        bin_content.append(histogram_file.GetBinContent(i))\n",
    "        bin_content_uncer.append(histogram_file.GetBinError(i))\n",
    "    return np.array(bin_content),np.array(bin_content_uncer)\n",
    "\n",
    "############# DATA SUBTRACTION #######################\n",
    "\n",
    "#r.TH1.SetDefaultSumw2()\n",
    "\n",
    "data_file = r.TFile.Open(path_to_root_files+'Data.root')\n",
    "data_hist = data_file.Get(histogram)\n",
    "data_hist.SetDirectory(0)\n",
    "\n",
    "s=data_hist.GetXaxis().GetBinLowEdge(1)\n",
    "e=data_hist.GetXaxis().GetBinUpEdge(data_hist.GetNbinsX())\n",
    "rebining=biner([1500,3000],[250,500,1000],data_hist)\n",
    "nb=len(rebining)-1\n",
    "data_hist=data_hist.Rebin(nb,\"data\",rebining)\n",
    "\n",
    "\n",
    "for i in BG_samples:\n",
    "    file = r.TFile.Open(path_to_root_files+i)\n",
    "    bg_sample = file.Get(histogram)\n",
    "    bg_sample = bg_sample.Rebin(nb,\"bg\",rebining)\n",
    "    data_hist.Add(bg_sample,-1)\n",
    "    file.Close()\n",
    "\n",
    "############# VBF AND QCD HISTOGRAM SET UP #########################\n",
    "\n",
    "QCD_file = r.TFile.Open(path_to_root_files+QCD_sample)\n",
    "QCD_hist = QCD_file.Get(histogram)\n",
    "QCD_hist.SetDirectory(0)\n",
    "QCD_hist=QCD_hist.Rebin(nb,\"QCD\",rebining)\n",
    "\n",
    "VBF_file = r.TFile.Open(path_to_root_files+VBF_sample)\n",
    "VBF_hist = VBF_file.Get(histogram)\n",
    "VBF_hist.SetDirectory(0)\n",
    "VBF_hist=VBF_hist.Rebin(nb,\"VBF\",rebining)\n",
    "\n",
    "################### NORMALISING SHAPES #####################\n",
    "\n",
    "normalization([data_hist,QCD_hist,VBF_hist],250)\n",
    "#normalization([data_hist,VBF_hist],250)\n",
    "\n",
    "############## UNPACKING THE HISTOGRAMS INTO NUMPY ARRAYS ################\n",
    "\n",
    "data_shape, data_shape_uncer = Unpack_Histo(data_hist)\n",
    "qcd_shape, qcd_shape_uncer = Unpack_Histo(QCD_hist)\n",
    "vbf_shape, vbf_shape_uncer = Unpack_Histo(VBF_hist)\n",
    "\n",
    "total_uncer = np.sqrt(data_shape_uncer**2+vbf_shape_uncer**2+qcd_shape_uncer**2)\n",
    "\n",
    "x_bins = np.array([data_hist.GetBinLowEdge(i) for i in range(2,data_hist.GetNbinsX()+1)])\n",
    "\n",
    "#data_shape[7]=vbf_shape[7]+qcd_shape[7]\n",
    "\n",
    "\n",
    "index=0\n",
    "for i in range(len(data_shape)):\n",
    "    if data_shape[i]<0:\n",
    "        break\n",
    "    index+=1\n",
    "\n",
    "def correct_shape(vector,index):\n",
    "    return vector[0:index]\n",
    "\n",
    "data_shape = correct_shape(data_shape,index)\n",
    "qcd_shape = correct_shape(qcd_shape,index)\n",
    "vbf_shape = correct_shape(vbf_shape,index)\n",
    "data_shape_uncer = correct_shape(data_shape_uncer,index)\n",
    "qcd_shape_uncer = correct_shape(qcd_shape_uncer,index)\n",
    "vbf_shape_uncer = correct_shape(vbf_shape_uncer,index)\n",
    "x_bins = correct_shape(x_bins,index)\n",
    "total_uncer = correct_shape(total_uncer,index)\n",
    "\n",
    "print(\"x = \",x_bins)\n",
    "print(\"y = \",data_shape)\n",
    "print(\"QCD_shape = \",qcd_shape)\n",
    "print(\"QCD error = \",qcd_shape_uncer)\n",
    "print(\"% QCD error \", 100*qcd_shape_uncer/qcd_shape)"
   ]
  },
  {
   "cell_type": "markdown",
   "metadata": {},
   "source": [
    "## 2. Include full uncertainties on the fit (This is for the standard ABCD method)\n",
    "### Calculation for the total uncertainties, including the re-weighting function.\n",
    "<img src=\"Weight-Uncertainty.jpg\" width=800 height=800 />"
   ]
  },
  {
   "cell_type": "code",
   "execution_count": 136,
   "metadata": {
    "tags": []
   },
   "outputs": [
    {
     "name": "stdout",
     "output_type": "stream",
     "text": [
      "QCD_shape =  [4.23532910e+03 2.86682324e+03 1.21683240e+03 5.37518372e+02\n",
      " 2.55368866e+02 1.01134552e+02 3.34974976e+01 1.34227581e+01\n",
      " 5.55640554e+00 1.36254370e+00]\n",
      "QCD error =  [52.86415481 36.57180257 17.57074752 10.85042508  6.41958577  3.22553993\n",
      "  1.54673     0.8814691   0.64482706  0.26534864]\n",
      "% QCD error =  [ 1.24817112  1.27569088  1.44397434  2.01861474  2.51384825  3.18935504\n",
      "  4.61744941  6.56697447 11.60511159 19.47450475]\n",
      "% SF error =  [ 2.35637605  2.48008695  3.52984661  4.64833855  5.98692975  9.83563458\n",
      " 20.49285946 36.7736963  65.34062109 95.03464473]\n"
     ]
    }
   ],
   "source": [
    "### Including the full uncertainties for the Standard ABCD #######\n",
    "\n",
    "SF_sherpa = np.array([1.191947493608173, 1.0533849781514475, 0.9327344771000723, 0.829883020868467, 0.7448314828267345, 0.6511154483110894, 0.5930844551100937, 0.6242695391061465, 0.9092022336795254, 2.0082758450131486])\n",
    "SF_sherpa_error =  np.array([0.024832248231732006, 0.02084994016932095, 0.025121873748490012, 0.03044693638877294, 0.03552656783662926, 0.04718166410747222, 0.08599269229591437, 0.17230228380603985, 0.5080358588861151, 2.167147164603685])\n",
    "\n",
    "SF_mg =  np.array([0.7501716556638925, 0.6553409014338234, 0.5796489788329213, 0.5223969542591113, 0.48259319793002875, 0.4528394974758118, 0.461872031268506, 0.5186567944044667, 0.6895118832931821, 1.1046475273074001])\n",
    "SF_mg_error =  np.array([0.017676865198085482, 0.01625302419125153, 0.02046071985681315, 0.024282779020102764, 0.028892515734035038, 0.04453963821747093, 0.09465078627174732, 0.19072927442291143, 0.45053134703576314, 1.0497978531225711])\n",
    "\n",
    "SF = SF_mg\n",
    "SF_error = SF_mg_error\n",
    "\n",
    "qcd_shape_uncer = np.sqrt(qcd_shape_uncer**2+((SF_error/SF)**2)*qcd_shape_uncer**2) \n",
    "\n",
    "total_uncer = np.sqrt(data_shape_uncer**2+vbf_shape_uncer**2+qcd_shape_uncer**2)\n",
    "\n",
    "print(\"QCD_shape = \",qcd_shape)\n",
    "print(\"QCD error = \",qcd_shape_uncer)\n",
    "print(\"% QCD error = \", 100*qcd_shape_uncer/qcd_shape)\n",
    "print(\"% SF error = \", 100*SF_error/SF)"
   ]
  },
  {
   "cell_type": "markdown",
   "metadata": {},
   "source": [
    "# OPTIONAL : Just for the average of MCs\n",
    "## Average with fit uncertainties\n",
    "### 1. Define the files, histogram and channel to average.\n",
    "### 2. Load files, rebin and normalise the histograms.\n",
    "### 3. Unpack the histograms in arrays and add the re-weight uncertainties to the yields.\n",
    "### 4. Average and calculate total uncertainty."
   ]
  },
  {
   "cell_type": "code",
   "execution_count": 137,
   "metadata": {
    "tags": []
   },
   "outputs": [
    {
     "name": "stdout",
     "output_type": "stream",
     "text": [
      "0.0\n",
      "5000.0\n",
      "[4.23532910e+03 2.86682324e+03 1.21683240e+03 5.37518372e+02\n",
      " 2.55368866e+02 1.01134552e+02 3.34974976e+01 1.34227581e+01\n",
      " 5.55640554e+00 1.36254370e+00]\n",
      "[4.03344741e+03 2.87455142e+03 1.22766309e+03 5.48064143e+02\n",
      " 2.58834349e+02 1.02170707e+02 3.48148350e+01 1.41965736e+01\n",
      " 5.56950471e+00 1.34509771e+00]\n",
      "[3.91134717e+03 2.87994165e+03 1.23952710e+03 5.59781250e+02\n",
      " 2.63105194e+02 1.03013130e+02 3.70152168e+01 1.73779488e+01\n",
      " 5.58804703e+00 1.29579222e+00]\n"
     ]
    },
    {
     "data": {
      "image/png": "[encoded data removed]",
      "text/plain": [
       "<Figure size 640x480 with 1 Axes>"
      ]
     },
     "metadata": {},
     "output_type": "display_data"
    }
   ],
   "source": [
    "path_to_root_files = \"/Users/diegomac/Documents/HEP/VBF-Analysis/Zee/Plots/ABCD/SR/\"\n",
    "histogram = \"mass_jj\"\n",
    "channel = \"Zee\"\n",
    "\n",
    "SHERPA_FILE = r.TFile.Open(path_to_root_files+channel+'_SherpaRW.root')\n",
    "MG_FILE = r.TFile.Open(path_to_root_files+channel+'_MGRW.root')\n",
    "\n",
    "SHERPA_HISTO = SHERPA_FILE.Get(histogram)\n",
    "MG_HISTO = MG_FILE.Get(histogram)\n",
    "\n",
    "rebining=biner([1500,3000],[250,500,1000],MG_HISTO)\n",
    "nb=len(rebining)-1\n",
    "SHERPA_HISTO=SHERPA_HISTO.Rebin(nb,\"data\",rebining)\n",
    "MG_HISTO=MG_HISTO.Rebin(nb,\"data\",rebining)\n",
    "normalization([SHERPA_HISTO,MG_HISTO],250)\n",
    "\n",
    "SHERPA, SHERPA_E = Unpack_Histo(SHERPA_HISTO)\n",
    "MG,MG_E = Unpack_Histo(MG_HISTO)\n",
    "\n",
    "\n",
    "SHERPA_E = np.sqrt(SHERPA_E**2+((SF_sherpa_error/SF_sherpa)**2)*SHERPA_E**2) \n",
    "MG_E = np.sqrt(MG_E**2+((SF_mg_error/SF_mg)**2)*MG_E**2) \n",
    "\n",
    "SHERPA_NORM, MG_NORM = SHERPA.sum(),MG.sum()\n",
    "\n",
    "#SHERPA, MG = SHERPA/SHERPA_NORM, MG/MG_NORM\n",
    "#SHERPA_E, MG_E = SHERPA_E/SHERPA_NORM, MG_E/MG_NORM\n",
    "\n",
    "WEIGHT = (1/SHERPA_E**2 + 1/MG_E**2)\n",
    "AVERAGE = (SHERPA/SHERPA_E**2+MG/MG_E**2)/WEIGHT\n",
    "AVERAGE_E = np.sqrt(1/WEIGHT)\n",
    "\n",
    "qcd_shape = AVERAGE\n",
    "qcd_shape_uncer = AVERAGE_E\n",
    "\n",
    "total_uncer = np.sqrt(data_shape_uncer**2+vbf_shape_uncer**2+qcd_shape_uncer**2)\n",
    "\n",
    "### DRAW THE SHAPES AND THE AVERAGE\n",
    "\n",
    "plt.errorbar(x_bins, SHERPA,SHERPA_E, fmt=\"o\",label='Sherpa');\n",
    "plt.errorbar(x_bins, MG, MG_E, fmt=\"o\",label='MG');\n",
    "plt.errorbar(x_bins, AVERAGE, AVERAGE_E, fmt=\"o\",label='Average');\n",
    "plt.legend()\n",
    "plt.ylim(0.00001,1000)\n",
    "plt.yscale(\"log\")\n",
    "\n",
    "print(SHERPA)\n",
    "print(AVERAGE)\n",
    "print(MG)"
   ]
  },
  {
   "cell_type": "markdown",
   "metadata": {
    "tags": []
   },
   "source": [
    "# OPTIONAL : Alternative ABCD Method"
   ]
  },
  {
   "cell_type": "code",
   "execution_count": 9,
   "metadata": {},
   "outputs": [
    {
     "name": "stdout",
     "output_type": "stream",
     "text": [
      "x =  [ 250.  500.  750. 1000. 1250. 1500. 2000. 2500. 3000. 4000.]\n",
      "y =  [9.86355273e+03 7.08558301e+03 3.51215747e+03 1.77503491e+03\n",
      " 1.05968372e+03 4.89834564e+02 2.06214737e+02 8.40699081e+01\n",
      " 3.26564980e+01 9.23526192e+00]\n",
      "QCD_shape =  [8.13128223e+03 6.02481543e+03 2.85801514e+03 1.46131689e+03\n",
      " 7.97229065e+02 3.61255951e+02 1.28621628e+02 5.48793945e+01\n",
      " 1.52523870e+01 2.66394901e+00]\n",
      "y_error =  [120.2464058   97.73971272  67.72482284  46.99127766  35.86842886\n",
      "  20.0825357   10.87716692   9.58953307   3.00725284   1.58021603]\n"
     ]
    }
   ],
   "source": [
    "#CRa Old\n",
    "#scaling_factors_sherpa = np.array([1.46753645, 1.10726058, 0.91471666, 0.78389782, 0.69573116, 0.62993467, 0.52442706, 0.45806327, 0.35676283, 0.30835927])\n",
    "#scaling_factors_mg = np.array([1.36794531, 1.09241414, 0.89026988, 0.78009623, 0.62210596,0.62110871, 0.5857293 , 0.7745406 , 0.59778947, 0.68026555])\n",
    "#sherpa_err = np.array([0.02151203, 0.02010888, 0.01628109, 0.01626265, 0.01860157, 0.02868193, 0.02134186, 0.06148216, 0.05134512, 0.05997645])\n",
    "#mg_err = np.array([0.02012357, 0.01491411, 0.01571727, 0.01953574, 0.06264988, 0.02268164, 0.03665924, 0.07321661, 0.07261506, 0.27062507])\n",
    "#scaling_factors_average = (scaling_factors_sherpa/sherpa_err**2+scaling_factors_mg/mg_err**2)/(1/sherpa_err**2+1/mg_err**2)\n",
    "\n",
    "scaling_factors_mg = np.array([0.93341933, 1.09575077, 1.10380183, 1.14542872, 1.01003097, 1.03616701, 1.38178206, 2.15901377, 2.97026279, 1.91803383])\n",
    "scaling_factors_sherpa = np.array([0.98769515, 1.06635816, 1.14465136, 1.226041  , 1.19181199, 1.10837077, 1.41706321, 0.99935805, 1.46043103, 0.84654533])\n",
    "mg_err = np.array([0.02697306, 0.03203529, 0.04424594, 0.06454911, 0.12967055, 0.09166941, 0.23436328, 0.70292785, 1.07097145, 1.7067704 ])\n",
    "sherpa_err = np.array([0.02818704, 0.03151608, 0.04191588, 0.06225261, 0.07803288, 0.0778964 , 0.14497813, 0.18114561, 0.44862734, 0.47001628])\n",
    "scaling_factors_average = (scaling_factors_sherpa/sherpa_err**2+scaling_factors_mg/mg_err**2)/(1/sherpa_err**2+1/mg_err**2)\n",
    "\n",
    "\n",
    "\"\"\" #CRc\n",
    "scaling_factors_sherpa = np.array([0.91018349, 0.90782344, 0.96345472, 1.12878442, 1.32670617, 1.5572598 , 2.09448314, 3.21974707, 3.58671308, 5.10975885])\n",
    "scaling_factors_mg = np.array([ 0.83782703,  0.94988137,  1.07373536,  1.27226925,  1.30644107, 1.6539005 ,  2.41354036,  3.96563172,  4.55003881, 14.47130203])\n",
    "sherpa_err = np.array([0.01291131, 0.01214627, 0.01783098, 0.03048616, 0.04186164, 0.06440318, 0.09821029, 0.4554642 , 0.32892466, 0.94089577])\n",
    "mg_err = np.array([0.00914283, 0.01150731, 0.01728026, 0.03127507, 0.04845319, 0.07180173, 0.18259241, 0.47656865, 0.81845578, 4.41446637])\n",
    "scaling_factors_average = (scaling_factors_sherpa/sherpa_err**2+scaling_factors_mg/mg_err**2)/(1/sherpa_err**2+1/mg_err**2)\n",
    "\"\"\"\n",
    "\n",
    "qcd_shape_sherpa,qcd_shape_mg = np.zeros(len(qcd_shape)),np.zeros(len(qcd_shape))\n",
    "qcd_shape_sherpa_err,qcd_shape_mg_err = np.zeros(len(qcd_shape)),np.zeros(len(qcd_shape))\n",
    "for i in range(0,len(qcd_shape)):\n",
    "    qcd_shape_sherpa[i]=qcd_shape[i]*scaling_factors_sherpa[i]\n",
    "    qcd_shape_sherpa_err[i]=qcd_shape_sherpa[i]*((qcd_shape_uncer[i]/qcd_shape[i])**2+(sherpa_err[i]/scaling_factors_sherpa[i])**2)**0.5\n",
    "    qcd_shape_mg[i]=qcd_shape[i]*scaling_factors_mg[i]\n",
    "    qcd_shape_mg_err[i]=qcd_shape_mg[i]*((qcd_shape_uncer[i]/qcd_shape[i])**2+(mg_err[i]/scaling_factors_mg[i])**2)**0.5\n",
    "print(\"x = \",x_bins)\n",
    "print(\"y = \",data_shape)\n",
    "print(\"QCD_shape = \",qcd_shape)\n",
    "print(\"y_error = \",total_uncer)"
   ]
  },
  {
   "cell_type": "code",
   "execution_count": 11,
   "metadata": {},
   "outputs": [
    {
     "data": {
      "text/plain": [
       "Text(0.5, 1.0, 'MG/SHERPA --- CRc ')"
      ]
     },
     "execution_count": 11,
     "metadata": {},
     "output_type": "execute_result"
    },
    {
     "data": {
      "image/png": "[encoded data removed]",
      "text/plain": [
       "<Figure size 432x288 with 1 Axes>"
      ]
     },
     "metadata": {
      "needs_background": "light"
     },
     "output_type": "display_data"
    }
   ],
   "source": [
    "ratio=qcd_shape_mg/qcd_shape_sherpa\n",
    "ratio_err=ratio*((qcd_shape_mg_err/qcd_shape_mg)**2+(qcd_shape_sherpa_err/qcd_shape_sherpa)**2)**0.5\n",
    "\n",
    "plt.errorbar(x_bins,ratio,ratio_err,fmt=\"o\")\n",
    "#plt.yscale(\"log\")\n",
    "plt.title(\"MG/SHERPA --- CRc \")"
   ]
  },
  {
   "cell_type": "markdown",
   "metadata": {},
   "source": [
    "## 3. Draw the Pre-Fit shapes"
   ]
  },
  {
   "cell_type": "code",
   "execution_count": 138,
   "metadata": {
    "tags": []
   },
   "outputs": [
    {
     "data": {
      "image/png": "[encoded data removed]",
      "text/plain": [
       "<Figure size 640x480 with 1 Axes>"
      ]
     },
     "metadata": {},
     "output_type": "display_data"
    }
   ],
   "source": [
    "\n",
    "# our model, unicode parameter names are supported :)\n",
    "def model(shape1,shape2, qcd, vbf):\n",
    "    return qcd*shape1 + vbf*shape2\n",
    "\n",
    "\n",
    "# generate random toy data with random offsets in y\n",
    "x_axis = x_bins\n",
    "y_axis = data_shape\n",
    "\n",
    "### Normalise the mc samples\n",
    "\n",
    "#qcd_shape = qcd_shape/qcd_shape.sum()\n",
    "#vbf_shape = vbf_shape/vbf_shape.sum()\n",
    "\n",
    "\n",
    "y_error = np.sqrt(data_shape_uncer**2+vbf_shape_uncer**2+qcd_shape_uncer**2)\n",
    "\n",
    "# draw toy data\n",
    "plt.errorbar(x_axis, y_axis,y_error, fmt=\"o\",label='DATA');\n",
    "plt.errorbar(x_axis, qcd_shape,qcd_shape_uncer, fmt=\"o\",label='QCD');\n",
    "plt.errorbar(x_axis, qcd_shape+vbf_shape,np.sqrt(vbf_shape_uncer**2+qcd_shape_uncer**2), fmt=\"o\",label='VBF');\n",
    "plt.legend()\n",
    "#plt.xlim(2000,5000)\n",
    "plt.yscale(\"log\")\n"
   ]
  },
  {
   "cell_type": "markdown",
   "metadata": {},
   "source": [
    "## 4. Perform the Fit"
   ]
  },
  {
   "cell_type": "code",
   "execution_count": 139,
   "metadata": {
    "tags": []
   },
   "outputs": [
    {
     "data": {
      "image/png": "[encoded data removed]",
      "text/plain": [
       "<Figure size 640x480 with 1 Axes>"
      ]
     },
     "metadata": {},
     "output_type": "display_data"
    }
   ],
   "source": [
    "# iminuit contains a LeastSquares class to conveniently generate a least-squares cost function.\n",
    "# We will revisit how to write this by hand in a later section.\n",
    "least_squares = BetterLeastSquares(model,qcd_shape,vbf_shape, data_shape,total_uncer)\n",
    "\n",
    "m = Minuit(least_squares, qcd=2.0, vbf=1.0)  # starting values for α and β\n",
    "\n",
    "m.migrad()  # finds minimum of least_squares function\n",
    "m.hesse()   # accurately computes uncertainties\n",
    "\n",
    "# draw data and fitted line\n",
    "plt.errorbar(x_axis, data_shape, total_uncer, fmt=\"o\", label=\"data\")\n",
    "plt.errorbar(x_axis, model(qcd_shape,vbf_shape, *m.values),0,fmt=\"o\", label=\"fit\")\n",
    "plt.yscale('log')\n",
    "\n",
    "# display legend with some fit info\n",
    "fit_info = [\n",
    "    f\"$\\\\chi^2$ / $n_\\\\mathrm{{dof}}$ = {m.fval:.1f} / {len(x_axis) - m.nfit}\",\n",
    "]\n",
    "for p, v, e in zip(m.parameters, m.values, m.errors):\n",
    "    fit_info.append(f\"{p} = ${v:.3f} \\\\pm {e:.3f}$\")\n",
    "\n",
    "plt.legend(title=\"\\n\".join(fit_info));"
   ]
  },
  {
   "cell_type": "code",
   "execution_count": 114,
   "metadata": {
    "tags": []
   },
   "outputs": [
    {
     "name": "stdout",
     "output_type": "stream",
     "text": [
      "<ValueView qcd=1.2206183802992159 vbf=0.820107964997676>\n"
     ]
    }
   ],
   "source": [
    "print(m.values)"
   ]
  },
  {
   "cell_type": "code",
   "execution_count": null,
   "metadata": {},
   "outputs": [],
   "source": []
  }
 ],
 "metadata": {
  "kernelspec": {
   "display_name": "Python 3 (ipykernel)",
   "language": "python",
   "name": "python3"
  },
  "language_info": {
   "codemirror_mode": {
    "name": "ipython",
    "version": 3
   },
   "file_extension": ".py",
   "mimetype": "text/x-python",
   "name": "python",
   "nbconvert_exporter": "python",
   "pygments_lexer": "ipython3",
   "version": "3.10.5"
  },
  "vscode": {
   "interpreter": {
    "hash": "b0fa6594d8f4cbf19f97940f81e996739fb7646882a419484c72d19e05852a7e"
   }
  }
 },
 "nbformat": 4,
 "nbformat_minor": 4
}
