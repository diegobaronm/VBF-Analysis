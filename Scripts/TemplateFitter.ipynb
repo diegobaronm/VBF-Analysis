{
 "cells": [
  {
   "cell_type": "markdown",
   "id": "fc607c3a-fc68-4ca0-8870-dd3575d3454b",
   "metadata": {
    "tags": []
   },
   "source": [
    "# Perform a template fit of the for Data = a*QCD + b*VBF\n",
    "## Using HistFactory in Root"
   ]
  },
  {
   "cell_type": "code",
   "execution_count": null,
   "id": "a346b4c8-bb35-4e10-9310-057645b67702",
   "metadata": {
    "tags": []
   },
   "outputs": [
    {
     "name": "stdout",
     "output_type": "stream",
     "text": [
      "QCD Integral =  1059.4295114278793\n"
     ]
    }
   ],
   "source": [
    "import ROOT\n",
    "import os\n",
    "import numpy as np\n",
    "\n",
    "SF_sherpa = np.array([1.0,1.191947493608173, 1.0533849781514475, 0.9327344771000723, 0.829883020868467, 0.7448314828267345, 0.6511154483110894, 0.5930844551100937, 0.6242695391061465, 0.9092022336795254, 2.0082758450131486])\n",
    "SF_sherpa_error =  np.array([0.0,0.024832248231732006, 0.02084994016932095, 0.025121873748490012, 0.03044693638877294, 0.03552656783662926, 0.04718166410747222, 0.08599269229591437, 0.17230228380603985, 0.5080358588861151, 2.167147164603685])\n",
    "SF_mg =  np.array([1.0,0.7501716556638925, 0.6553409014338234, 0.5796489788329213, 0.5223969542591113, 0.48259319793002875, 0.4528394974758118, 0.461872031268506, 0.5186567944044667, 0.6895118832931821, 1.1046475273074001])\n",
    "SF_mg_error =  np.array([0.0,0.017676865198085482, 0.01625302419125153, 0.02046071985681315, 0.024282779020102764, 0.028892515734035038, 0.04453963821747093, 0.09465078627174732, 0.19072927442291143, 0.45053134703576314, 1.0497978531225711])\n",
    "\n",
    "\n",
    "def fillHistogramErrors(histogram,binErrors):\n",
    "    for i in range(1,histogram.GetNbinsX()+1):\n",
    "        histogram.SetBinError(i,binErrors[i-1])\n",
    "        \n",
    "def unpackHisto(histogram_file):\n",
    "    bin_content_uncer =[]\n",
    "    for i in range(1,histogram_file.GetNbinsX()+1):\n",
    "        bin_content_uncer.append(histogram_file.GetBinError(i))\n",
    "    return np.array(bin_content_uncer)\n",
    "        \n",
    "        \n",
    "inputPath = \"/Users/diegomac/Documents/HEP/VBF-Analysis/TauLep/ABCD/\"\n",
    "\n",
    "otherBGs = ['Wjets.root','VV.root','ttbar.root','singletop.root']\n",
    "if \"Tau\" in inputPath:\n",
    "    otherBGs += ['Higgs.root','Zjets.root']\n",
    "samples = {\"Signal\":\"Signal_Average.root\",\"QCDjj\":\"Ztautau_MGRW.root\",\"Data\":\"Data.root\"}\n",
    "qcd_shape_uncer = []\n",
    "\n",
    "inputFile = ROOT.TFile.Open(\"histograms.root\",\"RECREATE\")\n",
    "for i in samples:\n",
    "    file = ROOT.TFile.Open(inputPath+samples[i])\n",
    "    histogram = file.Get(\"mass_jj\")\n",
    "    x = np.array([   0.0,  250.0,  500.0,  750.0, 1000.0, 1250.0, 1500.0, 2000.0, 2500.0, 3000.0, 4000.0, 5000.0])\n",
    "    \n",
    "    if \"Average\" not in samples[i]:\n",
    "        histogram = histogram.Rebin(len(x)-1,i,x)\n",
    "    \n",
    "    if i==\"QCDjj\":\n",
    "        qcd_shape_uncer = unpackHisto(histogram)\n",
    "        print('QCD Integral = ', histogram.Integral(1,-1))\n",
    "        if \"Sherpa\" in samples[\"QCDjj\"]:\n",
    "            SF = SF_sherpa\n",
    "            SF_error = SF_sherpa_error \n",
    "        elif \"MG\" in samples[\"QCDjj\"]:\n",
    "            SF = SF_mg\n",
    "            SF_error = SF_mg_error \n",
    "        if \"Average\" not in samples[i]:\n",
    "            qcd_shape_uncer = np.sqrt(qcd_shape_uncer**2+((SF_error/SF)**2)*qcd_shape_uncer**2) \n",
    "            fillHistogramErrors(histogram,qcd_shape_uncer)\n",
    "        \n",
    "    if i == \"Data\":\n",
    "        for j in otherBGs:\n",
    "            BGFile = ROOT.TFile.Open(inputPath+j)\n",
    "            BGHistogram = BGFile.Get(\"mass_jj\")\n",
    "            BGHistogram = BGHistogram.Rebin(len(x)-1,j,x)\n",
    "            \n",
    "            histogram.Add(BGHistogram,-1.0)\n",
    "            \n",
    "    inputFile.WriteObject(histogram,i)\n",
    "    file.Close()\n",
    "    \n",
    "inputFile.Close()"
   ]
  },
  {
   "cell_type": "code",
   "execution_count": 93,
   "id": "52799e2d-91c2-4f40-872b-29f1f61b1890",
   "metadata": {
    "tags": []
   },
   "outputs": [
    {
     "data": {
      "text/plain": [
       "0"
      ]
     },
     "execution_count": 93,
     "metadata": {},
     "output_type": "execute_result"
    },
    {
     "name": "stdout",
     "output_type": "stream",
     "text": [
      "VBF = 174.687 +/- 53.3695\n",
      "QCD = 1.13883 +/- 0.0675743\n"
     ]
    },
    {
     "name": "stderr",
     "output_type": "stream",
     "text": [
      "Info in <TCanvas::Print>: eps file ./results/example_UsingPy_channel1_meas_profileLR.eps has been created\n",
      "Info in <TCanvas::Print>: eps file ./results/example_UsingPy_combined_meas_profileLR.eps has been created\n"
     ]
    }
   ],
   "source": [
    "os.system(\"root Fit.cpp | tail -n 2\")"
   ]
  },
  {
   "cell_type": "markdown",
   "id": "74865dab-8dd6-4c41-aea7-8b57a18e6503",
   "metadata": {
    "tags": []
   },
   "source": [
    "## Using plain iminuit"
   ]
  },
  {
   "cell_type": "code",
   "execution_count": 26,
   "id": "1bc7511c-e571-44ed-802e-7d91155de13a",
   "metadata": {
    "tags": []
   },
   "outputs": [],
   "source": [
    "import iminuit\n",
    "import matplotlib.pyplot as plt\n",
    "import numpy as np\n",
    "\n",
    "from iminuit import cost, Minuit\n",
    "\n",
    "def createHistogram(histogram):\n",
    "    histo = []\n",
    "    for i in histogram:\n",
    "        histo.append([i,np.sqrt(i)])\n",
    "    return np.array(histo)\n",
    "\n",
    "yDataMeasurements = np.random.normal(91,4,1000)\n",
    "yPredictionMeasurements = np.random.normal(91,4,100)\n",
    "\n",
    "np.random.exponential()\n",
    "\n",
    "data , x = np.histogram(yDataMeasurements,bins=200,range=(0,200))\n",
    "prediction, x = np.histogram(yPredictionMeasurements,bins=200,range=(0,200))\n",
    "\n",
    "\n",
    "dataHistogram = createHistogram(data)\n",
    "predictionHistogram = createHistogram(prediction)\n",
    "\n",
    "c = cost.Template(dataHistogram, x, np.array([predictionHistogram]))\n",
    "m = Minuit(c,1000.0)\n",
    "m.migrad()"
   ]
  }
 ],
 "metadata": {
  "kernelspec": {
   "display_name": "Python 3 (ipykernel)",
   "language": "python",
   "name": "python3"
  },
  "language_info": {
   "codemirror_mode": {
    "name": "ipython",
    "version": 3
   },
   "file_extension": ".py",
   "mimetype": "text/x-python",
   "name": "python",
   "nbconvert_exporter": "python",
   "pygments_lexer": "ipython3",
   "version": "3.10.5"
  }
 },
 "nbformat": 4,
 "nbformat_minor": 5
}
