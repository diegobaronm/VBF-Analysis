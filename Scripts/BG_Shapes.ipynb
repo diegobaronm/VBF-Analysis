{
 "cells": [
  {
   "cell_type": "code",
   "execution_count": 8,
   "id": "b70c37a3-e157-49e8-b45f-f61c3dd7870a",
   "metadata": {},
   "outputs": [],
   "source": [
    "import ROOT as r\n",
    "import os\n",
    "\n",
    "%run 'Plotter.ipynb'"
   ]
  },
  {
   "cell_type": "code",
   "execution_count": 9,
   "id": "17ccda79-f78d-4b78-aa3b-e346c32b2c3c",
   "metadata": {},
   "outputs": [
    {
     "name": "stdout",
     "output_type": "stream",
     "text": [
      "0.0\n",
      "5000.0\n"
     ]
    },
    {
     "name": "stderr",
     "output_type": "stream",
     "text": [
      "Warning in <TCanvas::Constructor>: Deleting canvas with same name: canvas\n",
      "Info in <TCanvas::Print>: pdf file Zee_loose.pdf has been created\n"
     ]
    }
   ],
   "source": [
    "#### CONFIGURATION\n",
    "\n",
    "base_path=os.path.abspath('..')\n",
    "\n",
    "Zmm_path='/MuMu/Plots/RecursiveFits-Loose/SR/'\n",
    "Zee_path='/MuMu/Plots/RecursiveFits-Loose/SR/'\n",
    "\n",
    "title = 'Zmm_loose.pdf'\n",
    "\n",
    "sherpa_file_zmm = 'Zmumu_SherpaRW.root'\n",
    "mg_file_zmm = 'Zmumu_MGRW.root'\n",
    "\n",
    "zmm_sherpa_scale = 0.998\n",
    "zmm_mg_scale = 0.908\n",
    "\n",
    "histogram = 'mass_jj'\n",
    "bins=[[1500],[250,500],250]\n",
    "\n",
    "r.TH1.AddDirectory(r.kFALSE)\n",
    "\n",
    "### OPEN FILES AND GET HISTOGRAMS\n",
    "\n",
    "Zmm_file_Sherpa = r.TFile.Open(base_path+Zmm_path+sherpa_file_zmm,\"READ\")\n",
    "Zmm_file_MG = r.TFile.Open(base_path+Zmm_path+mg_file_zmm,\"READ\")\n",
    "\n",
    "Zmm_histo_Sherpa=Zmm_file_Sherpa.Get(histogram)\n",
    "Zmm_histo_MG=Zmm_file_MG.Get(histogram)\n",
    "\n",
    "\n",
    "#### DRAW TOP PLOT\n",
    "\n",
    "Canvas = ROOT.TCanvas(\"canvas\")\n",
    "Canvas.cd()\n",
    "pad1 = ROOT . TPad (\" pad1 \",\" pad1 \" ,0 ,0.35 ,1 ,1)\n",
    "pad1.SetTopMargin(0.03)\n",
    "pad1.SetRightMargin(0.03)\n",
    "pad1.SetLeftMargin(0.08)\n",
    "pad1.SetBottomMargin(0.0)\n",
    "pad1.Draw ()\n",
    "pad1.cd ()\n",
    "pad1.SetLogy()\n",
    "\n",
    "\n",
    "#### REBIN, SCALE AND NORMALISE\n",
    "\n",
    "rebining=biner(bins[0],bins[1],Zmm_histo_Sherpa)\n",
    "n_bins = len(rebining)-1\n",
    "\n",
    "Zmm_histo_Sherpa=Zmm_histo_Sherpa.Rebin(n_bins,histogram,rebining)\n",
    "Zmm_histo_MG=Zmm_histo_MG.Rebin(n_bins,histogram,rebining)\n",
    "\n",
    "normalization([Zmm_histo_Sherpa,Zmm_histo_MG],bins[2])\n",
    "\n",
    "Zmm_histo_Sherpa.Scale(zmm_sherpa_scale)\n",
    "Zmm_histo_MG.Scale(zmm_mg_scale)\n",
    "\n",
    "## RATIO\n",
    "\n",
    "ratio=Zmm_histo_Sherpa.Clone()\n",
    "ratio.Divide(Zmm_histo_MG)\n",
    "\n",
    "### LEGENDS AND COLORS\n",
    "\n",
    "\n",
    "legend = ROOT . TLegend (0.45 ,0.80 ,0.85 ,0.95)\n",
    "legend.AddEntry(Zmm_histo_Sherpa,\"Zmm -- Sherpa\")\n",
    "legend.AddEntry(Zmm_histo_MG, \"Zmm -- MG\")\n",
    "\n",
    "Zmm_histo_Sherpa.SetLineColor(r.kRed)\n",
    "\n",
    "\n",
    "#### DRAW\n",
    "\n",
    "Zmm_histo_Sherpa.Draw(\"hist same\")\n",
    "Zmm_histo_MG.Draw(\"hist same\")\n",
    "legend . Draw ()\n",
    "\n",
    "#### RATIO PLOT\n",
    "\n",
    "Canvas.cd()\n",
    "pad2 = ROOT . TPad (\" pad2 \",\" pad2 \" ,0 ,0.15 ,1 ,0.35)\n",
    "pad2.SetRightMargin(0.03)\n",
    "pad2.SetLeftMargin(0.08)\n",
    "pad2.SetTopMargin(0)\n",
    "pad2.SetBottomMargin(0.0)\n",
    "pad2.Draw ()\n",
    "pad2.cd ()\n",
    "\n",
    "ratio.Draw (\"E2\")\n",
    "ratio.GetYaxis().SetRangeUser(0.01 ,1.3)\n",
    "ratio.SetMarkerStyle(8)\n",
    "ratio.SetMarkerSize(0.6)\n",
    "ratio.GetYaxis().SetTitle (\"Sherpa/MG\")\n",
    "ratio . GetYaxis (). SetTitleSize (0.15)\n",
    "ratio . GetYaxis (). SetTitleOffset (0.25)\n",
    "ratio . GetXaxis (). SetTitleSize (0.09)\n",
    "\n",
    "r=[]\n",
    "for i in range(1,ratio.GetNbinsX()+2):\n",
    "    r.append(ratio.GetBinContent(i))\n",
    "    \n",
    "\n",
    "\n",
    "Canvas.Print(title)"
   ]
  },
  {
   "cell_type": "code",
   "execution_count": 10,
   "id": "c251d80f-f090-4b3f-9b62-ade6a1590206",
   "metadata": {},
   "outputs": [
    {
     "data": {
      "text/plain": [
       "[0.0,\n",
       " 1.0432931184768677,\n",
       " 0.9452829360961914,\n",
       " 0.9086479544639587,\n",
       " 0.9088646173477173,\n",
       " 0.8933472037315369,\n",
       " 0.87534499168396,\n",
       " 0.8002135157585144,\n",
       " 0.5771641135215759,\n",
       " 0.5442619323730469,\n",
       " 0.016856934875249863,\n",
       " 0.0,\n",
       " 0.0,\n",
       " 0.0]"
      ]
     },
     "execution_count": 10,
     "metadata": {},
     "output_type": "execute_result"
    }
   ],
   "source": [
    "r"
   ]
  },
  {
   "cell_type": "code",
   "execution_count": 11,
   "id": "4d2facab-2b69-4bb6-84ed-b04e18e415dd",
   "metadata": {},
   "outputs": [],
   "source": [
    "r_mm=[0.0,\n",
    " 1.0369551181793213,\n",
    " 0.9616246223449707,\n",
    " 0.9102371335029602,\n",
    " 0.9304547905921936,\n",
    " 0.9407355785369873,\n",
    " 0.9885047674179077,\n",
    " 0.823212206363678,\n",
    " 0.8765270113945007,\n",
    " 0.5569978952407837,\n",
    " 0.03826434537768364,\n",
    " 0.0,\n",
    " 0.0,\n",
    " 0.0]\n",
    "r_ee =[0.0,\n",
    " 1.0432931184768677,\n",
    " 0.9452829360961914,\n",
    " 0.9086479544639587,\n",
    " 0.9088646173477173,\n",
    " 0.8933472037315369,\n",
    " 0.87534499168396,\n",
    " 0.8002135157585144,\n",
    " 0.5771641135215759,\n",
    " 0.5442619323730469,\n",
    " 0.016856934875249863,\n",
    " 0.0,\n",
    " 0.0,\n",
    " 0.0]"
   ]
  },
  {
   "cell_type": "code",
   "execution_count": 13,
   "id": "fdc79680-035a-49ac-bff9-b2e0d972bf81",
   "metadata": {},
   "outputs": [],
   "source": [
    "r_mm=r_mm[1:-3]\n",
    "r_ee=r_ee[1:-3]"
   ]
  },
  {
   "cell_type": "code",
   "execution_count": 15,
   "id": "86973d9c-f580-4725-9f99-a8f20d4553eb",
   "metadata": {},
   "outputs": [],
   "source": [
    "r_mm=np.array(r_mm)\n",
    "r_ee=np.array(r_ee)"
   ]
  },
  {
   "cell_type": "code",
   "execution_count": 16,
   "id": "7d869cd5-e579-4f0a-9e64-0b58361c8b6b",
   "metadata": {},
   "outputs": [
    {
     "data": {
      "text/plain": [
       "array([0.99392501, 1.01728761, 1.00174895, 1.0237551 , 1.05304586,\n",
       "       1.12927449, 1.02874069, 1.51867899, 1.02340043, 2.2699468 ])"
      ]
     },
     "execution_count": 16,
     "metadata": {},
     "output_type": "execute_result"
    }
   ],
   "source": [
    "r_mm/r_ee"
   ]
  },
  {
   "cell_type": "code",
   "execution_count": null,
   "id": "c11d5b21-ee6e-4f02-a827-8dd283e46c73",
   "metadata": {},
   "outputs": [],
   "source": []
  }
 ],
 "metadata": {
  "kernelspec": {
   "display_name": "Python 3 (ipykernel)",
   "language": "python",
   "name": "python3"
  },
  "language_info": {
   "codemirror_mode": {
    "name": "ipython",
    "version": 3
   },
   "file_extension": ".py",
   "mimetype": "text/x-python",
   "name": "python",
   "nbconvert_exporter": "python",
   "pygments_lexer": "ipython3",
   "version": "3.10.4"
  }
 },
 "nbformat": 4,
 "nbformat_minor": 5
}
