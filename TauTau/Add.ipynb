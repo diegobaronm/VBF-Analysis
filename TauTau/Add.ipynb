{
 "cells": [
  {
   "cell_type": "markdown",
   "id": "22c8532f-ea4d-45ee-861e-b533d5daf8bc",
   "metadata": {},
   "source": [
    "# Add tau+mu and tau+e"
   ]
  },
  {
   "cell_type": "code",
   "execution_count": 3,
   "id": "72af6b14-7101-4d27-b807-55999db60f3d",
   "metadata": {
    "tags": []
   },
   "outputs": [],
   "source": [
    "import os\n",
    "sample_pairs=[(\"Data.root\",\"Data.root\"),(\"MC.root\",\"MC.root\"),(\"Signal_Sherpa.root\",\"Signal_Sherpa.root\"),\n",
    "             (\"Signal_PoPy.root\",\"Signal_PoPy.root\"),(\"singletop.root\",\"singletop.root\"),(\"ttbar.root\",\"ttbar.root\"),\n",
    "             (\"VV.root\",\"VV.root\"),(\"Wjets.root\",\"Wjets.root\"),(\"Higgs.root\",\"Higgs.root\"),(\"Zjets.root\",\"Zjet.root\"),\n",
    "              (\"W_EWK_Sherpa.root\",\"W_EWK_Sherpa.root\"),(\"W_EWK_PoPy.root\",\"W_EWK_PoPy.root\"),(\"VV_EWK.root\",\"VV_EWK.root\"),\n",
    "              (\"Ztautau_Sherpa.root\",\"Ztautau_Sherpa.root\"),(\"Ztautau_MG.root\",\"Ztautau_MG.root\")]\n",
    "output_names = [\"Data.root\",\"MC.root\",\"Signal_Sherpa.root\",\"Signal_PoPy.root\",\"singletop.root\",\"ttbar.root\",\"VV.root\",\n",
    "                \"Wjets.root\",\"Higgs.root\",\"Zjets.root\",\"W_EWK_Sherpa.root\",\"W_EWK_PoPy.root\",\"VV_EWK.root\",\n",
    "                \"Ztautau_SherpaRW.root\",\"Ztautau_MGRW.root\"]"
   ]
  },
  {
   "cell_type": "code",
   "execution_count": 4,
   "id": "1009ad9e-b1f5-4761-8bd7-3150a0818bb6",
   "metadata": {
    "tags": []
   },
   "outputs": [
    {
     "name": "stdout",
     "output_type": "stream",
     "text": [
      "hadd Target file: TauTau/TauhadTaulep/High-Mass/DeterministicBDTRecVisCutSR/Data.root\n",
      "hadd compression setting for all output: 1\n",
      "hadd Source file 1: EleTau/Plots/High-Mass/DeterministicBDTRecVisCutSR/Data.root\n",
      "hadd Source file 2: TauMu/Plots/High-Mass/DeterministicBDTRecVisCutSR/Data.root\n",
      "hadd Target path: TauTau/TauhadTaulep/High-Mass/DeterministicBDTRecVisCutSR/Data.root:/\n",
      "hadd Target file: TauTau/TauhadTaulep/High-Mass/DeterministicBDTRecVisCutSR/MC.root\n",
      "hadd compression setting for all output: 1\n",
      "hadd Source file 1: EleTau/Plots/High-Mass/DeterministicBDTRecVisCutSR/MC.root\n",
      "hadd Source file 2: TauMu/Plots/High-Mass/DeterministicBDTRecVisCutSR/MC.root\n",
      "hadd Target path: TauTau/TauhadTaulep/High-Mass/DeterministicBDTRecVisCutSR/MC.root:/\n",
      "hadd Target file: TauTau/TauhadTaulep/High-Mass/DeterministicBDTRecVisCutSR/Signal_Sherpa.root\n",
      "hadd compression setting for all output: 1\n",
      "hadd Source file 1: EleTau/Plots/High-Mass/DeterministicBDTRecVisCutSR/Signal_Sherpa.root\n",
      "hadd Source file 2: TauMu/Plots/High-Mass/DeterministicBDTRecVisCutSR/Signal_Sherpa.root\n",
      "hadd Target path: TauTau/TauhadTaulep/High-Mass/DeterministicBDTRecVisCutSR/Signal_Sherpa.root:/\n",
      "hadd Target file: TauTau/TauhadTaulep/High-Mass/DeterministicBDTRecVisCutSR/Signal_PoPy.root\n",
      "hadd compression setting for all output: 1\n",
      "hadd Source file 1: EleTau/Plots/High-Mass/DeterministicBDTRecVisCutSR/Signal_PoPy.root\n",
      "hadd Source file 2: TauMu/Plots/High-Mass/DeterministicBDTRecVisCutSR/Signal_PoPy.root\n",
      "hadd Target path: TauTau/TauhadTaulep/High-Mass/DeterministicBDTRecVisCutSR/Signal_PoPy.root:/\n",
      "hadd Target file: TauTau/TauhadTaulep/High-Mass/DeterministicBDTRecVisCutSR/singletop.root\n",
      "hadd compression setting for all output: 1\n",
      "hadd Source file 1: EleTau/Plots/High-Mass/DeterministicBDTRecVisCutSR/singletop.root\n",
      "hadd Source file 2: TauMu/Plots/High-Mass/DeterministicBDTRecVisCutSR/singletop.root\n",
      "hadd Target path: TauTau/TauhadTaulep/High-Mass/DeterministicBDTRecVisCutSR/singletop.root:/\n",
      "hadd Target file: TauTau/TauhadTaulep/High-Mass/DeterministicBDTRecVisCutSR/ttbar.root\n",
      "hadd compression setting for all output: 1\n",
      "hadd Source file 1: EleTau/Plots/High-Mass/DeterministicBDTRecVisCutSR/ttbar.root\n",
      "hadd Source file 2: TauMu/Plots/High-Mass/DeterministicBDTRecVisCutSR/ttbar.root\n",
      "hadd Target path: TauTau/TauhadTaulep/High-Mass/DeterministicBDTRecVisCutSR/ttbar.root:/\n",
      "hadd Target file: TauTau/TauhadTaulep/High-Mass/DeterministicBDTRecVisCutSR/VV.root\n",
      "hadd compression setting for all output: 1\n",
      "hadd Source file 1: EleTau/Plots/High-Mass/DeterministicBDTRecVisCutSR/VV.root\n",
      "hadd Source file 2: TauMu/Plots/High-Mass/DeterministicBDTRecVisCutSR/VV.root\n",
      "hadd Target path: TauTau/TauhadTaulep/High-Mass/DeterministicBDTRecVisCutSR/VV.root:/\n",
      "hadd Target file: TauTau/TauhadTaulep/High-Mass/DeterministicBDTRecVisCutSR/Wjets.root\n",
      "hadd compression setting for all output: 1\n",
      "hadd Source file 1: EleTau/Plots/High-Mass/DeterministicBDTRecVisCutSR/Wjets.root\n",
      "hadd Source file 2: TauMu/Plots/High-Mass/DeterministicBDTRecVisCutSR/Wjets.root\n",
      "hadd Target path: TauTau/TauhadTaulep/High-Mass/DeterministicBDTRecVisCutSR/Wjets.root:/\n",
      "hadd Target file: TauTau/TauhadTaulep/High-Mass/DeterministicBDTRecVisCutSR/Higgs.root\n",
      "hadd compression setting for all output: 1\n",
      "hadd Source file 1: EleTau/Plots/High-Mass/DeterministicBDTRecVisCutSR/Higgs.root\n",
      "hadd Source file 2: TauMu/Plots/High-Mass/DeterministicBDTRecVisCutSR/Higgs.root\n",
      "hadd Target path: TauTau/TauhadTaulep/High-Mass/DeterministicBDTRecVisCutSR/Higgs.root:/\n",
      "hadd Target file: TauTau/TauhadTaulep/High-Mass/DeterministicBDTRecVisCutSR/Zjets.root\n",
      "hadd compression setting for all output: 1\n",
      "hadd Source file 1: EleTau/Plots/High-Mass/DeterministicBDTRecVisCutSR/Zjets.root\n",
      "hadd Source file 2: TauMu/Plots/High-Mass/DeterministicBDTRecVisCutSR/Zjet.root\n",
      "hadd Target path: TauTau/TauhadTaulep/High-Mass/DeterministicBDTRecVisCutSR/Zjets.root:/\n",
      "hadd Target file: TauTau/TauhadTaulep/High-Mass/DeterministicBDTRecVisCutSR/W_EWK_Sherpa.root\n",
      "hadd compression setting for all output: 1\n",
      "hadd Source file 1: EleTau/Plots/High-Mass/DeterministicBDTRecVisCutSR/W_EWK_Sherpa.root\n",
      "hadd Source file 2: TauMu/Plots/High-Mass/DeterministicBDTRecVisCutSR/W_EWK_Sherpa.root\n",
      "hadd Target path: TauTau/TauhadTaulep/High-Mass/DeterministicBDTRecVisCutSR/W_EWK_Sherpa.root:/\n",
      "hadd Target file: TauTau/TauhadTaulep/High-Mass/DeterministicBDTRecVisCutSR/W_EWK_PoPy.root\n",
      "hadd compression setting for all output: 1\n",
      "hadd Source file 1: EleTau/Plots/High-Mass/DeterministicBDTRecVisCutSR/W_EWK_PoPy.root\n",
      "hadd Source file 2: TauMu/Plots/High-Mass/DeterministicBDTRecVisCutSR/W_EWK_PoPy.root\n",
      "hadd Target path: TauTau/TauhadTaulep/High-Mass/DeterministicBDTRecVisCutSR/W_EWK_PoPy.root:/\n",
      "hadd Target file: TauTau/TauhadTaulep/High-Mass/DeterministicBDTRecVisCutSR/VV_EWK.root\n",
      "hadd compression setting for all output: 1\n",
      "hadd Source file 1: EleTau/Plots/High-Mass/DeterministicBDTRecVisCutSR/VV_EWK.root\n",
      "hadd Source file 2: TauMu/Plots/High-Mass/DeterministicBDTRecVisCutSR/VV_EWK.root\n",
      "hadd Target path: TauTau/TauhadTaulep/High-Mass/DeterministicBDTRecVisCutSR/VV_EWK.root:/\n",
      "hadd Target file: TauTau/TauhadTaulep/High-Mass/DeterministicBDTRecVisCutSR/Ztautau_SherpaRW.root\n",
      "hadd compression setting for all output: 1\n",
      "hadd Source file 1: EleTau/Plots/High-Mass/DeterministicBDTRecVisCutSR/Ztautau_Sherpa.root\n",
      "hadd Source file 2: TauMu/Plots/High-Mass/DeterministicBDTRecVisCutSR/Ztautau_Sherpa.root\n",
      "hadd Target path: TauTau/TauhadTaulep/High-Mass/DeterministicBDTRecVisCutSR/Ztautau_SherpaRW.root:/\n",
      "hadd Target file: TauTau/TauhadTaulep/High-Mass/DeterministicBDTRecVisCutSR/Ztautau_MGRW.root\n",
      "hadd compression setting for all output: 1\n",
      "hadd Source file 1: EleTau/Plots/High-Mass/DeterministicBDTRecVisCutSR/Ztautau_MG.root\n",
      "hadd Source file 2: TauMu/Plots/High-Mass/DeterministicBDTRecVisCutSR/Ztautau_MG.root\n",
      "hadd Target path: TauTau/TauhadTaulep/High-Mass/DeterministicBDTRecVisCutSR/Ztautau_MGRW.root:/\n"
     ]
    }
   ],
   "source": [
    "ztt_path=\"TauTau/TauhadTaulep/High-Mass/DeterministicBDTRecVisCutSR/\"\n",
    "zte_path=\"EleTau/Plots/High-Mass/DeterministicBDTRecVisCutSR/\"\n",
    "ztm_path=\"TauMu/Plots/High-Mass/DeterministicBDTRecVisCutSR/\"\n",
    "\n",
    "os.chdir(\"/Users/diegomac/Documents/HEP/VBF-Analysis/\")\n",
    "\n",
    "for s in range(0,len(output_names)):\n",
    "    os.system(\"hadd -f \"+ztt_path+output_names[s]+\" \"+zte_path+sample_pairs[s][0]+\" \"+ztm_path+sample_pairs[s][1])"
   ]
  },
  {
   "cell_type": "code",
   "execution_count": null,
   "id": "e631f0c1-0018-4ba7-af22-23b78e86db05",
   "metadata": {},
   "outputs": [],
   "source": []
  },
  {
   "cell_type": "markdown",
   "id": "ca3b6ceb-db84-47dc-892a-1e4122ae8b1e",
   "metadata": {
    "tags": []
   },
   "source": [
    "## Add tau+lep and e+mu"
   ]
  },
  {
   "cell_type": "code",
   "execution_count": 17,
   "id": "98ade075-756c-44a1-86e4-be848b7d1351",
   "metadata": {},
   "outputs": [],
   "source": [
    "import os\n",
    "sample_pairs=[(\"Data.root\",\"Data.root\"),(\"MC.root\",\"MC.root\"),(\"Signal_Sherpa.root\",\"Signal_Sherpa.root\"),\n",
    "             (\"Signal_PoPy.root\",\"Signal_PoPy.root\"),(\"singletop.root\",\"singletop.root\"),(\"ttbar.root\",\"ttbar.root\"),\n",
    "             (\"VV.root\",\"VV.root\"),(\"Wjets.root\",\"Wjets.root\"),(\"Higgs.root\",\"Higgs.root\"),(\"Zjets.root\",\"Zjets.root\"),\n",
    "              (\"Ztautau_SherpaRW.root\",\"Ztautau_SherpaRW.root\"),\n",
    "             (\"Ztautau_MGRW.root\",\"Ztautau_MGRW.root\")]\n",
    "output_names = [\"Data.root\",\"MC.root\",\"Signal_Sherpa.root\",\"Signal_PoPy.root\",\"singletop.root\",\"ttbar.root\",\"VV.root\",\n",
    "                \"Wjets.root\",\"Higgs.root\",\"Zjets.root\",\"Ztautau_SherpaRW.root\",\"Ztautau_MGRW.root\"]"
   ]
  },
  {
   "cell_type": "code",
   "execution_count": 18,
   "id": "07a5d23e",
   "metadata": {},
   "outputs": [
    {
     "name": "stdout",
     "output_type": "stream",
     "text": [
      "hadd Target file: TauTau/Z-peak/SR/Data.root\n",
      "hadd compression setting for all output: 1\n",
      "hadd Source file 1: TauTau/TauhadTaulep/Z-Peak/SR/Data.root\n",
      "hadd Source file 2: MuEle/Plots/Z-peak/SR/Data.root\n",
      "hadd Target path: TauTau/Z-peak/SR/Data.root:/\n"
     ]
    },
    {
     "name": "stderr",
     "output_type": "stream",
     "text": [
      "Error in <TH1Merger::DifferentAxesMerge>: Cannot merge histograms - the histograms nuPtAssummetry_basic can extend the X axis or have different limits and underflows/overflows are present in the histogram nuPtAssummetry_basic.\n",
      "Error in <TFileMerger::MergeRecursive>: calling Merge() on 'nuPtAssummetry_basic' with the corresponding object in 'MuEle/Plots/Z-peak/SR/Data.root'\n",
      "Error in <TH1Merger::DifferentAxesMerge>: Cannot merge histograms - the histograms nuPtAssummetry_basic_all can extend the X axis or have different limits and underflows/overflows are present in the histogram nuPtAssummetry_basic_all.\n",
      "Error in <TFileMerger::MergeRecursive>: calling Merge() on 'nuPtAssummetry_basic_all' with the corresponding object in 'MuEle/Plots/Z-peak/SR/Data.root'\n"
     ]
    },
    {
     "name": "stdout",
     "output_type": "stream",
     "text": [
      "hadd Target file: TauTau/Z-peak/SR/MC.root\n",
      "hadd compression setting for all output: 1\n",
      "hadd Source file 1: TauTau/TauhadTaulep/Z-Peak/SR/MC.root\n",
      "hadd Source file 2: MuEle/Plots/Z-peak/SR/MC.root\n",
      "hadd Target path: TauTau/Z-peak/SR/MC.root:/\n"
     ]
    },
    {
     "name": "stderr",
     "output_type": "stream",
     "text": [
      "Error in <TH1Merger::DifferentAxesMerge>: Cannot merge histograms - the histograms nuPtAssummetry_basic can extend the X axis or have different limits and underflows/overflows are present in the histogram nuPtAssummetry_basic.\n",
      "Error in <TFileMerger::MergeRecursive>: calling Merge() on 'nuPtAssummetry_basic' with the corresponding object in 'MuEle/Plots/Z-peak/SR/MC.root'\n",
      "Error in <TH1Merger::DifferentAxesMerge>: Cannot merge histograms - the histograms nuPtAssummetry_basic_all can extend the X axis or have different limits and underflows/overflows are present in the histogram nuPtAssummetry_basic_all.\n",
      "Error in <TFileMerger::MergeRecursive>: calling Merge() on 'nuPtAssummetry_basic_all' with the corresponding object in 'MuEle/Plots/Z-peak/SR/MC.root'\n"
     ]
    },
    {
     "name": "stdout",
     "output_type": "stream",
     "text": [
      "hadd Target file: TauTau/Z-peak/SR/Signal_Sherpa.root\n",
      "hadd compression setting for all output: 1\n",
      "hadd Source file 1: TauTau/TauhadTaulep/Z-Peak/SR/Signal_Sherpa.root\n",
      "hadd Source file 2: MuEle/Plots/Z-peak/SR/Signal_Sherpa.root\n",
      "hadd Target path: TauTau/Z-peak/SR/Signal_Sherpa.root:/\n"
     ]
    },
    {
     "name": "stderr",
     "output_type": "stream",
     "text": [
      "Error in <TH1Merger::DifferentAxesMerge>: Cannot merge histograms - the histograms nuPtAssummetry_basic can extend the X axis or have different limits and underflows/overflows are present in the histogram nuPtAssummetry_basic.\n",
      "Error in <TFileMerger::MergeRecursive>: calling Merge() on 'nuPtAssummetry_basic' with the corresponding object in 'MuEle/Plots/Z-peak/SR/Signal_Sherpa.root'\n",
      "Error in <TH1Merger::DifferentAxesMerge>: Cannot merge histograms - the histograms nuPtAssummetry_basic_all can extend the X axis or have different limits and underflows/overflows are present in the histogram nuPtAssummetry_basic_all.\n",
      "Error in <TFileMerger::MergeRecursive>: calling Merge() on 'nuPtAssummetry_basic_all' with the corresponding object in 'MuEle/Plots/Z-peak/SR/Signal_Sherpa.root'\n"
     ]
    },
    {
     "name": "stdout",
     "output_type": "stream",
     "text": [
      "hadd Target file: TauTau/Z-peak/SR/Signal_PoPy.root\n",
      "hadd compression setting for all output: 1\n",
      "hadd Source file 1: TauTau/TauhadTaulep/Z-Peak/SR/Signal_PoPy.root\n",
      "hadd Source file 2: MuEle/Plots/Z-peak/SR/Signal_PoPy.root\n",
      "hadd Target path: TauTau/Z-peak/SR/Signal_PoPy.root:/\n"
     ]
    },
    {
     "name": "stderr",
     "output_type": "stream",
     "text": [
      "Error in <TH1Merger::DifferentAxesMerge>: Cannot merge histograms - the histograms nuPtAssummetry_basic can extend the X axis or have different limits and underflows/overflows are present in the histogram nuPtAssummetry_basic.\n",
      "Error in <TFileMerger::MergeRecursive>: calling Merge() on 'nuPtAssummetry_basic' with the corresponding object in 'MuEle/Plots/Z-peak/SR/Signal_PoPy.root'\n",
      "Error in <TH1Merger::DifferentAxesMerge>: Cannot merge histograms - the histograms nuPtAssummetry_basic_all can extend the X axis or have different limits and underflows/overflows are present in the histogram nuPtAssummetry_basic_all.\n",
      "Error in <TFileMerger::MergeRecursive>: calling Merge() on 'nuPtAssummetry_basic_all' with the corresponding object in 'MuEle/Plots/Z-peak/SR/Signal_PoPy.root'\n"
     ]
    },
    {
     "name": "stdout",
     "output_type": "stream",
     "text": [
      "hadd Target file: TauTau/Z-peak/SR/singletop.root\n",
      "hadd compression setting for all output: 1\n",
      "hadd Source file 1: TauTau/TauhadTaulep/Z-Peak/SR/singletop.root\n",
      "hadd Source file 2: MuEle/Plots/Z-peak/SR/singletop.root\n",
      "hadd Target path: TauTau/Z-peak/SR/singletop.root:/\n"
     ]
    },
    {
     "name": "stderr",
     "output_type": "stream",
     "text": [
      "Error in <TH1Merger::DifferentAxesMerge>: Cannot merge histograms - the histograms nuPtAssummetry_basic can extend the X axis or have different limits and underflows/overflows are present in the histogram nuPtAssummetry_basic.\n",
      "Error in <TFileMerger::MergeRecursive>: calling Merge() on 'nuPtAssummetry_basic' with the corresponding object in 'MuEle/Plots/Z-peak/SR/singletop.root'\n",
      "Error in <TH1Merger::DifferentAxesMerge>: Cannot merge histograms - the histograms nuPtAssummetry_basic_all can extend the X axis or have different limits and underflows/overflows are present in the histogram nuPtAssummetry_basic_all.\n",
      "Error in <TFileMerger::MergeRecursive>: calling Merge() on 'nuPtAssummetry_basic_all' with the corresponding object in 'MuEle/Plots/Z-peak/SR/singletop.root'\n"
     ]
    },
    {
     "name": "stdout",
     "output_type": "stream",
     "text": [
      "hadd Target file: TauTau/Z-peak/SR/ttbar.root\n",
      "hadd compression setting for all output: 1\n",
      "hadd Source file 1: TauTau/TauhadTaulep/Z-Peak/SR/ttbar.root\n",
      "hadd Source file 2: MuEle/Plots/Z-peak/SR/ttbar.root\n",
      "hadd Target path: TauTau/Z-peak/SR/ttbar.root:/\n"
     ]
    },
    {
     "name": "stderr",
     "output_type": "stream",
     "text": [
      "Error in <TH1Merger::DifferentAxesMerge>: Cannot merge histograms - the histograms nuPtAssummetry_basic can extend the X axis or have different limits and underflows/overflows are present in the histogram nuPtAssummetry_basic.\n",
      "Error in <TFileMerger::MergeRecursive>: calling Merge() on 'nuPtAssummetry_basic' with the corresponding object in 'MuEle/Plots/Z-peak/SR/ttbar.root'\n",
      "Error in <TH1Merger::DifferentAxesMerge>: Cannot merge histograms - the histograms nuPtAssummetry_basic_all can extend the X axis or have different limits and underflows/overflows are present in the histogram nuPtAssummetry_basic_all.\n",
      "Error in <TFileMerger::MergeRecursive>: calling Merge() on 'nuPtAssummetry_basic_all' with the corresponding object in 'MuEle/Plots/Z-peak/SR/ttbar.root'\n"
     ]
    },
    {
     "name": "stdout",
     "output_type": "stream",
     "text": [
      "hadd Target file: TauTau/Z-peak/SR/VV.root\n",
      "hadd compression setting for all output: 1\n",
      "hadd Source file 1: TauTau/TauhadTaulep/Z-Peak/SR/VV.root\n",
      "hadd Source file 2: MuEle/Plots/Z-peak/SR/VV.root\n",
      "hadd Target path: TauTau/Z-peak/SR/VV.root:/\n"
     ]
    },
    {
     "name": "stderr",
     "output_type": "stream",
     "text": [
      "Error in <TH1Merger::DifferentAxesMerge>: Cannot merge histograms - the histograms nuPtAssummetry_basic can extend the X axis or have different limits and underflows/overflows are present in the histogram nuPtAssummetry_basic.\n",
      "Error in <TFileMerger::MergeRecursive>: calling Merge() on 'nuPtAssummetry_basic' with the corresponding object in 'MuEle/Plots/Z-peak/SR/VV.root'\n",
      "Error in <TH1Merger::DifferentAxesMerge>: Cannot merge histograms - the histograms nuPtAssummetry_basic_all can extend the X axis or have different limits and underflows/overflows are present in the histogram nuPtAssummetry_basic_all.\n",
      "Error in <TFileMerger::MergeRecursive>: calling Merge() on 'nuPtAssummetry_basic_all' with the corresponding object in 'MuEle/Plots/Z-peak/SR/VV.root'\n"
     ]
    },
    {
     "name": "stdout",
     "output_type": "stream",
     "text": [
      "hadd Target file: TauTau/Z-peak/SR/Wjets.root\n",
      "hadd compression setting for all output: 1\n",
      "hadd Source file 1: TauTau/TauhadTaulep/Z-Peak/SR/Wjets.root\n",
      "hadd Source file 2: MuEle/Plots/Z-peak/SR/Wjets.root\n",
      "hadd Target path: TauTau/Z-peak/SR/Wjets.root:/\n"
     ]
    },
    {
     "name": "stderr",
     "output_type": "stream",
     "text": [
      "Error in <TH1Merger::DifferentAxesMerge>: Cannot merge histograms - the histograms nuPtAssummetry_basic can extend the X axis or have different limits and underflows/overflows are present in the histogram nuPtAssummetry_basic.\n",
      "Error in <TFileMerger::MergeRecursive>: calling Merge() on 'nuPtAssummetry_basic' with the corresponding object in 'MuEle/Plots/Z-peak/SR/Wjets.root'\n"
     ]
    },
    {
     "name": "stdout",
     "output_type": "stream",
     "text": [
      "hadd Target file: TauTau/Z-peak/SR/Higgs.root\n",
      "hadd compression setting for all output: 1\n",
      "hadd Source file 1: TauTau/TauhadTaulep/Z-Peak/SR/Higgs.root\n",
      "hadd Source file 2: MuEle/Plots/Z-peak/SR/Higgs.root\n",
      "hadd Target path: TauTau/Z-peak/SR/Higgs.root:/\n"
     ]
    },
    {
     "name": "stderr",
     "output_type": "stream",
     "text": [
      "Error in <TH1Merger::DifferentAxesMerge>: Cannot merge histograms - the histograms nuPtAssummetry_basic can extend the X axis or have different limits and underflows/overflows are present in the histogram nuPtAssummetry_basic.\n",
      "Error in <TFileMerger::MergeRecursive>: calling Merge() on 'nuPtAssummetry_basic' with the corresponding object in 'MuEle/Plots/Z-peak/SR/Higgs.root'\n",
      "Error in <TH1Merger::DifferentAxesMerge>: Cannot merge histograms - the histograms nuPtAssummetry_basic_all can extend the X axis or have different limits and underflows/overflows are present in the histogram nuPtAssummetry_basic_all.\n",
      "Error in <TFileMerger::MergeRecursive>: calling Merge() on 'nuPtAssummetry_basic_all' with the corresponding object in 'MuEle/Plots/Z-peak/SR/Higgs.root'\n"
     ]
    },
    {
     "name": "stdout",
     "output_type": "stream",
     "text": [
      "hadd Target file: TauTau/Z-peak/SR/Zjets.root\n",
      "hadd compression setting for all output: 1\n",
      "hadd Source file 1: TauTau/TauhadTaulep/Z-Peak/SR/Zjets.root\n",
      "hadd Source file 2: MuEle/Plots/Z-peak/SR/Zjets.root\n",
      "hadd Target path: TauTau/Z-peak/SR/Zjets.root:/\n"
     ]
    },
    {
     "name": "stderr",
     "output_type": "stream",
     "text": [
      "Error in <TH1Merger::DifferentAxesMerge>: Cannot merge histograms - the histograms nuPtAssummetry_basic can extend the X axis or have different limits and underflows/overflows are present in the histogram nuPtAssummetry_basic.\n",
      "Error in <TFileMerger::MergeRecursive>: calling Merge() on 'nuPtAssummetry_basic' with the corresponding object in 'MuEle/Plots/Z-peak/SR/Zjets.root'\n"
     ]
    },
    {
     "name": "stdout",
     "output_type": "stream",
     "text": [
      "hadd Target file: TauTau/Z-peak/SR/Ztautau_SherpaRW.root\n",
      "hadd compression setting for all output: 1\n",
      "hadd Source file 1: TauTau/TauhadTaulep/Z-Peak/SR/Ztautau_SherpaRW.root\n",
      "hadd Source file 2: MuEle/Plots/Z-peak/SR/Ztautau_SherpaRW.root\n",
      "hadd Target path: TauTau/Z-peak/SR/Ztautau_SherpaRW.root:/\n"
     ]
    },
    {
     "name": "stderr",
     "output_type": "stream",
     "text": [
      "Error in <TH1Merger::DifferentAxesMerge>: Cannot merge histograms - the histograms nuPtAssummetry_basic can extend the X axis or have different limits and underflows/overflows are present in the histogram nuPtAssummetry_basic.\n",
      "Error in <TFileMerger::MergeRecursive>: calling Merge() on 'nuPtAssummetry_basic' with the corresponding object in 'MuEle/Plots/Z-peak/SR/Ztautau_SherpaRW.root'\n",
      "Error in <TH1Merger::DifferentAxesMerge>: Cannot merge histograms - the histograms nuPtAssummetry_basic_all can extend the X axis or have different limits and underflows/overflows are present in the histogram nuPtAssummetry_basic_all.\n",
      "Error in <TFileMerger::MergeRecursive>: calling Merge() on 'nuPtAssummetry_basic_all' with the corresponding object in 'MuEle/Plots/Z-peak/SR/Ztautau_SherpaRW.root'\n"
     ]
    },
    {
     "name": "stdout",
     "output_type": "stream",
     "text": [
      "hadd Target file: TauTau/Z-peak/SR/Ztautau_MGRW.root\n",
      "hadd compression setting for all output: 1\n",
      "hadd Source file 1: TauTau/TauhadTaulep/Z-Peak/SR/Ztautau_MGRW.root\n",
      "hadd Source file 2: MuEle/Plots/Z-peak/SR/Ztautau_MGRW.root\n",
      "hadd Target path: TauTau/Z-peak/SR/Ztautau_MGRW.root:/\n"
     ]
    },
    {
     "name": "stderr",
     "output_type": "stream",
     "text": [
      "Error in <TH1Merger::DifferentAxesMerge>: Cannot merge histograms - the histograms nuPtAssummetry_basic can extend the X axis or have different limits and underflows/overflows are present in the histogram nuPtAssummetry_basic.\n",
      "Error in <TFileMerger::MergeRecursive>: calling Merge() on 'nuPtAssummetry_basic' with the corresponding object in 'MuEle/Plots/Z-peak/SR/Ztautau_MGRW.root'\n",
      "Error in <TH1Merger::DifferentAxesMerge>: Cannot merge histograms - the histograms nuPtAssummetry_basic_all can extend the X axis or have different limits and underflows/overflows are present in the histogram nuPtAssummetry_basic_all.\n",
      "Error in <TFileMerger::MergeRecursive>: calling Merge() on 'nuPtAssummetry_basic_all' with the corresponding object in 'MuEle/Plots/Z-peak/SR/Ztautau_MGRW.root'\n"
     ]
    }
   ],
   "source": [
    "ztt_path=\"TauTau/Z-peak/SR/\"\n",
    "zthth_path=\"TauTau/TauhadTaulep/Z-Peak/SR/\"\n",
    "zemu_path=\"MuEle/Plots/Z-peak/SR/\"\n",
    "\n",
    "os.chdir(\"/Users/diegomac/Documents/HEP/VBF-Analysis/\")\n",
    "\n",
    "for s in range(0,len(output_names)):\n",
    "    os.system(\"hadd -f \"+ztt_path+output_names[s]+\" \"+zthth_path+sample_pairs[s][0]+\" \"+zemu_path+sample_pairs[s][1])"
   ]
  },
  {
   "cell_type": "code",
   "execution_count": null,
   "id": "e62aa838-9b9d-4ab8-babb-244e6d174cbf",
   "metadata": {},
   "outputs": [],
   "source": []
  },
  {
   "cell_type": "code",
   "execution_count": null,
   "id": "f1f387e1-b89d-49f5-a378-87c9f2c6ba94",
   "metadata": {},
   "outputs": [],
   "source": []
  }
 ],
 "metadata": {
  "kernelspec": {
   "display_name": "Python 3 (ipykernel)",
   "language": "python",
   "name": "python3"
  },
  "language_info": {
   "codemirror_mode": {
    "name": "ipython",
    "version": 3
   },
   "file_extension": ".py",
   "mimetype": "text/x-python",
   "name": "python",
   "nbconvert_exporter": "python",
   "pygments_lexer": "ipython3",
   "version": "3.10.5"
  },
  "vscode": {
   "interpreter": {
    "hash": "916dbcbb3f70747c44a77c7bcd40155683ae19c65e1c03b4aa3499c5328201f1"
   }
  }
 },
 "nbformat": 4,
 "nbformat_minor": 5
}
