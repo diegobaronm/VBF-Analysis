{
 "cells": [
  {
   "cell_type": "markdown",
   "id": "22c8532f-ea4d-45ee-861e-b533d5daf8bc",
   "metadata": {},
   "source": [
    "# Add tau+mu and tau+e"
   ]
  },
  {
   "cell_type": "code",
   "execution_count": 19,
   "id": "72af6b14-7101-4d27-b807-55999db60f3d",
   "metadata": {
    "tags": []
   },
   "outputs": [],
   "source": [
    "import os\n",
    "sample_pairs=[(\"Data.root\",\"Data.root\"),(\"MC.root\",\"MC.root\"),(\"Signal_Sherpa.root\",\"Signal_Sherpa.root\"),\n",
    "             (\"Signal_PoPy.root\",\"Signal_PoPy.root\"),(\"singletop.root\",\"singletop.root\"),(\"ttbar.root\",\"ttbar.root\"),\n",
    "             (\"VV.root\",\"VV.root\"),(\"Wjets.root\",\"Wjets.root\"),(\"Higgs.root\",\"Higgs.root\"),(\"Zjets.root\",\"Zjet.root\"),\n",
    "              (\"Ztautau_Sherpa.root\",\"Ztautau_Sherpa.root\"),\n",
    "             (\"Ztautau_MG.root\",\"Ztautau_MG.root\")]\n",
    "output_names = [\"Data.root\",\"MC.root\",\"Signal_Sherpa.root\",\"Signal_PoPy.root\",\"singletop.root\",\"ttbar.root\",\"VV.root\",\n",
    "                \"Wjets.root\",\"Higgs.root\",\"Zjets.root\",\"Ztautau_SherpaRW.root\",\"Ztautau_MGRW.root\"]"
   ]
  },
  {
   "cell_type": "code",
   "execution_count": 20,
   "id": "1009ad9e-b1f5-4761-8bd7-3150a0818bb6",
   "metadata": {
    "tags": []
   },
   "outputs": [
    {
     "name": "stdout",
     "output_type": "stream",
     "text": [
      "hadd Target file: TauTau/TauhadTaulep/AnalysisCrossCheck/NonIsoAntiIDOS/Data.root\n",
      "hadd compression setting for all output: 1\n",
      "hadd Source file 1: EleTau/Plots/Data.root\n",
      "hadd Source file 2: TauMu/Plots/Data.root\n",
      "hadd Target path: TauTau/TauhadTaulep/AnalysisCrossCheck/NonIsoAntiIDOS/Data.root:/\n",
      "hadd Target file: TauTau/TauhadTaulep/AnalysisCrossCheck/NonIsoAntiIDOS/MC.root\n",
      "hadd compression setting for all output: 1\n",
      "hadd Source file 1: EleTau/Plots/MC.root\n",
      "hadd Source file 2: TauMu/Plots/MC.root\n",
      "hadd Target path: TauTau/TauhadTaulep/AnalysisCrossCheck/NonIsoAntiIDOS/MC.root:/\n",
      "hadd Target file: TauTau/TauhadTaulep/AnalysisCrossCheck/NonIsoAntiIDOS/Signal_Sherpa.root\n",
      "hadd compression setting for all output: 1\n",
      "hadd Source file 1: EleTau/Plots/Signal_Sherpa.root\n",
      "hadd Source file 2: TauMu/Plots/Signal_Sherpa.root\n",
      "hadd Target path: TauTau/TauhadTaulep/AnalysisCrossCheck/NonIsoAntiIDOS/Signal_Sherpa.root:/\n",
      "hadd Target file: TauTau/TauhadTaulep/AnalysisCrossCheck/NonIsoAntiIDOS/Signal_PoPy.root\n",
      "hadd compression setting for all output: 1\n",
      "hadd Source file 1: EleTau/Plots/Signal_PoPy.root\n",
      "hadd Source file 2: TauMu/Plots/Signal_PoPy.root\n",
      "hadd Target path: TauTau/TauhadTaulep/AnalysisCrossCheck/NonIsoAntiIDOS/Signal_PoPy.root:/\n",
      "hadd Target file: TauTau/TauhadTaulep/AnalysisCrossCheck/NonIsoAntiIDOS/singletop.root\n",
      "hadd compression setting for all output: 1\n",
      "hadd Source file 1: EleTau/Plots/singletop.root\n",
      "hadd Source file 2: TauMu/Plots/singletop.root\n",
      "hadd Target path: TauTau/TauhadTaulep/AnalysisCrossCheck/NonIsoAntiIDOS/singletop.root:/\n",
      "hadd Target file: TauTau/TauhadTaulep/AnalysisCrossCheck/NonIsoAntiIDOS/ttbar.root\n",
      "hadd compression setting for all output: 1\n",
      "hadd Source file 1: EleTau/Plots/ttbar.root\n",
      "hadd Source file 2: TauMu/Plots/ttbar.root\n",
      "hadd Target path: TauTau/TauhadTaulep/AnalysisCrossCheck/NonIsoAntiIDOS/ttbar.root:/\n",
      "hadd Target file: TauTau/TauhadTaulep/AnalysisCrossCheck/NonIsoAntiIDOS/VV.root\n",
      "hadd compression setting for all output: 1\n",
      "hadd Source file 1: EleTau/Plots/VV.root\n",
      "hadd Source file 2: TauMu/Plots/VV.root\n",
      "hadd Target path: TauTau/TauhadTaulep/AnalysisCrossCheck/NonIsoAntiIDOS/VV.root:/\n",
      "hadd Target file: TauTau/TauhadTaulep/AnalysisCrossCheck/NonIsoAntiIDOS/Wjets.root\n",
      "hadd compression setting for all output: 1\n",
      "hadd Source file 1: EleTau/Plots/Wjets.root\n",
      "hadd Source file 2: TauMu/Plots/Wjets.root\n",
      "hadd Target path: TauTau/TauhadTaulep/AnalysisCrossCheck/NonIsoAntiIDOS/Wjets.root:/\n",
      "hadd Target file: TauTau/TauhadTaulep/AnalysisCrossCheck/NonIsoAntiIDOS/Higgs.root\n",
      "hadd compression setting for all output: 1\n",
      "hadd Source file 1: EleTau/Plots/Higgs.root\n",
      "hadd Source file 2: TauMu/Plots/Higgs.root\n",
      "hadd Target path: TauTau/TauhadTaulep/AnalysisCrossCheck/NonIsoAntiIDOS/Higgs.root:/\n",
      "hadd Target file: TauTau/TauhadTaulep/AnalysisCrossCheck/NonIsoAntiIDOS/Zjets.root\n",
      "hadd compression setting for all output: 1\n",
      "hadd Source file 1: EleTau/Plots/Zjets.root\n",
      "hadd Source file 2: TauMu/Plots/Zjet.root\n",
      "hadd Target path: TauTau/TauhadTaulep/AnalysisCrossCheck/NonIsoAntiIDOS/Zjets.root:/\n",
      "hadd Target file: TauTau/TauhadTaulep/AnalysisCrossCheck/NonIsoAntiIDOS/Ztautau_SherpaRW.root\n",
      "hadd compression setting for all output: 1\n",
      "hadd Source file 1: EleTau/Plots/Ztautau_Sherpa.root\n",
      "hadd Source file 2: TauMu/Plots/Ztautau_Sherpa.root\n",
      "hadd Target path: TauTau/TauhadTaulep/AnalysisCrossCheck/NonIsoAntiIDOS/Ztautau_SherpaRW.root:/\n",
      "hadd Target file: TauTau/TauhadTaulep/AnalysisCrossCheck/NonIsoAntiIDOS/Ztautau_MGRW.root\n",
      "hadd compression setting for all output: 1\n",
      "hadd Source file 1: EleTau/Plots/Ztautau_MG.root\n",
      "hadd Source file 2: TauMu/Plots/Ztautau_MG.root\n",
      "hadd Target path: TauTau/TauhadTaulep/AnalysisCrossCheck/NonIsoAntiIDOS/Ztautau_MGRW.root:/\n"
     ]
    }
   ],
   "source": [
    "ztt_path=\"TauTau/TauhadTaulep/AnalysisCrossCheck/NonIsoAntiIDOS/\"\n",
    "zte_path=\"EleTau/Plots/\"\n",
    "ztm_path=\"TauMu/Plots/\"\n",
    "\n",
    "os.chdir(\"/Users/diegomac/Documents/HEP/VBF-Analysis/\")\n",
    "\n",
    "for s in range(0,len(output_names)):\n",
    "    os.system(\"hadd -f \"+ztt_path+output_names[s]+\" \"+zte_path+sample_pairs[s][0]+\" \"+ztm_path+sample_pairs[s][1])"
   ]
  },
  {
   "cell_type": "markdown",
   "id": "ca3b6ceb-db84-47dc-892a-1e4122ae8b1e",
   "metadata": {
    "tags": []
   },
   "source": [
    "# Add tau+lep and e+mu"
   ]
  },
  {
   "cell_type": "code",
   "execution_count": 19,
   "id": "98ade075-756c-44a1-86e4-be848b7d1351",
   "metadata": {},
   "outputs": [],
   "source": [
    "import os\n",
    "sample_pairs=[(\"Data.root\",\"Data.root\"),(\"MC.root\",\"MC.root\"),(\"Signal_Sherpa.root\",\"Signal_Sherpa.root\"),\n",
    "             (\"Signal_PoPy.root\",\"Signal_PoPy.root\"),(\"singletop.root\",\"singletop.root\"),(\"ttbar.root\",\"ttbar.root\"),\n",
    "             (\"VV.root\",\"VV.root\"),(\"Wjets.root\",\"Wjets.root\"),(\"Higgs.root\",\"Higgs.root\"),(\"Zjets.root\",\"Zjets.root\"),\n",
    "              (\"Ztautau_SherpaRW.root\",\"Ztautau_SherpaRW.root\"),\n",
    "             (\"Ztautau_MGRW.root\",\"Ztautau_MGRW.root\")]\n",
    "output_names = [\"Data.root\",\"MC.root\",\"Signal_Sherpa.root\",\"Signal_PoPy.root\",\"singletop.root\",\"ttbar.root\",\"VV.root\",\n",
    "                \"Wjets.root\",\"Higgs.root\",\"Zjets.root\",\"Ztautau_SherpaRW.root\",\"Ztautau_MGRW.root\"]"
   ]
  },
  {
   "cell_type": "code",
   "execution_count": 20,
   "id": "07a5d23e",
   "metadata": {},
   "outputs": [
    {
     "name": "stdout",
     "output_type": "stream",
     "text": [
      "hadd Target file: TauTau/High-Mass/CRMJ/Data.root\n",
      "hadd compression setting for all output: 1\n",
      "hadd Source file 1: TauTau/TauhadTaulep/High-Mass/CRMJ/Data.root\n",
      "hadd Source file 2: MuEle/Plots/High-Mass/CRMJ/Data.root\n",
      "hadd Target path: TauTau/High-Mass/CRMJ/Data.root:/\n",
      "hadd Target file: TauTau/High-Mass/CRMJ/MC.root\n",
      "hadd compression setting for all output: 1\n",
      "hadd Source file 1: TauTau/TauhadTaulep/High-Mass/CRMJ/MC.root\n",
      "hadd Source file 2: MuEle/Plots/High-Mass/CRMJ/MC.root\n",
      "hadd Target path: TauTau/High-Mass/CRMJ/MC.root:/\n",
      "hadd Target file: TauTau/High-Mass/CRMJ/Signal_Sherpa.root\n",
      "hadd compression setting for all output: 1\n",
      "hadd Source file 1: TauTau/TauhadTaulep/High-Mass/CRMJ/Signal_Sherpa.root\n",
      "hadd Source file 2: MuEle/Plots/High-Mass/CRMJ/Signal_Sherpa.root\n",
      "hadd Target path: TauTau/High-Mass/CRMJ/Signal_Sherpa.root:/\n",
      "hadd Target file: TauTau/High-Mass/CRMJ/Signal_PoPy.root\n",
      "hadd compression setting for all output: 1\n",
      "hadd Source file 1: TauTau/TauhadTaulep/High-Mass/CRMJ/Signal_PoPy.root\n",
      "hadd Source file 2: MuEle/Plots/High-Mass/CRMJ/Signal_PoPy.root\n",
      "hadd Target path: TauTau/High-Mass/CRMJ/Signal_PoPy.root:/\n",
      "hadd Target file: TauTau/High-Mass/CRMJ/singletop.root\n",
      "hadd compression setting for all output: 1\n",
      "hadd Source file 1: TauTau/TauhadTaulep/High-Mass/CRMJ/singletop.root\n",
      "hadd Source file 2: MuEle/Plots/High-Mass/CRMJ/singletop.root\n",
      "hadd Target path: TauTau/High-Mass/CRMJ/singletop.root:/\n",
      "hadd Target file: TauTau/High-Mass/CRMJ/ttbar.root\n",
      "hadd compression setting for all output: 1\n",
      "hadd Source file 1: TauTau/TauhadTaulep/High-Mass/CRMJ/ttbar.root\n",
      "hadd Source file 2: MuEle/Plots/High-Mass/CRMJ/ttbar.root\n",
      "hadd Target path: TauTau/High-Mass/CRMJ/ttbar.root:/\n",
      "hadd Target file: TauTau/High-Mass/CRMJ/VV.root\n",
      "hadd compression setting for all output: 1\n",
      "hadd Source file 1: TauTau/TauhadTaulep/High-Mass/CRMJ/VV.root\n",
      "hadd Source file 2: MuEle/Plots/High-Mass/CRMJ/VV.root\n",
      "hadd Target path: TauTau/High-Mass/CRMJ/VV.root:/\n",
      "hadd Target file: TauTau/High-Mass/CRMJ/Wjets.root\n",
      "hadd compression setting for all output: 1\n",
      "hadd Source file 1: TauTau/TauhadTaulep/High-Mass/CRMJ/Wjets.root\n",
      "hadd Source file 2: MuEle/Plots/High-Mass/CRMJ/Wjets.root\n",
      "hadd Target path: TauTau/High-Mass/CRMJ/Wjets.root:/\n",
      "hadd Target file: TauTau/High-Mass/CRMJ/Higgs.root\n",
      "hadd compression setting for all output: 1\n",
      "hadd Source file 1: TauTau/TauhadTaulep/High-Mass/CRMJ/Higgs.root\n",
      "hadd Source file 2: MuEle/Plots/High-Mass/CRMJ/Higgs.root\n",
      "hadd Target path: TauTau/High-Mass/CRMJ/Higgs.root:/\n",
      "hadd Target file: TauTau/High-Mass/CRMJ/Zjets.root\n",
      "hadd compression setting for all output: 1\n",
      "hadd Source file 1: TauTau/TauhadTaulep/High-Mass/CRMJ/Zjets.root\n",
      "hadd Source file 2: MuEle/Plots/High-Mass/CRMJ/Zjets.root\n",
      "hadd Target path: TauTau/High-Mass/CRMJ/Zjets.root:/\n",
      "hadd Target file: TauTau/High-Mass/CRMJ/Ztautau_SherpaRW.root\n",
      "hadd compression setting for all output: 1\n",
      "hadd Source file 1: TauTau/TauhadTaulep/High-Mass/CRMJ/Ztautau_SherpaRW.root\n",
      "hadd Source file 2: MuEle/Plots/High-Mass/CRMJ/Ztautau_SherpaRW.root\n",
      "hadd Target path: TauTau/High-Mass/CRMJ/Ztautau_SherpaRW.root:/\n",
      "hadd Target file: TauTau/High-Mass/CRMJ/Ztautau_MGRW.root\n",
      "hadd compression setting for all output: 1\n",
      "hadd Source file 1: TauTau/TauhadTaulep/High-Mass/CRMJ/Ztautau_MGRW.root\n",
      "hadd Source file 2: MuEle/Plots/High-Mass/CRMJ/Ztautau_MGRW.root\n",
      "hadd Target path: TauTau/High-Mass/CRMJ/Ztautau_MGRW.root:/\n"
     ]
    }
   ],
   "source": [
    "ztt_path=\"TauTau/High-Mass/CRMJ/\"\n",
    "zthth_path=\"TauTau/TauhadTaulep/High-Mass/CRMJ/\"\n",
    "zemu_path=\"MuEle/Plots/High-Mass/CRMJ/\"\n",
    "\n",
    "os.chdir(\"/Users/diegomac/Documents/HEP/VBF-Analysis/\")\n",
    "\n",
    "for s in range(0,len(output_names)):\n",
    "    os.system(\"hadd -f \"+ztt_path+output_names[s]+\" \"+zthth_path+sample_pairs[s][0]+\" \"+zemu_path+sample_pairs[s][1])"
   ]
  },
  {
   "cell_type": "code",
   "execution_count": null,
   "id": "e62aa838-9b9d-4ab8-babb-244e6d174cbf",
   "metadata": {},
   "outputs": [],
   "source": []
  },
  {
   "cell_type": "code",
   "execution_count": null,
   "id": "f1f387e1-b89d-49f5-a378-87c9f2c6ba94",
   "metadata": {},
   "outputs": [],
   "source": []
  }
 ],
 "metadata": {
  "kernelspec": {
   "display_name": "Python 3 (ipykernel)",
   "language": "python",
   "name": "python3"
  },
  "language_info": {
   "codemirror_mode": {
    "name": "ipython",
    "version": 3
   },
   "file_extension": ".py",
   "mimetype": "text/x-python",
   "name": "python",
   "nbconvert_exporter": "python",
   "pygments_lexer": "ipython3",
   "version": "3.10.5"
  },
  "vscode": {
   "interpreter": {
    "hash": "916dbcbb3f70747c44a77c7bcd40155683ae19c65e1c03b4aa3499c5328201f1"
   }
  }
 },
 "nbformat": 4,
 "nbformat_minor": 5
}
