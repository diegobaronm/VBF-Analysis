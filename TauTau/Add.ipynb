{
 "cells": [
  {
   "cell_type": "markdown",
   "id": "22c8532f-ea4d-45ee-861e-b533d5daf8bc",
   "metadata": {},
   "source": [
    "# Add tau+mu and tau+e"
   ]
  },
  {
   "cell_type": "code",
   "execution_count": 11,
   "id": "72af6b14-7101-4d27-b807-55999db60f3d",
   "metadata": {
    "tags": []
   },
   "outputs": [],
   "source": [
    "import os\n",
    "sample_pairs=[(\"Data.root\",\"Data.root\"),(\"MC.root\",\"MC.root\"),(\"Signal_Sherpa.root\",\"Signal_Sherpa.root\"),\n",
    "             (\"Signal_PoPy.root\",\"Signal_PoPy.root\"),(\"singletop.root\",\"singletop.root\"),(\"ttbar.root\",\"ttbar.root\"),\n",
    "             (\"VV.root\",\"VV.root\"),(\"Wjets.root\",\"Wjets.root\"),(\"Higgs.root\",\"Higgs.root\"),(\"Zjets.root\",\"Zjet.root\"),\n",
    "              (\"Ztautau_Sherpa.root\",\"Ztautau_Sherpa.root\"),\n",
    "             (\"Ztautau_MG.root\",\"Ztautau_MG.root\")]\n",
    "output_names = [\"Data.root\",\"MC.root\",\"Signal_Sherpa.root\",\"Signal_PoPy.root\",\"singletop.root\",\"ttbar.root\",\"VV.root\",\n",
    "                \"Wjets.root\",\"Higgs.root\",\"Zjets.root\",\"Ztautau_SherpaRW.root\",\"Ztautau_MGRW.root\"]"
   ]
  },
  {
   "cell_type": "code",
   "execution_count": 12,
   "id": "1009ad9e-b1f5-4761-8bd7-3150a0818bb6",
   "metadata": {
    "tags": []
   },
   "outputs": [
    {
     "name": "stdout",
     "output_type": "stream",
     "text": [
      "hadd Target file: TauTau/TauhadTaulep/Z-Peak/SRSS/Data.root\n",
      "hadd compression setting for all output: 1\n",
      "hadd Source file 1: EleTau/Plots/Data.root\n",
      "hadd Source file 2: TauMu/Plots/Data.root\n",
      "hadd Target path: TauTau/TauhadTaulep/Z-Peak/SRSS/Data.root:/\n",
      "hadd Target file: TauTau/TauhadTaulep/Z-Peak/SRSS/MC.root\n",
      "hadd compression setting for all output: 1\n",
      "hadd Source file 1: EleTau/Plots/MC.root\n",
      "hadd Source file 2: TauMu/Plots/MC.root\n",
      "hadd Target path: TauTau/TauhadTaulep/Z-Peak/SRSS/MC.root:/\n",
      "hadd Target file: TauTau/TauhadTaulep/Z-Peak/SRSS/Signal_Sherpa.root\n",
      "hadd compression setting for all output: 1\n",
      "hadd Source file 1: EleTau/Plots/Signal_Sherpa.root\n",
      "hadd Source file 2: TauMu/Plots/Signal_Sherpa.root\n",
      "hadd Target path: TauTau/TauhadTaulep/Z-Peak/SRSS/Signal_Sherpa.root:/\n",
      "hadd Target file: TauTau/TauhadTaulep/Z-Peak/SRSS/Signal_PoPy.root\n",
      "hadd compression setting for all output: 1\n",
      "hadd Source file 1: EleTau/Plots/Signal_PoPy.root\n",
      "hadd Source file 2: TauMu/Plots/Signal_PoPy.root\n",
      "hadd Target path: TauTau/TauhadTaulep/Z-Peak/SRSS/Signal_PoPy.root:/\n",
      "hadd Target file: TauTau/TauhadTaulep/Z-Peak/SRSS/singletop.root\n",
      "hadd compression setting for all output: 1\n",
      "hadd Source file 1: EleTau/Plots/singletop.root\n",
      "hadd Source file 2: TauMu/Plots/singletop.root\n",
      "hadd Target path: TauTau/TauhadTaulep/Z-Peak/SRSS/singletop.root:/\n",
      "hadd Target file: TauTau/TauhadTaulep/Z-Peak/SRSS/ttbar.root\n",
      "hadd compression setting for all output: 1\n",
      "hadd Source file 1: EleTau/Plots/ttbar.root\n",
      "hadd Source file 2: TauMu/Plots/ttbar.root\n",
      "hadd Target path: TauTau/TauhadTaulep/Z-Peak/SRSS/ttbar.root:/\n",
      "hadd Target file: TauTau/TauhadTaulep/Z-Peak/SRSS/VV.root\n",
      "hadd compression setting for all output: 1\n",
      "hadd Source file 1: EleTau/Plots/VV.root\n",
      "hadd Source file 2: TauMu/Plots/VV.root\n",
      "hadd Target path: TauTau/TauhadTaulep/Z-Peak/SRSS/VV.root:/\n",
      "hadd Target file: TauTau/TauhadTaulep/Z-Peak/SRSS/Wjets.root\n",
      "hadd compression setting for all output: 1\n",
      "hadd Source file 1: EleTau/Plots/Wjets.root\n",
      "hadd Source file 2: TauMu/Plots/Wjets.root\n",
      "hadd Target path: TauTau/TauhadTaulep/Z-Peak/SRSS/Wjets.root:/\n",
      "hadd Target file: TauTau/TauhadTaulep/Z-Peak/SRSS/Higgs.root\n",
      "hadd compression setting for all output: 1\n",
      "hadd Source file 1: EleTau/Plots/Higgs.root\n",
      "hadd Source file 2: TauMu/Plots/Higgs.root\n",
      "hadd Target path: TauTau/TauhadTaulep/Z-Peak/SRSS/Higgs.root:/\n",
      "hadd Target file: TauTau/TauhadTaulep/Z-Peak/SRSS/Zjets.root\n",
      "hadd compression setting for all output: 1\n",
      "hadd Source file 1: EleTau/Plots/Zjets.root\n",
      "hadd Source file 2: TauMu/Plots/Zjet.root\n",
      "hadd Target path: TauTau/TauhadTaulep/Z-Peak/SRSS/Zjets.root:/\n",
      "hadd Target file: TauTau/TauhadTaulep/Z-Peak/SRSS/Ztautau_SherpaRW.root\n",
      "hadd compression setting for all output: 1\n",
      "hadd Source file 1: EleTau/Plots/Ztautau_Sherpa.root\n",
      "hadd Source file 2: TauMu/Plots/Ztautau_Sherpa.root\n",
      "hadd Target path: TauTau/TauhadTaulep/Z-Peak/SRSS/Ztautau_SherpaRW.root:/\n",
      "hadd Target file: TauTau/TauhadTaulep/Z-Peak/SRSS/Ztautau_MGRW.root\n",
      "hadd compression setting for all output: 1\n",
      "hadd Source file 1: EleTau/Plots/Ztautau_MG.root\n",
      "hadd Source file 2: TauMu/Plots/Ztautau_MG.root\n",
      "hadd Target path: TauTau/TauhadTaulep/Z-Peak/SRSS/Ztautau_MGRW.root:/\n"
     ]
    }
   ],
   "source": [
    "ztt_path=\"TauTau/TauhadTaulep/Z-Peak/SRSS/\"\n",
    "zte_path=\"EleTau/Plots/\"\n",
    "ztm_path=\"TauMu/Plots/\"\n",
    "\n",
    "os.chdir(\"/Users/diegomac/Documents/HEP/VBF-Analysis/\")\n",
    "\n",
    "for s in range(0,len(output_names)):\n",
    "    os.system(\"hadd -f \"+ztt_path+output_names[s]+\" \"+zte_path+sample_pairs[s][0]+\" \"+ztm_path+sample_pairs[s][1])"
   ]
  },
  {
   "cell_type": "markdown",
   "id": "ca3b6ceb-db84-47dc-892a-1e4122ae8b1e",
   "metadata": {
    "tags": []
   },
   "source": [
    "# Add tau+lep and e+mu"
   ]
  },
  {
   "cell_type": "code",
   "execution_count": 3,
   "id": "98ade075-756c-44a1-86e4-be848b7d1351",
   "metadata": {},
   "outputs": [],
   "source": [
    "import os\n",
    "sample_pairs=[(\"Data.root\",\"Data.root\"),(\"MC.root\",\"MC.root\"),(\"Signal_Sherpa.root\",\"Signal_Sherpa.root\"),\n",
    "             (\"Signal_PoPy.root\",\"Signal_PoPy.root\"),(\"singletop.root\",\"singletop.root\"),(\"ttbar.root\",\"ttbar.root\"),\n",
    "             (\"VV.root\",\"VV.root\"),(\"Wjets.root\",\"Wjets.root\"),(\"Higgs.root\",\"Higgs.root\"),(\"Zjets.root\",\"Zjets.root\"),\n",
    "              (\"Ztautau_SherpaRW.root\",\"Ztautau_SherpaRW.root\"),\n",
    "             (\"Ztautau_MGRW.root\",\"Ztautau_MGRW.root\")]\n",
    "output_names = [\"Data.root\",\"MC.root\",\"Signal_Sherpa.root\",\"Signal_PoPy.root\",\"singletop.root\",\"ttbar.root\",\"VV.root\",\n",
    "                \"Wjets.root\",\"Higgs.root\",\"Zjets.root\",\"Ztautau_SherpaRW.root\",\"Ztautau_MGRW.root\"]"
   ]
  },
  {
   "cell_type": "code",
   "execution_count": 4,
   "id": "07a5d23e",
   "metadata": {},
   "outputs": [
    {
     "name": "stdout",
     "output_type": "stream",
     "text": [
      "hadd Target file: TauTau/AnalysisCrossCheck/CR/Data.root\n",
      "hadd compression setting for all output: 1\n",
      "hadd Source file 1: TauTau/TauhadTaulep/AnalysisCrossCheck/CR/Data.root\n",
      "hadd Source file 2: MuEle/Plots/AnalysisCrossCheck/CR/Data.root\n",
      "hadd Target path: TauTau/AnalysisCrossCheck/CR/Data.root:/\n"
     ]
    },
    {
     "name": "stderr",
     "output_type": "stream",
     "text": [
      "Error in <TH1Merger::DifferentAxesMerge>: Cannot merge histograms - the histograms reco_mass_i_basic can extend the X axis or have different limits and underflows/overflows are present in the histogram reco_mass_i_basic.\n",
      "Error in <TFileMerger::MergeRecursive>: calling Merge() on 'reco_mass_i_basic' with the corresponding object in 'MuEle/Plots/AnalysisCrossCheck/CR/Data.root'\n",
      "Error in <TH1Merger::DifferentAxesMerge>: Cannot merge histograms - the histograms reco_mass_i_basic_dphi can extend the X axis or have different limits and underflows/overflows are present in the histogram reco_mass_i_basic_dphi.\n",
      "Error in <TFileMerger::MergeRecursive>: calling Merge() on 'reco_mass_i_basic_dphi' with the corresponding object in 'MuEle/Plots/AnalysisCrossCheck/CR/Data.root'\n",
      "Error in <TH1Merger::DifferentAxesMerge>: Cannot merge histograms - the histograms reco_mass_i_basic_dphi_drap can extend the X axis or have different limits and underflows/overflows are present in the histogram reco_mass_i_basic_dphi_drap.\n",
      "Error in <TFileMerger::MergeRecursive>: calling Merge() on 'reco_mass_i_basic_dphi_drap' with the corresponding object in 'MuEle/Plots/AnalysisCrossCheck/CR/Data.root'\n",
      "Error in <TH1Merger::DifferentAxesMerge>: Cannot merge histograms - the histograms reco_mass_i_basic_dphi_drap_btag can extend the X axis or have different limits and underflows/overflows are present in the histogram reco_mass_i_basic_dphi_drap_btag.\n",
      "Error in <TFileMerger::MergeRecursive>: calling Merge() on 'reco_mass_i_basic_dphi_drap_btag' with the corresponding object in 'MuEle/Plots/AnalysisCrossCheck/CR/Data.root'\n",
      "Error in <TH1Merger::DifferentAxesMerge>: Cannot merge histograms - the histograms reco_mass_i_basic_dphi_drap_btag_iso can extend the X axis or have different limits and underflows/overflows are present in the histogram reco_mass_i_basic_dphi_drap_btag_iso.\n",
      "Error in <TFileMerger::MergeRecursive>: calling Merge() on 'reco_mass_i_basic_dphi_drap_btag_iso' with the corresponding object in 'MuEle/Plots/AnalysisCrossCheck/CR/Data.root'\n",
      "Error in <TH1Merger::DifferentAxesMerge>: Cannot merge histograms - the histograms reco_mass_o_basic can extend the X axis or have different limits and underflows/overflows are present in the histogram reco_mass_o_basic.\n",
      "Error in <TFileMerger::MergeRecursive>: calling Merge() on 'reco_mass_o_basic' with the corresponding object in 'MuEle/Plots/AnalysisCrossCheck/CR/Data.root'\n",
      "Error in <TH1Merger::DifferentAxesMerge>: Cannot merge histograms - the histograms reco_mass_o_basic_dphi can extend the X axis or have different limits and underflows/overflows are present in the histogram reco_mass_o_basic_dphi.\n",
      "Error in <TFileMerger::MergeRecursive>: calling Merge() on 'reco_mass_o_basic_dphi' with the corresponding object in 'MuEle/Plots/AnalysisCrossCheck/CR/Data.root'\n",
      "Error in <TH1Merger::DifferentAxesMerge>: Cannot merge histograms - the histograms reco_mass_o_basic_dphi_drap can extend the X axis or have different limits and underflows/overflows are present in the histogram reco_mass_o_basic_dphi_drap.\n",
      "Error in <TFileMerger::MergeRecursive>: calling Merge() on 'reco_mass_o_basic_dphi_drap' with the corresponding object in 'MuEle/Plots/AnalysisCrossCheck/CR/Data.root'\n",
      "Error in <TH1Merger::DifferentAxesMerge>: Cannot merge histograms - the histograms reco_mass_o_basic_dphi_drap_btag can extend the X axis or have different limits and underflows/overflows are present in the histogram reco_mass_o_basic_dphi_drap_btag.\n",
      "Error in <TFileMerger::MergeRecursive>: calling Merge() on 'reco_mass_o_basic_dphi_drap_btag' with the corresponding object in 'MuEle/Plots/AnalysisCrossCheck/CR/Data.root'\n",
      "Error in <TH1Merger::DifferentAxesMerge>: Cannot merge histograms - the histograms reco_mass_o_basic_dphi_drap_btag_iso can extend the X axis or have different limits and underflows/overflows are present in the histogram reco_mass_o_basic_dphi_drap_btag_iso.\n",
      "Error in <TFileMerger::MergeRecursive>: calling Merge() on 'reco_mass_o_basic_dphi_drap_btag_iso' with the corresponding object in 'MuEle/Plots/AnalysisCrossCheck/CR/Data.root'\n",
      "Error in <TH1Merger::DifferentAxesMerge>: Cannot merge histograms - the histograms reco_mass_i can extend the X axis or have different limits and underflows/overflows are present in the histogram reco_mass_i.\n",
      "Error in <TFileMerger::MergeRecursive>: calling Merge() on 'reco_mass_i' with the corresponding object in 'MuEle/Plots/AnalysisCrossCheck/CR/Data.root'\n",
      "Error in <TH1Merger::DifferentAxesMerge>: Cannot merge histograms - the histograms reco_mass_o can extend the X axis or have different limits and underflows/overflows are present in the histogram reco_mass_o.\n",
      "Error in <TFileMerger::MergeRecursive>: calling Merge() on 'reco_mass_o' with the corresponding object in 'MuEle/Plots/AnalysisCrossCheck/CR/Data.root'\n",
      "Error in <TH1Merger::DifferentAxesMerge>: Cannot merge histograms - the histograms reco_mass_ can extend the X axis or have different limits and underflows/overflows are present in the histogram reco_mass_.\n",
      "Error in <TFileMerger::MergeRecursive>: calling Merge() on 'reco_mass_' with the corresponding object in 'MuEle/Plots/AnalysisCrossCheck/CR/Data.root'\n"
     ]
    },
    {
     "name": "stdout",
     "output_type": "stream",
     "text": [
      "hadd Target file: TauTau/AnalysisCrossCheck/CR/MC.root\n",
      "hadd compression setting for all output: 1\n",
      "hadd Source file 1: TauTau/TauhadTaulep/AnalysisCrossCheck/CR/MC.root\n",
      "hadd Source file 2: MuEle/Plots/AnalysisCrossCheck/CR/MC.root\n",
      "hadd Target path: TauTau/AnalysisCrossCheck/CR/MC.root:/\n"
     ]
    },
    {
     "name": "stderr",
     "output_type": "stream",
     "text": [
      "Error in <TH1Merger::DifferentAxesMerge>: Cannot merge histograms - the histograms reco_mass_i_basic can extend the X axis or have different limits and underflows/overflows are present in the histogram reco_mass_i_basic.\n",
      "Error in <TFileMerger::MergeRecursive>: calling Merge() on 'reco_mass_i_basic' with the corresponding object in 'MuEle/Plots/AnalysisCrossCheck/CR/MC.root'\n",
      "Error in <TH1Merger::DifferentAxesMerge>: Cannot merge histograms - the histograms reco_mass_i_basic_dphi can extend the X axis or have different limits and underflows/overflows are present in the histogram reco_mass_i_basic_dphi.\n",
      "Error in <TFileMerger::MergeRecursive>: calling Merge() on 'reco_mass_i_basic_dphi' with the corresponding object in 'MuEle/Plots/AnalysisCrossCheck/CR/MC.root'\n",
      "Error in <TH1Merger::DifferentAxesMerge>: Cannot merge histograms - the histograms reco_mass_i_basic_dphi_drap can extend the X axis or have different limits and underflows/overflows are present in the histogram reco_mass_i_basic_dphi_drap.\n",
      "Error in <TFileMerger::MergeRecursive>: calling Merge() on 'reco_mass_i_basic_dphi_drap' with the corresponding object in 'MuEle/Plots/AnalysisCrossCheck/CR/MC.root'\n",
      "Error in <TH1Merger::DifferentAxesMerge>: Cannot merge histograms - the histograms reco_mass_i_basic_dphi_drap_btag can extend the X axis or have different limits and underflows/overflows are present in the histogram reco_mass_i_basic_dphi_drap_btag.\n",
      "Error in <TFileMerger::MergeRecursive>: calling Merge() on 'reco_mass_i_basic_dphi_drap_btag' with the corresponding object in 'MuEle/Plots/AnalysisCrossCheck/CR/MC.root'\n",
      "Error in <TH1Merger::DifferentAxesMerge>: Cannot merge histograms - the histograms reco_mass_i_basic_dphi_drap_btag_iso can extend the X axis or have different limits and underflows/overflows are present in the histogram reco_mass_i_basic_dphi_drap_btag_iso.\n",
      "Error in <TFileMerger::MergeRecursive>: calling Merge() on 'reco_mass_i_basic_dphi_drap_btag_iso' with the corresponding object in 'MuEle/Plots/AnalysisCrossCheck/CR/MC.root'\n",
      "Error in <TH1Merger::DifferentAxesMerge>: Cannot merge histograms - the histograms reco_mass_o_basic can extend the X axis or have different limits and underflows/overflows are present in the histogram reco_mass_o_basic.\n",
      "Error in <TFileMerger::MergeRecursive>: calling Merge() on 'reco_mass_o_basic' with the corresponding object in 'MuEle/Plots/AnalysisCrossCheck/CR/MC.root'\n",
      "Error in <TH1Merger::DifferentAxesMerge>: Cannot merge histograms - the histograms reco_mass_o_basic_dphi can extend the X axis or have different limits and underflows/overflows are present in the histogram reco_mass_o_basic_dphi.\n",
      "Error in <TFileMerger::MergeRecursive>: calling Merge() on 'reco_mass_o_basic_dphi' with the corresponding object in 'MuEle/Plots/AnalysisCrossCheck/CR/MC.root'\n",
      "Error in <TH1Merger::DifferentAxesMerge>: Cannot merge histograms - the histograms reco_mass_o_basic_dphi_drap can extend the X axis or have different limits and underflows/overflows are present in the histogram reco_mass_o_basic_dphi_drap.\n",
      "Error in <TFileMerger::MergeRecursive>: calling Merge() on 'reco_mass_o_basic_dphi_drap' with the corresponding object in 'MuEle/Plots/AnalysisCrossCheck/CR/MC.root'\n",
      "Error in <TH1Merger::DifferentAxesMerge>: Cannot merge histograms - the histograms reco_mass_o_basic_dphi_drap_btag can extend the X axis or have different limits and underflows/overflows are present in the histogram reco_mass_o_basic_dphi_drap_btag.\n",
      "Error in <TFileMerger::MergeRecursive>: calling Merge() on 'reco_mass_o_basic_dphi_drap_btag' with the corresponding object in 'MuEle/Plots/AnalysisCrossCheck/CR/MC.root'\n",
      "Error in <TH1Merger::DifferentAxesMerge>: Cannot merge histograms - the histograms reco_mass_o_basic_dphi_drap_btag_iso can extend the X axis or have different limits and underflows/overflows are present in the histogram reco_mass_o_basic_dphi_drap_btag_iso.\n",
      "Error in <TFileMerger::MergeRecursive>: calling Merge() on 'reco_mass_o_basic_dphi_drap_btag_iso' with the corresponding object in 'MuEle/Plots/AnalysisCrossCheck/CR/MC.root'\n",
      "Error in <TH1Merger::DifferentAxesMerge>: Cannot merge histograms - the histograms reco_mass_i can extend the X axis or have different limits and underflows/overflows are present in the histogram reco_mass_i.\n",
      "Error in <TFileMerger::MergeRecursive>: calling Merge() on 'reco_mass_i' with the corresponding object in 'MuEle/Plots/AnalysisCrossCheck/CR/MC.root'\n",
      "Error in <TH1Merger::DifferentAxesMerge>: Cannot merge histograms - the histograms reco_mass_o can extend the X axis or have different limits and underflows/overflows are present in the histogram reco_mass_o.\n",
      "Error in <TFileMerger::MergeRecursive>: calling Merge() on 'reco_mass_o' with the corresponding object in 'MuEle/Plots/AnalysisCrossCheck/CR/MC.root'\n",
      "Error in <TH1Merger::DifferentAxesMerge>: Cannot merge histograms - the histograms reco_mass_ can extend the X axis or have different limits and underflows/overflows are present in the histogram reco_mass_.\n",
      "Error in <TFileMerger::MergeRecursive>: calling Merge() on 'reco_mass_' with the corresponding object in 'MuEle/Plots/AnalysisCrossCheck/CR/MC.root'\n"
     ]
    },
    {
     "name": "stdout",
     "output_type": "stream",
     "text": [
      "hadd Target file: TauTau/AnalysisCrossCheck/CR/Signal_Sherpa.root\n",
      "hadd compression setting for all output: 1\n",
      "hadd Source file 1: TauTau/TauhadTaulep/AnalysisCrossCheck/CR/Signal_Sherpa.root\n",
      "hadd Source file 2: MuEle/Plots/AnalysisCrossCheck/CR/Signal_Sherpa.root\n",
      "hadd Target path: TauTau/AnalysisCrossCheck/CR/Signal_Sherpa.root:/\n"
     ]
    },
    {
     "name": "stderr",
     "output_type": "stream",
     "text": [
      "Error in <TH1Merger::DifferentAxesMerge>: Cannot merge histograms - the histograms reco_mass_i_basic can extend the X axis or have different limits and underflows/overflows are present in the histogram reco_mass_i_basic.\n",
      "Error in <TFileMerger::MergeRecursive>: calling Merge() on 'reco_mass_i_basic' with the corresponding object in 'MuEle/Plots/AnalysisCrossCheck/CR/Signal_Sherpa.root'\n",
      "Error in <TH1Merger::DifferentAxesMerge>: Cannot merge histograms - the histograms reco_mass_i_basic_dphi can extend the X axis or have different limits and underflows/overflows are present in the histogram reco_mass_i_basic_dphi.\n",
      "Error in <TFileMerger::MergeRecursive>: calling Merge() on 'reco_mass_i_basic_dphi' with the corresponding object in 'MuEle/Plots/AnalysisCrossCheck/CR/Signal_Sherpa.root'\n",
      "Error in <TH1Merger::DifferentAxesMerge>: Cannot merge histograms - the histograms reco_mass_i_basic_dphi_drap can extend the X axis or have different limits and underflows/overflows are present in the histogram reco_mass_i_basic_dphi_drap.\n",
      "Error in <TFileMerger::MergeRecursive>: calling Merge() on 'reco_mass_i_basic_dphi_drap' with the corresponding object in 'MuEle/Plots/AnalysisCrossCheck/CR/Signal_Sherpa.root'\n",
      "Error in <TH1Merger::DifferentAxesMerge>: Cannot merge histograms - the histograms reco_mass_i_basic_dphi_drap_btag can extend the X axis or have different limits and underflows/overflows are present in the histogram reco_mass_i_basic_dphi_drap_btag.\n",
      "Error in <TFileMerger::MergeRecursive>: calling Merge() on 'reco_mass_i_basic_dphi_drap_btag' with the corresponding object in 'MuEle/Plots/AnalysisCrossCheck/CR/Signal_Sherpa.root'\n",
      "Error in <TH1Merger::DifferentAxesMerge>: Cannot merge histograms - the histograms reco_mass_i_basic_dphi_drap_btag_iso can extend the X axis or have different limits and underflows/overflows are present in the histogram reco_mass_i_basic_dphi_drap_btag_iso.\n",
      "Error in <TFileMerger::MergeRecursive>: calling Merge() on 'reco_mass_i_basic_dphi_drap_btag_iso' with the corresponding object in 'MuEle/Plots/AnalysisCrossCheck/CR/Signal_Sherpa.root'\n",
      "Error in <TH1Merger::DifferentAxesMerge>: Cannot merge histograms - the histograms reco_mass_o_basic can extend the X axis or have different limits and underflows/overflows are present in the histogram reco_mass_o_basic.\n",
      "Error in <TFileMerger::MergeRecursive>: calling Merge() on 'reco_mass_o_basic' with the corresponding object in 'MuEle/Plots/AnalysisCrossCheck/CR/Signal_Sherpa.root'\n",
      "Error in <TH1Merger::DifferentAxesMerge>: Cannot merge histograms - the histograms reco_mass_o_basic_dphi can extend the X axis or have different limits and underflows/overflows are present in the histogram reco_mass_o_basic_dphi.\n",
      "Error in <TFileMerger::MergeRecursive>: calling Merge() on 'reco_mass_o_basic_dphi' with the corresponding object in 'MuEle/Plots/AnalysisCrossCheck/CR/Signal_Sherpa.root'\n",
      "Error in <TH1Merger::DifferentAxesMerge>: Cannot merge histograms - the histograms reco_mass_o_basic_dphi_drap can extend the X axis or have different limits and underflows/overflows are present in the histogram reco_mass_o_basic_dphi_drap.\n",
      "Error in <TFileMerger::MergeRecursive>: calling Merge() on 'reco_mass_o_basic_dphi_drap' with the corresponding object in 'MuEle/Plots/AnalysisCrossCheck/CR/Signal_Sherpa.root'\n",
      "Error in <TH1Merger::DifferentAxesMerge>: Cannot merge histograms - the histograms reco_mass_o_basic_dphi_drap_btag can extend the X axis or have different limits and underflows/overflows are present in the histogram reco_mass_o_basic_dphi_drap_btag.\n",
      "Error in <TFileMerger::MergeRecursive>: calling Merge() on 'reco_mass_o_basic_dphi_drap_btag' with the corresponding object in 'MuEle/Plots/AnalysisCrossCheck/CR/Signal_Sherpa.root'\n",
      "Error in <TH1Merger::DifferentAxesMerge>: Cannot merge histograms - the histograms reco_mass_o_basic_dphi_drap_btag_iso can extend the X axis or have different limits and underflows/overflows are present in the histogram reco_mass_o_basic_dphi_drap_btag_iso.\n",
      "Error in <TFileMerger::MergeRecursive>: calling Merge() on 'reco_mass_o_basic_dphi_drap_btag_iso' with the corresponding object in 'MuEle/Plots/AnalysisCrossCheck/CR/Signal_Sherpa.root'\n",
      "Error in <TH1Merger::DifferentAxesMerge>: Cannot merge histograms - the histograms reco_mass_i can extend the X axis or have different limits and underflows/overflows are present in the histogram reco_mass_i.\n",
      "Error in <TFileMerger::MergeRecursive>: calling Merge() on 'reco_mass_i' with the corresponding object in 'MuEle/Plots/AnalysisCrossCheck/CR/Signal_Sherpa.root'\n",
      "Error in <TH1Merger::DifferentAxesMerge>: Cannot merge histograms - the histograms reco_mass_o can extend the X axis or have different limits and underflows/overflows are present in the histogram reco_mass_o.\n",
      "Error in <TFileMerger::MergeRecursive>: calling Merge() on 'reco_mass_o' with the corresponding object in 'MuEle/Plots/AnalysisCrossCheck/CR/Signal_Sherpa.root'\n",
      "Error in <TH1Merger::DifferentAxesMerge>: Cannot merge histograms - the histograms reco_mass_ can extend the X axis or have different limits and underflows/overflows are present in the histogram reco_mass_.\n",
      "Error in <TFileMerger::MergeRecursive>: calling Merge() on 'reco_mass_' with the corresponding object in 'MuEle/Plots/AnalysisCrossCheck/CR/Signal_Sherpa.root'\n"
     ]
    },
    {
     "name": "stdout",
     "output_type": "stream",
     "text": [
      "hadd Target file: TauTau/AnalysisCrossCheck/CR/Signal_PoPy.root\n",
      "hadd compression setting for all output: 1\n",
      "hadd Source file 1: TauTau/TauhadTaulep/AnalysisCrossCheck/CR/Signal_PoPy.root\n",
      "hadd Source file 2: MuEle/Plots/AnalysisCrossCheck/CR/Signal_PoPy.root\n",
      "hadd Target path: TauTau/AnalysisCrossCheck/CR/Signal_PoPy.root:/\n"
     ]
    },
    {
     "name": "stderr",
     "output_type": "stream",
     "text": [
      "Error in <TH1Merger::DifferentAxesMerge>: Cannot merge histograms - the histograms reco_mass_i_basic can extend the X axis or have different limits and underflows/overflows are present in the histogram reco_mass_i_basic.\n",
      "Error in <TFileMerger::MergeRecursive>: calling Merge() on 'reco_mass_i_basic' with the corresponding object in 'MuEle/Plots/AnalysisCrossCheck/CR/Signal_PoPy.root'\n",
      "Error in <TH1Merger::DifferentAxesMerge>: Cannot merge histograms - the histograms reco_mass_i_basic_dphi can extend the X axis or have different limits and underflows/overflows are present in the histogram reco_mass_i_basic_dphi.\n",
      "Error in <TFileMerger::MergeRecursive>: calling Merge() on 'reco_mass_i_basic_dphi' with the corresponding object in 'MuEle/Plots/AnalysisCrossCheck/CR/Signal_PoPy.root'\n",
      "Error in <TH1Merger::DifferentAxesMerge>: Cannot merge histograms - the histograms reco_mass_i_basic_dphi_drap can extend the X axis or have different limits and underflows/overflows are present in the histogram reco_mass_i_basic_dphi_drap.\n",
      "Error in <TFileMerger::MergeRecursive>: calling Merge() on 'reco_mass_i_basic_dphi_drap' with the corresponding object in 'MuEle/Plots/AnalysisCrossCheck/CR/Signal_PoPy.root'\n",
      "Error in <TH1Merger::DifferentAxesMerge>: Cannot merge histograms - the histograms reco_mass_i_basic_dphi_drap_btag can extend the X axis or have different limits and underflows/overflows are present in the histogram reco_mass_i_basic_dphi_drap_btag.\n",
      "Error in <TFileMerger::MergeRecursive>: calling Merge() on 'reco_mass_i_basic_dphi_drap_btag' with the corresponding object in 'MuEle/Plots/AnalysisCrossCheck/CR/Signal_PoPy.root'\n",
      "Error in <TH1Merger::DifferentAxesMerge>: Cannot merge histograms - the histograms reco_mass_i_basic_dphi_drap_btag_iso can extend the X axis or have different limits and underflows/overflows are present in the histogram reco_mass_i_basic_dphi_drap_btag_iso.\n",
      "Error in <TFileMerger::MergeRecursive>: calling Merge() on 'reco_mass_i_basic_dphi_drap_btag_iso' with the corresponding object in 'MuEle/Plots/AnalysisCrossCheck/CR/Signal_PoPy.root'\n",
      "Error in <TH1Merger::DifferentAxesMerge>: Cannot merge histograms - the histograms reco_mass_o_basic can extend the X axis or have different limits and underflows/overflows are present in the histogram reco_mass_o_basic.\n",
      "Error in <TFileMerger::MergeRecursive>: calling Merge() on 'reco_mass_o_basic' with the corresponding object in 'MuEle/Plots/AnalysisCrossCheck/CR/Signal_PoPy.root'\n",
      "Error in <TH1Merger::DifferentAxesMerge>: Cannot merge histograms - the histograms reco_mass_o_basic_dphi can extend the X axis or have different limits and underflows/overflows are present in the histogram reco_mass_o_basic_dphi.\n",
      "Error in <TFileMerger::MergeRecursive>: calling Merge() on 'reco_mass_o_basic_dphi' with the corresponding object in 'MuEle/Plots/AnalysisCrossCheck/CR/Signal_PoPy.root'\n",
      "Error in <TH1Merger::DifferentAxesMerge>: Cannot merge histograms - the histograms reco_mass_o_basic_dphi_drap can extend the X axis or have different limits and underflows/overflows are present in the histogram reco_mass_o_basic_dphi_drap.\n",
      "Error in <TFileMerger::MergeRecursive>: calling Merge() on 'reco_mass_o_basic_dphi_drap' with the corresponding object in 'MuEle/Plots/AnalysisCrossCheck/CR/Signal_PoPy.root'\n",
      "Error in <TH1Merger::DifferentAxesMerge>: Cannot merge histograms - the histograms reco_mass_o_basic_dphi_drap_btag can extend the X axis or have different limits and underflows/overflows are present in the histogram reco_mass_o_basic_dphi_drap_btag.\n",
      "Error in <TFileMerger::MergeRecursive>: calling Merge() on 'reco_mass_o_basic_dphi_drap_btag' with the corresponding object in 'MuEle/Plots/AnalysisCrossCheck/CR/Signal_PoPy.root'\n",
      "Error in <TH1Merger::DifferentAxesMerge>: Cannot merge histograms - the histograms reco_mass_o_basic_dphi_drap_btag_iso can extend the X axis or have different limits and underflows/overflows are present in the histogram reco_mass_o_basic_dphi_drap_btag_iso.\n",
      "Error in <TFileMerger::MergeRecursive>: calling Merge() on 'reco_mass_o_basic_dphi_drap_btag_iso' with the corresponding object in 'MuEle/Plots/AnalysisCrossCheck/CR/Signal_PoPy.root'\n",
      "Error in <TH1Merger::DifferentAxesMerge>: Cannot merge histograms - the histograms reco_mass_i can extend the X axis or have different limits and underflows/overflows are present in the histogram reco_mass_i.\n",
      "Error in <TFileMerger::MergeRecursive>: calling Merge() on 'reco_mass_i' with the corresponding object in 'MuEle/Plots/AnalysisCrossCheck/CR/Signal_PoPy.root'\n",
      "Error in <TH1Merger::DifferentAxesMerge>: Cannot merge histograms - the histograms reco_mass_o can extend the X axis or have different limits and underflows/overflows are present in the histogram reco_mass_o.\n",
      "Error in <TFileMerger::MergeRecursive>: calling Merge() on 'reco_mass_o' with the corresponding object in 'MuEle/Plots/AnalysisCrossCheck/CR/Signal_PoPy.root'\n",
      "Error in <TH1Merger::DifferentAxesMerge>: Cannot merge histograms - the histograms reco_mass_ can extend the X axis or have different limits and underflows/overflows are present in the histogram reco_mass_.\n",
      "Error in <TFileMerger::MergeRecursive>: calling Merge() on 'reco_mass_' with the corresponding object in 'MuEle/Plots/AnalysisCrossCheck/CR/Signal_PoPy.root'\n"
     ]
    },
    {
     "name": "stdout",
     "output_type": "stream",
     "text": [
      "hadd Target file: TauTau/AnalysisCrossCheck/CR/singletop.root\n",
      "hadd compression setting for all output: 1\n",
      "hadd Source file 1: TauTau/TauhadTaulep/AnalysisCrossCheck/CR/singletop.root\n",
      "hadd Source file 2: MuEle/Plots/AnalysisCrossCheck/CR/singletop.root\n",
      "hadd Target path: TauTau/AnalysisCrossCheck/CR/singletop.root:/\n"
     ]
    },
    {
     "name": "stderr",
     "output_type": "stream",
     "text": [
      "Error in <TH1Merger::DifferentAxesMerge>: Cannot merge histograms - the histograms reco_mass_i_basic can extend the X axis or have different limits and underflows/overflows are present in the histogram reco_mass_i_basic.\n",
      "Error in <TFileMerger::MergeRecursive>: calling Merge() on 'reco_mass_i_basic' with the corresponding object in 'MuEle/Plots/AnalysisCrossCheck/CR/singletop.root'\n",
      "Error in <TH1Merger::DifferentAxesMerge>: Cannot merge histograms - the histograms reco_mass_i_basic_dphi can extend the X axis or have different limits and underflows/overflows are present in the histogram reco_mass_i_basic_dphi.\n",
      "Error in <TFileMerger::MergeRecursive>: calling Merge() on 'reco_mass_i_basic_dphi' with the corresponding object in 'MuEle/Plots/AnalysisCrossCheck/CR/singletop.root'\n",
      "Error in <TH1Merger::DifferentAxesMerge>: Cannot merge histograms - the histograms reco_mass_i_basic_dphi_drap can extend the X axis or have different limits and underflows/overflows are present in the histogram reco_mass_i_basic_dphi_drap.\n",
      "Error in <TFileMerger::MergeRecursive>: calling Merge() on 'reco_mass_i_basic_dphi_drap' with the corresponding object in 'MuEle/Plots/AnalysisCrossCheck/CR/singletop.root'\n",
      "Error in <TH1Merger::DifferentAxesMerge>: Cannot merge histograms - the histograms reco_mass_i_basic_dphi_drap_btag can extend the X axis or have different limits and underflows/overflows are present in the histogram reco_mass_i_basic_dphi_drap_btag.\n",
      "Error in <TFileMerger::MergeRecursive>: calling Merge() on 'reco_mass_i_basic_dphi_drap_btag' with the corresponding object in 'MuEle/Plots/AnalysisCrossCheck/CR/singletop.root'\n",
      "Error in <TH1Merger::DifferentAxesMerge>: Cannot merge histograms - the histograms reco_mass_i_basic_dphi_drap_btag_iso can extend the X axis or have different limits and underflows/overflows are present in the histogram reco_mass_i_basic_dphi_drap_btag_iso.\n",
      "Error in <TFileMerger::MergeRecursive>: calling Merge() on 'reco_mass_i_basic_dphi_drap_btag_iso' with the corresponding object in 'MuEle/Plots/AnalysisCrossCheck/CR/singletop.root'\n",
      "Error in <TH1Merger::DifferentAxesMerge>: Cannot merge histograms - the histograms reco_mass_o_basic can extend the X axis or have different limits and underflows/overflows are present in the histogram reco_mass_o_basic.\n",
      "Error in <TFileMerger::MergeRecursive>: calling Merge() on 'reco_mass_o_basic' with the corresponding object in 'MuEle/Plots/AnalysisCrossCheck/CR/singletop.root'\n",
      "Error in <TH1Merger::DifferentAxesMerge>: Cannot merge histograms - the histograms reco_mass_o_basic_dphi can extend the X axis or have different limits and underflows/overflows are present in the histogram reco_mass_o_basic_dphi.\n",
      "Error in <TFileMerger::MergeRecursive>: calling Merge() on 'reco_mass_o_basic_dphi' with the corresponding object in 'MuEle/Plots/AnalysisCrossCheck/CR/singletop.root'\n",
      "Error in <TH1Merger::DifferentAxesMerge>: Cannot merge histograms - the histograms reco_mass_o_basic_dphi_drap can extend the X axis or have different limits and underflows/overflows are present in the histogram reco_mass_o_basic_dphi_drap.\n",
      "Error in <TFileMerger::MergeRecursive>: calling Merge() on 'reco_mass_o_basic_dphi_drap' with the corresponding object in 'MuEle/Plots/AnalysisCrossCheck/CR/singletop.root'\n",
      "Error in <TH1Merger::DifferentAxesMerge>: Cannot merge histograms - the histograms reco_mass_o_basic_dphi_drap_btag can extend the X axis or have different limits and underflows/overflows are present in the histogram reco_mass_o_basic_dphi_drap_btag.\n",
      "Error in <TFileMerger::MergeRecursive>: calling Merge() on 'reco_mass_o_basic_dphi_drap_btag' with the corresponding object in 'MuEle/Plots/AnalysisCrossCheck/CR/singletop.root'\n",
      "Error in <TH1Merger::DifferentAxesMerge>: Cannot merge histograms - the histograms reco_mass_o_basic_dphi_drap_btag_iso can extend the X axis or have different limits and underflows/overflows are present in the histogram reco_mass_o_basic_dphi_drap_btag_iso.\n",
      "Error in <TFileMerger::MergeRecursive>: calling Merge() on 'reco_mass_o_basic_dphi_drap_btag_iso' with the corresponding object in 'MuEle/Plots/AnalysisCrossCheck/CR/singletop.root'\n",
      "Error in <TH1Merger::DifferentAxesMerge>: Cannot merge histograms - the histograms reco_mass_i can extend the X axis or have different limits and underflows/overflows are present in the histogram reco_mass_i.\n",
      "Error in <TFileMerger::MergeRecursive>: calling Merge() on 'reco_mass_i' with the corresponding object in 'MuEle/Plots/AnalysisCrossCheck/CR/singletop.root'\n",
      "Error in <TH1Merger::DifferentAxesMerge>: Cannot merge histograms - the histograms reco_mass_o can extend the X axis or have different limits and underflows/overflows are present in the histogram reco_mass_o.\n",
      "Error in <TFileMerger::MergeRecursive>: calling Merge() on 'reco_mass_o' with the corresponding object in 'MuEle/Plots/AnalysisCrossCheck/CR/singletop.root'\n",
      "Error in <TH1Merger::DifferentAxesMerge>: Cannot merge histograms - the histograms reco_mass_ can extend the X axis or have different limits and underflows/overflows are present in the histogram reco_mass_.\n",
      "Error in <TFileMerger::MergeRecursive>: calling Merge() on 'reco_mass_' with the corresponding object in 'MuEle/Plots/AnalysisCrossCheck/CR/singletop.root'\n"
     ]
    },
    {
     "name": "stdout",
     "output_type": "stream",
     "text": [
      "hadd Target file: TauTau/AnalysisCrossCheck/CR/ttbar.root\n",
      "hadd compression setting for all output: 1\n",
      "hadd Source file 1: TauTau/TauhadTaulep/AnalysisCrossCheck/CR/ttbar.root\n",
      "hadd Source file 2: MuEle/Plots/AnalysisCrossCheck/CR/ttbar.root\n",
      "hadd Target path: TauTau/AnalysisCrossCheck/CR/ttbar.root:/\n"
     ]
    },
    {
     "name": "stderr",
     "output_type": "stream",
     "text": [
      "Error in <TH1Merger::DifferentAxesMerge>: Cannot merge histograms - the histograms reco_mass_i_basic can extend the X axis or have different limits and underflows/overflows are present in the histogram reco_mass_i_basic.\n",
      "Error in <TFileMerger::MergeRecursive>: calling Merge() on 'reco_mass_i_basic' with the corresponding object in 'MuEle/Plots/AnalysisCrossCheck/CR/ttbar.root'\n",
      "Error in <TH1Merger::DifferentAxesMerge>: Cannot merge histograms - the histograms reco_mass_i_basic_dphi can extend the X axis or have different limits and underflows/overflows are present in the histogram reco_mass_i_basic_dphi.\n",
      "Error in <TFileMerger::MergeRecursive>: calling Merge() on 'reco_mass_i_basic_dphi' with the corresponding object in 'MuEle/Plots/AnalysisCrossCheck/CR/ttbar.root'\n",
      "Error in <TH1Merger::DifferentAxesMerge>: Cannot merge histograms - the histograms reco_mass_i_basic_dphi_drap can extend the X axis or have different limits and underflows/overflows are present in the histogram reco_mass_i_basic_dphi_drap.\n",
      "Error in <TFileMerger::MergeRecursive>: calling Merge() on 'reco_mass_i_basic_dphi_drap' with the corresponding object in 'MuEle/Plots/AnalysisCrossCheck/CR/ttbar.root'\n",
      "Error in <TH1Merger::DifferentAxesMerge>: Cannot merge histograms - the histograms reco_mass_i_basic_dphi_drap_btag can extend the X axis or have different limits and underflows/overflows are present in the histogram reco_mass_i_basic_dphi_drap_btag.\n",
      "Error in <TFileMerger::MergeRecursive>: calling Merge() on 'reco_mass_i_basic_dphi_drap_btag' with the corresponding object in 'MuEle/Plots/AnalysisCrossCheck/CR/ttbar.root'\n",
      "Error in <TH1Merger::DifferentAxesMerge>: Cannot merge histograms - the histograms reco_mass_i_basic_dphi_drap_btag_iso can extend the X axis or have different limits and underflows/overflows are present in the histogram reco_mass_i_basic_dphi_drap_btag_iso.\n",
      "Error in <TFileMerger::MergeRecursive>: calling Merge() on 'reco_mass_i_basic_dphi_drap_btag_iso' with the corresponding object in 'MuEle/Plots/AnalysisCrossCheck/CR/ttbar.root'\n",
      "Error in <TH1Merger::DifferentAxesMerge>: Cannot merge histograms - the histograms reco_mass_o_basic can extend the X axis or have different limits and underflows/overflows are present in the histogram reco_mass_o_basic.\n",
      "Error in <TFileMerger::MergeRecursive>: calling Merge() on 'reco_mass_o_basic' with the corresponding object in 'MuEle/Plots/AnalysisCrossCheck/CR/ttbar.root'\n",
      "Error in <TH1Merger::DifferentAxesMerge>: Cannot merge histograms - the histograms reco_mass_o_basic_dphi can extend the X axis or have different limits and underflows/overflows are present in the histogram reco_mass_o_basic_dphi.\n",
      "Error in <TFileMerger::MergeRecursive>: calling Merge() on 'reco_mass_o_basic_dphi' with the corresponding object in 'MuEle/Plots/AnalysisCrossCheck/CR/ttbar.root'\n",
      "Error in <TH1Merger::DifferentAxesMerge>: Cannot merge histograms - the histograms reco_mass_o_basic_dphi_drap can extend the X axis or have different limits and underflows/overflows are present in the histogram reco_mass_o_basic_dphi_drap.\n",
      "Error in <TFileMerger::MergeRecursive>: calling Merge() on 'reco_mass_o_basic_dphi_drap' with the corresponding object in 'MuEle/Plots/AnalysisCrossCheck/CR/ttbar.root'\n",
      "Error in <TH1Merger::DifferentAxesMerge>: Cannot merge histograms - the histograms reco_mass_o_basic_dphi_drap_btag can extend the X axis or have different limits and underflows/overflows are present in the histogram reco_mass_o_basic_dphi_drap_btag.\n",
      "Error in <TFileMerger::MergeRecursive>: calling Merge() on 'reco_mass_o_basic_dphi_drap_btag' with the corresponding object in 'MuEle/Plots/AnalysisCrossCheck/CR/ttbar.root'\n",
      "Error in <TH1Merger::DifferentAxesMerge>: Cannot merge histograms - the histograms reco_mass_o_basic_dphi_drap_btag_iso can extend the X axis or have different limits and underflows/overflows are present in the histogram reco_mass_o_basic_dphi_drap_btag_iso.\n",
      "Error in <TFileMerger::MergeRecursive>: calling Merge() on 'reco_mass_o_basic_dphi_drap_btag_iso' with the corresponding object in 'MuEle/Plots/AnalysisCrossCheck/CR/ttbar.root'\n",
      "Error in <TH1Merger::DifferentAxesMerge>: Cannot merge histograms - the histograms reco_mass_i can extend the X axis or have different limits and underflows/overflows are present in the histogram reco_mass_i.\n",
      "Error in <TFileMerger::MergeRecursive>: calling Merge() on 'reco_mass_i' with the corresponding object in 'MuEle/Plots/AnalysisCrossCheck/CR/ttbar.root'\n",
      "Error in <TH1Merger::DifferentAxesMerge>: Cannot merge histograms - the histograms reco_mass_o can extend the X axis or have different limits and underflows/overflows are present in the histogram reco_mass_o.\n",
      "Error in <TFileMerger::MergeRecursive>: calling Merge() on 'reco_mass_o' with the corresponding object in 'MuEle/Plots/AnalysisCrossCheck/CR/ttbar.root'\n",
      "Error in <TH1Merger::DifferentAxesMerge>: Cannot merge histograms - the histograms reco_mass_ can extend the X axis or have different limits and underflows/overflows are present in the histogram reco_mass_.\n",
      "Error in <TFileMerger::MergeRecursive>: calling Merge() on 'reco_mass_' with the corresponding object in 'MuEle/Plots/AnalysisCrossCheck/CR/ttbar.root'\n"
     ]
    },
    {
     "name": "stdout",
     "output_type": "stream",
     "text": [
      "hadd Target file: TauTau/AnalysisCrossCheck/CR/VV.root\n",
      "hadd compression setting for all output: 1\n",
      "hadd Source file 1: TauTau/TauhadTaulep/AnalysisCrossCheck/CR/VV.root\n",
      "hadd Source file 2: MuEle/Plots/AnalysisCrossCheck/CR/VV.root\n",
      "hadd Target path: TauTau/AnalysisCrossCheck/CR/VV.root:/\n"
     ]
    },
    {
     "name": "stderr",
     "output_type": "stream",
     "text": [
      "Error in <TH1Merger::DifferentAxesMerge>: Cannot merge histograms - the histograms reco_mass_i_basic can extend the X axis or have different limits and underflows/overflows are present in the histogram reco_mass_i_basic.\n",
      "Error in <TFileMerger::MergeRecursive>: calling Merge() on 'reco_mass_i_basic' with the corresponding object in 'MuEle/Plots/AnalysisCrossCheck/CR/VV.root'\n",
      "Error in <TH1Merger::DifferentAxesMerge>: Cannot merge histograms - the histograms reco_mass_i_basic_dphi can extend the X axis or have different limits and underflows/overflows are present in the histogram reco_mass_i_basic_dphi.\n",
      "Error in <TFileMerger::MergeRecursive>: calling Merge() on 'reco_mass_i_basic_dphi' with the corresponding object in 'MuEle/Plots/AnalysisCrossCheck/CR/VV.root'\n",
      "Error in <TH1Merger::DifferentAxesMerge>: Cannot merge histograms - the histograms reco_mass_i_basic_dphi_drap can extend the X axis or have different limits and underflows/overflows are present in the histogram reco_mass_i_basic_dphi_drap.\n",
      "Error in <TFileMerger::MergeRecursive>: calling Merge() on 'reco_mass_i_basic_dphi_drap' with the corresponding object in 'MuEle/Plots/AnalysisCrossCheck/CR/VV.root'\n",
      "Error in <TH1Merger::DifferentAxesMerge>: Cannot merge histograms - the histograms reco_mass_i_basic_dphi_drap_btag can extend the X axis or have different limits and underflows/overflows are present in the histogram reco_mass_i_basic_dphi_drap_btag.\n",
      "Error in <TFileMerger::MergeRecursive>: calling Merge() on 'reco_mass_i_basic_dphi_drap_btag' with the corresponding object in 'MuEle/Plots/AnalysisCrossCheck/CR/VV.root'\n",
      "Error in <TH1Merger::DifferentAxesMerge>: Cannot merge histograms - the histograms reco_mass_i_basic_dphi_drap_btag_iso can extend the X axis or have different limits and underflows/overflows are present in the histogram reco_mass_i_basic_dphi_drap_btag_iso.\n",
      "Error in <TFileMerger::MergeRecursive>: calling Merge() on 'reco_mass_i_basic_dphi_drap_btag_iso' with the corresponding object in 'MuEle/Plots/AnalysisCrossCheck/CR/VV.root'\n",
      "Error in <TH1Merger::DifferentAxesMerge>: Cannot merge histograms - the histograms reco_mass_o_basic can extend the X axis or have different limits and underflows/overflows are present in the histogram reco_mass_o_basic.\n",
      "Error in <TFileMerger::MergeRecursive>: calling Merge() on 'reco_mass_o_basic' with the corresponding object in 'MuEle/Plots/AnalysisCrossCheck/CR/VV.root'\n",
      "Error in <TH1Merger::DifferentAxesMerge>: Cannot merge histograms - the histograms reco_mass_o_basic_dphi can extend the X axis or have different limits and underflows/overflows are present in the histogram reco_mass_o_basic_dphi.\n",
      "Error in <TFileMerger::MergeRecursive>: calling Merge() on 'reco_mass_o_basic_dphi' with the corresponding object in 'MuEle/Plots/AnalysisCrossCheck/CR/VV.root'\n",
      "Error in <TH1Merger::DifferentAxesMerge>: Cannot merge histograms - the histograms reco_mass_o_basic_dphi_drap can extend the X axis or have different limits and underflows/overflows are present in the histogram reco_mass_o_basic_dphi_drap.\n",
      "Error in <TFileMerger::MergeRecursive>: calling Merge() on 'reco_mass_o_basic_dphi_drap' with the corresponding object in 'MuEle/Plots/AnalysisCrossCheck/CR/VV.root'\n",
      "Error in <TH1Merger::DifferentAxesMerge>: Cannot merge histograms - the histograms reco_mass_o_basic_dphi_drap_btag can extend the X axis or have different limits and underflows/overflows are present in the histogram reco_mass_o_basic_dphi_drap_btag.\n",
      "Error in <TFileMerger::MergeRecursive>: calling Merge() on 'reco_mass_o_basic_dphi_drap_btag' with the corresponding object in 'MuEle/Plots/AnalysisCrossCheck/CR/VV.root'\n",
      "Error in <TH1Merger::DifferentAxesMerge>: Cannot merge histograms - the histograms reco_mass_o_basic_dphi_drap_btag_iso can extend the X axis or have different limits and underflows/overflows are present in the histogram reco_mass_o_basic_dphi_drap_btag_iso.\n",
      "Error in <TFileMerger::MergeRecursive>: calling Merge() on 'reco_mass_o_basic_dphi_drap_btag_iso' with the corresponding object in 'MuEle/Plots/AnalysisCrossCheck/CR/VV.root'\n",
      "Error in <TH1Merger::DifferentAxesMerge>: Cannot merge histograms - the histograms reco_mass_i can extend the X axis or have different limits and underflows/overflows are present in the histogram reco_mass_i.\n",
      "Error in <TFileMerger::MergeRecursive>: calling Merge() on 'reco_mass_i' with the corresponding object in 'MuEle/Plots/AnalysisCrossCheck/CR/VV.root'\n",
      "Error in <TH1Merger::DifferentAxesMerge>: Cannot merge histograms - the histograms reco_mass_o can extend the X axis or have different limits and underflows/overflows are present in the histogram reco_mass_o.\n",
      "Error in <TFileMerger::MergeRecursive>: calling Merge() on 'reco_mass_o' with the corresponding object in 'MuEle/Plots/AnalysisCrossCheck/CR/VV.root'\n",
      "Error in <TH1Merger::DifferentAxesMerge>: Cannot merge histograms - the histograms reco_mass_ can extend the X axis or have different limits and underflows/overflows are present in the histogram reco_mass_.\n",
      "Error in <TFileMerger::MergeRecursive>: calling Merge() on 'reco_mass_' with the corresponding object in 'MuEle/Plots/AnalysisCrossCheck/CR/VV.root'\n"
     ]
    },
    {
     "name": "stdout",
     "output_type": "stream",
     "text": [
      "hadd Target file: TauTau/AnalysisCrossCheck/CR/Wjets.root\n",
      "hadd compression setting for all output: 1\n",
      "hadd Source file 1: TauTau/TauhadTaulep/AnalysisCrossCheck/CR/Wjets.root\n",
      "hadd Source file 2: MuEle/Plots/AnalysisCrossCheck/CR/Wjets.root\n",
      "hadd Target path: TauTau/AnalysisCrossCheck/CR/Wjets.root:/\n"
     ]
    },
    {
     "name": "stderr",
     "output_type": "stream",
     "text": [
      "Error in <TH1Merger::DifferentAxesMerge>: Cannot merge histograms - the histograms reco_mass_i_basic can extend the X axis or have different limits and underflows/overflows are present in the histogram reco_mass_i_basic.\n",
      "Error in <TFileMerger::MergeRecursive>: calling Merge() on 'reco_mass_i_basic' with the corresponding object in 'MuEle/Plots/AnalysisCrossCheck/CR/Wjets.root'\n",
      "Error in <TH1Merger::DifferentAxesMerge>: Cannot merge histograms - the histograms reco_mass_i_basic_dphi can extend the X axis or have different limits and underflows/overflows are present in the histogram reco_mass_i_basic_dphi.\n",
      "Error in <TFileMerger::MergeRecursive>: calling Merge() on 'reco_mass_i_basic_dphi' with the corresponding object in 'MuEle/Plots/AnalysisCrossCheck/CR/Wjets.root'\n",
      "Error in <TH1Merger::DifferentAxesMerge>: Cannot merge histograms - the histograms reco_mass_i_basic_dphi_drap can extend the X axis or have different limits and underflows/overflows are present in the histogram reco_mass_i_basic_dphi_drap.\n",
      "Error in <TFileMerger::MergeRecursive>: calling Merge() on 'reco_mass_i_basic_dphi_drap' with the corresponding object in 'MuEle/Plots/AnalysisCrossCheck/CR/Wjets.root'\n",
      "Error in <TH1Merger::DifferentAxesMerge>: Cannot merge histograms - the histograms reco_mass_i_basic_dphi_drap_btag can extend the X axis or have different limits and underflows/overflows are present in the histogram reco_mass_i_basic_dphi_drap_btag.\n",
      "Error in <TFileMerger::MergeRecursive>: calling Merge() on 'reco_mass_i_basic_dphi_drap_btag' with the corresponding object in 'MuEle/Plots/AnalysisCrossCheck/CR/Wjets.root'\n",
      "Error in <TH1Merger::DifferentAxesMerge>: Cannot merge histograms - the histograms reco_mass_i_basic_dphi_drap_btag_iso can extend the X axis or have different limits and underflows/overflows are present in the histogram reco_mass_i_basic_dphi_drap_btag_iso.\n",
      "Error in <TFileMerger::MergeRecursive>: calling Merge() on 'reco_mass_i_basic_dphi_drap_btag_iso' with the corresponding object in 'MuEle/Plots/AnalysisCrossCheck/CR/Wjets.root'\n",
      "Error in <TH1Merger::DifferentAxesMerge>: Cannot merge histograms - the histograms reco_mass_o_basic can extend the X axis or have different limits and underflows/overflows are present in the histogram reco_mass_o_basic.\n",
      "Error in <TFileMerger::MergeRecursive>: calling Merge() on 'reco_mass_o_basic' with the corresponding object in 'MuEle/Plots/AnalysisCrossCheck/CR/Wjets.root'\n",
      "Error in <TH1Merger::DifferentAxesMerge>: Cannot merge histograms - the histograms reco_mass_o_basic_dphi can extend the X axis or have different limits and underflows/overflows are present in the histogram reco_mass_o_basic_dphi.\n",
      "Error in <TFileMerger::MergeRecursive>: calling Merge() on 'reco_mass_o_basic_dphi' with the corresponding object in 'MuEle/Plots/AnalysisCrossCheck/CR/Wjets.root'\n",
      "Error in <TH1Merger::DifferentAxesMerge>: Cannot merge histograms - the histograms reco_mass_o_basic_dphi_drap can extend the X axis or have different limits and underflows/overflows are present in the histogram reco_mass_o_basic_dphi_drap.\n",
      "Error in <TFileMerger::MergeRecursive>: calling Merge() on 'reco_mass_o_basic_dphi_drap' with the corresponding object in 'MuEle/Plots/AnalysisCrossCheck/CR/Wjets.root'\n",
      "Error in <TH1Merger::DifferentAxesMerge>: Cannot merge histograms - the histograms reco_mass_o_basic_dphi_drap_btag can extend the X axis or have different limits and underflows/overflows are present in the histogram reco_mass_o_basic_dphi_drap_btag.\n",
      "Error in <TFileMerger::MergeRecursive>: calling Merge() on 'reco_mass_o_basic_dphi_drap_btag' with the corresponding object in 'MuEle/Plots/AnalysisCrossCheck/CR/Wjets.root'\n",
      "Error in <TH1Merger::DifferentAxesMerge>: Cannot merge histograms - the histograms reco_mass_o_basic_dphi_drap_btag_iso can extend the X axis or have different limits and underflows/overflows are present in the histogram reco_mass_o_basic_dphi_drap_btag_iso.\n",
      "Error in <TFileMerger::MergeRecursive>: calling Merge() on 'reco_mass_o_basic_dphi_drap_btag_iso' with the corresponding object in 'MuEle/Plots/AnalysisCrossCheck/CR/Wjets.root'\n",
      "Error in <TH1Merger::DifferentAxesMerge>: Cannot merge histograms - the histograms reco_mass_i can extend the X axis or have different limits and underflows/overflows are present in the histogram reco_mass_i.\n",
      "Error in <TFileMerger::MergeRecursive>: calling Merge() on 'reco_mass_i' with the corresponding object in 'MuEle/Plots/AnalysisCrossCheck/CR/Wjets.root'\n",
      "Error in <TH1Merger::DifferentAxesMerge>: Cannot merge histograms - the histograms reco_mass_ can extend the X axis or have different limits and underflows/overflows are present in the histogram reco_mass_.\n",
      "Error in <TFileMerger::MergeRecursive>: calling Merge() on 'reco_mass_' with the corresponding object in 'MuEle/Plots/AnalysisCrossCheck/CR/Wjets.root'\n"
     ]
    },
    {
     "name": "stdout",
     "output_type": "stream",
     "text": [
      "hadd Target file: TauTau/AnalysisCrossCheck/CR/Higgs.root\n",
      "hadd compression setting for all output: 1\n",
      "hadd Source file 1: TauTau/TauhadTaulep/AnalysisCrossCheck/CR/Higgs.root\n",
      "hadd Source file 2: MuEle/Plots/AnalysisCrossCheck/CR/Higgs.root\n",
      "hadd Target path: TauTau/AnalysisCrossCheck/CR/Higgs.root:/\n"
     ]
    },
    {
     "name": "stderr",
     "output_type": "stream",
     "text": [
      "Error in <TH1Merger::DifferentAxesMerge>: Cannot merge histograms - the histograms reco_mass_i_basic can extend the X axis or have different limits and underflows/overflows are present in the histogram reco_mass_i_basic.\n",
      "Error in <TFileMerger::MergeRecursive>: calling Merge() on 'reco_mass_i_basic' with the corresponding object in 'MuEle/Plots/AnalysisCrossCheck/CR/Higgs.root'\n",
      "Error in <TH1Merger::DifferentAxesMerge>: Cannot merge histograms - the histograms reco_mass_i_basic_dphi can extend the X axis or have different limits and underflows/overflows are present in the histogram reco_mass_i_basic_dphi.\n",
      "Error in <TFileMerger::MergeRecursive>: calling Merge() on 'reco_mass_i_basic_dphi' with the corresponding object in 'MuEle/Plots/AnalysisCrossCheck/CR/Higgs.root'\n",
      "Error in <TH1Merger::DifferentAxesMerge>: Cannot merge histograms - the histograms reco_mass_i_basic_dphi_drap can extend the X axis or have different limits and underflows/overflows are present in the histogram reco_mass_i_basic_dphi_drap.\n",
      "Error in <TFileMerger::MergeRecursive>: calling Merge() on 'reco_mass_i_basic_dphi_drap' with the corresponding object in 'MuEle/Plots/AnalysisCrossCheck/CR/Higgs.root'\n",
      "Error in <TH1Merger::DifferentAxesMerge>: Cannot merge histograms - the histograms reco_mass_i_basic_dphi_drap_btag can extend the X axis or have different limits and underflows/overflows are present in the histogram reco_mass_i_basic_dphi_drap_btag.\n",
      "Error in <TFileMerger::MergeRecursive>: calling Merge() on 'reco_mass_i_basic_dphi_drap_btag' with the corresponding object in 'MuEle/Plots/AnalysisCrossCheck/CR/Higgs.root'\n",
      "Error in <TH1Merger::DifferentAxesMerge>: Cannot merge histograms - the histograms reco_mass_i_basic_dphi_drap_btag_iso can extend the X axis or have different limits and underflows/overflows are present in the histogram reco_mass_i_basic_dphi_drap_btag_iso.\n",
      "Error in <TFileMerger::MergeRecursive>: calling Merge() on 'reco_mass_i_basic_dphi_drap_btag_iso' with the corresponding object in 'MuEle/Plots/AnalysisCrossCheck/CR/Higgs.root'\n",
      "Error in <TH1Merger::DifferentAxesMerge>: Cannot merge histograms - the histograms reco_mass_o_basic can extend the X axis or have different limits and underflows/overflows are present in the histogram reco_mass_o_basic.\n",
      "Error in <TFileMerger::MergeRecursive>: calling Merge() on 'reco_mass_o_basic' with the corresponding object in 'MuEle/Plots/AnalysisCrossCheck/CR/Higgs.root'\n",
      "Error in <TH1Merger::DifferentAxesMerge>: Cannot merge histograms - the histograms reco_mass_o_basic_dphi can extend the X axis or have different limits and underflows/overflows are present in the histogram reco_mass_o_basic_dphi.\n",
      "Error in <TFileMerger::MergeRecursive>: calling Merge() on 'reco_mass_o_basic_dphi' with the corresponding object in 'MuEle/Plots/AnalysisCrossCheck/CR/Higgs.root'\n",
      "Error in <TH1Merger::DifferentAxesMerge>: Cannot merge histograms - the histograms reco_mass_o_basic_dphi_drap can extend the X axis or have different limits and underflows/overflows are present in the histogram reco_mass_o_basic_dphi_drap.\n",
      "Error in <TFileMerger::MergeRecursive>: calling Merge() on 'reco_mass_o_basic_dphi_drap' with the corresponding object in 'MuEle/Plots/AnalysisCrossCheck/CR/Higgs.root'\n",
      "Error in <TH1Merger::DifferentAxesMerge>: Cannot merge histograms - the histograms reco_mass_o_basic_dphi_drap_btag can extend the X axis or have different limits and underflows/overflows are present in the histogram reco_mass_o_basic_dphi_drap_btag.\n",
      "Error in <TFileMerger::MergeRecursive>: calling Merge() on 'reco_mass_o_basic_dphi_drap_btag' with the corresponding object in 'MuEle/Plots/AnalysisCrossCheck/CR/Higgs.root'\n",
      "Error in <TH1Merger::DifferentAxesMerge>: Cannot merge histograms - the histograms reco_mass_o_basic_dphi_drap_btag_iso can extend the X axis or have different limits and underflows/overflows are present in the histogram reco_mass_o_basic_dphi_drap_btag_iso.\n",
      "Error in <TFileMerger::MergeRecursive>: calling Merge() on 'reco_mass_o_basic_dphi_drap_btag_iso' with the corresponding object in 'MuEle/Plots/AnalysisCrossCheck/CR/Higgs.root'\n",
      "Error in <TH1Merger::DifferentAxesMerge>: Cannot merge histograms - the histograms reco_mass_i can extend the X axis or have different limits and underflows/overflows are present in the histogram reco_mass_i.\n",
      "Error in <TFileMerger::MergeRecursive>: calling Merge() on 'reco_mass_i' with the corresponding object in 'MuEle/Plots/AnalysisCrossCheck/CR/Higgs.root'\n",
      "Error in <TH1Merger::DifferentAxesMerge>: Cannot merge histograms - the histograms reco_mass_o can extend the X axis or have different limits and underflows/overflows are present in the histogram reco_mass_o.\n",
      "Error in <TFileMerger::MergeRecursive>: calling Merge() on 'reco_mass_o' with the corresponding object in 'MuEle/Plots/AnalysisCrossCheck/CR/Higgs.root'\n",
      "Error in <TH1Merger::DifferentAxesMerge>: Cannot merge histograms - the histograms reco_mass_ can extend the X axis or have different limits and underflows/overflows are present in the histogram reco_mass_.\n",
      "Error in <TFileMerger::MergeRecursive>: calling Merge() on 'reco_mass_' with the corresponding object in 'MuEle/Plots/AnalysisCrossCheck/CR/Higgs.root'\n"
     ]
    },
    {
     "name": "stdout",
     "output_type": "stream",
     "text": [
      "hadd Target file: TauTau/AnalysisCrossCheck/CR/Zjets.root\n",
      "hadd compression setting for all output: 1\n",
      "hadd Source file 1: TauTau/TauhadTaulep/AnalysisCrossCheck/CR/Zjets.root\n",
      "hadd Source file 2: MuEle/Plots/AnalysisCrossCheck/CR/Zjets.root\n",
      "hadd Target path: TauTau/AnalysisCrossCheck/CR/Zjets.root:/\n"
     ]
    },
    {
     "name": "stderr",
     "output_type": "stream",
     "text": [
      "Error in <TH1Merger::DifferentAxesMerge>: Cannot merge histograms - the histograms reco_mass_i_basic can extend the X axis or have different limits and underflows/overflows are present in the histogram reco_mass_i_basic.\n",
      "Error in <TFileMerger::MergeRecursive>: calling Merge() on 'reco_mass_i_basic' with the corresponding object in 'MuEle/Plots/AnalysisCrossCheck/CR/Zjets.root'\n",
      "Error in <TH1Merger::DifferentAxesMerge>: Cannot merge histograms - the histograms reco_mass_i_basic_dphi can extend the X axis or have different limits and underflows/overflows are present in the histogram reco_mass_i_basic_dphi.\n",
      "Error in <TFileMerger::MergeRecursive>: calling Merge() on 'reco_mass_i_basic_dphi' with the corresponding object in 'MuEle/Plots/AnalysisCrossCheck/CR/Zjets.root'\n",
      "Error in <TH1Merger::DifferentAxesMerge>: Cannot merge histograms - the histograms reco_mass_i_basic_dphi_drap can extend the X axis or have different limits and underflows/overflows are present in the histogram reco_mass_i_basic_dphi_drap.\n",
      "Error in <TFileMerger::MergeRecursive>: calling Merge() on 'reco_mass_i_basic_dphi_drap' with the corresponding object in 'MuEle/Plots/AnalysisCrossCheck/CR/Zjets.root'\n",
      "Error in <TH1Merger::DifferentAxesMerge>: Cannot merge histograms - the histograms reco_mass_i_basic_dphi_drap_btag can extend the X axis or have different limits and underflows/overflows are present in the histogram reco_mass_i_basic_dphi_drap_btag.\n",
      "Error in <TFileMerger::MergeRecursive>: calling Merge() on 'reco_mass_i_basic_dphi_drap_btag' with the corresponding object in 'MuEle/Plots/AnalysisCrossCheck/CR/Zjets.root'\n",
      "Error in <TH1Merger::DifferentAxesMerge>: Cannot merge histograms - the histograms reco_mass_i_basic_dphi_drap_btag_iso can extend the X axis or have different limits and underflows/overflows are present in the histogram reco_mass_i_basic_dphi_drap_btag_iso.\n",
      "Error in <TFileMerger::MergeRecursive>: calling Merge() on 'reco_mass_i_basic_dphi_drap_btag_iso' with the corresponding object in 'MuEle/Plots/AnalysisCrossCheck/CR/Zjets.root'\n",
      "Error in <TH1Merger::DifferentAxesMerge>: Cannot merge histograms - the histograms reco_mass_o_basic can extend the X axis or have different limits and underflows/overflows are present in the histogram reco_mass_o_basic.\n",
      "Error in <TFileMerger::MergeRecursive>: calling Merge() on 'reco_mass_o_basic' with the corresponding object in 'MuEle/Plots/AnalysisCrossCheck/CR/Zjets.root'\n",
      "Error in <TH1Merger::DifferentAxesMerge>: Cannot merge histograms - the histograms reco_mass_o_basic_dphi can extend the X axis or have different limits and underflows/overflows are present in the histogram reco_mass_o_basic_dphi.\n",
      "Error in <TFileMerger::MergeRecursive>: calling Merge() on 'reco_mass_o_basic_dphi' with the corresponding object in 'MuEle/Plots/AnalysisCrossCheck/CR/Zjets.root'\n",
      "Error in <TH1Merger::DifferentAxesMerge>: Cannot merge histograms - the histograms reco_mass_o_basic_dphi_drap can extend the X axis or have different limits and underflows/overflows are present in the histogram reco_mass_o_basic_dphi_drap.\n",
      "Error in <TFileMerger::MergeRecursive>: calling Merge() on 'reco_mass_o_basic_dphi_drap' with the corresponding object in 'MuEle/Plots/AnalysisCrossCheck/CR/Zjets.root'\n",
      "Error in <TH1Merger::DifferentAxesMerge>: Cannot merge histograms - the histograms reco_mass_o_basic_dphi_drap_btag can extend the X axis or have different limits and underflows/overflows are present in the histogram reco_mass_o_basic_dphi_drap_btag.\n",
      "Error in <TFileMerger::MergeRecursive>: calling Merge() on 'reco_mass_o_basic_dphi_drap_btag' with the corresponding object in 'MuEle/Plots/AnalysisCrossCheck/CR/Zjets.root'\n",
      "Error in <TH1Merger::DifferentAxesMerge>: Cannot merge histograms - the histograms reco_mass_o_basic_dphi_drap_btag_iso can extend the X axis or have different limits and underflows/overflows are present in the histogram reco_mass_o_basic_dphi_drap_btag_iso.\n",
      "Error in <TFileMerger::MergeRecursive>: calling Merge() on 'reco_mass_o_basic_dphi_drap_btag_iso' with the corresponding object in 'MuEle/Plots/AnalysisCrossCheck/CR/Zjets.root'\n",
      "Error in <TH1Merger::DifferentAxesMerge>: Cannot merge histograms - the histograms reco_mass_i can extend the X axis or have different limits and underflows/overflows are present in the histogram reco_mass_i.\n",
      "Error in <TFileMerger::MergeRecursive>: calling Merge() on 'reco_mass_i' with the corresponding object in 'MuEle/Plots/AnalysisCrossCheck/CR/Zjets.root'\n",
      "Error in <TH1Merger::DifferentAxesMerge>: Cannot merge histograms - the histograms reco_mass_ can extend the X axis or have different limits and underflows/overflows are present in the histogram reco_mass_.\n",
      "Error in <TFileMerger::MergeRecursive>: calling Merge() on 'reco_mass_' with the corresponding object in 'MuEle/Plots/AnalysisCrossCheck/CR/Zjets.root'\n"
     ]
    },
    {
     "name": "stdout",
     "output_type": "stream",
     "text": [
      "hadd Target file: TauTau/AnalysisCrossCheck/CR/Ztautau_SherpaRW.root\n",
      "hadd compression setting for all output: 1\n",
      "hadd Source file 1: TauTau/TauhadTaulep/AnalysisCrossCheck/CR/Ztautau_SherpaRW.root\n",
      "hadd Source file 2: MuEle/Plots/AnalysisCrossCheck/CR/Ztautau_SherpaRW.root\n",
      "hadd Target path: TauTau/AnalysisCrossCheck/CR/Ztautau_SherpaRW.root:/\n"
     ]
    },
    {
     "name": "stderr",
     "output_type": "stream",
     "text": [
      "Error in <TH1Merger::DifferentAxesMerge>: Cannot merge histograms - the histograms reco_mass_i_basic can extend the X axis or have different limits and underflows/overflows are present in the histogram reco_mass_i_basic.\n",
      "Error in <TFileMerger::MergeRecursive>: calling Merge() on 'reco_mass_i_basic' with the corresponding object in 'MuEle/Plots/AnalysisCrossCheck/CR/Ztautau_SherpaRW.root'\n",
      "Error in <TH1Merger::DifferentAxesMerge>: Cannot merge histograms - the histograms reco_mass_i_basic_dphi can extend the X axis or have different limits and underflows/overflows are present in the histogram reco_mass_i_basic_dphi.\n",
      "Error in <TFileMerger::MergeRecursive>: calling Merge() on 'reco_mass_i_basic_dphi' with the corresponding object in 'MuEle/Plots/AnalysisCrossCheck/CR/Ztautau_SherpaRW.root'\n",
      "Error in <TH1Merger::DifferentAxesMerge>: Cannot merge histograms - the histograms reco_mass_i_basic_dphi_drap can extend the X axis or have different limits and underflows/overflows are present in the histogram reco_mass_i_basic_dphi_drap.\n",
      "Error in <TFileMerger::MergeRecursive>: calling Merge() on 'reco_mass_i_basic_dphi_drap' with the corresponding object in 'MuEle/Plots/AnalysisCrossCheck/CR/Ztautau_SherpaRW.root'\n",
      "Error in <TH1Merger::DifferentAxesMerge>: Cannot merge histograms - the histograms reco_mass_i_basic_dphi_drap_btag can extend the X axis or have different limits and underflows/overflows are present in the histogram reco_mass_i_basic_dphi_drap_btag.\n",
      "Error in <TFileMerger::MergeRecursive>: calling Merge() on 'reco_mass_i_basic_dphi_drap_btag' with the corresponding object in 'MuEle/Plots/AnalysisCrossCheck/CR/Ztautau_SherpaRW.root'\n",
      "Error in <TH1Merger::DifferentAxesMerge>: Cannot merge histograms - the histograms reco_mass_i_basic_dphi_drap_btag_iso can extend the X axis or have different limits and underflows/overflows are present in the histogram reco_mass_i_basic_dphi_drap_btag_iso.\n",
      "Error in <TFileMerger::MergeRecursive>: calling Merge() on 'reco_mass_i_basic_dphi_drap_btag_iso' with the corresponding object in 'MuEle/Plots/AnalysisCrossCheck/CR/Ztautau_SherpaRW.root'\n",
      "Error in <TH1Merger::DifferentAxesMerge>: Cannot merge histograms - the histograms reco_mass_o_basic can extend the X axis or have different limits and underflows/overflows are present in the histogram reco_mass_o_basic.\n",
      "Error in <TFileMerger::MergeRecursive>: calling Merge() on 'reco_mass_o_basic' with the corresponding object in 'MuEle/Plots/AnalysisCrossCheck/CR/Ztautau_SherpaRW.root'\n",
      "Error in <TH1Merger::DifferentAxesMerge>: Cannot merge histograms - the histograms reco_mass_o_basic_dphi can extend the X axis or have different limits and underflows/overflows are present in the histogram reco_mass_o_basic_dphi.\n",
      "Error in <TFileMerger::MergeRecursive>: calling Merge() on 'reco_mass_o_basic_dphi' with the corresponding object in 'MuEle/Plots/AnalysisCrossCheck/CR/Ztautau_SherpaRW.root'\n",
      "Error in <TH1Merger::DifferentAxesMerge>: Cannot merge histograms - the histograms reco_mass_o_basic_dphi_drap can extend the X axis or have different limits and underflows/overflows are present in the histogram reco_mass_o_basic_dphi_drap.\n",
      "Error in <TFileMerger::MergeRecursive>: calling Merge() on 'reco_mass_o_basic_dphi_drap' with the corresponding object in 'MuEle/Plots/AnalysisCrossCheck/CR/Ztautau_SherpaRW.root'\n",
      "Error in <TH1Merger::DifferentAxesMerge>: Cannot merge histograms - the histograms reco_mass_o_basic_dphi_drap_btag can extend the X axis or have different limits and underflows/overflows are present in the histogram reco_mass_o_basic_dphi_drap_btag.\n",
      "Error in <TFileMerger::MergeRecursive>: calling Merge() on 'reco_mass_o_basic_dphi_drap_btag' with the corresponding object in 'MuEle/Plots/AnalysisCrossCheck/CR/Ztautau_SherpaRW.root'\n",
      "Error in <TH1Merger::DifferentAxesMerge>: Cannot merge histograms - the histograms reco_mass_o_basic_dphi_drap_btag_iso can extend the X axis or have different limits and underflows/overflows are present in the histogram reco_mass_o_basic_dphi_drap_btag_iso.\n",
      "Error in <TFileMerger::MergeRecursive>: calling Merge() on 'reco_mass_o_basic_dphi_drap_btag_iso' with the corresponding object in 'MuEle/Plots/AnalysisCrossCheck/CR/Ztautau_SherpaRW.root'\n",
      "Error in <TH1Merger::DifferentAxesMerge>: Cannot merge histograms - the histograms reco_mass_i can extend the X axis or have different limits and underflows/overflows are present in the histogram reco_mass_i.\n",
      "Error in <TFileMerger::MergeRecursive>: calling Merge() on 'reco_mass_i' with the corresponding object in 'MuEle/Plots/AnalysisCrossCheck/CR/Ztautau_SherpaRW.root'\n",
      "Error in <TH1Merger::DifferentAxesMerge>: Cannot merge histograms - the histograms reco_mass_o can extend the X axis or have different limits and underflows/overflows are present in the histogram reco_mass_o.\n",
      "Error in <TFileMerger::MergeRecursive>: calling Merge() on 'reco_mass_o' with the corresponding object in 'MuEle/Plots/AnalysisCrossCheck/CR/Ztautau_SherpaRW.root'\n",
      "Error in <TH1Merger::DifferentAxesMerge>: Cannot merge histograms - the histograms reco_mass_ can extend the X axis or have different limits and underflows/overflows are present in the histogram reco_mass_.\n",
      "Error in <TFileMerger::MergeRecursive>: calling Merge() on 'reco_mass_' with the corresponding object in 'MuEle/Plots/AnalysisCrossCheck/CR/Ztautau_SherpaRW.root'\n"
     ]
    },
    {
     "name": "stdout",
     "output_type": "stream",
     "text": [
      "hadd Target file: TauTau/AnalysisCrossCheck/CR/Ztautau_MGRW.root\n",
      "hadd compression setting for all output: 1\n",
      "hadd Source file 1: TauTau/TauhadTaulep/AnalysisCrossCheck/CR/Ztautau_MGRW.root\n",
      "hadd Source file 2: MuEle/Plots/AnalysisCrossCheck/CR/Ztautau_MGRW.root\n",
      "hadd Target path: TauTau/AnalysisCrossCheck/CR/Ztautau_MGRW.root:/\n"
     ]
    },
    {
     "name": "stderr",
     "output_type": "stream",
     "text": [
      "Error in <TH1Merger::DifferentAxesMerge>: Cannot merge histograms - the histograms reco_mass_i_basic can extend the X axis or have different limits and underflows/overflows are present in the histogram reco_mass_i_basic.\n",
      "Error in <TFileMerger::MergeRecursive>: calling Merge() on 'reco_mass_i_basic' with the corresponding object in 'MuEle/Plots/AnalysisCrossCheck/CR/Ztautau_MGRW.root'\n",
      "Error in <TH1Merger::DifferentAxesMerge>: Cannot merge histograms - the histograms reco_mass_i_basic_dphi can extend the X axis or have different limits and underflows/overflows are present in the histogram reco_mass_i_basic_dphi.\n",
      "Error in <TFileMerger::MergeRecursive>: calling Merge() on 'reco_mass_i_basic_dphi' with the corresponding object in 'MuEle/Plots/AnalysisCrossCheck/CR/Ztautau_MGRW.root'\n",
      "Error in <TH1Merger::DifferentAxesMerge>: Cannot merge histograms - the histograms reco_mass_i_basic_dphi_drap can extend the X axis or have different limits and underflows/overflows are present in the histogram reco_mass_i_basic_dphi_drap.\n",
      "Error in <TFileMerger::MergeRecursive>: calling Merge() on 'reco_mass_i_basic_dphi_drap' with the corresponding object in 'MuEle/Plots/AnalysisCrossCheck/CR/Ztautau_MGRW.root'\n",
      "Error in <TH1Merger::DifferentAxesMerge>: Cannot merge histograms - the histograms reco_mass_i_basic_dphi_drap_btag can extend the X axis or have different limits and underflows/overflows are present in the histogram reco_mass_i_basic_dphi_drap_btag.\n",
      "Error in <TFileMerger::MergeRecursive>: calling Merge() on 'reco_mass_i_basic_dphi_drap_btag' with the corresponding object in 'MuEle/Plots/AnalysisCrossCheck/CR/Ztautau_MGRW.root'\n",
      "Error in <TH1Merger::DifferentAxesMerge>: Cannot merge histograms - the histograms reco_mass_i_basic_dphi_drap_btag_iso can extend the X axis or have different limits and underflows/overflows are present in the histogram reco_mass_i_basic_dphi_drap_btag_iso.\n",
      "Error in <TFileMerger::MergeRecursive>: calling Merge() on 'reco_mass_i_basic_dphi_drap_btag_iso' with the corresponding object in 'MuEle/Plots/AnalysisCrossCheck/CR/Ztautau_MGRW.root'\n",
      "Error in <TH1Merger::DifferentAxesMerge>: Cannot merge histograms - the histograms reco_mass_o_basic can extend the X axis or have different limits and underflows/overflows are present in the histogram reco_mass_o_basic.\n",
      "Error in <TFileMerger::MergeRecursive>: calling Merge() on 'reco_mass_o_basic' with the corresponding object in 'MuEle/Plots/AnalysisCrossCheck/CR/Ztautau_MGRW.root'\n",
      "Error in <TH1Merger::DifferentAxesMerge>: Cannot merge histograms - the histograms reco_mass_o_basic_dphi can extend the X axis or have different limits and underflows/overflows are present in the histogram reco_mass_o_basic_dphi.\n",
      "Error in <TFileMerger::MergeRecursive>: calling Merge() on 'reco_mass_o_basic_dphi' with the corresponding object in 'MuEle/Plots/AnalysisCrossCheck/CR/Ztautau_MGRW.root'\n",
      "Error in <TH1Merger::DifferentAxesMerge>: Cannot merge histograms - the histograms reco_mass_o_basic_dphi_drap can extend the X axis or have different limits and underflows/overflows are present in the histogram reco_mass_o_basic_dphi_drap.\n",
      "Error in <TFileMerger::MergeRecursive>: calling Merge() on 'reco_mass_o_basic_dphi_drap' with the corresponding object in 'MuEle/Plots/AnalysisCrossCheck/CR/Ztautau_MGRW.root'\n",
      "Error in <TH1Merger::DifferentAxesMerge>: Cannot merge histograms - the histograms reco_mass_o_basic_dphi_drap_btag can extend the X axis or have different limits and underflows/overflows are present in the histogram reco_mass_o_basic_dphi_drap_btag.\n",
      "Error in <TFileMerger::MergeRecursive>: calling Merge() on 'reco_mass_o_basic_dphi_drap_btag' with the corresponding object in 'MuEle/Plots/AnalysisCrossCheck/CR/Ztautau_MGRW.root'\n",
      "Error in <TH1Merger::DifferentAxesMerge>: Cannot merge histograms - the histograms reco_mass_o_basic_dphi_drap_btag_iso can extend the X axis or have different limits and underflows/overflows are present in the histogram reco_mass_o_basic_dphi_drap_btag_iso.\n",
      "Error in <TFileMerger::MergeRecursive>: calling Merge() on 'reco_mass_o_basic_dphi_drap_btag_iso' with the corresponding object in 'MuEle/Plots/AnalysisCrossCheck/CR/Ztautau_MGRW.root'\n",
      "Error in <TH1Merger::DifferentAxesMerge>: Cannot merge histograms - the histograms reco_mass_i can extend the X axis or have different limits and underflows/overflows are present in the histogram reco_mass_i.\n",
      "Error in <TFileMerger::MergeRecursive>: calling Merge() on 'reco_mass_i' with the corresponding object in 'MuEle/Plots/AnalysisCrossCheck/CR/Ztautau_MGRW.root'\n",
      "Error in <TH1Merger::DifferentAxesMerge>: Cannot merge histograms - the histograms reco_mass_ can extend the X axis or have different limits and underflows/overflows are present in the histogram reco_mass_.\n",
      "Error in <TFileMerger::MergeRecursive>: calling Merge() on 'reco_mass_' with the corresponding object in 'MuEle/Plots/AnalysisCrossCheck/CR/Ztautau_MGRW.root'\n"
     ]
    }
   ],
   "source": [
    "ztt_path=\"TauTau/AnalysisCrossCheck/CR/\"\n",
    "zthth_path=\"TauTau/TauhadTaulep/AnalysisCrossCheck/CR/\"\n",
    "zemu_path=\"MuEle/Plots/AnalysisCrossCheck/CR/\"\n",
    "\n",
    "os.chdir(\"/Users/diegomac/Documents/HEP/VBF-Analysis/\")\n",
    "\n",
    "for s in range(0,len(output_names)):\n",
    "    os.system(\"hadd -f \"+ztt_path+output_names[s]+\" \"+zthth_path+sample_pairs[s][0]+\" \"+zemu_path+sample_pairs[s][1])"
   ]
  },
  {
   "cell_type": "code",
   "execution_count": null,
   "id": "e62aa838-9b9d-4ab8-babb-244e6d174cbf",
   "metadata": {},
   "outputs": [],
   "source": []
  },
  {
   "cell_type": "code",
   "execution_count": null,
   "id": "f1f387e1-b89d-49f5-a378-87c9f2c6ba94",
   "metadata": {},
   "outputs": [],
   "source": []
  }
 ],
 "metadata": {
  "kernelspec": {
   "display_name": "Python 3 (ipykernel)",
   "language": "python",
   "name": "python3"
  },
  "language_info": {
   "codemirror_mode": {
    "name": "ipython",
    "version": 3
   },
   "file_extension": ".py",
   "mimetype": "text/x-python",
   "name": "python",
   "nbconvert_exporter": "python",
   "pygments_lexer": "ipython3",
   "version": "3.10.5"
  },
  "vscode": {
   "interpreter": {
    "hash": "916dbcbb3f70747c44a77c7bcd40155683ae19c65e1c03b4aa3499c5328201f1"
   }
  }
 },
 "nbformat": 4,
 "nbformat_minor": 5
}
