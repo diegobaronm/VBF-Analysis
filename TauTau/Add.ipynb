{
 "cells": [
  {
   "cell_type": "markdown",
   "id": "22c8532f-ea4d-45ee-861e-b533d5daf8bc",
   "metadata": {},
   "source": [
    "# Add tau+mu and tau+e"
   ]
  },
  {
   "cell_type": "code",
   "execution_count": 19,
   "id": "72af6b14-7101-4d27-b807-55999db60f3d",
   "metadata": {
    "tags": []
   },
   "outputs": [],
   "source": [
    "import os\n",
    "sample_pairs=[(\"Data.root\",\"Data.root\"),(\"MC.root\",\"MC.root\"),(\"Signal_Sherpa.root\",\"Signal_Sherpa.root\"),\n",
    "             (\"Signal_PoPy.root\",\"Signal_PoPy.root\"),(\"singletop.root\",\"singletop.root\"),(\"ttbar.root\",\"ttbar.root\"),\n",
    "             (\"VV.root\",\"VV.root\"),(\"Wjets.root\",\"Wjets.root\"),(\"Higgs.root\",\"Higgs.root\"),(\"Zjets.root\",\"Zjet.root\"),\n",
    "              (\"W_EWK_Sherpa.root\",\"W_EWK_Sherpa.root\"),(\"W_EWK_PoPy.root\",\"W_EWK_PoPy.root\"),(\"VV_EWK.root\",\"VV_EWK.root\"),\n",
    "              (\"Ztautau_Sherpa.root\",\"Ztautau_Sherpa.root\"),(\"Ztautau_MG.root\",\"Ztautau_MG.root\"),\n",
    "             (\"Ztautau_SherpaNLO.root\",\"Ztautau_SherpaNLO.root\"),(\"Ztautau_MGNLO.root\",\"Ztautau_MGNLO.root\"),]\n",
    "output_names = [\"Data.root\",\"MC.root\",\"Signal_Sherpa.root\",\"Signal_PoPy.root\",\"singletop.root\",\"ttbar.root\",\"VV.root\",\n",
    "                \"Wjets.root\",\"Higgs.root\",\"Zjets.root\",\"W_EWK_Sherpa.root\",\"W_EWK_PoPy.root\",\"VV_EWK.root\",\n",
    "                \"Ztautau_SherpaRW.root\",\"Ztautau_MGRW.root\",\"Ztautau_SherpaNLORW.root\",\"Ztautau_MGNLORW.root\"]"
   ]
  },
  {
   "cell_type": "code",
   "execution_count": 20,
   "id": "1009ad9e-b1f5-4761-8bd7-3150a0818bb6",
   "metadata": {
    "tags": []
   },
   "outputs": [
    {
     "name": "stdout",
     "output_type": "stream",
     "text": [
      "hadd Target file: TauTau/TauhadTaulep/High-Mass/mTmrecoRatioMVAOS/Data.root\n",
      "hadd compression setting for all output: 1\n",
      "hadd Source file 1: EleTau/Plots/High-Mass/mTmrecoRatioMVAOS/Data.root\n",
      "hadd Source file 2: TauMu/Plots/High-Mass/mTmrecoRatioMVAOS/Data.root\n",
      "hadd Target path: TauTau/TauhadTaulep/High-Mass/mTmrecoRatioMVAOS/Data.root:/\n",
      "hadd Target file: TauTau/TauhadTaulep/High-Mass/mTmrecoRatioMVAOS/MC.root\n",
      "hadd compression setting for all output: 1\n",
      "hadd Source file 1: EleTau/Plots/High-Mass/mTmrecoRatioMVAOS/MC.root\n",
      "hadd Source file 2: TauMu/Plots/High-Mass/mTmrecoRatioMVAOS/MC.root\n",
      "hadd Target path: TauTau/TauhadTaulep/High-Mass/mTmrecoRatioMVAOS/MC.root:/\n",
      "hadd Target file: TauTau/TauhadTaulep/High-Mass/mTmrecoRatioMVAOS/Signal_Sherpa.root\n",
      "hadd compression setting for all output: 1\n",
      "hadd Source file 1: EleTau/Plots/High-Mass/mTmrecoRatioMVAOS/Signal_Sherpa.root\n",
      "hadd Source file 2: TauMu/Plots/High-Mass/mTmrecoRatioMVAOS/Signal_Sherpa.root\n",
      "hadd Target path: TauTau/TauhadTaulep/High-Mass/mTmrecoRatioMVAOS/Signal_Sherpa.root:/\n",
      "hadd Target file: TauTau/TauhadTaulep/High-Mass/mTmrecoRatioMVAOS/Signal_PoPy.root\n",
      "hadd compression setting for all output: 1\n",
      "hadd Source file 1: EleTau/Plots/High-Mass/mTmrecoRatioMVAOS/Signal_PoPy.root\n",
      "hadd Source file 2: TauMu/Plots/High-Mass/mTmrecoRatioMVAOS/Signal_PoPy.root\n",
      "hadd Target path: TauTau/TauhadTaulep/High-Mass/mTmrecoRatioMVAOS/Signal_PoPy.root:/\n",
      "hadd Target file: TauTau/TauhadTaulep/High-Mass/mTmrecoRatioMVAOS/singletop.root\n",
      "hadd compression setting for all output: 1\n",
      "hadd Source file 1: EleTau/Plots/High-Mass/mTmrecoRatioMVAOS/singletop.root\n",
      "hadd Source file 2: TauMu/Plots/High-Mass/mTmrecoRatioMVAOS/singletop.root\n",
      "hadd Target path: TauTau/TauhadTaulep/High-Mass/mTmrecoRatioMVAOS/singletop.root:/\n",
      "hadd Target file: TauTau/TauhadTaulep/High-Mass/mTmrecoRatioMVAOS/ttbar.root\n",
      "hadd compression setting for all output: 1\n",
      "hadd Source file 1: EleTau/Plots/High-Mass/mTmrecoRatioMVAOS/ttbar.root\n",
      "hadd Source file 2: TauMu/Plots/High-Mass/mTmrecoRatioMVAOS/ttbar.root\n",
      "hadd Target path: TauTau/TauhadTaulep/High-Mass/mTmrecoRatioMVAOS/ttbar.root:/\n",
      "hadd Target file: TauTau/TauhadTaulep/High-Mass/mTmrecoRatioMVAOS/VV.root\n",
      "hadd compression setting for all output: 1\n",
      "hadd Source file 1: EleTau/Plots/High-Mass/mTmrecoRatioMVAOS/VV.root\n",
      "hadd Source file 2: TauMu/Plots/High-Mass/mTmrecoRatioMVAOS/VV.root\n",
      "hadd Target path: TauTau/TauhadTaulep/High-Mass/mTmrecoRatioMVAOS/VV.root:/\n",
      "hadd Target file: TauTau/TauhadTaulep/High-Mass/mTmrecoRatioMVAOS/Wjets.root\n",
      "hadd compression setting for all output: 1\n",
      "hadd Source file 1: EleTau/Plots/High-Mass/mTmrecoRatioMVAOS/Wjets.root\n",
      "hadd Source file 2: TauMu/Plots/High-Mass/mTmrecoRatioMVAOS/Wjets.root\n",
      "hadd Target path: TauTau/TauhadTaulep/High-Mass/mTmrecoRatioMVAOS/Wjets.root:/\n",
      "hadd Target file: TauTau/TauhadTaulep/High-Mass/mTmrecoRatioMVAOS/Higgs.root\n",
      "hadd compression setting for all output: 1\n",
      "hadd Source file 1: EleTau/Plots/High-Mass/mTmrecoRatioMVAOS/Higgs.root\n",
      "hadd Source file 2: TauMu/Plots/High-Mass/mTmrecoRatioMVAOS/Higgs.root\n",
      "hadd Target path: TauTau/TauhadTaulep/High-Mass/mTmrecoRatioMVAOS/Higgs.root:/\n",
      "hadd Target file: TauTau/TauhadTaulep/High-Mass/mTmrecoRatioMVAOS/Zjets.root\n",
      "hadd compression setting for all output: 1\n",
      "hadd Source file 1: EleTau/Plots/High-Mass/mTmrecoRatioMVAOS/Zjets.root\n",
      "hadd Source file 2: TauMu/Plots/High-Mass/mTmrecoRatioMVAOS/Zjet.root\n",
      "hadd Target path: TauTau/TauhadTaulep/High-Mass/mTmrecoRatioMVAOS/Zjets.root:/\n",
      "hadd Target file: TauTau/TauhadTaulep/High-Mass/mTmrecoRatioMVAOS/W_EWK_Sherpa.root\n",
      "hadd compression setting for all output: 1\n",
      "hadd Source file 1: EleTau/Plots/High-Mass/mTmrecoRatioMVAOS/W_EWK_Sherpa.root\n",
      "hadd Source file 2: TauMu/Plots/High-Mass/mTmrecoRatioMVAOS/W_EWK_Sherpa.root\n",
      "hadd Target path: TauTau/TauhadTaulep/High-Mass/mTmrecoRatioMVAOS/W_EWK_Sherpa.root:/\n",
      "hadd Target file: TauTau/TauhadTaulep/High-Mass/mTmrecoRatioMVAOS/W_EWK_PoPy.root\n",
      "hadd compression setting for all output: 1\n",
      "hadd Source file 1: EleTau/Plots/High-Mass/mTmrecoRatioMVAOS/W_EWK_PoPy.root\n",
      "hadd Source file 2: TauMu/Plots/High-Mass/mTmrecoRatioMVAOS/W_EWK_PoPy.root\n",
      "hadd Target path: TauTau/TauhadTaulep/High-Mass/mTmrecoRatioMVAOS/W_EWK_PoPy.root:/\n",
      "hadd Target file: TauTau/TauhadTaulep/High-Mass/mTmrecoRatioMVAOS/VV_EWK.root\n",
      "hadd compression setting for all output: 1\n",
      "hadd Source file 1: EleTau/Plots/High-Mass/mTmrecoRatioMVAOS/VV_EWK.root\n",
      "hadd Source file 2: TauMu/Plots/High-Mass/mTmrecoRatioMVAOS/VV_EWK.root\n",
      "hadd Target path: TauTau/TauhadTaulep/High-Mass/mTmrecoRatioMVAOS/VV_EWK.root:/\n",
      "hadd Target file: TauTau/TauhadTaulep/High-Mass/mTmrecoRatioMVAOS/Ztautau_SherpaRW.root\n",
      "hadd compression setting for all output: 1\n",
      "hadd Source file 1: EleTau/Plots/High-Mass/mTmrecoRatioMVAOS/Ztautau_Sherpa.root\n",
      "hadd Source file 2: TauMu/Plots/High-Mass/mTmrecoRatioMVAOS/Ztautau_Sherpa.root\n",
      "hadd Target path: TauTau/TauhadTaulep/High-Mass/mTmrecoRatioMVAOS/Ztautau_SherpaRW.root:/\n",
      "hadd Target file: TauTau/TauhadTaulep/High-Mass/mTmrecoRatioMVAOS/Ztautau_MGRW.root\n",
      "hadd compression setting for all output: 1\n",
      "hadd Source file 1: EleTau/Plots/High-Mass/mTmrecoRatioMVAOS/Ztautau_MG.root\n",
      "hadd Source file 2: TauMu/Plots/High-Mass/mTmrecoRatioMVAOS/Ztautau_MG.root\n",
      "hadd Target path: TauTau/TauhadTaulep/High-Mass/mTmrecoRatioMVAOS/Ztautau_MGRW.root:/\n",
      "hadd Target file: TauTau/TauhadTaulep/High-Mass/mTmrecoRatioMVAOS/Ztautau_SherpaNLORW.root\n",
      "hadd compression setting for all output: 1\n",
      "hadd Source file 1: EleTau/Plots/High-Mass/mTmrecoRatioMVAOS/Ztautau_SherpaNLO.root\n",
      "hadd Source file 2: TauMu/Plots/High-Mass/mTmrecoRatioMVAOS/Ztautau_SherpaNLO.root\n",
      "hadd Target path: TauTau/TauhadTaulep/High-Mass/mTmrecoRatioMVAOS/Ztautau_SherpaNLORW.root:/\n",
      "hadd Target file: TauTau/TauhadTaulep/High-Mass/mTmrecoRatioMVAOS/Ztautau_MGNLORW.root\n",
      "hadd compression setting for all output: 1\n",
      "hadd Source file 1: EleTau/Plots/High-Mass/mTmrecoRatioMVAOS/Ztautau_MGNLO.root\n",
      "hadd Source file 2: TauMu/Plots/High-Mass/mTmrecoRatioMVAOS/Ztautau_MGNLO.root\n",
      "hadd Target path: TauTau/TauhadTaulep/High-Mass/mTmrecoRatioMVAOS/Ztautau_MGNLORW.root:/\n"
     ]
    }
   ],
   "source": [
    "ztt_path=\"TauTau/TauhadTaulep/High-Mass/mTmrecoRatioMVAOS/\"\n",
    "zte_path=\"EleTau/Plots/High-Mass/mTmrecoRatioMVAOS/\"\n",
    "ztm_path=\"TauMu/Plots/High-Mass/mTmrecoRatioMVAOS/\"\n",
    "\n",
    "os.chdir(\"/Users/diegomac/Documents/HEP/VBF-Analysis/\")\n",
    "\n",
    "for s in range(0,len(output_names)):\n",
    "    os.system(\"hadd -f \"+ztt_path+output_names[s]+\" \"+zte_path+sample_pairs[s][0]+\" \"+ztm_path+sample_pairs[s][1])"
   ]
  },
  {
   "cell_type": "code",
   "execution_count": null,
   "id": "e631f0c1-0018-4ba7-af22-23b78e86db05",
   "metadata": {},
   "outputs": [],
   "source": []
  },
  {
   "cell_type": "markdown",
   "id": "ca3b6ceb-db84-47dc-892a-1e4122ae8b1e",
   "metadata": {
    "tags": []
   },
   "source": [
    "## Add tau+lep and e+mu"
   ]
  },
  {
   "cell_type": "code",
   "execution_count": 6,
   "id": "98ade075-756c-44a1-86e4-be848b7d1351",
   "metadata": {},
   "outputs": [],
   "source": [
    "import os\n",
    "sample_pairs=[(\"Data.root\",\"Data.root\"),(\"MC.root\",\"MC.root\"),(\"Signal_Sherpa.root\",\"Signal_Sherpa.root\"),\n",
    "             (\"Signal_PoPy.root\",\"Signal_PoPy.root\"),(\"singletop.root\",\"singletop.root\"),(\"ttbar.root\",\"ttbar.root\"),\n",
    "             (\"VV.root\",\"VV.root\"),(\"Wjets.root\",\"Wjets.root\"),(\"Higgs.root\",\"Higgs.root\"),(\"Zjets.root\",\"Zjets.root\"),\n",
    "              (\"Ztautau_SherpaRW.root\",\"Ztautau_SherpaRW.root\"),\n",
    "             (\"Ztautau_MGRW.root\",\"Ztautau_MGRW.root\"),('W_EWK_Sherpa.root','W_EWK_Sherpa.root'),('W_EWK_PoPy.root','W_EWK_PoPy.root'),('VV_EWK.root','VV_EWK.root')]\n",
    "output_names = [\"Data.root\",\"MC.root\",\"Signal_Sherpa.root\",\"Signal_PoPy.root\",\"singletop.root\",\"ttbar.root\",\"VV.root\",\n",
    "                \"Wjets.root\",\"Higgs.root\",\"Zjets.root\",\"Ztautau_SherpaRW.root\",\"Ztautau_MGRW.root\",\"W_EWK_Sherpa.root\",\"W_EWK_PoPy.root\",\"VV_EWK.root\"]"
   ]
  },
  {
   "cell_type": "code",
   "execution_count": 7,
   "id": "07a5d23e",
   "metadata": {},
   "outputs": [
    {
     "name": "stdout",
     "output_type": "stream",
     "text": [
      "hadd Target file: TauTau/Z-peak/SR/Data.root\n",
      "hadd compression setting for all output: 1\n",
      "hadd Source file 1: TauTau/TauhadTaulep/Z-Peak/NoBugDeterministicBDTSR/Data.root\n",
      "hadd Source file 2: MuEle/Plots/Z-peak/SR/Data.root\n",
      "hadd Target path: TauTau/Z-peak/SR/Data.root:/\n",
      "hadd Target file: TauTau/Z-peak/SR/MC.root\n",
      "hadd compression setting for all output: 1\n",
      "hadd Source file 1: TauTau/TauhadTaulep/Z-Peak/NoBugDeterministicBDTSR/MC.root\n",
      "hadd Source file 2: MuEle/Plots/Z-peak/SR/MC.root\n",
      "hadd Target path: TauTau/Z-peak/SR/MC.root:/\n",
      "hadd Target file: TauTau/Z-peak/SR/Signal_Sherpa.root\n",
      "hadd compression setting for all output: 1\n",
      "hadd Source file 1: TauTau/TauhadTaulep/Z-Peak/NoBugDeterministicBDTSR/Signal_Sherpa.root\n",
      "hadd Source file 2: MuEle/Plots/Z-peak/SR/Signal_Sherpa.root\n",
      "hadd Target path: TauTau/Z-peak/SR/Signal_Sherpa.root:/\n",
      "hadd Target file: TauTau/Z-peak/SR/Signal_PoPy.root\n",
      "hadd compression setting for all output: 1\n",
      "hadd Source file 1: TauTau/TauhadTaulep/Z-Peak/NoBugDeterministicBDTSR/Signal_PoPy.root\n",
      "hadd Source file 2: MuEle/Plots/Z-peak/SR/Signal_PoPy.root\n",
      "hadd Target path: TauTau/Z-peak/SR/Signal_PoPy.root:/\n",
      "hadd Target file: TauTau/Z-peak/SR/singletop.root\n",
      "hadd compression setting for all output: 1\n",
      "hadd Source file 1: TauTau/TauhadTaulep/Z-Peak/NoBugDeterministicBDTSR/singletop.root\n",
      "hadd Source file 2: MuEle/Plots/Z-peak/SR/singletop.root\n",
      "hadd Target path: TauTau/Z-peak/SR/singletop.root:/\n",
      "hadd Target file: TauTau/Z-peak/SR/ttbar.root\n",
      "hadd compression setting for all output: 1\n",
      "hadd Source file 1: TauTau/TauhadTaulep/Z-Peak/NoBugDeterministicBDTSR/ttbar.root\n",
      "hadd Source file 2: MuEle/Plots/Z-peak/SR/ttbar.root\n",
      "hadd Target path: TauTau/Z-peak/SR/ttbar.root:/\n",
      "hadd Target file: TauTau/Z-peak/SR/VV.root\n",
      "hadd compression setting for all output: 1\n",
      "hadd Source file 1: TauTau/TauhadTaulep/Z-Peak/NoBugDeterministicBDTSR/VV.root\n",
      "hadd Source file 2: MuEle/Plots/Z-peak/SR/VV.root\n",
      "hadd Target path: TauTau/Z-peak/SR/VV.root:/\n",
      "hadd Target file: TauTau/Z-peak/SR/Wjets.root\n",
      "hadd compression setting for all output: 1\n",
      "hadd Source file 1: TauTau/TauhadTaulep/Z-Peak/NoBugDeterministicBDTSR/Wjets.root\n",
      "hadd Source file 2: MuEle/Plots/Z-peak/SR/Wjets.root\n",
      "hadd Target path: TauTau/Z-peak/SR/Wjets.root:/\n",
      "hadd Target file: TauTau/Z-peak/SR/Higgs.root\n",
      "hadd compression setting for all output: 1\n",
      "hadd Source file 1: TauTau/TauhadTaulep/Z-Peak/NoBugDeterministicBDTSR/Higgs.root\n",
      "hadd Source file 2: MuEle/Plots/Z-peak/SR/Higgs.root\n",
      "hadd Target path: TauTau/Z-peak/SR/Higgs.root:/\n",
      "hadd Target file: TauTau/Z-peak/SR/Zjets.root\n",
      "hadd compression setting for all output: 1\n",
      "hadd Source file 1: TauTau/TauhadTaulep/Z-Peak/NoBugDeterministicBDTSR/Zjets.root\n",
      "hadd Source file 2: MuEle/Plots/Z-peak/SR/Zjets.root\n",
      "hadd Target path: TauTau/Z-peak/SR/Zjets.root:/\n",
      "hadd Target file: TauTau/Z-peak/SR/Ztautau_SherpaRW.root\n",
      "hadd compression setting for all output: 1\n",
      "hadd Source file 1: TauTau/TauhadTaulep/Z-Peak/NoBugDeterministicBDTSR/Ztautau_SherpaRW.root\n",
      "hadd Source file 2: MuEle/Plots/Z-peak/SR/Ztautau_SherpaRW.root\n",
      "hadd Target path: TauTau/Z-peak/SR/Ztautau_SherpaRW.root:/\n",
      "hadd Target file: TauTau/Z-peak/SR/Ztautau_MGRW.root\n",
      "hadd compression setting for all output: 1\n",
      "hadd Source file 1: TauTau/TauhadTaulep/Z-Peak/NoBugDeterministicBDTSR/Ztautau_MGRW.root\n",
      "hadd Source file 2: MuEle/Plots/Z-peak/SR/Ztautau_MGRW.root\n",
      "hadd Target path: TauTau/Z-peak/SR/Ztautau_MGRW.root:/\n",
      "hadd Target file: TauTau/Z-peak/SR/W_EWK_Sherpa.root\n",
      "hadd compression setting for all output: 1\n",
      "hadd Source file 1: TauTau/TauhadTaulep/Z-Peak/NoBugDeterministicBDTSR/W_EWK_Sherpa.root\n",
      "hadd Source file 2: MuEle/Plots/Z-peak/SR/W_EWK_Sherpa.root\n",
      "hadd Target path: TauTau/Z-peak/SR/W_EWK_Sherpa.root:/\n",
      "hadd Target file: TauTau/Z-peak/SR/W_EWK_PoPy.root\n",
      "hadd compression setting for all output: 1\n",
      "hadd Source file 1: TauTau/TauhadTaulep/Z-Peak/NoBugDeterministicBDTSR/W_EWK_PoPy.root\n",
      "hadd Source file 2: MuEle/Plots/Z-peak/SR/W_EWK_PoPy.root\n",
      "hadd Target path: TauTau/Z-peak/SR/W_EWK_PoPy.root:/\n",
      "hadd Target file: TauTau/Z-peak/SR/VV_EWK.root\n",
      "hadd compression setting for all output: 1\n",
      "hadd Source file 1: TauTau/TauhadTaulep/Z-Peak/NoBugDeterministicBDTSR/VV_EWK.root\n",
      "hadd Source file 2: MuEle/Plots/Z-peak/SR/VV_EWK.root\n",
      "hadd Target path: TauTau/Z-peak/SR/VV_EWK.root:/\n"
     ]
    }
   ],
   "source": [
    "ztt_path=\"TauTau/Z-peak/SR/\"\n",
    "zthth_path=\"TauTau/TauhadTaulep/Z-Peak/NoBugDeterministicBDTSR/\"\n",
    "zemu_path=\"MuEle/Plots/Z-peak/SR/\"\n",
    "\n",
    "os.chdir(\"/Users/diegomac/Documents/HEP/VBF-Analysis/\")\n",
    "\n",
    "for s in range(0,len(output_names)):\n",
    "    os.system(\"hadd -f \"+ztt_path+output_names[s]+\" \"+zthth_path+sample_pairs[s][0]+\" \"+zemu_path+sample_pairs[s][1])"
   ]
  },
  {
   "cell_type": "code",
   "execution_count": null,
   "id": "e62aa838-9b9d-4ab8-babb-244e6d174cbf",
   "metadata": {},
   "outputs": [],
   "source": []
  },
  {
   "cell_type": "code",
   "execution_count": null,
   "id": "f1f387e1-b89d-49f5-a378-87c9f2c6ba94",
   "metadata": {},
   "outputs": [],
   "source": []
  }
 ],
 "metadata": {
  "kernelspec": {
   "display_name": "Python 3 (ipykernel)",
   "language": "python",
   "name": "python3"
  },
  "language_info": {
   "codemirror_mode": {
    "name": "ipython",
    "version": 3
   },
   "file_extension": ".py",
   "mimetype": "text/x-python",
   "name": "python",
   "nbconvert_exporter": "python",
   "pygments_lexer": "ipython3",
   "version": "3.10.5"
  },
  "vscode": {
   "interpreter": {
    "hash": "916dbcbb3f70747c44a77c7bcd40155683ae19c65e1c03b4aa3499c5328201f1"
   }
  }
 },
 "nbformat": 4,
 "nbformat_minor": 5
}
