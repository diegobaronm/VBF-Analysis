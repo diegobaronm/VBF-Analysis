{
 "cells": [
  {
   "cell_type": "code",
   "execution_count": 6,
   "id": "fbee271c-32a7-4cc9-85ce-c70a25e019c0",
   "metadata": {},
   "outputs": [],
   "source": [
    "import ROOT as r"
   ]
  },
  {
   "cell_type": "code",
   "execution_count": 7,
   "id": "20a18d9e-1130-471d-892e-310a5ebb3772",
   "metadata": {},
   "outputs": [
    {
     "ename": "TypeError",
     "evalue": "none of the 2 overloaded methods succeeded. Full details:\n  static TFile* TFile::Open(TFileOpenHandle* handle) =>\n    TypeError: takes at least 1 arguments (0 given)\n  static TFile* TFile::Open(const char* name, const char* option = \"\", const char* ftitle = \"\", int compress = ROOT::RCompressionSetting::EDefaults::kUseCompiledDefault, int netopt = 0) =>\n    TypeError: takes at least 1 arguments (0 given)",
     "output_type": "error",
     "traceback": [
      "\u001b[0;31m---------------------------------------------------------------------------\u001b[0m",
      "\u001b[0;31mTypeError\u001b[0m                                 Traceback (most recent call last)",
      "Input \u001b[0;32mIn [7]\u001b[0m, in \u001b[0;36m<cell line: 1>\u001b[0;34m()\u001b[0m\n\u001b[0;32m----> 1\u001b[0m \u001b[43mr\u001b[49m\u001b[38;5;241;43m.\u001b[39;49m\u001b[43mTFile\u001b[49m\u001b[38;5;241;43m.\u001b[39;49m\u001b[43mOpen\u001b[49m\u001b[43m(\u001b[49m\u001b[43m)\u001b[49m\n",
      "File \u001b[0;32m/opt/homebrew/Cellar/root/6.26.04_1/lib/root/ROOT/_pythonization/_tfile.py:64\u001b[0m, in \u001b[0;36m_TFileOpen\u001b[0;34m(klass, *args)\u001b[0m\n\u001b[1;32m     57\u001b[0m \u001b[38;5;28;01mdef\u001b[39;00m \u001b[38;5;21m_TFileOpen\u001b[39m(klass, \u001b[38;5;241m*\u001b[39margs):\n\u001b[1;32m     58\u001b[0m     \u001b[38;5;66;03m# Redefinition of ROOT.TFile.Open(str, ...):\u001b[39;00m\n\u001b[1;32m     59\u001b[0m     \u001b[38;5;66;03m# check if the instance of TFile is a C++ nullptr and raise a\u001b[39;00m\n\u001b[0;32m   (...)\u001b[0m\n\u001b[1;32m     62\u001b[0m     \u001b[38;5;66;03m# klass: TFile class\u001b[39;00m\n\u001b[1;32m     63\u001b[0m     \u001b[38;5;66;03m# *args: arguments passed to the constructor\u001b[39;00m\n\u001b[0;32m---> 64\u001b[0m     f \u001b[38;5;241m=\u001b[39m \u001b[43mklass\u001b[49m\u001b[38;5;241;43m.\u001b[39;49m\u001b[43m_OriginalOpen\u001b[49m\u001b[43m(\u001b[49m\u001b[38;5;241;43m*\u001b[39;49m\u001b[43margs\u001b[49m\u001b[43m)\u001b[49m\n\u001b[1;32m     65\u001b[0m     \u001b[38;5;28;01mif\u001b[39;00m f \u001b[38;5;241m==\u001b[39m bind_object(\u001b[38;5;241m0\u001b[39m, klass):\n\u001b[1;32m     66\u001b[0m         \u001b[38;5;66;03m# args[0] can be either a string or a TFileOpenHandle\u001b[39;00m\n\u001b[1;32m     67\u001b[0m         \u001b[38;5;28;01mraise\u001b[39;00m \u001b[38;5;167;01mOSError\u001b[39;00m(\u001b[38;5;124m'\u001b[39m\u001b[38;5;124mFailed to open file \u001b[39m\u001b[38;5;132;01m{}\u001b[39;00m\u001b[38;5;124m'\u001b[39m\u001b[38;5;241m.\u001b[39mformat(\u001b[38;5;28mstr\u001b[39m(args[\u001b[38;5;241m0\u001b[39m])))\n",
      "\u001b[0;31mTypeError\u001b[0m: none of the 2 overloaded methods succeeded. Full details:\n  static TFile* TFile::Open(TFileOpenHandle* handle) =>\n    TypeError: takes at least 1 arguments (0 given)\n  static TFile* TFile::Open(const char* name, const char* option = \"\", const char* ftitle = \"\", int compress = ROOT::RCompressionSetting::EDefaults::kUseCompiledDefault, int netopt = 0) =>\n    TypeError: takes at least 1 arguments (0 given)"
     ]
    }
   ],
   "source": [
    "r.TFile.Open()"
   ]
  },
  {
   "cell_type": "code",
   "execution_count": null,
   "id": "0dda7e0b-8db2-4391-b739-f8c806a7bd96",
   "metadata": {},
   "outputs": [],
   "source": []
  }
 ],
 "metadata": {
  "kernelspec": {
   "display_name": "Python 3 (ipykernel)",
   "language": "python",
   "name": "python3"
  },
  "language_info": {
   "codemirror_mode": {
    "name": "ipython",
    "version": 3
   },
   "file_extension": ".py",
   "mimetype": "text/x-python",
   "name": "python",
   "nbconvert_exporter": "python",
   "pygments_lexer": "ipython3",
   "version": "3.9.13"
  }
 },
 "nbformat": 4,
 "nbformat_minor": 5
}
