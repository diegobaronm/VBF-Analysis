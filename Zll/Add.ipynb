{
 "cells": [
  {
   "cell_type": "code",
   "execution_count": 13,
   "id": "72af6b14-7101-4d27-b807-55999db60f3d",
   "metadata": {
    "tags": []
   },
   "outputs": [],
   "source": [
    "import os\n",
    "regions=[\"\"]\n",
    "sample_pairs=[(\"Data.root\",\"Data.root\"),(\"MC.root\",\"MC.root\"),(\"Signal_Sherpa.root\",\"Signal_Sherpa.root\"),\n",
    "             (\"Signal_PoPy.root\",\"Signal_PoPy.root\"),(\"singletop.root\",\"singletop.root\"),(\"ttbar.root\",\"ttbar.root\"),\n",
    "             (\"VV.root\",\"VV.root\"),(\"Wjets.root\",\"Wjets.root\"),(\"Zmumu_SherpaRW.root\",\"Zee_SherpaRW.root\"),\n",
    "             (\"Zmumu_MGRW.root\",\"Zee_MGRW.root\"),(\"Zmumu_SherpaNLO.root\",\"Zee_SherpaNLO.root\"),(\"Zmumu_MGNLO.root\",\"Zee_MGNLO.root\")]\n",
    "output_names = [\"Data.root\",\"MC.root\",\"Signal_Sherpa.root\",\"Signal_PoPy.root\",\"singletop.root\",\"ttbar.root\",\"VV.root\",\"Wjets.root\",\"Zll_SherpaRW.root\",\"Zll_MGRW.root\",\"Zll_SherpaNLO.root\",\"Zll_MGNLO.root\"]"
   ]
  },
  {
   "cell_type": "code",
   "execution_count": 14,
   "id": "1009ad9e-b1f5-4761-8bd7-3150a0818bb6",
   "metadata": {
    "tags": []
   },
   "outputs": [
    {
     "name": "stdout",
     "output_type": "stream",
     "text": [
      "hadd Target file: Zll/InclusiveHM/SRSS/Data.root\n",
      "hadd compression setting for all output: 1\n",
      "hadd Source file 1: Zee/Plots/InclusiveHM/SRSS/Data.root\n",
      "hadd Source file 2: MuMu/Plots/InclusiveHM/SRSS/Data.root\n",
      "hadd Target path: Zll/InclusiveHM/SRSS/Data.root:/\n",
      "hadd Target file: Zll/InclusiveHM/SRSS/MC.root\n",
      "hadd compression setting for all output: 1\n",
      "hadd Source file 1: Zee/Plots/InclusiveHM/SRSS/MC.root\n",
      "hadd Source file 2: MuMu/Plots/InclusiveHM/SRSS/MC.root\n",
      "hadd Target path: Zll/InclusiveHM/SRSS/MC.root:/\n",
      "hadd Target file: Zll/InclusiveHM/SRSS/Signal_Sherpa.root\n",
      "hadd compression setting for all output: 1\n",
      "hadd Source file 1: Zee/Plots/InclusiveHM/SRSS/Signal_Sherpa.root\n",
      "hadd Source file 2: MuMu/Plots/InclusiveHM/SRSS/Signal_Sherpa.root\n",
      "hadd Target path: Zll/InclusiveHM/SRSS/Signal_Sherpa.root:/\n",
      "hadd Target file: Zll/InclusiveHM/SRSS/Signal_PoPy.root\n",
      "hadd compression setting for all output: 1\n",
      "hadd Source file 1: Zee/Plots/InclusiveHM/SRSS/Signal_PoPy.root\n",
      "hadd Source file 2: MuMu/Plots/InclusiveHM/SRSS/Signal_PoPy.root\n",
      "hadd Target path: Zll/InclusiveHM/SRSS/Signal_PoPy.root:/\n",
      "hadd Target file: Zll/InclusiveHM/SRSS/singletop.root\n",
      "hadd compression setting for all output: 1\n",
      "hadd Source file 1: Zee/Plots/InclusiveHM/SRSS/singletop.root\n",
      "hadd Source file 2: MuMu/Plots/InclusiveHM/SRSS/singletop.root\n",
      "hadd Target path: Zll/InclusiveHM/SRSS/singletop.root:/\n",
      "hadd Target file: Zll/InclusiveHM/SRSS/ttbar.root\n",
      "hadd compression setting for all output: 1\n",
      "hadd Source file 1: Zee/Plots/InclusiveHM/SRSS/ttbar.root\n",
      "hadd Source file 2: MuMu/Plots/InclusiveHM/SRSS/ttbar.root\n",
      "hadd Target path: Zll/InclusiveHM/SRSS/ttbar.root:/\n",
      "hadd Target file: Zll/InclusiveHM/SRSS/VV.root\n",
      "hadd compression setting for all output: 1\n",
      "hadd Source file 1: Zee/Plots/InclusiveHM/SRSS/VV.root\n",
      "hadd Source file 2: MuMu/Plots/InclusiveHM/SRSS/VV.root\n",
      "hadd Target path: Zll/InclusiveHM/SRSS/VV.root:/\n",
      "hadd Target file: Zll/InclusiveHM/SRSS/Wjets.root\n",
      "hadd compression setting for all output: 1\n",
      "hadd Source file 1: Zee/Plots/InclusiveHM/SRSS/Wjets.root\n",
      "hadd Source file 2: MuMu/Plots/InclusiveHM/SRSS/Wjets.root\n",
      "hadd Target path: Zll/InclusiveHM/SRSS/Wjets.root:/\n",
      "hadd Target file: Zll/InclusiveHM/SRSS/Zll_SherpaRW.root\n",
      "hadd compression setting for all output: 1\n",
      "hadd Source file 1: Zee/Plots/InclusiveHM/SRSS/Zee_SherpaRW.root\n",
      "hadd Source file 2: MuMu/Plots/InclusiveHM/SRSS/Zmumu_SherpaRW.root\n",
      "hadd Target path: Zll/InclusiveHM/SRSS/Zll_SherpaRW.root:/\n",
      "hadd Target file: Zll/InclusiveHM/SRSS/Zll_MGRW.root\n",
      "hadd compression setting for all output: 1\n",
      "hadd Source file 1: Zee/Plots/InclusiveHM/SRSS/Zee_MGRW.root\n",
      "hadd Source file 2: MuMu/Plots/InclusiveHM/SRSS/Zmumu_MGRW.root\n",
      "hadd Target path: Zll/InclusiveHM/SRSS/Zll_MGRW.root:/\n",
      "hadd Target file: Zll/InclusiveHM/SRSS/Zll_SherpaNLO.root\n",
      "hadd compression setting for all output: 1\n",
      "hadd Source file 1: Zee/Plots/InclusiveHM/SRSS/Zee_SherpaNLO.root\n",
      "hadd Source file 2: MuMu/Plots/InclusiveHM/SRSS/Zmumu_SherpaNLO.root\n",
      "hadd Target path: Zll/InclusiveHM/SRSS/Zll_SherpaNLO.root:/\n",
      "hadd Target file: Zll/InclusiveHM/SRSS/Zll_MGNLO.root\n",
      "hadd compression setting for all output: 1\n",
      "hadd Source file 1: Zee/Plots/InclusiveHM/SRSS/Zee_MGNLO.root\n",
      "hadd Source file 2: MuMu/Plots/InclusiveHM/SRSS/Zmumu_MGNLO.root\n",
      "hadd Target path: Zll/InclusiveHM/SRSS/Zll_MGNLO.root:/\n"
     ]
    }
   ],
   "source": [
    "zll_path=\"Zll/InclusiveHM/SRSS/\"\n",
    "zee_path=\"Zee/Plots/InclusiveHM/SRSS/\"\n",
    "zmm_path=\"MuMu/Plots/InclusiveHM/SRSS/\"\n",
    "\n",
    "os.chdir(\"/Users/diegomac/Documents/HEP/VBF-Analysis/\")\n",
    "for r in regions:\n",
    "    for s in range(0,len(output_names)):\n",
    "        os.system(\"hadd \"+zll_path+r+output_names[s]+\" \"+zee_path+r+sample_pairs[s][1]+\" \"+zmm_path+r+sample_pairs[s][0])"
   ]
  },
  {
   "cell_type": "code",
   "execution_count": null,
   "id": "98ade075-756c-44a1-86e4-be848b7d1351",
   "metadata": {},
   "outputs": [],
   "source": []
  },
  {
   "cell_type": "code",
   "execution_count": null,
   "id": "07a5d23e",
   "metadata": {},
   "outputs": [],
   "source": []
  }
 ],
 "metadata": {
  "kernelspec": {
   "display_name": "Python 3 (ipykernel)",
   "language": "python",
   "name": "python3"
  },
  "language_info": {
   "codemirror_mode": {
    "name": "ipython",
    "version": 3
   },
   "file_extension": ".py",
   "mimetype": "text/x-python",
   "name": "python",
   "nbconvert_exporter": "python",
   "pygments_lexer": "ipython3",
   "version": "3.10.5"
  },
  "vscode": {
   "interpreter": {
    "hash": "916dbcbb3f70747c44a77c7bcd40155683ae19c65e1c03b4aa3499c5328201f1"
   }
  }
 },
 "nbformat": 4,
 "nbformat_minor": 5
}
