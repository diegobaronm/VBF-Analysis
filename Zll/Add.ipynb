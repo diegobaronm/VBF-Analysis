{
 "cells": [
  {
   "cell_type": "code",
   "execution_count": 39,
   "id": "72af6b14-7101-4d27-b807-55999db60f3d",
   "metadata": {
    "tags": []
   },
   "outputs": [],
   "source": [
    "import os\n",
    "regions=[\"SuperCR/\"]\n",
    "sample_pairs=[(\"Data.root\",\"Data.root\"),(\"MC.root\",\"MC.root\"),(\"Signal_Sherpa.root\",\"Signal_Sherpa.root\"),\n",
    "             (\"Signal_PoPy.root\",\"Signal_PoPy.root\"),(\"singletop.root\",\"singletop.root\"),(\"ttbar.root\",\"ttbar.root\"),\n",
    "             (\"VV.root\",\"VV.root\"),(\"Wjets.root\",\"Wjets.root\"),(\"Zmumu_Sherpa.root\",\"Zee_Sherpa.root\"),\n",
    "             (\"Zmumu_MG.root\",\"Zee_MG.root\"),(\"Zmumu_SherpaRW.root\",\"Zee_SherpaRW.root\"),\n",
    "             (\"Zmumu_MGRW.root\",\"Zee_MGRW.root\")]\n",
    "output_names = [\"Data.root\",\"MC.root\",\"Signal_Sherpa.root\",\"Signal_PoPy.root\",\"singletop.root\",\"ttbar.root\",\"VV.root\",\"Wjets.root\",\"Zll_Sherpa.root\",\"Zll_MG.root\",\"Zll_SherpaRW.root\",\"Zll_MGRW.root\"]"
   ]
  },
  {
   "cell_type": "code",
   "execution_count": 41,
   "id": "1009ad9e-b1f5-4761-8bd7-3150a0818bb6",
   "metadata": {
    "tags": []
   },
   "outputs": [
    {
     "name": "stdout",
     "output_type": "stream",
     "text": [
      "hadd Target file: Zll/High-Mass/SuperCR/Data.root\n",
      "hadd compression setting for all output: 1\n",
      "hadd Source file 1: Zee/Plots/High-Mass/SuperCR/Data.root\n",
      "hadd Source file 2: MuMu/Plots/High-Mass/SuperCR/Data.root\n",
      "hadd Target path: Zll/High-Mass/SuperCR/Data.root:/\n",
      "hadd Target file: Zll/High-Mass/SuperCR/MC.root\n",
      "hadd compression setting for all output: 1\n",
      "hadd Source file 1: Zee/Plots/High-Mass/SuperCR/MC.root\n",
      "hadd Source file 2: MuMu/Plots/High-Mass/SuperCR/MC.root\n",
      "hadd Target path: Zll/High-Mass/SuperCR/MC.root:/\n",
      "hadd Target file: Zll/High-Mass/SuperCR/Signal_Sherpa.root\n",
      "hadd compression setting for all output: 1\n",
      "hadd Source file 1: Zee/Plots/High-Mass/SuperCR/Signal_Sherpa.root\n",
      "hadd Source file 2: MuMu/Plots/High-Mass/SuperCR/Signal_Sherpa.root\n",
      "hadd Target path: Zll/High-Mass/SuperCR/Signal_Sherpa.root:/\n",
      "hadd Target file: Zll/High-Mass/SuperCR/Signal_PoPy.root\n",
      "hadd compression setting for all output: 1\n",
      "hadd Source file 1: Zee/Plots/High-Mass/SuperCR/Signal_PoPy.root\n",
      "hadd Source file 2: MuMu/Plots/High-Mass/SuperCR/Signal_PoPy.root\n",
      "hadd Target path: Zll/High-Mass/SuperCR/Signal_PoPy.root:/\n",
      "hadd Target file: Zll/High-Mass/SuperCR/singletop.root\n",
      "hadd compression setting for all output: 1\n",
      "hadd Source file 1: Zee/Plots/High-Mass/SuperCR/singletop.root\n",
      "hadd Source file 2: MuMu/Plots/High-Mass/SuperCR/singletop.root\n",
      "hadd Target path: Zll/High-Mass/SuperCR/singletop.root:/\n",
      "hadd Target file: Zll/High-Mass/SuperCR/ttbar.root\n",
      "hadd compression setting for all output: 1\n",
      "hadd Source file 1: Zee/Plots/High-Mass/SuperCR/ttbar.root\n",
      "hadd Source file 2: MuMu/Plots/High-Mass/SuperCR/ttbar.root\n",
      "hadd Target path: Zll/High-Mass/SuperCR/ttbar.root:/\n",
      "hadd Target file: Zll/High-Mass/SuperCR/VV.root\n",
      "hadd compression setting for all output: 1\n",
      "hadd Source file 1: Zee/Plots/High-Mass/SuperCR/VV.root\n",
      "hadd Source file 2: MuMu/Plots/High-Mass/SuperCR/VV.root\n",
      "hadd Target path: Zll/High-Mass/SuperCR/VV.root:/\n",
      "hadd Target file: Zll/High-Mass/SuperCR/Wjets.root\n",
      "hadd compression setting for all output: 1\n",
      "hadd Source file 1: Zee/Plots/High-Mass/SuperCR/Wjets.root\n",
      "hadd Source file 2: MuMu/Plots/High-Mass/SuperCR/Wjets.root\n",
      "hadd Target path: Zll/High-Mass/SuperCR/Wjets.root:/\n",
      "hadd Target file: Zll/High-Mass/SuperCR/Zll_Sherpa.root\n",
      "hadd compression setting for all output: 1\n",
      "hadd Source file 1: Zee/Plots/High-Mass/SuperCR/Zee_Sherpa.root\n",
      "hadd Source file 2: MuMu/Plots/High-Mass/SuperCR/Zmumu_Sherpa.root\n",
      "hadd Target path: Zll/High-Mass/SuperCR/Zll_Sherpa.root:/\n",
      "hadd Target file: Zll/High-Mass/SuperCR/Zll_MG.root\n",
      "hadd compression setting for all output: 1\n",
      "hadd Source file 1: Zee/Plots/High-Mass/SuperCR/Zee_MG.root\n",
      "hadd Source file 2: MuMu/Plots/High-Mass/SuperCR/Zmumu_MG.root\n",
      "hadd Target path: Zll/High-Mass/SuperCR/Zll_MG.root:/\n",
      "hadd Target file: Zll/High-Mass/SuperCR/Zll_SherpaRW.root\n",
      "hadd compression setting for all output: 1\n",
      "hadd Source file 1: Zee/Plots/High-Mass/SuperCR/Zee_SherpaRW.root\n"
     ]
    },
    {
     "name": "stderr",
     "output_type": "stream",
     "text": [
      "Error in <TFile::TFile>: file /Users/diegomac/Documents/HEP/VBF-Analysis/Zee/Plots/High-Mass/SuperCR/Zee_SherpaRW.root does not exist\n",
      "Error in <TFileMerger::AddFile>: cannot open file Zee/Plots/High-Mass/SuperCR/Zee_SherpaRW.root\n",
      "hadd exiting due to error in Zee/Plots/High-Mass/SuperCR/Zee_SherpaRW.root\n"
     ]
    },
    {
     "name": "stdout",
     "output_type": "stream",
     "text": [
      "hadd Target file: Zll/High-Mass/SuperCR/Zll_MGRW.root\n",
      "hadd compression setting for all output: 1\n",
      "hadd Source file 1: Zee/Plots/High-Mass/SuperCR/Zee_MGRW.root\n"
     ]
    },
    {
     "name": "stderr",
     "output_type": "stream",
     "text": [
      "Error in <TFile::TFile>: file /Users/diegomac/Documents/HEP/VBF-Analysis/Zee/Plots/High-Mass/SuperCR/Zee_MGRW.root does not exist\n",
      "Error in <TFileMerger::AddFile>: cannot open file Zee/Plots/High-Mass/SuperCR/Zee_MGRW.root\n",
      "hadd exiting due to error in Zee/Plots/High-Mass/SuperCR/Zee_MGRW.root\n"
     ]
    }
   ],
   "source": [
    "zll_path=\"Zll/High-Mass/\"\n",
    "zee_path=\"Zee/Plots/High-Mass/\"\n",
    "zmm_path=\"MuMu/Plots/High-Mass/\"\n",
    "\n",
    "os.chdir(\"/Users/diegomac/Documents/HEP/VBF-Analysis/\")\n",
    "for r in regions:\n",
    "    for s in range(0,len(output_names)):\n",
    "        os.system(\"hadd \"+zll_path+r+output_names[s]+\" \"+zee_path+r+sample_pairs[s][1]+\" \"+zmm_path+r+sample_pairs[s][0])"
   ]
  },
  {
   "cell_type": "code",
   "execution_count": null,
   "id": "98ade075-756c-44a1-86e4-be848b7d1351",
   "metadata": {},
   "outputs": [],
   "source": []
  },
  {
   "cell_type": "code",
   "execution_count": null,
   "id": "07a5d23e",
   "metadata": {},
   "outputs": [],
   "source": []
  }
 ],
 "metadata": {
  "kernelspec": {
   "display_name": "Python 3 (ipykernel)",
   "language": "python",
   "name": "python3"
  },
  "language_info": {
   "codemirror_mode": {
    "name": "ipython",
    "version": 3
   },
   "file_extension": ".py",
   "mimetype": "text/x-python",
   "name": "python",
   "nbconvert_exporter": "python",
   "pygments_lexer": "ipython3",
   "version": "3.10.5"
  },
  "vscode": {
   "interpreter": {
    "hash": "916dbcbb3f70747c44a77c7bcd40155683ae19c65e1c03b4aa3499c5328201f1"
   }
  }
 },
 "nbformat": 4,
 "nbformat_minor": 5
}
