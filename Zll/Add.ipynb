{
 "cells": [
  {
   "cell_type": "code",
   "execution_count": 7,
   "id": "72af6b14-7101-4d27-b807-55999db60f3d",
   "metadata": {},
   "outputs": [],
   "source": [
    "import os\n",
    "\n",
    "regions=[\"CRa/\",\"CRb/\",\"CRc/\"]\n",
    "sample_pairs=[(\"Data.root\",\"Data.root\"),(\"MC.root\",\"MC.root\"),(\"Signal_Sherpa.root\",\"Signal_Sherpa.root\"),\n",
    "             (\"Signal_PoPy.root\",\"Signal_PoPy.root\"),(\"singletop.root\",\"singletop.root\"),(\"ttbar.root\",\"ttbar.root\"),\n",
    "             (\"VV.root\",\"VV.root\"),(\"Wjets.root\",\"Wjets.root\"),(\"Zmumu_Sherpa.root\",\"Zee_Sherpa.root\"),\n",
    "             (\"Zmumu_MG.root\",\"Zee_MG.root\")]\n",
    "output_names = [\"Data.root\",\"MC.root\",\"Signa_Sherpa.root\",\"Signal_PoPy.root\",\"singletop.root\",\"ttbar.root\",\"VV.root\",\"Wjets.root\",\"Zll_Sherpa.root\",\"Zll_MG.root\"]"
   ]
  },
  {
   "cell_type": "code",
   "execution_count": 8,
   "id": "1009ad9e-b1f5-4761-8bd7-3150a0818bb6",
   "metadata": {},
   "outputs": [
    {
     "name": "stdout",
     "output_type": "stream",
     "text": [
      "hadd Target file: Zll/CRa/Data.root\n",
      "hadd compression setting for all output: 1\n",
      "hadd Target file: Zll/CRa/MC.root\n",
      "hadd compression setting for all output: 1\n"
     ]
    },
    {
     "name": "stderr",
     "output_type": "stream",
     "text": [
      "Error in <TFile::TFile>: file /home/diego/HEP/VBF-Analysis/Zll/CRa/Data.root already exists\n",
      "Error in <TFileMerger::OutputFile>: cannot open the MERGER output file \n",
      "hadd error opening target file (does Zll/CRa/Data.root exist?).\n",
      "Pass \"-f\" argument to force re-creation of output file.\n",
      "Error in <TFile::TFile>: file /home/diego/HEP/VBF-Analysis/Zll/CRa/MC.root already exists\n",
      "Error in <TFileMerger::OutputFile>: cannot open the MERGER output file \n",
      "hadd error opening target file (does Zll/CRa/MC.root exist?).\n",
      "Pass \"-f\" argument to force re-creation of output file.\n"
     ]
    },
    {
     "name": "stdout",
     "output_type": "stream",
     "text": [
      "hadd Target file: Zll/CRa/Signa_Sherpa.root\n",
      "hadd compression setting for all output: 1\n",
      "hadd Source file 1: Zee/Plots/MasterCR/CRa/Signal_Sherpa.root\n",
      "hadd Source file 2: MuMu/Plots/MasterCR/CRa/Signal_Sherpa.root\n",
      "hadd Target path: Zll/CRa/Signa_Sherpa.root:/\n",
      "hadd Target file: Zll/CRa/Signal_PoPy.root\n",
      "hadd compression setting for all output: 1\n",
      "hadd Source file 1: Zee/Plots/MasterCR/CRa/Signal_PoPy.root\n",
      "hadd Source file 2: MuMu/Plots/MasterCR/CRa/Signal_PoPy.root\n",
      "hadd Target path: Zll/CRa/Signal_PoPy.root:/\n",
      "hadd Target file: Zll/CRa/singletop.root\n",
      "hadd compression setting for all output: 1\n",
      "hadd Source file 1: Zee/Plots/MasterCR/CRa/singletop.root\n",
      "hadd Source file 2: MuMu/Plots/MasterCR/CRa/singletop.root\n",
      "hadd Target path: Zll/CRa/singletop.root:/\n",
      "hadd Target file: Zll/CRa/ttbar.root\n",
      "hadd compression setting for all output: 1\n",
      "hadd Source file 1: Zee/Plots/MasterCR/CRa/ttbar.root\n",
      "hadd Source file 2: MuMu/Plots/MasterCR/CRa/ttbar.root\n",
      "hadd Target path: Zll/CRa/ttbar.root:/\n",
      "hadd Target file: Zll/CRa/VV.root\n",
      "hadd compression setting for all output: 1\n",
      "hadd Source file 1: Zee/Plots/MasterCR/CRa/VV.root\n",
      "hadd Source file 2: MuMu/Plots/MasterCR/CRa/VV.root\n",
      "hadd Target path: Zll/CRa/VV.root:/\n",
      "hadd Target file: Zll/CRa/Wjets.root\n",
      "hadd compression setting for all output: 1\n",
      "hadd Source file 1: Zee/Plots/MasterCR/CRa/Wjets.root\n",
      "hadd Source file 2: MuMu/Plots/MasterCR/CRa/Wjets.root\n",
      "hadd Target path: Zll/CRa/Wjets.root:/\n",
      "hadd Target file: Zll/CRa/Zll_Sherpa.root\n",
      "hadd compression setting for all output: 1\n",
      "hadd Source file 1: Zee/Plots/MasterCR/CRa/Zee_Sherpa.root\n",
      "hadd Source file 2: MuMu/Plots/MasterCR/CRa/Zmumu_Sherpa.root\n",
      "hadd Target path: Zll/CRa/Zll_Sherpa.root:/\n",
      "hadd Target file: Zll/CRa/Zll_MG.root\n",
      "hadd compression setting for all output: 1\n",
      "hadd Source file 1: Zee/Plots/MasterCR/CRa/Zee_MG.root\n",
      "hadd Source file 2: MuMu/Plots/MasterCR/CRa/Zmumu_MG.root\n",
      "hadd Target path: Zll/CRa/Zll_MG.root:/\n",
      "hadd Target file: Zll/CRb/Data.root\n",
      "hadd compression setting for all output: 1\n"
     ]
    },
    {
     "name": "stderr",
     "output_type": "stream",
     "text": [
      "Error in <TFile::TFile>: file /home/diego/HEP/VBF-Analysis/Zll/CRb/Data.root already exists\n",
      "Error in <TFileMerger::OutputFile>: cannot open the MERGER output file \n",
      "hadd error opening target file (does Zll/CRb/Data.root exist?).\n",
      "Pass \"-f\" argument to force re-creation of output file.\n",
      "Error in <TFile::TFile>: file /home/diego/HEP/VBF-Analysis/Zll/CRb/MC.root already exists\n",
      "Error in <TFileMerger::OutputFile>: cannot open the MERGER output file \n",
      "hadd error opening target file (does Zll/CRb/MC.root exist?).\n",
      "Pass \"-f\" argument to force re-creation of output file.\n"
     ]
    },
    {
     "name": "stdout",
     "output_type": "stream",
     "text": [
      "hadd Target file: Zll/CRb/MC.root\n",
      "hadd compression setting for all output: 1\n",
      "hadd Target file: Zll/CRb/Signa_Sherpa.root\n",
      "hadd compression setting for all output: 1\n",
      "hadd Source file 1: Zee/Plots/MasterCR/CRb/Signal_Sherpa.root\n",
      "hadd Source file 2: MuMu/Plots/MasterCR/CRb/Signal_Sherpa.root\n",
      "hadd Target path: Zll/CRb/Signa_Sherpa.root:/\n",
      "hadd Target file: Zll/CRb/Signal_PoPy.root\n",
      "hadd compression setting for all output: 1\n",
      "hadd Source file 1: Zee/Plots/MasterCR/CRb/Signal_PoPy.root\n",
      "hadd Source file 2: MuMu/Plots/MasterCR/CRb/Signal_PoPy.root\n",
      "hadd Target path: Zll/CRb/Signal_PoPy.root:/\n",
      "hadd Target file: Zll/CRb/singletop.root\n",
      "hadd compression setting for all output: 1\n",
      "hadd Source file 1: Zee/Plots/MasterCR/CRb/singletop.root\n",
      "hadd Source file 2: MuMu/Plots/MasterCR/CRb/singletop.root\n",
      "hadd Target path: Zll/CRb/singletop.root:/\n",
      "hadd Target file: Zll/CRb/ttbar.root\n",
      "hadd compression setting for all output: 1\n",
      "hadd Source file 1: Zee/Plots/MasterCR/CRb/ttbar.root\n",
      "hadd Source file 2: MuMu/Plots/MasterCR/CRb/ttbar.root\n",
      "hadd Target path: Zll/CRb/ttbar.root:/\n",
      "hadd Target file: Zll/CRb/VV.root\n",
      "hadd compression setting for all output: 1\n",
      "hadd Source file 1: Zee/Plots/MasterCR/CRb/VV.root\n",
      "hadd Source file 2: MuMu/Plots/MasterCR/CRb/VV.root\n",
      "hadd Target path: Zll/CRb/VV.root:/\n",
      "hadd Target file: Zll/CRb/Wjets.root\n",
      "hadd compression setting for all output: 1\n",
      "hadd Source file 1: Zee/Plots/MasterCR/CRb/Wjets.root\n",
      "hadd Source file 2: MuMu/Plots/MasterCR/CRb/Wjets.root\n",
      "hadd Target path: Zll/CRb/Wjets.root:/\n",
      "hadd Target file: Zll/CRb/Zll_Sherpa.root\n",
      "hadd compression setting for all output: 1\n",
      "hadd Source file 1: Zee/Plots/MasterCR/CRb/Zee_Sherpa.root\n",
      "hadd Source file 2: MuMu/Plots/MasterCR/CRb/Zmumu_Sherpa.root\n",
      "hadd Target path: Zll/CRb/Zll_Sherpa.root:/\n",
      "hadd Target file: Zll/CRb/Zll_MG.root\n",
      "hadd compression setting for all output: 1\n",
      "hadd Source file 1: Zee/Plots/MasterCR/CRb/Zee_MG.root\n",
      "hadd Source file 2: MuMu/Plots/MasterCR/CRb/Zmumu_MG.root\n",
      "hadd Target path: Zll/CRb/Zll_MG.root:/\n",
      "hadd Target file: Zll/CRc/Data.root\n",
      "hadd compression setting for all output: 1\n",
      "hadd Target file: Zll/CRc/MC.root\n",
      "hadd compression setting for all output: 1\n"
     ]
    },
    {
     "name": "stderr",
     "output_type": "stream",
     "text": [
      "Error in <TFile::TFile>: file /home/diego/HEP/VBF-Analysis/Zll/CRc/Data.root already exists\n",
      "Error in <TFileMerger::OutputFile>: cannot open the MERGER output file \n",
      "hadd error opening target file (does Zll/CRc/Data.root exist?).\n",
      "Pass \"-f\" argument to force re-creation of output file.\n",
      "Error in <TFile::TFile>: file /home/diego/HEP/VBF-Analysis/Zll/CRc/MC.root already exists\n",
      "Error in <TFileMerger::OutputFile>: cannot open the MERGER output file \n",
      "hadd error opening target file (does Zll/CRc/MC.root exist?).\n",
      "Pass \"-f\" argument to force re-creation of output file.\n"
     ]
    },
    {
     "name": "stdout",
     "output_type": "stream",
     "text": [
      "hadd Target file: Zll/CRc/Signa_Sherpa.root\n",
      "hadd compression setting for all output: 1\n",
      "hadd Source file 1: Zee/Plots/MasterCR/CRc/Signal_Sherpa.root\n",
      "hadd Source file 2: MuMu/Plots/MasterCR/CRc/Signal_Sherpa.root\n",
      "hadd Target path: Zll/CRc/Signa_Sherpa.root:/\n",
      "hadd Target file: Zll/CRc/Signal_PoPy.root\n",
      "hadd compression setting for all output: 1\n",
      "hadd Source file 1: Zee/Plots/MasterCR/CRc/Signal_PoPy.root\n",
      "hadd Source file 2: MuMu/Plots/MasterCR/CRc/Signal_PoPy.root\n",
      "hadd Target path: Zll/CRc/Signal_PoPy.root:/\n",
      "hadd Target file: Zll/CRc/singletop.root\n",
      "hadd compression setting for all output: 1\n",
      "hadd Source file 1: Zee/Plots/MasterCR/CRc/singletop.root\n",
      "hadd Source file 2: MuMu/Plots/MasterCR/CRc/singletop.root\n",
      "hadd Target path: Zll/CRc/singletop.root:/\n",
      "hadd Target file: Zll/CRc/ttbar.root\n",
      "hadd compression setting for all output: 1\n",
      "hadd Source file 1: Zee/Plots/MasterCR/CRc/ttbar.root\n",
      "hadd Source file 2: MuMu/Plots/MasterCR/CRc/ttbar.root\n",
      "hadd Target path: Zll/CRc/ttbar.root:/\n",
      "hadd Target file: Zll/CRc/VV.root\n",
      "hadd compression setting for all output: 1\n",
      "hadd Source file 1: Zee/Plots/MasterCR/CRc/VV.root\n",
      "hadd Source file 2: MuMu/Plots/MasterCR/CRc/VV.root\n",
      "hadd Target path: Zll/CRc/VV.root:/\n",
      "hadd Target file: Zll/CRc/Wjets.root\n",
      "hadd compression setting for all output: 1\n",
      "hadd Source file 1: Zee/Plots/MasterCR/CRc/Wjets.root\n",
      "hadd Source file 2: MuMu/Plots/MasterCR/CRc/Wjets.root\n",
      "hadd Target path: Zll/CRc/Wjets.root:/\n",
      "hadd Target file: Zll/CRc/Zll_Sherpa.root\n",
      "hadd compression setting for all output: 1\n",
      "hadd Source file 1: Zee/Plots/MasterCR/CRc/Zee_Sherpa.root\n",
      "hadd Source file 2: MuMu/Plots/MasterCR/CRc/Zmumu_Sherpa.root\n",
      "hadd Target path: Zll/CRc/Zll_Sherpa.root:/\n",
      "hadd Target file: Zll/CRc/Zll_MG.root\n",
      "hadd compression setting for all output: 1\n",
      "hadd Source file 1: Zee/Plots/MasterCR/CRc/Zee_MG.root\n",
      "hadd Source file 2: MuMu/Plots/MasterCR/CRc/Zmumu_MG.root\n",
      "hadd Target path: Zll/CRc/Zll_MG.root:/\n"
     ]
    }
   ],
   "source": [
    "zll_path=\"Zll/\"\n",
    "zee_path=\"Zee/Plots/MasterCR/\"\n",
    "zmm_path=\"MuMu/Plots/MasterCR/\"\n",
    "\n",
    "os.chdir(\"..\")\n",
    "for r in regions:\n",
    "    for s in range(0,len(output_names)):\n",
    "        os.system(\"hadd \"+zll_path+r+output_names[s]+\" \"+zee_path+r+sample_pairs[s][1]+\" \"+zmm_path+r+sample_pairs[s][0])"
   ]
  },
  {
   "cell_type": "code",
   "execution_count": null,
   "id": "98ade075-756c-44a1-86e4-be848b7d1351",
   "metadata": {},
   "outputs": [],
   "source": []
  }
 ],
 "metadata": {
  "kernelspec": {
   "display_name": "Python 3 (ipykernel)",
   "language": "python",
   "name": "python3"
  },
  "language_info": {
   "codemirror_mode": {
    "name": "ipython",
    "version": 3
   },
   "file_extension": ".py",
   "mimetype": "text/x-python",
   "name": "python",
   "nbconvert_exporter": "python",
   "pygments_lexer": "ipython3",
   "version": "3.10.4"
  }
 },
 "nbformat": 4,
 "nbformat_minor": 5
}
