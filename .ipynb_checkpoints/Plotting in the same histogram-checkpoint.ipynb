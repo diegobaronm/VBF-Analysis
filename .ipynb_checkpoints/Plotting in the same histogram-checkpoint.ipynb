{
 "cells": [
  {
   "cell_type": "code",
   "execution_count": 33,
   "metadata": {},
   "outputs": [],
   "source": [
    "import ROOT\n",
    "import numpy as np"
   ]
  },
  {
   "cell_type": "code",
   "execution_count": 34,
   "metadata": {},
   "outputs": [],
   "source": [
    "MC = ROOT.TFile.Open(\"out/MC.root\",\" READ \")\n",
    "Data = ROOT.TFile.Open(\"out/Data.root\",\"READ\")\n",
    "BG = ROOT.TFile.Open(\"out/BG.root\",\"READ\")"
   ]
  },
  {
   "cell_type": "code",
   "execution_count": 35,
   "metadata": {},
   "outputs": [],
   "source": [
    "bg=BG.Get(\"inva_mass\")\n",
    "mc=MC.Get(\"inva_mass\")\n",
    "data=Data.Get(\"inva_mass\")\n",
    "rebining=np.array([ 60000.,  63000.,  66000.,  69000.,  72000.,  75000.,  78000.,\n",
    "        81000.,  84000.,  87000.,  90000.,  93000.,  96000.,  99000.,\n",
    "       102000., 105000., 108000., 111000., 114000., 117000., 120000.,\n",
    "       123000., 126000., 129000., 132000., 135000., 138000., 141000.,\n",
    "       144000., 147000., 150000., 153000., 156000., 159000., 162000.,\n",
    "       165000., 168000., 171000., 174000., 177000., 180000., 186000., 192000., 198000., 204000., 210000., 216000.,\n",
    "       222000., 228000., 234000., 240000., 246000., 252000., 258000.,\n",
    "       264000., 270000., 276000., 282000., 288000., 294000., 300000.])\n",
    "mc=mc.Rebin(60,\"mc\",rebining)\n",
    "bg=bg.Rebin(60,\"bg\",rebining)\n",
    "data=data.Rebin(60,\"data\",rebining)\n",
    "ratio=data.Clone()\n",
    "ratio.Divide(mc)\n",
    "mc.SetDirectory(0)\n",
    "data.SetDirectory(0)\n",
    "ratio.SetDirectory(0)\n",
    "MC.Close()\n",
    "Data.Close()"
   ]
  },
  {
   "cell_type": "code",
   "execution_count": 36,
   "metadata": {},
   "outputs": [
    {
     "name": "stderr",
     "output_type": "stream",
     "text": [
      "Warning in <TCanvas::Constructor>: Deleting canvas with same name:  canvas \n"
     ]
    }
   ],
   "source": [
    "canvas = ROOT . TCanvas (\" canvas \")"
   ]
  },
  {
   "cell_type": "code",
   "execution_count": 37,
   "metadata": {},
   "outputs": [],
   "source": [
    "pad1 = ROOT . TPad (\" pad1 \",\" pad1 \" ,0 ,0.3 ,1 ,1)\n",
    "pad1.Draw ()\n",
    "pad1.cd ()\n",
    "data.Draw (\"h\")\n",
    "mc.Draw(\"h,same\")\n",
    "mc.SetLineColor( ROOT . kRed )\n",
    "canvas.cd()\n",
    "pad2 = ROOT . TPad (\" pad2 \",\" pad2 \" ,0 ,0.05 ,1 ,0.3)\n",
    "pad2.Draw ()\n",
    "pad2.cd ()\n",
    "ratio.Draw (\"pe\")"
   ]
  },
  {
   "cell_type": "code",
   "execution_count": 38,
   "metadata": {},
   "outputs": [
    {
     "name": "stderr",
     "output_type": "stream",
     "text": [
      "Info in <TCanvas::Print>: pdf file DataVsMC.pdf has been created\n"
     ]
    }
   ],
   "source": [
    "canvas.Print(\"DataVsMC.pdf\")"
   ]
  },
  {
   "cell_type": "code",
   "execution_count": null,
   "metadata": {},
   "outputs": [],
   "source": []
  },
  {
   "cell_type": "code",
   "execution_count": 15,
   "metadata": {},
   "outputs": [],
   "source": []
  },
  {
   "cell_type": "code",
   "execution_count": 16,
   "metadata": {},
   "outputs": [
    {
     "name": "stderr",
     "output_type": "stream",
     "text": [
      "Info in <TCanvas::Print>: pdf file DataVsMC.pdf has been created\n"
     ]
    }
   ],
   "source": []
  },
  {
   "cell_type": "code",
   "execution_count": 23,
   "metadata": {},
   "outputs": [
    {
     "data": {
      "text/plain": [
       "2.062770128250122"
      ]
     },
     "execution_count": 23,
     "metadata": {},
     "output_type": "execute_result"
    }
   ],
   "source": [
    "mc.GetBinContent(8)"
   ]
  },
  {
   "cell_type": "code",
   "execution_count": null,
   "metadata": {},
   "outputs": [],
   "source": []
  }
 ],
 "metadata": {
  "kernelspec": {
   "display_name": "Python 3",
   "language": "python",
   "name": "python3"
  },
  "language_info": {
   "codemirror_mode": {
    "name": "ipython",
    "version": 3
   },
   "file_extension": ".py",
   "mimetype": "text/x-python",
   "name": "python",
   "nbconvert_exporter": "python",
   "pygments_lexer": "ipython3",
   "version": "3.7.3"
  }
 },
 "nbformat": 4,
 "nbformat_minor": 2
}
