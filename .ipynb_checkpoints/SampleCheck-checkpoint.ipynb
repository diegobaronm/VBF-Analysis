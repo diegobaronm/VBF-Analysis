{
 "cells": [
  {
   "cell_type": "code",
   "execution_count": 1,
   "metadata": {},
   "outputs": [
    {
     "name": "stdout",
     "output_type": "stream",
     "text": [
      "Welcome to JupyROOT 6.22/00\n"
     ]
    }
   ],
   "source": [
    "import ROOT as r\n",
    "import random as rnd\n",
    "\n",
    "run2015Begin = 276262\n",
    "run2015End   = 284484\n",
    "\n",
    "run2016Begin = 297730\n",
    "run2016End   = 311481\n",
    "\n",
    "run2017Begin = 323427\n",
    "run2017End   = 341649\n",
    "\n",
    "run2018Begin = 341649\n",
    "run2018End   = 364292 \n",
    "\n",
    "data_2015=[run2015Begin,run2015End]\n",
    "data_2016=[run2016Begin,run2016End]\n",
    "data_2017=[run2017Begin,run2017End]\n",
    "data_2018=[run2018Begin,run2018End]\n",
    "\n",
    "def Normalize(histo):\n",
    "    for j in range(1,histo.GetNbinsX()+2):\n",
    "        if histo.GetBinContent(j)>0:\n",
    "            histo.SetBinContent(j,1.0)"
   ]
  },
  {
   "cell_type": "code",
   "execution_count": 38,
   "metadata": {},
   "outputs": [
    {
     "name": "stdout",
     "output_type": "stream",
     "text": [
      "87665 12.873332977294922\n",
      "363664.0\n",
      "87711 16.602678298950195\n",
      "363710.0\n",
      "87739 5.769325256347656\n",
      "363738.0\n",
      "87831 16.8590030670166\n",
      "363830.0\n",
      "87911 16.920642852783203\n",
      "363910.0\n",
      "87948 14.204300880432129\n",
      "363947.0\n",
      "87980 16.123615264892578\n",
      "363979.0\n",
      "88031 16.42426300048828\n",
      "364030.0\n",
      "88077 16.083831787109375\n",
      "364076.0\n",
      "88099 15.7678804397583\n",
      "364098.0\n"
     ]
    },
    {
     "name": "stderr",
     "output_type": "stream",
     "text": [
      "Warning in <TCanvas::Constructor>: Deleting canvas with same name: canvas\n",
      "Info in <TCanvas::Print>: pdf file data_2015_mu.pdf has been created\n"
     ]
    },
    {
     "data": {
      "image/png": "[encoded data removed]",
      "text/plain": [
       "<IPython.core.display.Image object>"
      ]
     },
     "metadata": {},
     "output_type": "display_data"
    }
   ],
   "source": [
    "TauMu=\"TauMu/DATA/out/data.root\"\n",
    "TauEle=\"EleTau/DATA/out/data.root\"\n",
    "MuMu=\"MuMu/DATA/out/data.root\"\n",
    "EE=\"Zee/DATA/out/data.root\"\n",
    "e_Events=[TauEle,EE]\n",
    "mu_Events=[TauMu,MuMu]\n",
    "\n",
    "data_taking_period=data_2018\n",
    "year=2015\n",
    "\n",
    "canvas = r.TCanvas(\"canvas\")\n",
    "canvas.cd()\n",
    "\n",
    "file1=r.TFile.Open(TauMu,\"READ\")\n",
    "file2=r.TFile.Open(MuMu,\"READ\")\n",
    "run_number1=file1.Get(\"RunN_topo\")\n",
    "run_number2=file2.Get(\"RunN_topo\")\n",
    "run_number1.SetDirectory(0)\n",
    "run_number2.SetDirectory(0)\n",
    "file1.Close()\n",
    "file2.Close()\n",
    "\n",
    "run_number2.Divide(run_number1)\n",
    "\n",
    "run_number2.Rebin(1)\n",
    "\n",
    "run_number2.SetMarkerStyle(r.kFullCircle)\n",
    "run_number2.SetMarkerSize(0.7)\n",
    "\n",
    "run_number2.Draw(\"pe\")\n",
    "\n",
    "run_number2.GetXaxis().SetRangeUser(363500,364100)\n",
    "\n",
    "canvas.Draw()\n",
    "canvas.Print(\"data_\"+str(year)+\"_mu.pdf\")\n",
    "\n",
    "for i in range(363500-276000,364100-276000):\n",
    "    if(run_number2.GetBinContent(i)!=0):\n",
    "        print(i,run_number2.GetBinContent(i))\n",
    "        print(run_number2.GetBinLowEdge(i))\n",
    "\n",
    "    "
   ]
  },
  {
   "cell_type": "code",
   "execution_count": null,
   "metadata": {},
   "outputs": [],
   "source": [
    "canvas = r.TCanvas(\"canvas\")\n",
    "canvas.cd()\n",
    "\n",
    "anom_e=\"358115\"\n",
    "norm_e=\"359541\"\n",
    "anom_mu=\"363738\"\n",
    "norm_mu=\"363910\"\n",
    "\n",
    "file1=r.TFile.Open(TauEle,\"READ\")\n",
    "file2=r.TFile.Open(EE,\"READ\")\n",
    "e_n_anomalous_taul=file1.Get(\"EventN_RN\"+anom_e+\"_topo\")\n",
    "e_n_anomalous_ll=file2.Get(\"EventN_RN\"+anom_e+\"_topo\")\n",
    "e_n_normal_taul=file1.Get(\"EventN_RN\"+norm_e+\"_topo\")\n",
    "e_n_normal_ll=file2.Get(\"EventN_RN\"+norm_e+\"_topo\")\n",
    "e_n_anomalous_taul.SetDirectory(0)\n",
    "e_n_anomalous_ll.SetDirectory(0)\n",
    "e_n_normal_taul.SetDirectory(0)\n",
    "e_n_normal_ll.SetDirectory(0)\n",
    "\n",
    "file1.Close()\n",
    "file2.Close()\n",
    "\n",
    "hs = r.THStack(\"hs\",\"\")\n",
    "\n",
    "hs.Add(e_anomalous_taul)\n",
    "hs.Add(e_anomalous_ll)"
   ]
  },
  {
   "cell_type": "code",
   "execution_count": 104,
   "metadata": {},
   "outputs": [
    {
     "name": "stderr",
     "output_type": "stream",
     "text": [
      "Warning in <TCanvas::Constructor>: Deleting canvas with same name: canvas\n",
      "Info in <TCanvas::Print>: pdf file data_2015_e.pdf has been created\n",
      "Warning in <TCanvas::Constructor>: Deleting canvas with same name: canvas\n",
      "Info in <TCanvas::Print>: pdf file data_2016_e.pdf has been created\n",
      "Warning in <TCanvas::Constructor>: Deleting canvas with same name: canvas\n",
      "Info in <TCanvas::Print>: pdf file data_2017_e.pdf has been created\n",
      "Warning in <TCanvas::Constructor>: Deleting canvas with same name: canvas\n",
      "Info in <TCanvas::Print>: pdf file data_2018_e.pdf has been created\n"
     ]
    },
    {
     "data": {
      "image/png": "[encoded data removed]",
      "text/plain": [
       "<IPython.core.display.Image object>"
      ]
     },
     "metadata": {},
     "output_type": "display_data"
    }
   ],
   "source": [
    "TauMu=\"TauMu/DATA/out/data.root\"\n",
    "TauEle=\"EleTau/DATA/out/data.root\"\n",
    "MuMu=\"MuMu/DATA/out/data.root\"\n",
    "EE=\"Zee/DATA/out/data.root\"\n",
    "e_Events=[TauEle,EE]\n",
    "mu_Events=[TauMu,MuMu]\n",
    "\n",
    "data_periods=[data_2015,data_2016,data_2017,data_2018]\n",
    "year=2015\n",
    "for data_taking_period in data_periods:\n",
    "\n",
    "    norm=True\n",
    "\n",
    "    canvas = r.TCanvas(\"canvas\")\n",
    "    canvas.cd()\n",
    "    legend = r.TLegend(0.75 ,0.73 ,0.85 ,0.93)\n",
    "    hs = r.THStack(\"hs\",\"\")\n",
    "\n",
    "    i=2\n",
    "\n",
    "    for sample in (e_Events):\n",
    "        file=r.TFile.Open(sample,\"READ\")\n",
    "        run_number=file.Get(\"RunN_topo\")\n",
    "        run_number.SetDirectory(0)\n",
    "        file.Close()\n",
    "        run_number.Rebin(50)\n",
    "        run_number.SetLineColor(i)\n",
    "        run_number.SetFillColor(i)\n",
    "        legend.AddEntry (run_number,sample[:6])\n",
    "        if(norm):\n",
    "            Normalize(run_number)\n",
    "        hs.Add(run_number)\n",
    "        i+=1\n",
    "\n",
    "\n",
    "    hs.Draw()\n",
    "    hs.GetXaxis().SetRangeUser(data_taking_period[0],data_taking_period[1])\n",
    "\n",
    "    if(not norm):\n",
    "        canvas.SetLogy(1)\n",
    "\n",
    "    legend . Draw ()\n",
    "    canvas.Draw()\n",
    "    canvas.Print(\"data_\"+str(year)+\"_e.pdf\")\n",
    "    year+=1"
   ]
  },
  {
   "cell_type": "code",
   "execution_count": null,
   "metadata": {},
   "outputs": [],
   "source": []
  },
  {
   "cell_type": "code",
   "execution_count": null,
   "metadata": {},
   "outputs": [],
   "source": []
  }
 ],
 "metadata": {
  "kernelspec": {
   "display_name": "Python 3",
   "language": "python",
   "name": "python3"
  },
  "language_info": {
   "codemirror_mode": {
    "name": "ipython",
    "version": 3
   },
   "file_extension": ".py",
   "mimetype": "text/x-python",
   "name": "python",
   "nbconvert_exporter": "python",
   "pygments_lexer": "ipython3",
   "version": "3.8.5"
  }
 },
 "nbformat": 4,
 "nbformat_minor": 4
}
