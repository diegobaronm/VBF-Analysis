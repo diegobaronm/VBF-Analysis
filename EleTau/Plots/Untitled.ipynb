{
 "cells": [
  {
   "cell_type": "code",
   "execution_count": 1,
   "metadata": {},
   "outputs": [
    {
     "name": "stdout",
     "output_type": "stream",
     "text": [
      "Welcome to JupyROOT 6.18/04\n"
     ]
    }
   ],
   "source": [
    "import ROOT"
   ]
  },
  {
   "cell_type": "code",
   "execution_count": 2,
   "metadata": {},
   "outputs": [],
   "source": [
    "file=ROOT.TFile.Open(\"MJ.root\",\"RECREATE\")"
   ]
  },
  {
   "cell_type": "code",
   "execution_count": 3,
   "metadata": {},
   "outputs": [],
   "source": [
    "file2=ROOT.TFile.Open(\"MC.root\")"
   ]
  },
  {
   "cell_type": "code",
   "execution_count": 4,
   "metadata": {},
   "outputs": [],
   "source": [
    "histo=file2.Get(\"rnn_score\")"
   ]
  },
  {
   "cell_type": "code",
   "execution_count": 5,
   "metadata": {},
   "outputs": [
    {
     "data": {
      "text/plain": [
       "True"
      ]
     },
     "execution_count": 5,
     "metadata": {},
     "output_type": "execute_result"
    }
   ],
   "source": [
    "file.cd()"
   ]
  },
  {
   "cell_type": "code",
   "execution_count": 7,
   "metadata": {},
   "outputs": [
    {
     "ename": "TypeError",
     "evalue": "none of the 2 overloaded methods succeeded. Full details:\n  int TObject::Write(const char* name = 0, int option = 0, int bufsize = 0) =>\n    could not convert argument 1 (bad argument type for built-in operation)\n  int TObject::Write(const char* name = 0, int option = 0, int bufsize = 0) =>\n    could not convert argument 1 (bad argument type for built-in operation)",
     "output_type": "error",
     "traceback": [
      "\u001b[0;31m---------------------------------------------------------------------------\u001b[0m",
      "\u001b[0;31mTypeError\u001b[0m                                 Traceback (most recent call last)",
      "\u001b[0;32m<ipython-input-7-347e998a5cb6>\u001b[0m in \u001b[0;36m<module>\u001b[0;34m\u001b[0m\n\u001b[0;32m----> 1\u001b[0;31m \u001b[0mhisto\u001b[0m\u001b[0;34m.\u001b[0m\u001b[0mWrite\u001b[0m\u001b[0;34m(\u001b[0m\u001b[0mfile\u001b[0m\u001b[0;34m)\u001b[0m\u001b[0;34m\u001b[0m\u001b[0;34m\u001b[0m\u001b[0m\n\u001b[0m",
      "\u001b[0;31mTypeError\u001b[0m: none of the 2 overloaded methods succeeded. Full details:\n  int TObject::Write(const char* name = 0, int option = 0, int bufsize = 0) =>\n    could not convert argument 1 (bad argument type for built-in operation)\n  int TObject::Write(const char* name = 0, int option = 0, int bufsize = 0) =>\n    could not convert argument 1 (bad argument type for built-in operation)"
     ]
    }
   ],
   "source": [
    "histo.Write(\"prueba.root\")"
   ]
  },
  {
   "cell_type": "code",
   "execution_count": 44,
   "metadata": {},
   "outputs": [],
   "source": [
    "import ROOT\n",
    "import numpy as np\n",
    "def biner(o_bin,m_bin,f_bin,f_step,l_step):\n",
    "    a=np.arange(o_bin,m_bin,f_step)\n",
    "    b=np.arange(m_bin,f_bin,l_step)\n",
    "    return np.concatenate((a,b))\n"
   ]
  },
  {
   "cell_type": "code",
   "execution_count": 45,
   "metadata": {},
   "outputs": [
    {
     "data": {
      "text/plain": [
       "37"
      ]
     },
     "execution_count": 45,
     "metadata": {},
     "output_type": "execute_result"
    }
   ],
   "source": [
    "len(biner(0,140,320,5,20))"
   ]
  },
  {
   "cell_type": "code",
   "execution_count": 46,
   "metadata": {},
   "outputs": [
    {
     "data": {
      "text/plain": [
       "array([  0,   5,  10,  15,  20,  25,  30,  35,  40,  45,  50,  55,  60,\n",
       "        65,  70,  75,  80,  85,  90,  95, 100, 105, 110, 115, 120, 125,\n",
       "       130, 135, 140, 160, 180, 200, 220, 240, 260, 280, 300])"
      ]
     },
     "execution_count": 46,
     "metadata": {},
     "output_type": "execute_result"
    }
   ],
   "source": [
    "biner(0,140,320,5,20)"
   ]
  },
  {
   "cell_type": "code",
   "execution_count": null,
   "metadata": {},
   "outputs": [],
   "source": []
  },
  {
   "cell_type": "code",
   "execution_count": 47,
   "metadata": {},
   "outputs": [],
   "source": [
    "file=ROOT.TFile.Open(\"SR_OS/Signal.root\")"
   ]
  },
  {
   "cell_type": "code",
   "execution_count": 48,
   "metadata": {},
   "outputs": [],
   "source": [
    "hist=file.Get(\"reco_mass_jetn_btag_iso_rnn_ptmu_omega\")\n",
    "hist2=file.Get(\"reco_mass_met_outside_jetn_btag_iso_rnn_ptmu_omega\")\n",
    "hist3=file.Get(\"MET_jetn_btag_iso_rnn_ptmu_omega_mreco\")\n",
    "hist.SetDirectory(0)\n",
    "hist2.SetDirectory(0)\n",
    "hist3.SetDirectory(0)\n",
    "file.Close()\n",
    "rebining=biner(0,140.0,320.0,5,20)"
   ]
  },
  {
   "cell_type": "code",
   "execution_count": 49,
   "metadata": {},
   "outputs": [],
   "source": [
    "\n",
    "hist=hist.Rebin(len(rebining)-1,'hola',rebining)\n",
    "hist2=hist2.Rebin(len(rebining)-1,'hola2',rebining)\n",
    "hist3=hist3.Rebin(len(rebining)-1,'hola3',rebining)"
   ]
  },
  {
   "cell_type": "code",
   "execution_count": 50,
   "metadata": {},
   "outputs": [],
   "source": [
    "def normalization(hist_list):\n",
    "    for hist in hist_list:\n",
    "        for i in range(0,len(rebining)):\n",
    "            value=hist.GetBinContent(i)\n",
    "            sf=hist.GetBinWidth(i)/5.0    \n",
    "            hist.SetBinContent(i,value/sf)\n",
    "hist_list=[hist,hist2,hist3]\n"
   ]
  },
  {
   "cell_type": "code",
   "execution_count": 51,
   "metadata": {},
   "outputs": [
    {
     "name": "stderr",
     "output_type": "stream",
     "text": [
      "Warning in <TCanvas::Constructor>: Deleting canvas with same name: canvas\n",
      "Info in <TCanvas::Print>: pdf file TEST.pdf has been created\n"
     ]
    }
   ],
   "source": [
    "canvas = ROOT.TCanvas(\"canvas\")\n",
    "canvas.cd()\n",
    "hist2.SetLineColor()\n",
    "hist.Draw(\"HIST\")\n",
    "hist2.Draw(\"HIST same\")\n",
    "hist3.Draw(\"HIST same\")\n",
    "canvas.Print(\"TEST.pdf\")"
   ]
  },
  {
   "cell_type": "code",
   "execution_count": 33,
   "metadata": {},
   "outputs": [
    {
     "name": "stdout",
     "output_type": "stream",
     "text": [
      "TH1.Print Name  = hola, Entries= 4162, Total sum= 6653.04\n",
      " fSumw[0]=0, x=-4.16667, error=0\n",
      " fSumw[1]=0, x=2.5, error=0\n",
      " fSumw[2]=0, x=7.5, error=0\n",
      " fSumw[3]=0, x=12.5, error=0\n",
      " fSumw[4]=0, x=17.5, error=0\n",
      " fSumw[5]=0, x=22.5, error=0\n",
      " fSumw[6]=0, x=27.5, error=0\n",
      " fSumw[7]=0, x=32.5, error=0\n",
      " fSumw[8]=0, x=37.5, error=0\n",
      " fSumw[9]=0, x=42.5, error=0\n",
      " fSumw[10]=6.76471, x=47.5, error=3.34864\n",
      " fSumw[11]=10.3965, x=52.5, error=4.17251\n",
      " fSumw[12]=22.8231, x=57.5, error=6.40561\n",
      " fSumw[13]=85.9954, x=62.5, error=12.2403\n",
      " fSumw[14]=178.769, x=67.5, error=17.8952\n",
      " fSumw[15]=321.919, x=72.5, error=24.0383\n",
      " fSumw[16]=501.633, x=77.5, error=29.4726\n",
      " fSumw[17]=843.436, x=82.5, error=39.0985\n",
      " fSumw[18]=994.624, x=87.5, error=41.8615\n",
      " fSumw[19]=978.452, x=92.5, error=41.8744\n",
      " fSumw[20]=830.324, x=97.5, error=38.7248\n",
      " fSumw[21]=584.343, x=102.5, error=32.4099\n",
      " fSumw[22]=413.791, x=107.5, error=26.9334\n",
      " fSumw[23]=278.748, x=112.5, error=21.9959\n",
      " fSumw[24]=175.171, x=117.5, error=17.3522\n",
      " fSumw[25]=128.418, x=122.5, error=15.4704\n",
      " fSumw[26]=73.5294, x=127.5, error=11.8195\n",
      " fSumw[27]=35.1221, x=132.5, error=7.53162\n",
      " fSumw[28]=47.3261, x=137.5, error=9.32329\n",
      " fSumw[29]=62.4168, x=150, error=10.3033\n",
      " fSumw[30]=31.5105, x=170, error=7.39183\n",
      " fSumw[31]=22.6755, x=190, error=6.22207\n",
      " fSumw[32]=7.84705, x=210, error=3.56237\n",
      " fSumw[33]=4.88794, x=230, error=2.49361\n",
      " fSumw[34]=1.70991, x=250, error=1.70991\n",
      " fSumw[35]=9.38136, x=270, error=3.99107\n",
      " fSumw[36]=1.02881, x=290, error=1.02881\n",
      " fSumw[37]=11.7768, x=304.167, error=4.65243\n"
     ]
    }
   ],
   "source": [
    "hist.Print('all')"
   ]
  },
  {
   "cell_type": "code",
   "execution_count": null,
   "metadata": {},
   "outputs": [],
   "source": []
  },
  {
   "cell_type": "code",
   "execution_count": null,
   "metadata": {},
   "outputs": [],
   "source": []
  }
 ],
 "metadata": {
  "kernelspec": {
   "display_name": "Python 3",
   "language": "python",
   "name": "python3"
  },
  "language_info": {
   "codemirror_mode": {
    "name": "ipython",
    "version": 3
   },
   "file_extension": ".py",
   "mimetype": "text/x-python",
   "name": "python",
   "nbconvert_exporter": "python",
   "pygments_lexer": "ipython3",
   "version": "3.7.3"
  }
 },
 "nbformat": 4,
 "nbformat_minor": 2
}
