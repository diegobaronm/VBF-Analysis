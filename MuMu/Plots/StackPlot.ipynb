{
 "cells": [
  {
   "cell_type": "code",
   "execution_count": 24,
   "metadata": {},
   "outputs": [],
   "source": [
    "import ROOT\n",
    "from ROOT import gStyle\n",
    "import numpy as np\n",
    "import ctypes\n",
    "import os\n",
    "import pandas as pd\n",
    "\n",
    "def biner(o_bin,m_bin,f_bin,f_step,l_step):\n",
    "    a=np.arange(o_bin,m_bin,f_step)\n",
    "    b=np.arange(m_bin,f_bin+l_step,l_step)\n",
    "    return np.concatenate((a,b))\n",
    "\n",
    "def normalization(hist_list,first_binning):\n",
    "    for hist in hist_list:\n",
    "        for i in range(0,len(rebining)):\n",
    "            value=hist.GetBinContent(i)\n",
    "            error=hist.GetBinError(i)\n",
    "            sf=1\n",
    "            if hist.GetBinWidth(i)!=first_binning:\n",
    "                sf=hist.GetBinWidth(i)/first_binning\n",
    "            hist.SetBinContent(i,value/sf)\n",
    "            hist.SetBinError(i,error/sf)"
   ]
  },
  {
   "cell_type": "code",
   "execution_count": 33,
   "metadata": {},
   "outputs": [
    {
     "data": {
      "text/plain": [
       "0"
      ]
     },
     "execution_count": 33,
     "metadata": {},
     "output_type": "execute_result"
    },
    {
     "name": "stdout",
     "output_type": "stream",
     "text": [
      "hadd Target file: MC.root\n",
      "hadd compression setting for all output: 1\n",
      "hadd Source file 1: BG.root\n",
      "hadd Source file 2: Signal.root\n",
      "hadd Target path: MC.root:/\n"
     ]
    }
   ],
   "source": [
    "##### SELECTING GENERATOR FOR SIGNAL SAMPLE\n",
    "signal_sample=\"Signal.root\"\n",
    "production=True\n",
    "\n",
    "#### CREATING THE CORRESPONDING MC.ROOT FILE EVERYTIME YOU CHANGE THE SIGNAL SAMPLE\n",
    "\n",
    "os.system(\"rm MC.root\")\n",
    "os.system(\"hadd MC.root \"+\"BG.root \"+signal_sample)"
   ]
  },
  {
   "cell_type": "code",
   "execution_count": 34,
   "metadata": {},
   "outputs": [
    {
     "name": "stdout",
     "output_type": "stream",
     "text": [
      "delta_phi\n",
      "0.0\n",
      "delta_y\n",
      "0.0\n",
      "n_bjets\n",
      "0.0\n",
      "lepiso\n",
      "0.0\n",
      "n_jets_interval\n",
      "0.0\n",
      "lep1_pt\n",
      "0.0\n",
      "lep2_pt\n",
      "0.0\n",
      "ljet0_pt\n",
      "0.0\n",
      "ljet1_pt\n",
      "0.0\n",
      "pt_bal\n",
      "0.0\n",
      "Z_centrality\n",
      "0.0\n",
      "inv_mass\n",
      "0.0\n",
      "mass_jj\n",
      "0.0\n"
     ]
    },
    {
     "name": "stderr",
     "output_type": "stream",
     "text": [
      "Warning in <TCanvas::Constructor>: Deleting canvas with same name: canvas3\n",
      "Info in <TCanvas::Print>: pdf file delta_phi.pdf has been created\n",
      "Warning in <TCanvas::Constructor>: Deleting canvas with same name: canvas3\n",
      "Info in <TCanvas::Print>: pdf file delta_y.pdf has been created\n",
      "Warning in <TCanvas::Constructor>: Deleting canvas with same name: canvas3\n",
      "Info in <TCanvas::Print>: pdf file n_bjets.pdf has been created\n",
      "Warning in <TCanvas::Constructor>: Deleting canvas with same name: canvas3\n",
      "Info in <TCanvas::Print>: pdf file lepiso.pdf has been created\n",
      "Warning in <TCanvas::Constructor>: Deleting canvas with same name: canvas3\n",
      "Info in <TCanvas::Print>: pdf file n_jets_interval.pdf has been created\n",
      "Warning in <TCanvas::Constructor>: Deleting canvas with same name: canvas3\n",
      "Info in <TCanvas::Print>: pdf file lep1_pt.pdf has been created\n",
      "Warning in <TCanvas::Constructor>: Deleting canvas with same name: canvas3\n",
      "Info in <TCanvas::Print>: pdf file lep2_pt.pdf has been created\n",
      "Warning in <TCanvas::Constructor>: Deleting canvas with same name: canvas3\n",
      "Info in <TCanvas::Print>: pdf file ljet0_pt.pdf has been created\n",
      "Warning in <TCanvas::Constructor>: Deleting canvas with same name: canvas3\n",
      "Info in <TCanvas::Print>: pdf file ljet1_pt.pdf has been created\n",
      "Warning in <TCanvas::Constructor>: Deleting canvas with same name: canvas3\n",
      "Info in <TCanvas::Print>: pdf file pt_bal.pdf has been created\n",
      "Warning in <TCanvas::Constructor>: Deleting canvas with same name: canvas3\n",
      "Info in <TCanvas::Print>: pdf file Z_centrality.pdf has been created\n",
      "Warning in <TCanvas::Constructor>: Deleting canvas with same name: canvas3\n",
      "Info in <TCanvas::Print>: pdf file inv_mass.pdf has been created\n",
      "Warning in <TCanvas::Constructor>: Deleting canvas with same name: canvas3\n",
      "Info in <TCanvas::Print>: pdf file mass_jj.pdf has been created\n"
     ]
    }
   ],
   "source": [
    "histos_no_rebin={\n",
    "\"delta_phi\":[],\n",
    "\"delta_y\":[],\n",
    "\"n_bjets\":[],\n",
    "\"lepiso\":[],\n",
    "\"n_jets_interval\":[],\n",
    "\n",
    "}\n",
    "histos_rebin={\n",
    "\"lep1_pt\":[120,5,10],\n",
    "\"lep2_pt\":[120,5,10],\n",
    "\"ljet0_pt\":[120,5,10],\n",
    "\"ljet1_pt\":[120,5,10],\n",
    "\"pt_bal\":[0.3,0.02,0.02],\n",
    "\"Z_centrality\":[2,0.1,0.5],\n",
    "\"inv_mass\":[120,5,10],\n",
    "\"mass_jj\":[1500,250,500],\n",
    "}\n",
    "histos={}\n",
    "histos.update(histos_no_rebin)\n",
    "histos.update(histos_rebin)\n",
    "    \n",
    "    \n",
    "for a in histos:\n",
    "    print(a)\n",
    "\n",
    "    Signal=ROOT.TFile.Open(signal_sample,\"READ\")\n",
    "\n",
    "    signal=Signal.Get(a)\n",
    "    \n",
    "    print(signal.Integral())\n",
    "    \n",
    "    signal.SetDirectory(0)\n",
    "\n",
    "    Signal.Close()\n",
    "   \n",
    "    hs = ROOT.THStack(\"hs\",\"\")\n",
    " \n",
    "    hs.Add(signal)\n",
    "\n",
    "    signal.SetFillColor(ROOT.kAzure+8)\n",
    " \n",
    "\n",
    "    canvas3 = ROOT.TCanvas(\"canvas3\")\n",
    "    canvas3.cd()\n",
    "    \n",
    "    ##### DRAWING TOP PAD, SETTING MARGINS #######\n",
    "\n",
    "    hs.Draw(\"HIST same\")\n",
    "    \n",
    "    canvas3.Print(a+\".pdf\")\n"
   ]
  },
  {
   "cell_type": "markdown",
   "metadata": {},
   "source": [
    "### "
   ]
  },
  {
   "cell_type": "markdown",
   "metadata": {},
   "source": [
    "### PLOT SUM OF TWO HISTOGRAMS"
   ]
  },
  {
   "cell_type": "code",
   "execution_count": 3,
   "metadata": {},
   "outputs": [
    {
     "name": "stderr",
     "output_type": "stream",
     "text": [
      "Warning in <TCanvas::Constructor>: Deleting canvas with same name: canvas3\n",
      "Info in <TCanvas::Print>: pdf file pt1+pt2.pdf has been created\n"
     ]
    }
   ],
   "source": [
    "ratio = ROOT.TH1F( 'total', 'This is the total distribution', 200, 0, 200 )\n",
    "hs_mc = ROOT.TH1F(\"hs_mc\",'This is the total distribution', 200, 0, 200)\n",
    "hs_data = ROOT.TH1F(\"hs_data\",'This is the total distribution', 200, 0, 200)\n",
    "sum_histos={\"lep1_pt_topo_dphi_btag_iso_pt2_mass\":[120,1,10],\"lep2_pt_topo_dphi_btag_iso_pt1_mass\":[120,1,10]}\n",
    "title='pt1+pt2'\n",
    "for a in sum_histos:\n",
    "    MC=ROOT.TFile.Open(\"MC.root\",\"READ\")\n",
    "    Data = ROOT.TFile.Open(\"Data.root\",\"READ\")\n",
    "\n",
    "    gStyle.SetOptStat(1111111)\n",
    "    mc=MC.Get(a)\n",
    "    data=Data.Get(a)\n",
    "\n",
    "    mc.SetDirectory(0)\n",
    "    data.SetDirectory(0)\n",
    "\n",
    "    MC.Close()\n",
    "    Data.Close()\n",
    "\n",
    "    hs_mc.Add(mc)\n",
    "    hs_data.Add(data)\n",
    "    \n",
    "\n",
    "ratio.Divide(hs_mc,hs_data)\n",
    "\n",
    "gStyle.SetOptStat(1111111)\n",
    "\n",
    "canvas3 = ROOT.TCanvas(\"canvas3\")\n",
    "canvas3.cd()\n",
    "\n",
    "pad1 = ROOT . TPad (\" pad1 \",\" pad1 \" ,0 ,0.35 ,1 ,1)\n",
    "\n",
    "pad1.Draw ()\n",
    "pad1.cd ()\n",
    "\n",
    "hs_data.Draw(\"pe\")\n",
    "hs_mc.Draw(\"HIST same\")\n",
    "\n",
    "hs_data . GetXaxis (). SetRangeUser (0,200)\n",
    "hs_mc . GetXaxis (). SetRangeUser (0,200)\n",
    "\n",
    "legend = ROOT . TLegend (0.8 ,0.4 ,0.9 ,0.6)\n",
    "legend . AddEntry ( hs_mc ,\"MC\")\n",
    "legend . AddEntry ( hs_data ,\" Data \")\n",
    "\n",
    "legend . SetLineWidth (0)\n",
    "legend . Draw ()\n",
    "\n",
    "\n",
    "\n",
    "hs_mc.SetTitle(title)\n",
    "\n",
    "canvas3.cd()\n",
    "pad2 = ROOT . TPad (\" pad2 \",\" pad2 \" ,0 ,0.05 ,1 ,0.25)\n",
    "pad2.Draw ()\n",
    "pad2.cd ()\n",
    "ratio.Draw (\"pe\")\n",
    "ratio.SetStats(0)\n",
    "ratio . GetYaxis (). SetRangeUser (0.5 ,1.5)\n",
    "ratio . GetXaxis (). SetRangeUser (0 ,200)\n",
    "ratio . GetYaxis (). SetTitle (\"MC/DATA\")\n",
    "ratio . GetYaxis (). SetTitleSize (0.15)\n",
    "ratio . GetYaxis (). SetTitleOffset (0.25)\n",
    "line = ROOT . TLine (0 ,1 ,200 ,1)\n",
    "line . SetLineColor ( ROOT . kBlack )\n",
    "line . SetLineWidth (2)\n",
    "line . Draw (\" same \")\n",
    "canvas3.Print(title+\".pdf\")"
   ]
  },
  {
   "cell_type": "markdown",
   "metadata": {},
   "source": []
  },
  {
   "cell_type": "code",
   "execution_count": null,
   "metadata": {},
   "outputs": [],
   "source": [
    "\n",
    "\n"
   ]
  },
  {
   "cell_type": "code",
   "execution_count": null,
   "metadata": {},
   "outputs": [],
   "source": []
  },
  {
   "cell_type": "code",
   "execution_count": null,
   "metadata": {},
   "outputs": [],
   "source": []
  },
  {
   "cell_type": "code",
   "execution_count": null,
   "metadata": {},
   "outputs": [],
   "source": []
  }
 ],
 "metadata": {
  "kernelspec": {
   "display_name": "Python 3",
   "language": "python",
   "name": "python3"
  },
  "language_info": {
   "codemirror_mode": {
    "name": "ipython",
    "version": 3
   },
   "file_extension": ".py",
   "mimetype": "text/x-python",
   "name": "python",
   "nbconvert_exporter": "python",
   "pygments_lexer": "ipython3",
   "version": "3.8.10"
  }
 },
 "nbformat": 4,
 "nbformat_minor": 4
}
